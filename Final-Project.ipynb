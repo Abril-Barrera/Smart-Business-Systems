{
 "cells": [
  {
   "cell_type": "markdown",
   "metadata": {
    "toc": true
   },
   "source": [
    "<h1>Table of Contents<span class=\"tocSkip\"></span></h1>\n",
    "<div class=\"toc\"><ul class=\"toc-item\">\n",
    "<li><span><a href=\"#Introduction\" data-toc-modified-id=\"Introduction-1\"><span class=\"toc-item-num\">1&nbsp;&nbsp;</span>Introduction</a></span></li>\n",
    "\n",
    "<li><span><a href=\"#Data-set-description\" data-toc-modified-id=\"Data-set-description-2\"><span class=\"toc-item-num\">2&nbsp;&nbsp;</span>Data set description</a></span></li>\n",
    "\n",
    "<li><span><a href=\"#Justification-of-Analysis\" data-toc-modified-id=\"Justification-of-Analysis-3\"><span class=\"toc-item-num\">3&nbsp;&nbsp;</span>Justification of Analysis</a></span></li>\n",
    "\n",
    "<li><span><a href=\"#Libraries-to-use\" data-toc-modified-id=\"Libraries-to-use-4\"><span class=\"toc-item-num\">4&nbsp;&nbsp;</span>Libraries to use</a></span></li>\n",
    "\n",
    "<li><span><a href=\"#Data-Preparation-and-Cleaning\" data-toc-modified-id=\"Data-Preparation-and-Cleaning-5\"><span class=\"toc-item-num\">5&nbsp;&nbsp;</span>Data Preparation and Cleaning</a></span>\n",
    "<ul class=\"toc-item\"><li><span><a href=\"#Drop-Unique-Columns\" data-toc-modified-id=\"Drop-Unique-Columns-5.1\"><span class=\"toc-item-num\">5.1&nbsp;&nbsp;</span>Drop Unique Columns</a></span></li>\n",
    "<li><span><a href=\"#Missing-Data\" data-toc-modified-id=\"Missing-Data-5.2\"><span class=\"toc-item-num\">5.2&nbsp;&nbsp;</span>Missing Data</a></span></li></ul></li>\n",
    "\n",
    "<li><span><a href=\"#Data-Exploration\" data-toc-modified-id=\"Data-Exploration-6\"><span class=\"toc-item-num\">6&nbsp;&nbsp;</span>Data Exploration</a></span><ul class=\"toc-item\">\n",
    "<li><span><a href=\"#Embarked\" data-toc-modified-id=\"Embarked-6.1\"><span class=\"toc-item-num\">6.1&nbsp;&nbsp;</span>Embarked</a></span></li>\n",
    "<li><span><a href=\"#Fare\" data-toc-modified-id=\"Fare-6.2\"><span class=\"toc-item-num\">6.2&nbsp;&nbsp;</span>Fare</a></span></li>\n",
    "<li><span><a href=\"#Age\" data-toc-modified-id=\"Age-6.3\"><span class=\"toc-item-num\">6.3&nbsp;&nbsp;</span>Age</a></span></li></ul></li>\n",
    "\n",
    "<li><span><a href=\"#Hipotesis\" data-toc-modified-id=\"Hipotesis-7\"><span class=\"toc-item-num\">7&nbsp;&nbsp;</span>Hipotesis</a></span></li>\n",
    "\n",
    "<li><span><a href=\"#Prediction-Models\" data-toc-modified-id=\"Prediction-Models-8\"><span class=\"toc-item-num\">8&nbsp;&nbsp;</span>Prediction Models</a></span>\n",
    "<ul class=\"toc-item\"><li><span><a href=\"#More-Data-Preparation\" data-toc-modified-id=\"More-Data-Preparation-8.1\"><span class=\"toc-item-num\">8.1&nbsp;&nbsp;</span>More Data Preparation</a></span>\n",
    "<ul class=\"toc-item\"><li><span><a href=\"#Imputing-Missing-Age-values\" data-toc-modified-id=\"Imputing-Missing-Age-values-8.1.1\"><span class=\"toc-item-num\">8.1.1&nbsp;&nbsp;</span>Imputing Missing Age values</a></span></li>\n",
    "<li><span><a href=\"#Standardizing-numerical-values-&-encoding-categorial-values\" data-toc-modified-id=\"Standardizing-numerical-values-&-encoding-categorial-values-8.1.2\"><span class=\"toc-item-num\">8.1.2&nbsp;&nbsp;</span>Standardizing numerical values & encoding categorial values</a></span></li>\n",
    "<li><span><a href=\"#X,-y-preparation-and-train-test-splitting\" data-toc-modified-id=\"X,-y-preparation-and-train-test-splitting-8.1.3\"><span class=\"toc-item-num\">8.1.3&nbsp;&nbsp;</span>X, y preparation and train-test splitting</a></span></li></ul></li>\n",
    "<li><span><a href=\"#K-Nearest-Neighbour\" data-toc-modified-id=\"K-Nearest-Neighbour-8.2\"><span class=\"toc-item-num\">8.2&nbsp;&nbsp;</span>K Nearest Neighbour</a></span></li>\n",
    "<li><span><a href=\"#Support-Vector-Machine-(SVD)\" data-toc-modified-id=\"Support-Vector-Machine-(SVD)-8.3\"><span class=\"toc-item-num\">8.3&nbsp;&nbsp;</span>Support Vector Machine (SVD)</a></span></li>\n",
    "<li><span><a href=\"#Random-Forest-Classifier-(Ensemble-of-Decision-trees)\" data-toc-modified-id=\"Random-Forest-Classifier-(Ensemble-of-Decision-trees)-8.4\"><span class=\"toc-item-num\">8.4&nbsp;&nbsp;</span>Random Forest Classifier (Ensemble of Decision trees)</a></span></li>\n",
    "<li><span><a href=\"#Ensemble-of-previously-trained-classifiers\" data-toc-modified-id=\"Ensemble-of-previously-trained-classifiers-8.5\"><span class=\"toc-item-num\">8.5&nbsp;&nbsp;</span>Ensemble of previously trained classifiers</a></span></li></ul></li></ul>\n",
    "\n",
    "\n",
    "<li><span><a href=\"#Conclusion\" data-toc-modified-id=\"Conclusion-9\"><span class=\"toc-item-num\">9&nbsp;&nbsp;</span>Conclusion</a></span></li></div>"
   ]
  },
  {
   "cell_type": "markdown",
   "metadata": {},
   "source": [
    "# Introduction"
   ]
  },
  {
   "cell_type": "markdown",
   "metadata": {},
   "source": [
    "    The Titanic ship is one of the most famous tragedies on history. I believe this dataset is very friendly with all kind of public, because people already understand the concept, can relate and also allows me to obtain clear results that will make the educational process easier for all kind of readers. \n",
    "    \n",
    "    During this article I am going to make an analysis of this dataset, using data visualization, statistical and machine learning approaches as it is usually done by data scientist. This approach will be very simple and easy to understand. \n",
    "    \n",
    "    I think most of you will already know the concept but in case you don't, lets remember. The Titanic was a passenger ship that sank in the North Atlantic Ocean in April 1912 after colliding with an iceberg during its first travel from Southampton to New York City. It had an estimated of 2,224 passengers + the workers of the ship. More than 1,500 died in this accident and that is why this is a very famous case of study nowadays. It is often considered as the “hello world” of the data analysis, since it is worldwide used to get into the matter.\n",
    "\n",
    "    The main idea of analyzing it, is to find out if there were any factors that influenciated the survival rate of the passengers as well as determine them (in case there are). To do so, we are going to follow a data-analysis methodology so we can have a better understanding of each step and aslo get truthfull results.\n"
   ]
  },
  {
   "cell_type": "markdown",
   "metadata": {},
   "source": [
    "# Dataset Description"
   ]
  },
  {
   "cell_type": "markdown",
   "metadata": {},
   "source": [
    "    This data sets contains information about the passengers age, sex, ticket class, etc. As well as the survival value.It is composed by these variables:\n",
    "    \n",
    "    * survival: Survival (0= died 1=survived) PassengerId: Unique Id of a passenger. pclass: Ticket class (1=1st, 2=2nd, 3=3rd class tickets) sex: Sex\n",
    "    * Age: Age in years\n",
    "    * sibsp: # of siblings / spouses aboard the Titanic\n",
    "    * parch: # of parents / children aboard the Titanic\n",
    "    * ticket: Ticket number\n",
    "    * fare: Passenger fare\n",
    "    * cabin: Cabin number\n",
    "    * embarked: Port of Embarkation (C = Cherbourg; Q = Queenstown; S = Southampton)"
   ]
  },
  {
   "cell_type": "markdown",
   "metadata": {},
   "source": [
    "# Justification of analysis"
   ]
  },
  {
   "cell_type": "markdown",
   "metadata": {},
   "source": [
    "    I am going to try differnt approaches in order fo you to understand all the possibilities. Remember our main objetive is to know whether there were certain factors that causes if someone survived the catastrophe of \"Titanic\" or not.\n",
    "\n",
    "    The main focus will be find the biggest factors in the person's survival rate. Because of this I will select the survival variable as my target in the future analysis. Just by looking at the data is clear that the age, pclass and of course sex will be the most important features in the dataset so we will special attention to those.\n",
    "    \n",
    "    The main porpuse of this work is educational, I think a lot of people that are just starting using this tools can bennefit since there is a very detailed, easy and accurate explanation of the data analysis process.\n",
    "\n",
    "  "
   ]
  },
  {
   "cell_type": "markdown",
   "metadata": {},
   "source": [
    "# Libraries to use"
   ]
  },
  {
   "cell_type": "markdown",
   "metadata": {},
   "source": [
    "    There are plenty of libraries that can help you get the job done, but after a long research I decided to mainly work 5. I will be using some other during this work but it just will be in small pieces of code where they made the work easier.I picked those 6 because after researching I think they are the most effective and easy to understand ones:\n",
    "    \n",
    "        1. MATPLOTLIB \n",
    "        2. SEABORN\n",
    "        3. PLOTLY\n",
    "        4. PANDAS\n",
    "        5. NUMPY\n",
    "        6. SKLEARN\n",
    "        \n",
    "    During the entire article I will be commenting the code so you will understand each function and step."
   ]
  },
  {
   "cell_type": "code",
   "execution_count": 49,
   "metadata": {},
   "outputs": [],
   "source": [
    "#Import modules\n",
    "import pandas as pd\n",
    "import numpy as np\n",
    "from matplotlib import pyplot as plt\n",
    "import seaborn as sns\n",
    "import matplotlib\n",
    "from ipywidgets import interactive\n",
    "from ipywidgets import interact\n",
    "import warnings\n",
    "\n",
    "warnings.filterwarnings(\"ignore\", message=\"numpy.dtype size changed\")\n",
    "warnings.filterwarnings(\"ignore\", message=\"numpy.ufunc size changed\")\n",
    "from plotly.offline import download_plotlyjs, init_notebook_mode, plot, iplot\n",
    "import plotly.tools as tls\n",
    "\n",
    "import plotly.graph_objs as go\n",
    "# init_notebook_mode(connected=True)\n",
    "import plotly\n",
    "# plotly.tools.set_credentials_file(username='YazanSh', api_key='2GxEQaYp9s6UJAc0bpY5')\n",
    "# cf.go_offline()\n",
    "%matplotlib inline"
   ]
  },
  {
   "cell_type": "code",
   "execution_count": 50,
   "metadata": {},
   "outputs": [
    {
     "data": {
      "text/html": [
       "<div>\n",
       "<style scoped>\n",
       "    .dataframe tbody tr th:only-of-type {\n",
       "        vertical-align: middle;\n",
       "    }\n",
       "\n",
       "    .dataframe tbody tr th {\n",
       "        vertical-align: top;\n",
       "    }\n",
       "\n",
       "    .dataframe thead th {\n",
       "        text-align: right;\n",
       "    }\n",
       "</style>\n",
       "<table border=\"1\" class=\"dataframe\">\n",
       "  <thead>\n",
       "    <tr style=\"text-align: right;\">\n",
       "      <th></th>\n",
       "      <th>PassengerId</th>\n",
       "      <th>Survived</th>\n",
       "      <th>Pclass</th>\n",
       "      <th>Name</th>\n",
       "      <th>Sex</th>\n",
       "      <th>Age</th>\n",
       "      <th>SibSp</th>\n",
       "      <th>Parch</th>\n",
       "      <th>Ticket</th>\n",
       "      <th>Fare</th>\n",
       "      <th>Cabin</th>\n",
       "      <th>Embarked</th>\n",
       "    </tr>\n",
       "  </thead>\n",
       "  <tbody>\n",
       "    <tr>\n",
       "      <th>0</th>\n",
       "      <td>1</td>\n",
       "      <td>0</td>\n",
       "      <td>3</td>\n",
       "      <td>Braund, Mr. Owen Harris</td>\n",
       "      <td>male</td>\n",
       "      <td>22.0</td>\n",
       "      <td>1</td>\n",
       "      <td>0</td>\n",
       "      <td>A/5 21171</td>\n",
       "      <td>7.2500</td>\n",
       "      <td>NaN</td>\n",
       "      <td>S</td>\n",
       "    </tr>\n",
       "    <tr>\n",
       "      <th>1</th>\n",
       "      <td>2</td>\n",
       "      <td>1</td>\n",
       "      <td>1</td>\n",
       "      <td>Cumings, Mrs. John Bradley (Florence Briggs Th...</td>\n",
       "      <td>female</td>\n",
       "      <td>38.0</td>\n",
       "      <td>1</td>\n",
       "      <td>0</td>\n",
       "      <td>PC 17599</td>\n",
       "      <td>71.2833</td>\n",
       "      <td>C85</td>\n",
       "      <td>C</td>\n",
       "    </tr>\n",
       "    <tr>\n",
       "      <th>2</th>\n",
       "      <td>3</td>\n",
       "      <td>1</td>\n",
       "      <td>3</td>\n",
       "      <td>Heikkinen, Miss. Laina</td>\n",
       "      <td>female</td>\n",
       "      <td>26.0</td>\n",
       "      <td>0</td>\n",
       "      <td>0</td>\n",
       "      <td>STON/O2. 3101282</td>\n",
       "      <td>7.9250</td>\n",
       "      <td>NaN</td>\n",
       "      <td>S</td>\n",
       "    </tr>\n",
       "    <tr>\n",
       "      <th>3</th>\n",
       "      <td>4</td>\n",
       "      <td>1</td>\n",
       "      <td>1</td>\n",
       "      <td>Futrelle, Mrs. Jacques Heath (Lily May Peel)</td>\n",
       "      <td>female</td>\n",
       "      <td>35.0</td>\n",
       "      <td>1</td>\n",
       "      <td>0</td>\n",
       "      <td>113803</td>\n",
       "      <td>53.1000</td>\n",
       "      <td>C123</td>\n",
       "      <td>S</td>\n",
       "    </tr>\n",
       "    <tr>\n",
       "      <th>4</th>\n",
       "      <td>5</td>\n",
       "      <td>0</td>\n",
       "      <td>3</td>\n",
       "      <td>Allen, Mr. William Henry</td>\n",
       "      <td>male</td>\n",
       "      <td>35.0</td>\n",
       "      <td>0</td>\n",
       "      <td>0</td>\n",
       "      <td>373450</td>\n",
       "      <td>8.0500</td>\n",
       "      <td>NaN</td>\n",
       "      <td>S</td>\n",
       "    </tr>\n",
       "  </tbody>\n",
       "</table>\n",
       "</div>"
      ],
      "text/plain": [
       "   PassengerId  Survived  Pclass  \\\n",
       "0            1         0       3   \n",
       "1            2         1       1   \n",
       "2            3         1       3   \n",
       "3            4         1       1   \n",
       "4            5         0       3   \n",
       "\n",
       "                                                Name     Sex   Age  SibSp  \\\n",
       "0                            Braund, Mr. Owen Harris    male  22.0      1   \n",
       "1  Cumings, Mrs. John Bradley (Florence Briggs Th...  female  38.0      1   \n",
       "2                             Heikkinen, Miss. Laina  female  26.0      0   \n",
       "3       Futrelle, Mrs. Jacques Heath (Lily May Peel)  female  35.0      1   \n",
       "4                           Allen, Mr. William Henry    male  35.0      0   \n",
       "\n",
       "   Parch            Ticket     Fare Cabin Embarked  \n",
       "0      0         A/5 21171   7.2500   NaN        S  \n",
       "1      0          PC 17599  71.2833   C85        C  \n",
       "2      0  STON/O2. 3101282   7.9250   NaN        S  \n",
       "3      0            113803  53.1000  C123        S  \n",
       "4      0            373450   8.0500   NaN        S  "
      ]
     },
     "execution_count": 50,
     "metadata": {},
     "output_type": "execute_result"
    }
   ],
   "source": [
    "#loading the titanic dataset using pandas\n",
    "data = pd.read_csv('titanicDS.csv')\n",
    "#showing the head content of it to check if it loaded correctly\n",
    "data.head()"
   ]
  },
  {
   "cell_type": "code",
   "execution_count": 51,
   "metadata": {
    "scrolled": true
   },
   "outputs": [
    {
     "data": {
      "text/plain": [
       "['PassengerId',\n",
       " 'Survived',\n",
       " 'Pclass',\n",
       " 'Name',\n",
       " 'Sex',\n",
       " 'Age',\n",
       " 'SibSp',\n",
       " 'Parch',\n",
       " 'Ticket',\n",
       " 'Fare',\n",
       " 'Cabin',\n",
       " 'Embarked']"
      ]
     },
     "execution_count": 51,
     "metadata": {},
     "output_type": "execute_result"
    }
   ],
   "source": [
    "#listing the columns of the dataset\n",
    "data.columns.to_list()"
   ]
  },
  {
   "cell_type": "code",
   "execution_count": 52,
   "metadata": {},
   "outputs": [],
   "source": [
    "#makes a copy of the dataset, because you SHOULD NEVER work with the main one, in case it gets damaged\n",
    "titanicDS = data.copy()"
   ]
  },
  {
   "cell_type": "markdown",
   "metadata": {},
   "source": [
    "# Data Preparation and Cleaning"
   ]
  },
  {
   "cell_type": "markdown",
   "metadata": {},
   "source": [
    "    Initially, there is one decision variable (survival) | 10 features (passengerId, pclass, sex, age, sibsp, parch, ticket, fare, cabin, embarked). By looking at the data I see that the fare the passengert payed its actually kind of redundant with the pclass one. Hence, the pclass is categorical I will stick with that because I believe it can provide me more clear and consice information. When it comes to the \"sibsps\" and \"parch\" variable, I don't think these two could give us any usefull information but I am still going to keep them because it is a good practice so you never get isolated results. \n",
    "    \n",
    "    So now I am going to go start looking for issues in the data set and fix them step by step.\n"
   ]
  },
  {
   "cell_type": "markdown",
   "metadata": {},
   "source": [
    "## Drop Unique Columns"
   ]
  },
  {
   "cell_type": "markdown",
   "metadata": {},
   "source": [
    "    Then there are 3 columns \"PassengerID\", \"Name\" and Ticket that are completely useless to the analysis since it is generalized and not focused in individuals, then I drop them."
   ]
  },
  {
   "cell_type": "code",
   "execution_count": 53,
   "metadata": {},
   "outputs": [],
   "source": [
    "titanicDS.drop(['PassengerId', 'Name', 'Ticket'], axis=1, inplace=True)"
   ]
  },
  {
   "cell_type": "markdown",
   "metadata": {},
   "source": [
    "## Missing Data"
   ]
  },
  {
   "cell_type": "markdown",
   "metadata": {},
   "source": [
    "    Now, we are going to look for missing values. This table allows us to see how many objects we are missing. Then when we have all the info, it will be time to make decisions. Decide which variables to drop."
   ]
  },
  {
   "cell_type": "code",
   "execution_count": 54,
   "metadata": {
    "scrolled": true
   },
   "outputs": [
    {
     "data": {
      "text/html": [
       "<div>\n",
       "<style scoped>\n",
       "    .dataframe tbody tr th:only-of-type {\n",
       "        vertical-align: middle;\n",
       "    }\n",
       "\n",
       "    .dataframe tbody tr th {\n",
       "        vertical-align: top;\n",
       "    }\n",
       "\n",
       "    .dataframe thead th {\n",
       "        text-align: right;\n",
       "    }\n",
       "</style>\n",
       "<table border=\"1\" class=\"dataframe\">\n",
       "  <thead>\n",
       "    <tr style=\"text-align: right;\">\n",
       "      <th></th>\n",
       "      <th>Missing Values</th>\n",
       "      <th>Percentage Missing Values</th>\n",
       "    </tr>\n",
       "  </thead>\n",
       "  <tbody>\n",
       "    <tr>\n",
       "      <th>Age</th>\n",
       "      <td>177</td>\n",
       "      <td>19.865320</td>\n",
       "    </tr>\n",
       "    <tr>\n",
       "      <th>Cabin</th>\n",
       "      <td>687</td>\n",
       "      <td>77.104377</td>\n",
       "    </tr>\n",
       "    <tr>\n",
       "      <th>Embarked</th>\n",
       "      <td>2</td>\n",
       "      <td>0.224467</td>\n",
       "    </tr>\n",
       "  </tbody>\n",
       "</table>\n",
       "</div>"
      ],
      "text/plain": [
       "          Missing Values  Percentage Missing Values\n",
       "Age                  177                  19.865320\n",
       "Cabin                687                  77.104377\n",
       "Embarked               2                   0.224467"
      ]
     },
     "execution_count": 54,
     "metadata": {},
     "output_type": "execute_result"
    }
   ],
   "source": [
    "#count all the missing values in the ds\n",
    "missing = pd.DataFrame(titanicDS.count(), columns=['Count'])\n",
    "#subtracts the missing values to the general count\n",
    "missing['Missing Values'] = 891 - missing['Count']\n",
    "#generates a percentage of missing values\n",
    "missing['Percentage Missing Values'] = (missing['Missing Values'] / 891) * 100\n",
    "#drops the table of columns with missing values\n",
    "missing.drop('Count', axis=1, inplace=True)\n",
    "missing = missing[missing['Missing Values'] != 0]\n",
    "\n",
    "missing"
   ]
  },
  {
   "cell_type": "code",
   "execution_count": 55,
   "metadata": {},
   "outputs": [
    {
     "data": {
      "image/png": "[encoded data removed]",
      "text/plain": [
       "<Figure size 842.4x595.44 with 1 Axes>"
      ]
     },
     "metadata": {},
     "output_type": "display_data"
    }
   ],
   "source": [
    "#displaying a heatmap with the info to have a better visualization\n",
    "sns.set(rc={'figure.figsize':(11.7, 8.27)})\n",
    "sns.heatmap(titanicDS.isnull(), yticklabels=False, cbar=False, cmap='viridis')\n",
    "plt.show()"
   ]
  },
  {
   "cell_type": "markdown",
   "metadata": {},
   "source": [
    "    This is a very good example, because we will make 3 different approaches.\n",
    "    \n",
    "        1. DROP CABIN. Too many missing values.\n",
    "        2. DROP ROWS OF EMBARKED. Few missing 'Embarked', drop the rows with missing values.\n",
    "        3. IMPUT MISSING AGE VALUES. We will keep all the rows for age because it is a very influencial factor for survival.\n"
   ]
  },
  {
   "cell_type": "code",
   "execution_count": 56,
   "metadata": {},
   "outputs": [],
   "source": [
    "#dropping cabin\n",
    "titanicDS.drop(['Cabin'], axis=1, inplace=True)"
   ]
  },
  {
   "cell_type": "code",
   "execution_count": 57,
   "metadata": {},
   "outputs": [],
   "source": [
    "#dropping rows of embarked\n",
    "titanicDS.dropna(axis=0, subset=['Embarked'], inplace=True)"
   ]
  },
  {
   "cell_type": "markdown",
   "metadata": {},
   "source": [
    "    As for age, we could randomly input data but that would be a terrible practice since I will be modifying the results. Hence, we will try to find a better pattern to impute the age during the exploring feature.\n"
   ]
  },
  {
   "cell_type": "markdown",
   "metadata": {},
   "source": [
    "# Data Exploration"
   ]
  },
  {
   "cell_type": "markdown",
   "metadata": {},
   "source": [
    "## Embarked "
   ]
  },
  {
   "cell_type": "markdown",
   "metadata": {},
   "source": [
    "    We will explore the data by visualizing patterns and relationships between different variables. Also by trying the box views as much as possible, later this can help us imput the \"Age\" values. Which is first but we'll leave it for later to get a better understanding and do a better imput, because just replacing missing values with the median is a bad practice (we would alterate the results). Then we reshape the Age and Fare variables because the results are not in the best format. For example, some rows of the age variable are 3.5 what is of course not true because we know you either are 3 or 4 years old. "
   ]
  },
  {
   "cell_type": "code",
   "execution_count": 58,
   "metadata": {},
   "outputs": [
    {
     "data": {
      "text/html": [
       "<div>\n",
       "<style scoped>\n",
       "    .dataframe tbody tr th:only-of-type {\n",
       "        vertical-align: middle;\n",
       "    }\n",
       "\n",
       "    .dataframe tbody tr th {\n",
       "        vertical-align: top;\n",
       "    }\n",
       "\n",
       "    .dataframe thead th {\n",
       "        text-align: right;\n",
       "    }\n",
       "</style>\n",
       "<table border=\"1\" class=\"dataframe\">\n",
       "  <thead>\n",
       "    <tr style=\"text-align: right;\">\n",
       "      <th></th>\n",
       "      <th>Survived</th>\n",
       "      <th>Pclass</th>\n",
       "      <th>Sex</th>\n",
       "      <th>Age</th>\n",
       "      <th>SibSp</th>\n",
       "      <th>Parch</th>\n",
       "      <th>Fare</th>\n",
       "      <th>Embarked</th>\n",
       "    </tr>\n",
       "  </thead>\n",
       "  <tbody>\n",
       "    <tr>\n",
       "      <th>0</th>\n",
       "      <td>0</td>\n",
       "      <td>3</td>\n",
       "      <td>male</td>\n",
       "      <td>-0.527669</td>\n",
       "      <td>1</td>\n",
       "      <td>0</td>\n",
       "      <td>-0.500240</td>\n",
       "      <td>S</td>\n",
       "    </tr>\n",
       "    <tr>\n",
       "      <th>1</th>\n",
       "      <td>1</td>\n",
       "      <td>1</td>\n",
       "      <td>female</td>\n",
       "      <td>0.577094</td>\n",
       "      <td>1</td>\n",
       "      <td>0</td>\n",
       "      <td>0.788947</td>\n",
       "      <td>C</td>\n",
       "    </tr>\n",
       "    <tr>\n",
       "      <th>2</th>\n",
       "      <td>1</td>\n",
       "      <td>3</td>\n",
       "      <td>female</td>\n",
       "      <td>-0.251478</td>\n",
       "      <td>0</td>\n",
       "      <td>0</td>\n",
       "      <td>-0.486650</td>\n",
       "      <td>S</td>\n",
       "    </tr>\n",
       "    <tr>\n",
       "      <th>3</th>\n",
       "      <td>1</td>\n",
       "      <td>1</td>\n",
       "      <td>female</td>\n",
       "      <td>0.369951</td>\n",
       "      <td>1</td>\n",
       "      <td>0</td>\n",
       "      <td>0.422861</td>\n",
       "      <td>S</td>\n",
       "    </tr>\n",
       "    <tr>\n",
       "      <th>4</th>\n",
       "      <td>0</td>\n",
       "      <td>3</td>\n",
       "      <td>male</td>\n",
       "      <td>0.369951</td>\n",
       "      <td>0</td>\n",
       "      <td>0</td>\n",
       "      <td>-0.484133</td>\n",
       "      <td>S</td>\n",
       "    </tr>\n",
       "  </tbody>\n",
       "</table>\n",
       "</div>"
      ],
      "text/plain": [
       "   Survived  Pclass     Sex       Age  SibSp  Parch      Fare Embarked\n",
       "0         0       3    male -0.527669      1      0 -0.500240        S\n",
       "1         1       1  female  0.577094      1      0  0.788947        C\n",
       "2         1       3  female -0.251478      0      0 -0.486650        S\n",
       "3         1       1  female  0.369951      1      0  0.422861        S\n",
       "4         0       3    male  0.369951      0      0 -0.484133        S"
      ]
     },
     "execution_count": 58,
     "metadata": {},
     "output_type": "execute_result"
    }
   ],
   "source": [
    "from sklearn.preprocessing import StandardScaler\n",
    "scaler = StandardScaler()\n",
    "#scalating the Age and Fare variables \n",
    "titanicDS['Fare'] = scaler.fit_transform(titanicDS['Fare'].to_numpy().reshape(-1,1))\n",
    "titanicDS['Age'] = scaler.fit_transform(titanicDS['Age'].to_numpy().reshape(-1,1))\n",
    "\n",
    "titanicDS.head()"
   ]
  },
  {
   "cell_type": "markdown",
   "metadata": {},
   "source": [
    "    It is important to remember that passengers on the Titanic embarked from three locations: Cherbourg, Queenstown and Southampton. Let's explore where the passengers embarked from and is there any obvious influence for survival. We will now generate all the corresponding plots."
   ]
  },
  {
   "cell_type": "code",
   "execution_count": 59,
   "metadata": {
    "scrolled": false
   },
   "outputs": [],
   "source": [
    "#preparing data for plots\n",
    "#general, replacing variables to make everything easier\n",
    "titanicDS.replace({'S':'Southampton', 'C':'Cherbourg', 'Q':'Queenstown'}, inplace=True)\n",
    "embarked_points = ['Cherbourg', 'Queenstown', 'Southampton']\n",
    "#total\n",
    "embarked_count_total = titanicDS.groupby(['Embarked'], as_index=True, sort=True).count()['Survived'].to_list()\n",
    "#survived\n",
    "embarked_count_survived = titanicDS[titanicDS['Survived'] == 1].groupby(['Embarked'], as_index=True, sort=True).count()['Survived']\n",
    "embarked_count_died = titanicDS[titanicDS['Survived'] == 0].groupby(['Embarked'], as_index=True, sort=True).count()['Survived']\n",
    "#sex\n",
    "embarked_count_male = titanicDS[titanicDS['Sex'] == 'male'].groupby(['Embarked'], as_index=True, sort=True).count()['Sex']\n",
    "embarked_count_female = titanicDS[titanicDS['Sex'] == 'female'].groupby(['Embarked'], as_index=True, sort=True).count()['Sex']\n",
    "#passenger Class\n",
    "embarked_count_Pclass1 = titanicDS[titanicDS['Pclass'] == 1].groupby(['Embarked'], as_index=True, sort=True).count()['Pclass']\n",
    "embarked_count_Pclass2 = titanicDS[titanicDS['Pclass'] == 2].groupby(['Embarked'], as_index=True, sort=True).count()['Pclass']\n",
    "embarked_count_Pclass3 = titanicDS[titanicDS['Pclass'] == 3].groupby(['Embarked'], as_index=True, sort=True).count()['Pclass']\n",
    "\n",
    "\n",
    "#preparing figure objects\n",
    "#total pie chart\n",
    "embarked_pie = go.Pie(labels=embarked_points, values=embarked_count_total)\n",
    "embarked_pie_layout = go.Layout(title='Embarked')\n",
    "embarked_pie_fig = go.Figure(data = [embarked_pie], layout=embarked_pie_layout)\n",
    "#survived stacked bar chart\n",
    "embarked_bar_died = go.Bar(x=embarked_points, y=embarked_count_died, name=\"Didn't Survive\")\n",
    "embarked_bar_survived = go.Bar(x=embarked_points, y=embarked_count_survived, name=\"Survived\")\n",
    "embarked_bar_layout = go.Layout(barmode='stack', title='Embark Points and Survival')\n",
    "embarked_bar_fig = go.Figure(data=[embarked_bar_died, embarked_bar_survived], layout=embarked_bar_layout)\n",
    "#age box plots\n",
    "Q_age = go.Box(y=titanicDS[titanicDS['Embarked'] == 'Queenstown']['Age'], name='Queenstown')\n",
    "C_age = go.Box(y=titanicDS[titanicDS['Embarked'] == 'Cherbourg']['Age'], name='Cherbourg')\n",
    "S_age = go.Box(y=titanicDS[titanicDS['Embarked'] == 'Southampton']['Age'], name='Southampton')\n",
    "age_box_layout = go.Layout(title='Age amongst Embark Points')\n",
    "age_box_fig = go.Figure(data=[C_age, Q_age, S_age ], layout=age_box_layout)\n",
    "#sex stacked bar chart\n",
    "embarked_bar_female = go.Bar(x=embarked_points, y=embarked_count_female, name='Female')\n",
    "embarked_bar_male = go.Bar(x=embarked_points, y=embarked_count_male, name='Male')\n",
    "embarked_sex_layout = go.Layout(title='Embarked and Sex', barmode='stack')\n",
    "embarked_sex_fig = go.Figure(data=[embarked_bar_female, embarked_bar_male], layout=embarked_sex_layout)\n",
    "#fare box plot\n",
    "Q_fare = go.Box(y=titanicDS[titanicDS['Embarked'] == 'Queenstown']['Fare'], name='Queenstown')\n",
    "C_fare = go.Box(y=titanicDS[titanicDS['Embarked'] == 'Cherbourg']['Fare'], name='Cherbourg')\n",
    "S_fare = go.Box(y=titanicDS[titanicDS['Embarked'] == 'Southampton']['Fare'], name='Southampton')\n",
    "fare_box_layout = go.Layout(title='Embarkment and Fares')\n",
    "fare_box_fig = go.Figure(data=[C_fare, Q_fare, S_fare ], layout=fare_box_layout)\n",
    "\n",
    "#pclass grouped bar plot\n",
    "embarked_bar_Pclass1 = go.Bar(x=embarked_points, y=embarked_count_Pclass1, name='Upper Class')\n",
    "embarked_bar_Pclass2 = go.Bar(x=embarked_points, y=embarked_count_Pclass2, name='Middle Class')\n",
    "embarked_bar_Pclass3 = go.Bar(x=embarked_points, y=embarked_count_Pclass3, name='Lower Class')\n",
    "embarked_Pclass_layout = go.Layout(title='Embarkment and Passenger Class')\n",
    "embarked_Pclass_fig = go.Figure(data = [embarked_bar_Pclass1, embarked_bar_Pclass2, embarked_bar_Pclass3], layout=embarked_Pclass_layout)\n",
    "\n"
   ]
  },
  {
   "cell_type": "markdown",
   "metadata": {},
   "source": [
    "### Pie Chart, embarked\n",
    "\n",
    "    It's clear, with a 72% there's a winner. Most passengers embarked from Southampton, then Cherbourg followed by Queenstown ."
   ]
  },
  {
   "cell_type": "code",
   "execution_count": 60,
   "metadata": {},
   "outputs": [
    {
     "data": {
      "application/vnd.plotly.v1+json": {
       "config": {
        "linkText": "Export to plot.ly",
        "plotlyServerURL": "https://plot.ly",
        "showLink": false
       },
       "data": [
        {
         "labels": [
          "Cherbourg",
          "Queenstown",
          "Southampton"
         ],
         "type": "pie",
         "values": [
          168,
          77,
          644
         ]
        }
       ],
       "layout": {
        "template": {
         "data": {
          "bar": [
           {
            "error_x": {
             "color": "#2a3f5f"
            },
            "error_y": {
             "color": "#2a3f5f"
            },
            "marker": {
             "line": {
              "color": "#E5ECF6",
              "width": 0.5
             }
            },
            "type": "bar"
           }
          ],
          "barpolar": [
           {
            "marker": {
             "line": {
              "color": "#E5ECF6",
              "width": 0.5
             }
            },
            "type": "barpolar"
           }
          ],
          "carpet": [
           {
            "aaxis": {
             "endlinecolor": "#2a3f5f",
             "gridcolor": "white",
             "linecolor": "white",
             "minorgridcolor": "white",
             "startlinecolor": "#2a3f5f"
            },
            "baxis": {
             "endlinecolor": "#2a3f5f",
             "gridcolor": "white",
             "linecolor": "white",
             "minorgridcolor": "white",
             "startlinecolor": "#2a3f5f"
            },
            "type": "carpet"
           }
          ],
          "choropleth": [
           {
            "colorbar": {
             "outlinewidth": 0,
             "ticks": ""
            },
            "type": "choropleth"
           }
          ],
          "contour": [
           {
            "colorbar": {
             "outlinewidth": 0,
             "ticks": ""
            },
            "colorscale": [
             [
              0,
              "#0d0887"
             ],
             [
              0.1111111111111111,
              "#46039f"
             ],
             [
              0.2222222222222222,
              "#7201a8"
             ],
             [
              0.3333333333333333,
              "#9c179e"
             ],
             [
              0.4444444444444444,
              "#bd3786"
             ],
             [
              0.5555555555555556,
              "#d8576b"
             ],
             [
              0.6666666666666666,
              "#ed7953"
             ],
             [
              0.7777777777777778,
              "#fb9f3a"
             ],
             [
              0.8888888888888888,
              "#fdca26"
             ],
             [
              1,
              "#f0f921"
             ]
            ],
            "type": "contour"
           }
          ],
          "contourcarpet": [
           {
            "colorbar": {
             "outlinewidth": 0,
             "ticks": ""
            },
            "type": "contourcarpet"
           }
          ],
          "heatmap": [
           {
            "colorbar": {
             "outlinewidth": 0,
             "ticks": ""
            },
            "colorscale": [
             [
              0,
              "#0d0887"
             ],
             [
              0.1111111111111111,
              "#46039f"
             ],
             [
              0.2222222222222222,
              "#7201a8"
             ],
             [
              0.3333333333333333,
              "#9c179e"
             ],
             [
              0.4444444444444444,
              "#bd3786"
             ],
             [
              0.5555555555555556,
              "#d8576b"
             ],
             [
              0.6666666666666666,
              "#ed7953"
             ],
             [
              0.7777777777777778,
              "#fb9f3a"
             ],
             [
              0.8888888888888888,
              "#fdca26"
             ],
             [
              1,
              "#f0f921"
             ]
            ],
            "type": "heatmap"
           }
          ],
          "heatmapgl": [
           {
            "colorbar": {
             "outlinewidth": 0,
             "ticks": ""
            },
            "colorscale": [
             [
              0,
              "#0d0887"
             ],
             [
              0.1111111111111111,
              "#46039f"
             ],
             [
              0.2222222222222222,
              "#7201a8"
             ],
             [
              0.3333333333333333,
              "#9c179e"
             ],
             [
              0.4444444444444444,
              "#bd3786"
             ],
             [
              0.5555555555555556,
              "#d8576b"
             ],
             [
              0.6666666666666666,
              "#ed7953"
             ],
             [
              0.7777777777777778,
              "#fb9f3a"
             ],
             [
              0.8888888888888888,
              "#fdca26"
             ],
             [
              1,
              "#f0f921"
             ]
            ],
            "type": "heatmapgl"
           }
          ],
          "histogram": [
           {
            "marker": {
             "colorbar": {
              "outlinewidth": 0,
              "ticks": ""
             }
            },
            "type": "histogram"
           }
          ],
          "histogram2d": [
           {
            "colorbar": {
             "outlinewidth": 0,
             "ticks": ""
            },
            "colorscale": [
             [
              0,
              "#0d0887"
             ],
             [
              0.1111111111111111,
              "#46039f"
             ],
             [
              0.2222222222222222,
              "#7201a8"
             ],
             [
              0.3333333333333333,
              "#9c179e"
             ],
             [
              0.4444444444444444,
              "#bd3786"
             ],
             [
              0.5555555555555556,
              "#d8576b"
             ],
             [
              0.6666666666666666,
              "#ed7953"
             ],
             [
              0.7777777777777778,
              "#fb9f3a"
             ],
             [
              0.8888888888888888,
              "#fdca26"
             ],
             [
              1,
              "#f0f921"
             ]
            ],
            "type": "histogram2d"
           }
          ],
          "histogram2dcontour": [
           {
            "colorbar": {
             "outlinewidth": 0,
             "ticks": ""
            },
            "colorscale": [
             [
              0,
              "#0d0887"
             ],
             [
              0.1111111111111111,
              "#46039f"
             ],
             [
              0.2222222222222222,
              "#7201a8"
             ],
             [
              0.3333333333333333,
              "#9c179e"
             ],
             [
              0.4444444444444444,
              "#bd3786"
             ],
             [
              0.5555555555555556,
              "#d8576b"
             ],
             [
              0.6666666666666666,
              "#ed7953"
             ],
             [
              0.7777777777777778,
              "#fb9f3a"
             ],
             [
              0.8888888888888888,
              "#fdca26"
             ],
             [
              1,
              "#f0f921"
             ]
            ],
            "type": "histogram2dcontour"
           }
          ],
          "mesh3d": [
           {
            "colorbar": {
             "outlinewidth": 0,
             "ticks": ""
            },
            "type": "mesh3d"
           }
          ],
          "parcoords": [
           {
            "line": {
             "colorbar": {
              "outlinewidth": 0,
              "ticks": ""
             }
            },
            "type": "parcoords"
           }
          ],
          "pie": [
           {
            "automargin": true,
            "type": "pie"
           }
          ],
          "scatter": [
           {
            "marker": {
             "colorbar": {
              "outlinewidth": 0,
              "ticks": ""
             }
            },
            "type": "scatter"
           }
          ],
          "scatter3d": [
           {
            "line": {
             "colorbar": {
              "outlinewidth": 0,
              "ticks": ""
             }
            },
            "marker": {
             "colorbar": {
              "outlinewidth": 0,
              "ticks": ""
             }
            },
            "type": "scatter3d"
           }
          ],
          "scattercarpet": [
           {
            "marker": {
             "colorbar": {
              "outlinewidth": 0,
              "ticks": ""
             }
            },
            "type": "scattercarpet"
           }
          ],
          "scattergeo": [
           {
            "marker": {
             "colorbar": {
              "outlinewidth": 0,
              "ticks": ""
             }
            },
            "type": "scattergeo"
           }
          ],
          "scattergl": [
           {
            "marker": {
             "colorbar": {
              "outlinewidth": 0,
              "ticks": ""
             }
            },
            "type": "scattergl"
           }
          ],
          "scattermapbox": [
           {
            "marker": {
             "colorbar": {
              "outlinewidth": 0,
              "ticks": ""
             }
            },
            "type": "scattermapbox"
           }
          ],
          "scatterpolar": [
           {
            "marker": {
             "colorbar": {
              "outlinewidth": 0,
              "ticks": ""
             }
            },
            "type": "scatterpolar"
           }
          ],
          "scatterpolargl": [
           {
            "marker": {
             "colorbar": {
              "outlinewidth": 0,
              "ticks": ""
             }
            },
            "type": "scatterpolargl"
           }
          ],
          "scatterternary": [
           {
            "marker": {
             "colorbar": {
              "outlinewidth": 0,
              "ticks": ""
             }
            },
            "type": "scatterternary"
           }
          ],
          "surface": [
           {
            "colorbar": {
             "outlinewidth": 0,
             "ticks": ""
            },
            "colorscale": [
             [
              0,
              "#0d0887"
             ],
             [
              0.1111111111111111,
              "#46039f"
             ],
             [
              0.2222222222222222,
              "#7201a8"
             ],
             [
              0.3333333333333333,
              "#9c179e"
             ],
             [
              0.4444444444444444,
              "#bd3786"
             ],
             [
              0.5555555555555556,
              "#d8576b"
             ],
             [
              0.6666666666666666,
              "#ed7953"
             ],
             [
              0.7777777777777778,
              "#fb9f3a"
             ],
             [
              0.8888888888888888,
              "#fdca26"
             ],
             [
              1,
              "#f0f921"
             ]
            ],
            "type": "surface"
           }
          ],
          "table": [
           {
            "cells": {
             "fill": {
              "color": "#EBF0F8"
             },
             "line": {
              "color": "white"
             }
            },
            "header": {
             "fill": {
              "color": "#C8D4E3"
             },
             "line": {
              "color": "white"
             }
            },
            "type": "table"
           }
          ]
         },
         "layout": {
          "annotationdefaults": {
           "arrowcolor": "#2a3f5f",
           "arrowhead": 0,
           "arrowwidth": 1
          },
          "coloraxis": {
           "colorbar": {
            "outlinewidth": 0,
            "ticks": ""
           }
          },
          "colorscale": {
           "diverging": [
            [
             0,
             "#8e0152"
            ],
            [
             0.1,
             "#c51b7d"
            ],
            [
             0.2,
             "#de77ae"
            ],
            [
             0.3,
             "#f1b6da"
            ],
            [
             0.4,
             "#fde0ef"
            ],
            [
             0.5,
             "#f7f7f7"
            ],
            [
             0.6,
             "#e6f5d0"
            ],
            [
             0.7,
             "#b8e186"
            ],
            [
             0.8,
             "#7fbc41"
            ],
            [
             0.9,
             "#4d9221"
            ],
            [
             1,
             "#276419"
            ]
           ],
           "sequential": [
            [
             0,
             "#0d0887"
            ],
            [
             0.1111111111111111,
             "#46039f"
            ],
            [
             0.2222222222222222,
             "#7201a8"
            ],
            [
             0.3333333333333333,
             "#9c179e"
            ],
            [
             0.4444444444444444,
             "#bd3786"
            ],
            [
             0.5555555555555556,
             "#d8576b"
            ],
            [
             0.6666666666666666,
             "#ed7953"
            ],
            [
             0.7777777777777778,
             "#fb9f3a"
            ],
            [
             0.8888888888888888,
             "#fdca26"
            ],
            [
             1,
             "#f0f921"
            ]
           ],
           "sequentialminus": [
            [
             0,
             "#0d0887"
            ],
            [
             0.1111111111111111,
             "#46039f"
            ],
            [
             0.2222222222222222,
             "#7201a8"
            ],
            [
             0.3333333333333333,
             "#9c179e"
            ],
            [
             0.4444444444444444,
             "#bd3786"
            ],
            [
             0.5555555555555556,
             "#d8576b"
            ],
            [
             0.6666666666666666,
             "#ed7953"
            ],
            [
             0.7777777777777778,
             "#fb9f3a"
            ],
            [
             0.8888888888888888,
             "#fdca26"
            ],
            [
             1,
             "#f0f921"
            ]
           ]
          },
          "colorway": [
           "#636efa",
           "#EF553B",
           "#00cc96",
           "#ab63fa",
           "#FFA15A",
           "#19d3f3",
           "#FF6692",
           "#B6E880",
           "#FF97FF",
           "#FECB52"
          ],
          "font": {
           "color": "#2a3f5f"
          },
          "geo": {
           "bgcolor": "white",
           "lakecolor": "white",
           "landcolor": "#E5ECF6",
           "showlakes": true,
           "showland": true,
           "subunitcolor": "white"
          },
          "hoverlabel": {
           "align": "left"
          },
          "hovermode": "closest",
          "mapbox": {
           "style": "light"
          },
          "paper_bgcolor": "white",
          "plot_bgcolor": "#E5ECF6",
          "polar": {
           "angularaxis": {
            "gridcolor": "white",
            "linecolor": "white",
            "ticks": ""
           },
           "bgcolor": "#E5ECF6",
           "radialaxis": {
            "gridcolor": "white",
            "linecolor": "white",
            "ticks": ""
           }
          },
          "scene": {
           "xaxis": {
            "backgroundcolor": "#E5ECF6",
            "gridcolor": "white",
            "gridwidth": 2,
            "linecolor": "white",
            "showbackground": true,
            "ticks": "",
            "zerolinecolor": "white"
           },
           "yaxis": {
            "backgroundcolor": "#E5ECF6",
            "gridcolor": "white",
            "gridwidth": 2,
            "linecolor": "white",
            "showbackground": true,
            "ticks": "",
            "zerolinecolor": "white"
           },
           "zaxis": {
            "backgroundcolor": "#E5ECF6",
            "gridcolor": "white",
            "gridwidth": 2,
            "linecolor": "white",
            "showbackground": true,
            "ticks": "",
            "zerolinecolor": "white"
           }
          },
          "shapedefaults": {
           "line": {
            "color": "#2a3f5f"
           }
          },
          "ternary": {
           "aaxis": {
            "gridcolor": "white",
            "linecolor": "white",
            "ticks": ""
           },
           "baxis": {
            "gridcolor": "white",
            "linecolor": "white",
            "ticks": ""
           },
           "bgcolor": "#E5ECF6",
           "caxis": {
            "gridcolor": "white",
            "linecolor": "white",
            "ticks": ""
           }
          },
          "title": {
           "x": 0.05
          },
          "xaxis": {
           "automargin": true,
           "gridcolor": "white",
           "linecolor": "white",
           "ticks": "",
           "title": {
            "standoff": 15
           },
           "zerolinecolor": "white",
           "zerolinewidth": 2
          },
          "yaxis": {
           "automargin": true,
           "gridcolor": "white",
           "linecolor": "white",
           "ticks": "",
           "title": {
            "standoff": 15
           },
           "zerolinecolor": "white",
           "zerolinewidth": 2
          }
         }
        },
        "title": {
         "text": "Embarked"
        }
       }
      },
      "text/html": [
       "<div>\n",
       "        \n",
       "        \n",
       "            <div id=\"080e360f-f6c6-4c82-b7c5-db2faf3a9d08\" class=\"plotly-graph-div\" style=\"height:525px; width:100%;\"></div>\n",
       "            <script type=\"text/javascript\">\n",
       "                require([\"plotly\"], function(Plotly) {\n",
       "                    window.PLOTLYENV=window.PLOTLYENV || {};\n",
       "                    \n",
       "                if (document.getElementById(\"080e360f-f6c6-4c82-b7c5-db2faf3a9d08\")) {\n",
       "                    Plotly.newPlot(\n",
       "                        '080e360f-f6c6-4c82-b7c5-db2faf3a9d08',\n",
       "                        [{\"labels\": [\"Cherbourg\", \"Queenstown\", \"Southampton\"], \"type\": \"pie\", \"values\": [168, 77, 644]}],\n",
       "                        {\"template\": {\"data\": {\"bar\": [{\"error_x\": {\"color\": \"#2a3f5f\"}, \"error_y\": {\"color\": \"#2a3f5f\"}, \"marker\": {\"line\": {\"color\": \"#E5ECF6\", \"width\": 0.5}}, \"type\": \"bar\"}], \"barpolar\": [{\"marker\": {\"line\": {\"color\": \"#E5ECF6\", \"width\": 0.5}}, \"type\": \"barpolar\"}], \"carpet\": [{\"aaxis\": {\"endlinecolor\": \"#2a3f5f\", \"gridcolor\": \"white\", \"linecolor\": \"white\", \"minorgridcolor\": \"white\", \"startlinecolor\": \"#2a3f5f\"}, \"baxis\": {\"endlinecolor\": \"#2a3f5f\", \"gridcolor\": \"white\", \"linecolor\": \"white\", \"minorgridcolor\": \"white\", \"startlinecolor\": \"#2a3f5f\"}, \"type\": \"carpet\"}], \"choropleth\": [{\"colorbar\": {\"outlinewidth\": 0, \"ticks\": \"\"}, \"type\": \"choropleth\"}], \"contour\": [{\"colorbar\": {\"outlinewidth\": 0, \"ticks\": \"\"}, \"colorscale\": [[0.0, \"#0d0887\"], [0.1111111111111111, \"#46039f\"], [0.2222222222222222, \"#7201a8\"], [0.3333333333333333, \"#9c179e\"], [0.4444444444444444, \"#bd3786\"], [0.5555555555555556, \"#d8576b\"], [0.6666666666666666, \"#ed7953\"], [0.7777777777777778, \"#fb9f3a\"], [0.8888888888888888, \"#fdca26\"], [1.0, \"#f0f921\"]], \"type\": \"contour\"}], \"contourcarpet\": [{\"colorbar\": {\"outlinewidth\": 0, \"ticks\": \"\"}, \"type\": \"contourcarpet\"}], \"heatmap\": [{\"colorbar\": {\"outlinewidth\": 0, \"ticks\": \"\"}, \"colorscale\": [[0.0, \"#0d0887\"], [0.1111111111111111, \"#46039f\"], [0.2222222222222222, \"#7201a8\"], [0.3333333333333333, \"#9c179e\"], [0.4444444444444444, \"#bd3786\"], [0.5555555555555556, \"#d8576b\"], [0.6666666666666666, \"#ed7953\"], [0.7777777777777778, \"#fb9f3a\"], [0.8888888888888888, \"#fdca26\"], [1.0, \"#f0f921\"]], \"type\": \"heatmap\"}], \"heatmapgl\": [{\"colorbar\": {\"outlinewidth\": 0, \"ticks\": \"\"}, \"colorscale\": [[0.0, \"#0d0887\"], [0.1111111111111111, \"#46039f\"], [0.2222222222222222, \"#7201a8\"], [0.3333333333333333, \"#9c179e\"], [0.4444444444444444, \"#bd3786\"], [0.5555555555555556, \"#d8576b\"], [0.6666666666666666, \"#ed7953\"], [0.7777777777777778, \"#fb9f3a\"], [0.8888888888888888, \"#fdca26\"], [1.0, \"#f0f921\"]], \"type\": \"heatmapgl\"}], \"histogram\": [{\"marker\": {\"colorbar\": {\"outlinewidth\": 0, \"ticks\": \"\"}}, \"type\": \"histogram\"}], \"histogram2d\": [{\"colorbar\": {\"outlinewidth\": 0, \"ticks\": \"\"}, \"colorscale\": [[0.0, \"#0d0887\"], [0.1111111111111111, \"#46039f\"], [0.2222222222222222, \"#7201a8\"], [0.3333333333333333, \"#9c179e\"], [0.4444444444444444, \"#bd3786\"], [0.5555555555555556, \"#d8576b\"], [0.6666666666666666, \"#ed7953\"], [0.7777777777777778, \"#fb9f3a\"], [0.8888888888888888, \"#fdca26\"], [1.0, \"#f0f921\"]], \"type\": \"histogram2d\"}], \"histogram2dcontour\": [{\"colorbar\": {\"outlinewidth\": 0, \"ticks\": \"\"}, \"colorscale\": [[0.0, \"#0d0887\"], [0.1111111111111111, \"#46039f\"], [0.2222222222222222, \"#7201a8\"], [0.3333333333333333, \"#9c179e\"], [0.4444444444444444, \"#bd3786\"], [0.5555555555555556, \"#d8576b\"], [0.6666666666666666, \"#ed7953\"], [0.7777777777777778, \"#fb9f3a\"], [0.8888888888888888, \"#fdca26\"], [1.0, \"#f0f921\"]], \"type\": \"histogram2dcontour\"}], \"mesh3d\": [{\"colorbar\": {\"outlinewidth\": 0, \"ticks\": \"\"}, \"type\": \"mesh3d\"}], \"parcoords\": [{\"line\": {\"colorbar\": {\"outlinewidth\": 0, \"ticks\": \"\"}}, \"type\": \"parcoords\"}], \"pie\": [{\"automargin\": true, \"type\": \"pie\"}], \"scatter\": [{\"marker\": {\"colorbar\": {\"outlinewidth\": 0, \"ticks\": \"\"}}, \"type\": \"scatter\"}], \"scatter3d\": [{\"line\": {\"colorbar\": {\"outlinewidth\": 0, \"ticks\": \"\"}}, \"marker\": {\"colorbar\": {\"outlinewidth\": 0, \"ticks\": \"\"}}, \"type\": \"scatter3d\"}], \"scattercarpet\": [{\"marker\": {\"colorbar\": {\"outlinewidth\": 0, \"ticks\": \"\"}}, \"type\": \"scattercarpet\"}], \"scattergeo\": [{\"marker\": {\"colorbar\": {\"outlinewidth\": 0, \"ticks\": \"\"}}, \"type\": \"scattergeo\"}], \"scattergl\": [{\"marker\": {\"colorbar\": {\"outlinewidth\": 0, \"ticks\": \"\"}}, \"type\": \"scattergl\"}], \"scattermapbox\": [{\"marker\": {\"colorbar\": {\"outlinewidth\": 0, \"ticks\": \"\"}}, \"type\": \"scattermapbox\"}], \"scatterpolar\": [{\"marker\": {\"colorbar\": {\"outlinewidth\": 0, \"ticks\": \"\"}}, \"type\": \"scatterpolar\"}], \"scatterpolargl\": [{\"marker\": {\"colorbar\": {\"outlinewidth\": 0, \"ticks\": \"\"}}, \"type\": \"scatterpolargl\"}], \"scatterternary\": [{\"marker\": {\"colorbar\": {\"outlinewidth\": 0, \"ticks\": \"\"}}, \"type\": \"scatterternary\"}], \"surface\": [{\"colorbar\": {\"outlinewidth\": 0, \"ticks\": \"\"}, \"colorscale\": [[0.0, \"#0d0887\"], [0.1111111111111111, \"#46039f\"], [0.2222222222222222, \"#7201a8\"], [0.3333333333333333, \"#9c179e\"], [0.4444444444444444, \"#bd3786\"], [0.5555555555555556, \"#d8576b\"], [0.6666666666666666, \"#ed7953\"], [0.7777777777777778, \"#fb9f3a\"], [0.8888888888888888, \"#fdca26\"], [1.0, \"#f0f921\"]], \"type\": \"surface\"}], \"table\": [{\"cells\": {\"fill\": {\"color\": \"#EBF0F8\"}, \"line\": {\"color\": \"white\"}}, \"header\": {\"fill\": {\"color\": \"#C8D4E3\"}, \"line\": {\"color\": \"white\"}}, \"type\": \"table\"}]}, \"layout\": {\"annotationdefaults\": {\"arrowcolor\": \"#2a3f5f\", \"arrowhead\": 0, \"arrowwidth\": 1}, \"coloraxis\": {\"colorbar\": {\"outlinewidth\": 0, \"ticks\": \"\"}}, \"colorscale\": {\"diverging\": [[0, \"#8e0152\"], [0.1, \"#c51b7d\"], [0.2, \"#de77ae\"], [0.3, \"#f1b6da\"], [0.4, \"#fde0ef\"], [0.5, \"#f7f7f7\"], [0.6, \"#e6f5d0\"], [0.7, \"#b8e186\"], [0.8, \"#7fbc41\"], [0.9, \"#4d9221\"], [1, \"#276419\"]], \"sequential\": [[0.0, \"#0d0887\"], [0.1111111111111111, \"#46039f\"], [0.2222222222222222, \"#7201a8\"], [0.3333333333333333, \"#9c179e\"], [0.4444444444444444, \"#bd3786\"], [0.5555555555555556, \"#d8576b\"], [0.6666666666666666, \"#ed7953\"], [0.7777777777777778, \"#fb9f3a\"], [0.8888888888888888, \"#fdca26\"], [1.0, \"#f0f921\"]], \"sequentialminus\": [[0.0, \"#0d0887\"], [0.1111111111111111, \"#46039f\"], [0.2222222222222222, \"#7201a8\"], [0.3333333333333333, \"#9c179e\"], [0.4444444444444444, \"#bd3786\"], [0.5555555555555556, \"#d8576b\"], [0.6666666666666666, \"#ed7953\"], [0.7777777777777778, \"#fb9f3a\"], [0.8888888888888888, \"#fdca26\"], [1.0, \"#f0f921\"]]}, \"colorway\": [\"#636efa\", \"#EF553B\", \"#00cc96\", \"#ab63fa\", \"#FFA15A\", \"#19d3f3\", \"#FF6692\", \"#B6E880\", \"#FF97FF\", \"#FECB52\"], \"font\": {\"color\": \"#2a3f5f\"}, \"geo\": {\"bgcolor\": \"white\", \"lakecolor\": \"white\", \"landcolor\": \"#E5ECF6\", \"showlakes\": true, \"showland\": true, \"subunitcolor\": \"white\"}, \"hoverlabel\": {\"align\": \"left\"}, \"hovermode\": \"closest\", \"mapbox\": {\"style\": \"light\"}, \"paper_bgcolor\": \"white\", \"plot_bgcolor\": \"#E5ECF6\", \"polar\": {\"angularaxis\": {\"gridcolor\": \"white\", \"linecolor\": \"white\", \"ticks\": \"\"}, \"bgcolor\": \"#E5ECF6\", \"radialaxis\": {\"gridcolor\": \"white\", \"linecolor\": \"white\", \"ticks\": \"\"}}, \"scene\": {\"xaxis\": {\"backgroundcolor\": \"#E5ECF6\", \"gridcolor\": \"white\", \"gridwidth\": 2, \"linecolor\": \"white\", \"showbackground\": true, \"ticks\": \"\", \"zerolinecolor\": \"white\"}, \"yaxis\": {\"backgroundcolor\": \"#E5ECF6\", \"gridcolor\": \"white\", \"gridwidth\": 2, \"linecolor\": \"white\", \"showbackground\": true, \"ticks\": \"\", \"zerolinecolor\": \"white\"}, \"zaxis\": {\"backgroundcolor\": \"#E5ECF6\", \"gridcolor\": \"white\", \"gridwidth\": 2, \"linecolor\": \"white\", \"showbackground\": true, \"ticks\": \"\", \"zerolinecolor\": \"white\"}}, \"shapedefaults\": {\"line\": {\"color\": \"#2a3f5f\"}}, \"ternary\": {\"aaxis\": {\"gridcolor\": \"white\", \"linecolor\": \"white\", \"ticks\": \"\"}, \"baxis\": {\"gridcolor\": \"white\", \"linecolor\": \"white\", \"ticks\": \"\"}, \"bgcolor\": \"#E5ECF6\", \"caxis\": {\"gridcolor\": \"white\", \"linecolor\": \"white\", \"ticks\": \"\"}}, \"title\": {\"x\": 0.05}, \"xaxis\": {\"automargin\": true, \"gridcolor\": \"white\", \"linecolor\": \"white\", \"ticks\": \"\", \"title\": {\"standoff\": 15}, \"zerolinecolor\": \"white\", \"zerolinewidth\": 2}, \"yaxis\": {\"automargin\": true, \"gridcolor\": \"white\", \"linecolor\": \"white\", \"ticks\": \"\", \"title\": {\"standoff\": 15}, \"zerolinecolor\": \"white\", \"zerolinewidth\": 2}}}, \"title\": {\"text\": \"Embarked\"}},\n",
       "                        {\"responsive\": true}\n",
       "                    ).then(function(){\n",
       "                            \n",
       "var gd = document.getElementById('080e360f-f6c6-4c82-b7c5-db2faf3a9d08');\n",
       "var x = new MutationObserver(function (mutations, observer) {{\n",
       "        var display = window.getComputedStyle(gd).display;\n",
       "        if (!display || display === 'none') {{\n",
       "            console.log([gd, 'removed!']);\n",
       "            Plotly.purge(gd);\n",
       "            observer.disconnect();\n",
       "        }}\n",
       "}});\n",
       "\n",
       "// Listen for the removal of the full notebook cells\n",
       "var notebookContainer = gd.closest('#notebook-container');\n",
       "if (notebookContainer) {{\n",
       "    x.observe(notebookContainer, {childList: true});\n",
       "}}\n",
       "\n",
       "// Listen for the clearing of the current output cell\n",
       "var outputEl = gd.closest('.output');\n",
       "if (outputEl) {{\n",
       "    x.observe(outputEl, {childList: true});\n",
       "}}\n",
       "\n",
       "                        })\n",
       "                };\n",
       "                });\n",
       "            </script>\n",
       "        </div>"
      ]
     },
     "metadata": {},
     "output_type": "display_data"
    }
   ],
   "source": [
    "iplot(embarked_pie_fig, filename='Titanic Embarked', )"
   ]
  },
  {
   "cell_type": "markdown",
   "metadata": {},
   "source": [
    "### Bar Chart, embarked - survival\n",
    "\n",
    "    Passengers who embarked from Southampton and Queenstown had less survivals, although the survival rate is relatively low for Southampton passengers, but what is unique is that Cherbourg passengers had more survivors."
   ]
  },
  {
   "cell_type": "code",
   "execution_count": 28,
   "metadata": {},
   "outputs": [
    {
     "data": {
      "application/vnd.plotly.v1+json": {
       "config": {
        "linkText": "Export to plot.ly",
        "plotlyServerURL": "https://plot.ly",
        "showLink": false
       },
       "data": [
        {
         "name": "Didn't Survive",
         "type": "bar",
         "x": [
          "Cherbourg",
          "Queenstown",
          "Southampton"
         ],
         "y": [
          75,
          47,
          427
         ]
        },
        {
         "name": "Survived",
         "type": "bar",
         "x": [
          "Cherbourg",
          "Queenstown",
          "Southampton"
         ],
         "y": [
          93,
          30,
          217
         ]
        }
       ],
       "layout": {
        "barmode": "stack",
        "template": {
         "data": {
          "bar": [
           {
            "error_x": {
             "color": "#2a3f5f"
            },
            "error_y": {
             "color": "#2a3f5f"
            },
            "marker": {
             "line": {
              "color": "#E5ECF6",
              "width": 0.5
             }
            },
            "type": "bar"
           }
          ],
          "barpolar": [
           {
            "marker": {
             "line": {
              "color": "#E5ECF6",
              "width": 0.5
             }
            },
            "type": "barpolar"
           }
          ],
          "carpet": [
           {
            "aaxis": {
             "endlinecolor": "#2a3f5f",
             "gridcolor": "white",
             "linecolor": "white",
             "minorgridcolor": "white",
             "startlinecolor": "#2a3f5f"
            },
            "baxis": {
             "endlinecolor": "#2a3f5f",
             "gridcolor": "white",
             "linecolor": "white",
             "minorgridcolor": "white",
             "startlinecolor": "#2a3f5f"
            },
            "type": "carpet"
           }
          ],
          "choropleth": [
           {
            "colorbar": {
             "outlinewidth": 0,
             "ticks": ""
            },
            "type": "choropleth"
           }
          ],
          "contour": [
           {
            "colorbar": {
             "outlinewidth": 0,
             "ticks": ""
            },
            "colorscale": [
             [
              0,
              "#0d0887"
             ],
             [
              0.1111111111111111,
              "#46039f"
             ],
             [
              0.2222222222222222,
              "#7201a8"
             ],
             [
              0.3333333333333333,
              "#9c179e"
             ],
             [
              0.4444444444444444,
              "#bd3786"
             ],
             [
              0.5555555555555556,
              "#d8576b"
             ],
             [
              0.6666666666666666,
              "#ed7953"
             ],
             [
              0.7777777777777778,
              "#fb9f3a"
             ],
             [
              0.8888888888888888,
              "#fdca26"
             ],
             [
              1,
              "#f0f921"
             ]
            ],
            "type": "contour"
           }
          ],
          "contourcarpet": [
           {
            "colorbar": {
             "outlinewidth": 0,
             "ticks": ""
            },
            "type": "contourcarpet"
           }
          ],
          "heatmap": [
           {
            "colorbar": {
             "outlinewidth": 0,
             "ticks": ""
            },
            "colorscale": [
             [
              0,
              "#0d0887"
             ],
             [
              0.1111111111111111,
              "#46039f"
             ],
             [
              0.2222222222222222,
              "#7201a8"
             ],
             [
              0.3333333333333333,
              "#9c179e"
             ],
             [
              0.4444444444444444,
              "#bd3786"
             ],
             [
              0.5555555555555556,
              "#d8576b"
             ],
             [
              0.6666666666666666,
              "#ed7953"
             ],
             [
              0.7777777777777778,
              "#fb9f3a"
             ],
             [
              0.8888888888888888,
              "#fdca26"
             ],
             [
              1,
              "#f0f921"
             ]
            ],
            "type": "heatmap"
           }
          ],
          "heatmapgl": [
           {
            "colorbar": {
             "outlinewidth": 0,
             "ticks": ""
            },
            "colorscale": [
             [
              0,
              "#0d0887"
             ],
             [
              0.1111111111111111,
              "#46039f"
             ],
             [
              0.2222222222222222,
              "#7201a8"
             ],
             [
              0.3333333333333333,
              "#9c179e"
             ],
             [
              0.4444444444444444,
              "#bd3786"
             ],
             [
              0.5555555555555556,
              "#d8576b"
             ],
             [
              0.6666666666666666,
              "#ed7953"
             ],
             [
              0.7777777777777778,
              "#fb9f3a"
             ],
             [
              0.8888888888888888,
              "#fdca26"
             ],
             [
              1,
              "#f0f921"
             ]
            ],
            "type": "heatmapgl"
           }
          ],
          "histogram": [
           {
            "marker": {
             "colorbar": {
              "outlinewidth": 0,
              "ticks": ""
             }
            },
            "type": "histogram"
           }
          ],
          "histogram2d": [
           {
            "colorbar": {
             "outlinewidth": 0,
             "ticks": ""
            },
            "colorscale": [
             [
              0,
              "#0d0887"
             ],
             [
              0.1111111111111111,
              "#46039f"
             ],
             [
              0.2222222222222222,
              "#7201a8"
             ],
             [
              0.3333333333333333,
              "#9c179e"
             ],
             [
              0.4444444444444444,
              "#bd3786"
             ],
             [
              0.5555555555555556,
              "#d8576b"
             ],
             [
              0.6666666666666666,
              "#ed7953"
             ],
             [
              0.7777777777777778,
              "#fb9f3a"
             ],
             [
              0.8888888888888888,
              "#fdca26"
             ],
             [
              1,
              "#f0f921"
             ]
            ],
            "type": "histogram2d"
           }
          ],
          "histogram2dcontour": [
           {
            "colorbar": {
             "outlinewidth": 0,
             "ticks": ""
            },
            "colorscale": [
             [
              0,
              "#0d0887"
             ],
             [
              0.1111111111111111,
              "#46039f"
             ],
             [
              0.2222222222222222,
              "#7201a8"
             ],
             [
              0.3333333333333333,
              "#9c179e"
             ],
             [
              0.4444444444444444,
              "#bd3786"
             ],
             [
              0.5555555555555556,
              "#d8576b"
             ],
             [
              0.6666666666666666,
              "#ed7953"
             ],
             [
              0.7777777777777778,
              "#fb9f3a"
             ],
             [
              0.8888888888888888,
              "#fdca26"
             ],
             [
              1,
              "#f0f921"
             ]
            ],
            "type": "histogram2dcontour"
           }
          ],
          "mesh3d": [
           {
            "colorbar": {
             "outlinewidth": 0,
             "ticks": ""
            },
            "type": "mesh3d"
           }
          ],
          "parcoords": [
           {
            "line": {
             "colorbar": {
              "outlinewidth": 0,
              "ticks": ""
             }
            },
            "type": "parcoords"
           }
          ],
          "pie": [
           {
            "automargin": true,
            "type": "pie"
           }
          ],
          "scatter": [
           {
            "marker": {
             "colorbar": {
              "outlinewidth": 0,
              "ticks": ""
             }
            },
            "type": "scatter"
           }
          ],
          "scatter3d": [
           {
            "line": {
             "colorbar": {
              "outlinewidth": 0,
              "ticks": ""
             }
            },
            "marker": {
             "colorbar": {
              "outlinewidth": 0,
              "ticks": ""
             }
            },
            "type": "scatter3d"
           }
          ],
          "scattercarpet": [
           {
            "marker": {
             "colorbar": {
              "outlinewidth": 0,
              "ticks": ""
             }
            },
            "type": "scattercarpet"
           }
          ],
          "scattergeo": [
           {
            "marker": {
             "colorbar": {
              "outlinewidth": 0,
              "ticks": ""
             }
            },
            "type": "scattergeo"
           }
          ],
          "scattergl": [
           {
            "marker": {
             "colorbar": {
              "outlinewidth": 0,
              "ticks": ""
             }
            },
            "type": "scattergl"
           }
          ],
          "scattermapbox": [
           {
            "marker": {
             "colorbar": {
              "outlinewidth": 0,
              "ticks": ""
             }
            },
            "type": "scattermapbox"
           }
          ],
          "scatterpolar": [
           {
            "marker": {
             "colorbar": {
              "outlinewidth": 0,
              "ticks": ""
             }
            },
            "type": "scatterpolar"
           }
          ],
          "scatterpolargl": [
           {
            "marker": {
             "colorbar": {
              "outlinewidth": 0,
              "ticks": ""
             }
            },
            "type": "scatterpolargl"
           }
          ],
          "scatterternary": [
           {
            "marker": {
             "colorbar": {
              "outlinewidth": 0,
              "ticks": ""
             }
            },
            "type": "scatterternary"
           }
          ],
          "surface": [
           {
            "colorbar": {
             "outlinewidth": 0,
             "ticks": ""
            },
            "colorscale": [
             [
              0,
              "#0d0887"
             ],
             [
              0.1111111111111111,
              "#46039f"
             ],
             [
              0.2222222222222222,
              "#7201a8"
             ],
             [
              0.3333333333333333,
              "#9c179e"
             ],
             [
              0.4444444444444444,
              "#bd3786"
             ],
             [
              0.5555555555555556,
              "#d8576b"
             ],
             [
              0.6666666666666666,
              "#ed7953"
             ],
             [
              0.7777777777777778,
              "#fb9f3a"
             ],
             [
              0.8888888888888888,
              "#fdca26"
             ],
             [
              1,
              "#f0f921"
             ]
            ],
            "type": "surface"
           }
          ],
          "table": [
           {
            "cells": {
             "fill": {
              "color": "#EBF0F8"
             },
             "line": {
              "color": "white"
             }
            },
            "header": {
             "fill": {
              "color": "#C8D4E3"
             },
             "line": {
              "color": "white"
             }
            },
            "type": "table"
           }
          ]
         },
         "layout": {
          "annotationdefaults": {
           "arrowcolor": "#2a3f5f",
           "arrowhead": 0,
           "arrowwidth": 1
          },
          "coloraxis": {
           "colorbar": {
            "outlinewidth": 0,
            "ticks": ""
           }
          },
          "colorscale": {
           "diverging": [
            [
             0,
             "#8e0152"
            ],
            [
             0.1,
             "#c51b7d"
            ],
            [
             0.2,
             "#de77ae"
            ],
            [
             0.3,
             "#f1b6da"
            ],
            [
             0.4,
             "#fde0ef"
            ],
            [
             0.5,
             "#f7f7f7"
            ],
            [
             0.6,
             "#e6f5d0"
            ],
            [
             0.7,
             "#b8e186"
            ],
            [
             0.8,
             "#7fbc41"
            ],
            [
             0.9,
             "#4d9221"
            ],
            [
             1,
             "#276419"
            ]
           ],
           "sequential": [
            [
             0,
             "#0d0887"
            ],
            [
             0.1111111111111111,
             "#46039f"
            ],
            [
             0.2222222222222222,
             "#7201a8"
            ],
            [
             0.3333333333333333,
             "#9c179e"
            ],
            [
             0.4444444444444444,
             "#bd3786"
            ],
            [
             0.5555555555555556,
             "#d8576b"
            ],
            [
             0.6666666666666666,
             "#ed7953"
            ],
            [
             0.7777777777777778,
             "#fb9f3a"
            ],
            [
             0.8888888888888888,
             "#fdca26"
            ],
            [
             1,
             "#f0f921"
            ]
           ],
           "sequentialminus": [
            [
             0,
             "#0d0887"
            ],
            [
             0.1111111111111111,
             "#46039f"
            ],
            [
             0.2222222222222222,
             "#7201a8"
            ],
            [
             0.3333333333333333,
             "#9c179e"
            ],
            [
             0.4444444444444444,
             "#bd3786"
            ],
            [
             0.5555555555555556,
             "#d8576b"
            ],
            [
             0.6666666666666666,
             "#ed7953"
            ],
            [
             0.7777777777777778,
             "#fb9f3a"
            ],
            [
             0.8888888888888888,
             "#fdca26"
            ],
            [
             1,
             "#f0f921"
            ]
           ]
          },
          "colorway": [
           "#636efa",
           "#EF553B",
           "#00cc96",
           "#ab63fa",
           "#FFA15A",
           "#19d3f3",
           "#FF6692",
           "#B6E880",
           "#FF97FF",
           "#FECB52"
          ],
          "font": {
           "color": "#2a3f5f"
          },
          "geo": {
           "bgcolor": "white",
           "lakecolor": "white",
           "landcolor": "#E5ECF6",
           "showlakes": true,
           "showland": true,
           "subunitcolor": "white"
          },
          "hoverlabel": {
           "align": "left"
          },
          "hovermode": "closest",
          "mapbox": {
           "style": "light"
          },
          "paper_bgcolor": "white",
          "plot_bgcolor": "#E5ECF6",
          "polar": {
           "angularaxis": {
            "gridcolor": "white",
            "linecolor": "white",
            "ticks": ""
           },
           "bgcolor": "#E5ECF6",
           "radialaxis": {
            "gridcolor": "white",
            "linecolor": "white",
            "ticks": ""
           }
          },
          "scene": {
           "xaxis": {
            "backgroundcolor": "#E5ECF6",
            "gridcolor": "white",
            "gridwidth": 2,
            "linecolor": "white",
            "showbackground": true,
            "ticks": "",
            "zerolinecolor": "white"
           },
           "yaxis": {
            "backgroundcolor": "#E5ECF6",
            "gridcolor": "white",
            "gridwidth": 2,
            "linecolor": "white",
            "showbackground": true,
            "ticks": "",
            "zerolinecolor": "white"
           },
           "zaxis": {
            "backgroundcolor": "#E5ECF6",
            "gridcolor": "white",
            "gridwidth": 2,
            "linecolor": "white",
            "showbackground": true,
            "ticks": "",
            "zerolinecolor": "white"
           }
          },
          "shapedefaults": {
           "line": {
            "color": "#2a3f5f"
           }
          },
          "ternary": {
           "aaxis": {
            "gridcolor": "white",
            "linecolor": "white",
            "ticks": ""
           },
           "baxis": {
            "gridcolor": "white",
            "linecolor": "white",
            "ticks": ""
           },
           "bgcolor": "#E5ECF6",
           "caxis": {
            "gridcolor": "white",
            "linecolor": "white",
            "ticks": ""
           }
          },
          "title": {
           "x": 0.05
          },
          "xaxis": {
           "automargin": true,
           "gridcolor": "white",
           "linecolor": "white",
           "ticks": "",
           "title": {
            "standoff": 15
           },
           "zerolinecolor": "white",
           "zerolinewidth": 2
          },
          "yaxis": {
           "automargin": true,
           "gridcolor": "white",
           "linecolor": "white",
           "ticks": "",
           "title": {
            "standoff": 15
           },
           "zerolinecolor": "white",
           "zerolinewidth": 2
          }
         }
        },
        "title": {
         "text": "Embark Points and Survival"
        }
       }
      },
      "text/html": [
       "<div>\n",
       "        \n",
       "        \n",
       "            <div id=\"6934b868-91b5-43b7-96e9-862ce60c21a1\" class=\"plotly-graph-div\" style=\"height:525px; width:100%;\"></div>\n",
       "            <script type=\"text/javascript\">\n",
       "                require([\"plotly\"], function(Plotly) {\n",
       "                    window.PLOTLYENV=window.PLOTLYENV || {};\n",
       "                    \n",
       "                if (document.getElementById(\"6934b868-91b5-43b7-96e9-862ce60c21a1\")) {\n",
       "                    Plotly.newPlot(\n",
       "                        '6934b868-91b5-43b7-96e9-862ce60c21a1',\n",
       "                        [{\"name\": \"Didn't Survive\", \"type\": \"bar\", \"x\": [\"Cherbourg\", \"Queenstown\", \"Southampton\"], \"y\": [75, 47, 427]}, {\"name\": \"Survived\", \"type\": \"bar\", \"x\": [\"Cherbourg\", \"Queenstown\", \"Southampton\"], \"y\": [93, 30, 217]}],\n",
       "                        {\"barmode\": \"stack\", \"template\": {\"data\": {\"bar\": [{\"error_x\": {\"color\": \"#2a3f5f\"}, \"error_y\": {\"color\": \"#2a3f5f\"}, \"marker\": {\"line\": {\"color\": \"#E5ECF6\", \"width\": 0.5}}, \"type\": \"bar\"}], \"barpolar\": [{\"marker\": {\"line\": {\"color\": \"#E5ECF6\", \"width\": 0.5}}, \"type\": \"barpolar\"}], \"carpet\": [{\"aaxis\": {\"endlinecolor\": \"#2a3f5f\", \"gridcolor\": \"white\", \"linecolor\": \"white\", \"minorgridcolor\": \"white\", \"startlinecolor\": \"#2a3f5f\"}, \"baxis\": {\"endlinecolor\": \"#2a3f5f\", \"gridcolor\": \"white\", \"linecolor\": \"white\", \"minorgridcolor\": \"white\", \"startlinecolor\": \"#2a3f5f\"}, \"type\": \"carpet\"}], \"choropleth\": [{\"colorbar\": {\"outlinewidth\": 0, \"ticks\": \"\"}, \"type\": \"choropleth\"}], \"contour\": [{\"colorbar\": {\"outlinewidth\": 0, \"ticks\": \"\"}, \"colorscale\": [[0.0, \"#0d0887\"], [0.1111111111111111, \"#46039f\"], [0.2222222222222222, \"#7201a8\"], [0.3333333333333333, \"#9c179e\"], [0.4444444444444444, \"#bd3786\"], [0.5555555555555556, \"#d8576b\"], [0.6666666666666666, \"#ed7953\"], [0.7777777777777778, \"#fb9f3a\"], [0.8888888888888888, \"#fdca26\"], [1.0, \"#f0f921\"]], \"type\": \"contour\"}], \"contourcarpet\": [{\"colorbar\": {\"outlinewidth\": 0, \"ticks\": \"\"}, \"type\": \"contourcarpet\"}], \"heatmap\": [{\"colorbar\": {\"outlinewidth\": 0, \"ticks\": \"\"}, \"colorscale\": [[0.0, \"#0d0887\"], [0.1111111111111111, \"#46039f\"], [0.2222222222222222, \"#7201a8\"], [0.3333333333333333, \"#9c179e\"], [0.4444444444444444, \"#bd3786\"], [0.5555555555555556, \"#d8576b\"], [0.6666666666666666, \"#ed7953\"], [0.7777777777777778, \"#fb9f3a\"], [0.8888888888888888, \"#fdca26\"], [1.0, \"#f0f921\"]], \"type\": \"heatmap\"}], \"heatmapgl\": [{\"colorbar\": {\"outlinewidth\": 0, \"ticks\": \"\"}, \"colorscale\": [[0.0, \"#0d0887\"], [0.1111111111111111, \"#46039f\"], [0.2222222222222222, \"#7201a8\"], [0.3333333333333333, \"#9c179e\"], [0.4444444444444444, \"#bd3786\"], [0.5555555555555556, \"#d8576b\"], [0.6666666666666666, \"#ed7953\"], [0.7777777777777778, \"#fb9f3a\"], [0.8888888888888888, \"#fdca26\"], [1.0, \"#f0f921\"]], \"type\": \"heatmapgl\"}], \"histogram\": [{\"marker\": {\"colorbar\": {\"outlinewidth\": 0, \"ticks\": \"\"}}, \"type\": \"histogram\"}], \"histogram2d\": [{\"colorbar\": {\"outlinewidth\": 0, \"ticks\": \"\"}, \"colorscale\": [[0.0, \"#0d0887\"], [0.1111111111111111, \"#46039f\"], [0.2222222222222222, \"#7201a8\"], [0.3333333333333333, \"#9c179e\"], [0.4444444444444444, \"#bd3786\"], [0.5555555555555556, \"#d8576b\"], [0.6666666666666666, \"#ed7953\"], [0.7777777777777778, \"#fb9f3a\"], [0.8888888888888888, \"#fdca26\"], [1.0, \"#f0f921\"]], \"type\": \"histogram2d\"}], \"histogram2dcontour\": [{\"colorbar\": {\"outlinewidth\": 0, \"ticks\": \"\"}, \"colorscale\": [[0.0, \"#0d0887\"], [0.1111111111111111, \"#46039f\"], [0.2222222222222222, \"#7201a8\"], [0.3333333333333333, \"#9c179e\"], [0.4444444444444444, \"#bd3786\"], [0.5555555555555556, \"#d8576b\"], [0.6666666666666666, \"#ed7953\"], [0.7777777777777778, \"#fb9f3a\"], [0.8888888888888888, \"#fdca26\"], [1.0, \"#f0f921\"]], \"type\": \"histogram2dcontour\"}], \"mesh3d\": [{\"colorbar\": {\"outlinewidth\": 0, \"ticks\": \"\"}, \"type\": \"mesh3d\"}], \"parcoords\": [{\"line\": {\"colorbar\": {\"outlinewidth\": 0, \"ticks\": \"\"}}, \"type\": \"parcoords\"}], \"pie\": [{\"automargin\": true, \"type\": \"pie\"}], \"scatter\": [{\"marker\": {\"colorbar\": {\"outlinewidth\": 0, \"ticks\": \"\"}}, \"type\": \"scatter\"}], \"scatter3d\": [{\"line\": {\"colorbar\": {\"outlinewidth\": 0, \"ticks\": \"\"}}, \"marker\": {\"colorbar\": {\"outlinewidth\": 0, \"ticks\": \"\"}}, \"type\": \"scatter3d\"}], \"scattercarpet\": [{\"marker\": {\"colorbar\": {\"outlinewidth\": 0, \"ticks\": \"\"}}, \"type\": \"scattercarpet\"}], \"scattergeo\": [{\"marker\": {\"colorbar\": {\"outlinewidth\": 0, \"ticks\": \"\"}}, \"type\": \"scattergeo\"}], \"scattergl\": [{\"marker\": {\"colorbar\": {\"outlinewidth\": 0, \"ticks\": \"\"}}, \"type\": \"scattergl\"}], \"scattermapbox\": [{\"marker\": {\"colorbar\": {\"outlinewidth\": 0, \"ticks\": \"\"}}, \"type\": \"scattermapbox\"}], \"scatterpolar\": [{\"marker\": {\"colorbar\": {\"outlinewidth\": 0, \"ticks\": \"\"}}, \"type\": \"scatterpolar\"}], \"scatterpolargl\": [{\"marker\": {\"colorbar\": {\"outlinewidth\": 0, \"ticks\": \"\"}}, \"type\": \"scatterpolargl\"}], \"scatterternary\": [{\"marker\": {\"colorbar\": {\"outlinewidth\": 0, \"ticks\": \"\"}}, \"type\": \"scatterternary\"}], \"surface\": [{\"colorbar\": {\"outlinewidth\": 0, \"ticks\": \"\"}, \"colorscale\": [[0.0, \"#0d0887\"], [0.1111111111111111, \"#46039f\"], [0.2222222222222222, \"#7201a8\"], [0.3333333333333333, \"#9c179e\"], [0.4444444444444444, \"#bd3786\"], [0.5555555555555556, \"#d8576b\"], [0.6666666666666666, \"#ed7953\"], [0.7777777777777778, \"#fb9f3a\"], [0.8888888888888888, \"#fdca26\"], [1.0, \"#f0f921\"]], \"type\": \"surface\"}], \"table\": [{\"cells\": {\"fill\": {\"color\": \"#EBF0F8\"}, \"line\": {\"color\": \"white\"}}, \"header\": {\"fill\": {\"color\": \"#C8D4E3\"}, \"line\": {\"color\": \"white\"}}, \"type\": \"table\"}]}, \"layout\": {\"annotationdefaults\": {\"arrowcolor\": \"#2a3f5f\", \"arrowhead\": 0, \"arrowwidth\": 1}, \"coloraxis\": {\"colorbar\": {\"outlinewidth\": 0, \"ticks\": \"\"}}, \"colorscale\": {\"diverging\": [[0, \"#8e0152\"], [0.1, \"#c51b7d\"], [0.2, \"#de77ae\"], [0.3, \"#f1b6da\"], [0.4, \"#fde0ef\"], [0.5, \"#f7f7f7\"], [0.6, \"#e6f5d0\"], [0.7, \"#b8e186\"], [0.8, \"#7fbc41\"], [0.9, \"#4d9221\"], [1, \"#276419\"]], \"sequential\": [[0.0, \"#0d0887\"], [0.1111111111111111, \"#46039f\"], [0.2222222222222222, \"#7201a8\"], [0.3333333333333333, \"#9c179e\"], [0.4444444444444444, \"#bd3786\"], [0.5555555555555556, \"#d8576b\"], [0.6666666666666666, \"#ed7953\"], [0.7777777777777778, \"#fb9f3a\"], [0.8888888888888888, \"#fdca26\"], [1.0, \"#f0f921\"]], \"sequentialminus\": [[0.0, \"#0d0887\"], [0.1111111111111111, \"#46039f\"], [0.2222222222222222, \"#7201a8\"], [0.3333333333333333, \"#9c179e\"], [0.4444444444444444, \"#bd3786\"], [0.5555555555555556, \"#d8576b\"], [0.6666666666666666, \"#ed7953\"], [0.7777777777777778, \"#fb9f3a\"], [0.8888888888888888, \"#fdca26\"], [1.0, \"#f0f921\"]]}, \"colorway\": [\"#636efa\", \"#EF553B\", \"#00cc96\", \"#ab63fa\", \"#FFA15A\", \"#19d3f3\", \"#FF6692\", \"#B6E880\", \"#FF97FF\", \"#FECB52\"], \"font\": {\"color\": \"#2a3f5f\"}, \"geo\": {\"bgcolor\": \"white\", \"lakecolor\": \"white\", \"landcolor\": \"#E5ECF6\", \"showlakes\": true, \"showland\": true, \"subunitcolor\": \"white\"}, \"hoverlabel\": {\"align\": \"left\"}, \"hovermode\": \"closest\", \"mapbox\": {\"style\": \"light\"}, \"paper_bgcolor\": \"white\", \"plot_bgcolor\": \"#E5ECF6\", \"polar\": {\"angularaxis\": {\"gridcolor\": \"white\", \"linecolor\": \"white\", \"ticks\": \"\"}, \"bgcolor\": \"#E5ECF6\", \"radialaxis\": {\"gridcolor\": \"white\", \"linecolor\": \"white\", \"ticks\": \"\"}}, \"scene\": {\"xaxis\": {\"backgroundcolor\": \"#E5ECF6\", \"gridcolor\": \"white\", \"gridwidth\": 2, \"linecolor\": \"white\", \"showbackground\": true, \"ticks\": \"\", \"zerolinecolor\": \"white\"}, \"yaxis\": {\"backgroundcolor\": \"#E5ECF6\", \"gridcolor\": \"white\", \"gridwidth\": 2, \"linecolor\": \"white\", \"showbackground\": true, \"ticks\": \"\", \"zerolinecolor\": \"white\"}, \"zaxis\": {\"backgroundcolor\": \"#E5ECF6\", \"gridcolor\": \"white\", \"gridwidth\": 2, \"linecolor\": \"white\", \"showbackground\": true, \"ticks\": \"\", \"zerolinecolor\": \"white\"}}, \"shapedefaults\": {\"line\": {\"color\": \"#2a3f5f\"}}, \"ternary\": {\"aaxis\": {\"gridcolor\": \"white\", \"linecolor\": \"white\", \"ticks\": \"\"}, \"baxis\": {\"gridcolor\": \"white\", \"linecolor\": \"white\", \"ticks\": \"\"}, \"bgcolor\": \"#E5ECF6\", \"caxis\": {\"gridcolor\": \"white\", \"linecolor\": \"white\", \"ticks\": \"\"}}, \"title\": {\"x\": 0.05}, \"xaxis\": {\"automargin\": true, \"gridcolor\": \"white\", \"linecolor\": \"white\", \"ticks\": \"\", \"title\": {\"standoff\": 15}, \"zerolinecolor\": \"white\", \"zerolinewidth\": 2}, \"yaxis\": {\"automargin\": true, \"gridcolor\": \"white\", \"linecolor\": \"white\", \"ticks\": \"\", \"title\": {\"standoff\": 15}, \"zerolinecolor\": \"white\", \"zerolinewidth\": 2}}}, \"title\": {\"text\": \"Embark Points and Survival\"}},\n",
       "                        {\"responsive\": true}\n",
       "                    ).then(function(){\n",
       "                            \n",
       "var gd = document.getElementById('6934b868-91b5-43b7-96e9-862ce60c21a1');\n",
       "var x = new MutationObserver(function (mutations, observer) {{\n",
       "        var display = window.getComputedStyle(gd).display;\n",
       "        if (!display || display === 'none') {{\n",
       "            console.log([gd, 'removed!']);\n",
       "            Plotly.purge(gd);\n",
       "            observer.disconnect();\n",
       "        }}\n",
       "}});\n",
       "\n",
       "// Listen for the removal of the full notebook cells\n",
       "var notebookContainer = gd.closest('#notebook-container');\n",
       "if (notebookContainer) {{\n",
       "    x.observe(notebookContainer, {childList: true});\n",
       "}}\n",
       "\n",
       "// Listen for the clearing of the current output cell\n",
       "var outputEl = gd.closest('.output');\n",
       "if (outputEl) {{\n",
       "    x.observe(outputEl, {childList: true});\n",
       "}}\n",
       "\n",
       "                        })\n",
       "                };\n",
       "                });\n",
       "            </script>\n",
       "        </div>"
      ]
     },
     "metadata": {},
     "output_type": "display_data"
    }
   ],
   "source": [
    "iplot(embarked_bar_fig)\n"
   ]
  },
  {
   "cell_type": "markdown",
   "metadata": {},
   "source": [
    "### Box Plot, embarked - ages\n",
    "\n",
    "    The median of ages for all embark points are somehow similar, although Southampton passengers have more elderly."
   ]
  },
  {
   "cell_type": "code",
   "execution_count": 29,
   "metadata": {},
   "outputs": [
    {
     "data": {
      "application/vnd.plotly.v1+json": {
       "config": {
        "linkText": "Export to plot.ly",
        "plotlyServerURL": "https://plot.ly",
        "showLink": false
       },
       "data": [
        {
         "name": "Cherbourg",
         "type": "box",
         "y": [
          0.577093875175718,
          -1.0800497735258352,
          null,
          null,
          0.7151891792341807,
          null,
          -0.11338264511659585,
          null,
          -1.0800497735258352,
          null,
          -1.8395739458473803,
          null,
          1.336618047497263,
          2.441380479964965,
          -0.07885881910198016,
          -0.5276685572919841,
          null,
          null,
          -0.2514779491750586,
          2.855666392140354,
          -0.45862090526275273,
          -1.0455259475112195,
          -0.872906817438141,
          -0.3895732532335214,
          0.19733178901494536,
          -1.218145077584298,
          null,
          0.23185561502956104,
          -0.45862090526275273,
          -0.3895732532335214,
          null,
          1.4747133515557258,
          1.8199516117018828,
          1.4056656995264944,
          null,
          0.9913797873511062,
          1.9580469157603455,
          1.0949512653949534,
          -0.2514779491750586,
          0.7151891792341807,
          0.09376031097109828,
          0.16280796300032965,
          null,
          0.024712658941866906,
          -0.04433499308736447,
          null,
          0.3699509190880238,
          0.5080462231464865,
          0.23185561502956104,
          -0.7348115133796783,
          0.43899857111725515,
          null,
          -0.42409707924813705,
          1.4056656995264944,
          null,
          -0.872906817438141,
          0.024712658941866906,
          0.024712658941866906,
          -0.3895732532335214,
          -0.8038591654089097,
          0.7151891792341807,
          0.43899857111725515,
          -0.9419544694673724,
          0.784236831263412,
          -1.0110021214966038,
          null,
          -0.04433499308736447,
          1.0604274393803377,
          2.0961422198188084,
          null,
          -0.3895732532335214,
          -0.32052560120428997,
          -0.5276685572919841,
          null,
          -0.18243029714582723,
          -0.6657638613504469,
          0.8532844832926435,
          -1.977669249905843,
          -0.872906817438141,
          -0.45862090526275273,
          null,
          -1.7014786417889176,
          0.024712658941866906,
          1.336618047497263,
          -0.04433499308736447,
          -1.994931162913151,
          -0.45862090526275273,
          -0.32052560120428997,
          1.9580469157603455,
          2.855666392140354,
          null,
          1.68185630764342,
          -0.8038591654089097,
          1.68185630764342,
          null,
          0.9913797873511062,
          null,
          null,
          -0.872906817438141,
          null,
          0.024712658941866906,
          -0.5276685572919841,
          1.4056656995264944,
          null,
          -0.872906817438141,
          -0.5276685572919841,
          1.2675703954680317,
          null,
          null,
          null,
          0.6461415272049493,
          0.43899857111725515,
          null,
          2.0961422198188084,
          1.5437610035849572,
          null,
          1.336618047497263,
          0.3699509190880238,
          -0.5276685572919841,
          -0.18243029714582723,
          -0.6657638613504469,
          0.16280796300032965,
          -0.3895732532335214,
          -1.994931162913151,
          1.2675703954680317,
          1.8199516117018828,
          1.9580469157603455,
          0.7151891792341807,
          0.43899857111725515,
          -0.18243029714582723,
          -0.32052560120428997,
          -1.770526293818149,
          -0.32052560120428997,
          1.336618047497263,
          -0.8038591654089097,
          -0.8038591654089097,
          null,
          -0.3895732532335214,
          0.577093875175718,
          -1.2871927296135293,
          0.3699509190880238,
          -0.5967162093212155,
          -0.6657638613504469,
          null,
          null,
          -1.1490974255550666,
          1.129475091409569,
          null,
          0.024712658941866906,
          -2.017716888082797,
          0.09376031097109828,
          -1.977669249905843,
          -1.0110021214966038,
          null,
          0.6461415272049493,
          null,
          0.024712658941866906,
          0.3354270930734081,
          0.3699509190880238,
          null,
          -1.425288033671992,
          -0.3895732532335214,
          null,
          -0.18243029714582723,
          -0.11338264511659585,
          -1.0110021214966038,
          1.8199516117018828,
          -0.2514779491750586
         ]
        },
        {
         "name": "Queenstown",
         "type": "box",
         "y": [
          null,
          -1.9086215978766117,
          -1.0110021214966038,
          null,
          null,
          -0.7348115133796783,
          null,
          null,
          null,
          null,
          2.821142566125738,
          null,
          -0.7348115133796783,
          -0.9419544694673724,
          -1.770526293818149,
          null,
          0.7151891792341807,
          null,
          null,
          -0.9419544694673724,
          null,
          null,
          0.9913797873511062,
          null,
          null,
          null,
          -1.563383337730455,
          2.441380479964965,
          -0.5276685572919841,
          null,
          null,
          null,
          0.024712658941866906,
          null,
          null,
          null,
          null,
          null,
          null,
          null,
          0.23185561502956104,
          -0.5967162093212155,
          null,
          null,
          null,
          -0.5967162093212155,
          null,
          -0.04433499308736447,
          null,
          0.7497130052487964,
          null,
          null,
          null,
          null,
          null,
          null,
          1.8889992637311142,
          null,
          null,
          -0.8038591654089097,
          0.16280796300032965,
          null,
          null,
          -0.32052560120428997,
          null,
          null,
          0.09376031097109828,
          0.059236484956482593,
          null,
          null,
          null,
          -1.4943356857012233,
          null,
          null,
          null,
          0.6461415272049493,
          0.16280796300032965
         ]
        },
        {
         "name": "Southampton",
         "type": "box",
         "y": [
          -0.5276685572919841,
          -0.2514779491750586,
          0.3699509190880238,
          0.3699509190880238,
          1.68185630764342,
          -1.9086215978766117,
          -0.18243029714582723,
          -1.770526293818149,
          1.9580469157603455,
          -0.6657638613504469,
          0.6461415272049493,
          -1.0800497735258352,
          1.7509039596726514,
          null,
          0.09376031097109828,
          0.3699509190880238,
          0.30090326705879245,
          -0.11338264511659585,
          -1.4943356857012233,
          0.577093875175718,
          -0.7348115133796783,
          null,
          2.510428131994197,
          0.8532844832926435,
          -0.5967162093212155,
          -0.8038591654089097,
          0.7151891792341807,
          -0.18243029714582723,
          null,
          -0.8038591654089097,
          -1.563383337730455,
          -0.5967162093212155,
          -0.04433499308736447,
          null,
          -0.5967162093212155,
          -1.7014786417889176,
          -1.2871927296135293,
          1.0604274393803377,
          -1.770526293818149,
          -0.04433499308736447,
          -0.7348115133796783,
          -0.872906817438141,
          -0.2514779491750586,
          0.16280796300032965,
          -0.9419544694673724,
          -0.5967162093212155,
          0.16280796300032965,
          -0.32052560120428997,
          null,
          null,
          -1.9894073507508125,
          0.024712658941866906,
          -0.5276685572919841,
          -0.04433499308736447,
          -0.11338264511659585,
          -0.872906817438141,
          0.23185561502956104,
          -0.9419544694673724,
          null,
          -0.45862090526275273,
          -0.3895732532335214,
          -0.04433499308736447,
          -0.6657638613504469,
          1.129475091409569,
          -0.2514779491750586,
          2.027094567789577,
          null,
          0.30090326705879245,
          0.30090326705879245,
          -0.11338264511659585,
          null,
          -0.5967162093212155,
          0.23185561502956104,
          0.5080462231464865,
          -0.11338264511659585,
          -0.5967162093212155,
          null,
          0.577093875175718,
          1.1985227434388004,
          -0.5276685572919841,
          -0.6657638613504469,
          -0.5967162093212155,
          -0.04433499308736447,
          -1.9086215978766117,
          -0.5967162093212155,
          null,
          0.19733178901494536,
          1.68185630764342,
          -0.3895732532335214,
          1.0604274393803377,
          -0.6657638613504469,
          1.1985227434388004,
          -0.04433499308736447,
          -0.32052560120428997,
          -0.7348115133796783,
          0.5080462231464865,
          -0.9419544694673724,
          -0.5276685572919841,
          -0.3895732532335214,
          -0.8038591654089097,
          -0.7348115133796783,
          -0.18243029714582723,
          -1.425288033671992,
          0.4735223971318709,
          0.8532844832926435,
          1.4747133515557258,
          -0.5276685572919841,
          1.7854277856872671,
          0.7497130052487964,
          null,
          0.024712658941866906,
          null,
          null,
          0.9913797873511062,
          0.7151891792341807,
          -0.2514779491750586,
          -0.872906817438141,
          -1.977669249905843,
          -1.425288033671992,
          null,
          1.0604274393803377,
          null,
          -0.11338264511659585,
          2.16518987184804,
          -1.977669249905843,
          -0.5967162093212155,
          -0.8038591654089097,
          null,
          0.024712658941866906,
          0.43899857111725515,
          null,
          -1.425288033671992,
          -1.977669249905843,
          -1.770526293818149,
          null,
          1.0604274393803377,
          0.43899857111725515,
          0.16280796300032965,
          -0.7348115133796783,
          -0.7348115133796783,
          -1.8395739458473803,
          0.8532844832926435,
          -0.3895732532335214,
          -0.11338264511659585,
          null,
          0.30090326705879245,
          -0.8038591654089097,
          -1.9086215978766117,
          0.16280796300032965,
          -0.3895732532335214,
          0.3699509190880238,
          -0.5276685572919841,
          0.024712658941866906,
          -0.18243029714582723,
          0.8532844832926435,
          0.024712658941866906,
          -0.9419544694673724,
          -0.18243029714582723,
          1.4747133515557258,
          null,
          0.577093875175718,
          -0.5276685572919841,
          -0.7348115133796783,
          -0.6312400353358312,
          -0.8038591654089097,
          null,
          0.3699509190880238,
          -0.04433499308736447,
          2.027094567789577,
          -1.7014786417889176,
          -0.3895732532335214,
          null,
          0.9913797873511062,
          -1.4943356857012233,
          -0.7348115133796783,
          0.23185561502956104,
          -0.04433499308736447,
          -0.5276685572919841,
          -0.32052560120428997,
          -0.3895732532335214,
          0.5080462231464865,
          1.68185630764342,
          null,
          -0.04433499308736447,
          2.234237523877271,
          0.024712658941866906,
          0.784236831263412,
          0.024712658941866906,
          1.4056656995264944,
          -1.8395739458473803,
          1.5437610035849572,
          0.7151891792341807,
          0.43899857111725515,
          -0.9419544694673724,
          -0.32052560120428997,
          1.9580469157603455,
          0.3699509190880238,
          null,
          -0.32052560120428997,
          0.784236831263412,
          2.3032851759065025,
          1.0604274393803377,
          null,
          0.3699509190880238,
          -0.11338264511659585,
          -0.9419544694673724,
          -0.7348115133796783,
          null,
          0.024712658941866906,
          -0.5276685572919841,
          0.8532844832926435,
          -0.2514779491750586,
          -0.3895732532335214,
          -0.3895732532335214,
          -1.9086215978766117,
          null,
          -0.7348115133796783,
          null,
          -1.9831930620681815,
          -0.2514779491750586,
          -0.11338264511659585,
          0.9223321353218749,
          -0.2514779491750586,
          -0.3895732532335214,
          1.68185630764342,
          0.09376031097109828,
          -0.5276685572919841,
          -0.18243029714582723,
          -0.5276685572919841,
          null,
          2.16518987184804,
          0.43899857111725515,
          0.09376031097109828,
          1.0949512653949534,
          0.577093875175718,
          -0.9419544694673724,
          null,
          null,
          -0.04433499308736447,
          1.0604274393803377,
          1.0604274393803377,
          -1.9086215978766117,
          -0.3895732532335214,
          -0.11338264511659585,
          -0.32052560120428997,
          0.43899857111725515,
          -0.3895732532335214,
          0.7151891792341807,
          null,
          -1.8395739458473803,
          0.8532844832926435,
          -0.45862090526275273,
          null,
          -0.32052560120428997,
          -0.11338264511659585,
          -0.5276685572919841,
          0.577093875175718,
          0.7151891792341807,
          0.3699509190880238,
          0.024712658941866906,
          -0.8038591654089097,
          -0.7348115133796783,
          -1.8395739458473803,
          -0.5276685572919841,
          -0.7348115133796783,
          0.16280796300032965,
          0.3699509190880238,
          null,
          -0.8038591654089097,
          -1.977669249905843,
          0.43899857111725515,
          0.43899857111725515,
          -0.5967162093212155,
          -0.11338264511659585,
          -0.3895732532335214,
          -0.5276685572919841,
          0.09376031097109828,
          1.129475091409569,
          -0.45862090526275273,
          -0.11338264511659585,
          0.6461415272049493,
          -0.2514779491750586,
          -0.5967162093212155,
          -0.11338264511659585,
          -0.6657638613504469,
          0.30090326705879245,
          1.4747133515557258,
          -1.8395739458473803,
          -0.5967162093212155,
          null,
          null,
          null,
          0.9913797873511062,
          null,
          0.30090326705879245,
          -0.8038591654089097,
          0.024712658941866906,
          -1.3562403816427606,
          -0.04433499308736447,
          -0.11338264511659585,
          -0.8038591654089097,
          null,
          -0.11338264511659585,
          -0.7348115133796783,
          0.16280796300032965,
          -0.11338264511659585,
          null,
          0.8532844832926435,
          -0.872906817438141,
          1.4056656995264944,
          -1.0800497735258352,
          -0.5967162093212155,
          -0.3895732532335214,
          2.372332827935734,
          0.09376031097109828,
          1.0604274393803377,
          -0.6657638613504469,
          -0.32052560120428997,
          -0.11338264511659585,
          null,
          -1.770526293818149,
          -1.1490974255550666,
          0.30090326705879245,
          1.5437610035849572,
          0.43899857111725515,
          null,
          null,
          2.441380479964965,
          null,
          1.4056656995264944,
          1.2675703954680317,
          0.30090326705879245,
          1.1985227434388004,
          1.2675703954680317,
          null,
          0.577093875175718,
          null,
          1.8199516117018828,
          null,
          0.577093875175718,
          0.23185561502956104,
          -0.5276685572919841,
          null,
          0.30090326705879245,
          -0.04433499308736447,
          -0.5276685572919841,
          -1.9086215978766117,
          -1.425288033671992,
          null,
          1.4056656995264944,
          2.3032851759065025,
          null,
          0.3699509190880238,
          0.024712658941866906,
          -1.425288033671992,
          null,
          -0.5967162093212155,
          1.7509039596726514,
          -0.5967162093212155,
          null,
          -0.32052560120428997,
          -0.3895732532335214,
          -0.872906817438141,
          0.5080462231464865,
          -0.9419544694673724,
          0.23185561502956104,
          null,
          -0.11338264511659585,
          -0.2514779491750586,
          null,
          0.43899857111725515,
          -0.3895732532335214,
          1.1985227434388004,
          0.30090326705879245,
          0.43899857111725515,
          0.16280796300032965,
          0.024712658941866906,
          -0.5276685572919841,
          1.4056656995264944,
          null,
          0.6461415272049493,
          -0.45862090526275273,
          -1.9086215978766117,
          0.024712658941866906,
          -1.563383337730455,
          1.0604274393803377,
          null,
          0.43899857111725515,
          -1.425288033671992,
          -1.2871927296135293,
          0.16280796300032965,
          2.372332827935734,
          -0.7348115133796783,
          0.23185561502956104,
          -1.4943356857012233,
          -0.18243029714582723,
          -0.5276685572919841,
          2.234237523877271,
          0.6461415272049493,
          0.43899857111725515,
          0.7151891792341807,
          -0.11338264511659585,
          null,
          null,
          -0.3895732532335214,
          -0.7348115133796783,
          -0.04433499308736447,
          0.16280796300032965,
          2.234237523877271,
          1.6128086556141885,
          0.43899857111725515,
          -0.9419544694673724,
          -0.7348115133796783,
          0.30090326705879245,
          0.6461415272049493,
          0.16280796300032965,
          -0.32052560120428997,
          1.68185630764342,
          -0.8038591654089097,
          1.1985227434388004,
          -0.5276685572919841,
          null,
          0.3699509190880238,
          1.1985227434388004,
          0.5080462231464865,
          0.43899857111725515,
          null,
          1.336618047497263,
          -0.3895732532335214,
          null,
          null,
          0.9913797873511062,
          0.43899857111725515,
          0.024712658941866906,
          -0.18243029714582723,
          0.7151891792341807,
          0.6461415272049493,
          null,
          0.3699509190880238,
          -0.3895732532335214,
          0.30090326705879245,
          -0.2514779491750586,
          -1.770526293818149,
          -0.2514779491750586,
          0.8532844832926435,
          -0.5967162093212155,
          -0.5967162093212155,
          2.16518987184804,
          -0.5967162093212155,
          -0.2514779491750586,
          3.477095260403436,
          1.4747133515557258,
          null,
          -1.425288033671992,
          -0.11338264511659585,
          0.16280796300032965,
          0.09376031097109828,
          0.784236831263412,
          null,
          -0.6657638613504469,
          -1.9086215978766117,
          null,
          -0.7348115133796783,
          null,
          -0.45862090526275273,
          null,
          -0.8038591654089097,
          -0.5967162093212155,
          -0.3895732532335214,
          null,
          -0.45862090526275273,
          1.4056656995264944,
          1.1985227434388004,
          0.43899857111725515,
          -0.6657638613504469,
          0.16280796300032965,
          -0.32052560120428997,
          null,
          0.9223321353218749,
          null,
          0.7151891792341807,
          0.09376031097109828,
          2.7866187401111224,
          0.09376031097109828,
          null,
          -0.8038591654089097,
          -0.3550494272189057,
          -0.8038591654089097,
          0.9223321353218749,
          -0.6657638613504469,
          -1.0800497735258352,
          2.0961422198188084,
          -1.0800497735258352,
          -0.7348115133796783,
          -0.8038591654089097,
          -1.0110021214966038,
          0.09376031097109828,
          null,
          2.0961422198188084,
          1.5437610035849572,
          0.9913797873511062,
          0.8532844832926435,
          0.3699509190880238,
          -0.2514779491750586,
          0.6461415272049493,
          1.0604274393803377,
          0.8532844832926435,
          -0.5276685572919841,
          null,
          1.2675703954680317,
          -0.04433499308736447,
          1.5437610035849572,
          -0.7348115133796783,
          -0.18243029714582723,
          0.23185561502956104,
          -1.6324309897596863,
          -0.872906817438141,
          0.30090326705879245,
          1.4056656995264944,
          -0.18243029714582723,
          -0.6657638613504469,
          0.024712658941866906,
          -0.32052560120428997,
          -0.32052560120428997,
          -0.04433499308736447,
          null,
          -0.45862090526275273,
          -0.45862090526275273,
          -0.07885881910198016,
          1.2675703954680317,
          null,
          null,
          null,
          0.43899857111725515,
          -0.3895732532335214,
          0.09376031097109828,
          2.7866187401111224,
          -0.9419544694673724,
          0.024712658941866906,
          -0.7348115133796783,
          -1.770526293818149,
          -1.6324309897596863,
          0.23185561502956104,
          -0.45862090526275273,
          1.2675703954680317,
          -2.000454975075489,
          -0.11338264511659585,
          -0.8038591654089097,
          0.30090326705879245,
          0.23185561502956104,
          null,
          0.784236831263412,
          0.43899857111725515,
          -0.9419544694673724,
          1.4747133515557258,
          0.16280796300032965,
          -0.3895732532335214,
          1.2675703954680317,
          1.8889992637311142,
          1.68185630764342,
          -0.8038591654089097,
          -1.7014786417889176,
          0.9223321353218749,
          -0.872906817438141,
          -0.04433499308736447,
          null,
          -0.32052560120428997,
          -0.32052560120428997,
          -0.8038591654089097,
          -1.977669249905843,
          -0.9419544694673724,
          null,
          -0.32052560120428997,
          0.6461415272049493,
          1.336618047497263,
          0.09376031097109828,
          0.024712658941866906,
          0.30090326705879245,
          0.09376031097109828,
          -1.2871927296135293,
          -0.18243029714582723,
          0.09376031097109828,
          0.6461415272049493,
          -0.8038591654089097,
          0.6461415272049493,
          0.23185561502956104,
          -0.2514779491750586,
          0.6461415272049493,
          0.3699509190880238,
          -1.6324309897596863,
          0.059236484956482593,
          null,
          -0.45862090526275273,
          0.9223321353218749,
          -1.3562403816427606,
          1.5437610035849572,
          -0.18243029714582723,
          0.577093875175718,
          -0.18243029714582723,
          -1.9086215978766117,
          null,
          -1.9894073507508125,
          -0.45862090526275273,
          -0.8038591654089097,
          -0.5967162093212155,
          null,
          0.16280796300032965,
          -0.6657638613504469,
          -0.9419544694673724,
          -0.872906817438141,
          0.8532844832926435,
          null,
          -0.11338264511659585,
          -1.770526293818149,
          3.062809348228048,
          -0.9419544694673724,
          0.9913797873511062,
          -0.8038591654089097,
          1.0604274393803377,
          1.4747133515557258,
          0.784236831263412,
          -0.5967162093212155,
          1.2675703954680317,
          null,
          -0.3895732532335214,
          0.8532844832926435,
          0.09376031097109828,
          null,
          -1.770526293818149,
          -0.2514779491750586,
          1.1985227434388004,
          0.23185561502956104,
          1.1985227434388004,
          -0.6657638613504469,
          -0.7348115133796783,
          null,
          -0.32052560120428997,
          0.23185561502956104,
          -0.5276685572919841,
          -0.11338264511659585,
          -0.32052560120428997,
          -0.18243029714582723,
          -0.7348115133796783,
          null
         ]
        }
       ],
       "layout": {
        "template": {
         "data": {
          "bar": [
           {
            "error_x": {
             "color": "#2a3f5f"
            },
            "error_y": {
             "color": "#2a3f5f"
            },
            "marker": {
             "line": {
              "color": "#E5ECF6",
              "width": 0.5
             }
            },
            "type": "bar"
           }
          ],
          "barpolar": [
           {
            "marker": {
             "line": {
              "color": "#E5ECF6",
              "width": 0.5
             }
            },
            "type": "barpolar"
           }
          ],
          "carpet": [
           {
            "aaxis": {
             "endlinecolor": "#2a3f5f",
             "gridcolor": "white",
             "linecolor": "white",
             "minorgridcolor": "white",
             "startlinecolor": "#2a3f5f"
            },
            "baxis": {
             "endlinecolor": "#2a3f5f",
             "gridcolor": "white",
             "linecolor": "white",
             "minorgridcolor": "white",
             "startlinecolor": "#2a3f5f"
            },
            "type": "carpet"
           }
          ],
          "choropleth": [
           {
            "colorbar": {
             "outlinewidth": 0,
             "ticks": ""
            },
            "type": "choropleth"
           }
          ],
          "contour": [
           {
            "colorbar": {
             "outlinewidth": 0,
             "ticks": ""
            },
            "colorscale": [
             [
              0,
              "#0d0887"
             ],
             [
              0.1111111111111111,
              "#46039f"
             ],
             [
              0.2222222222222222,
              "#7201a8"
             ],
             [
              0.3333333333333333,
              "#9c179e"
             ],
             [
              0.4444444444444444,
              "#bd3786"
             ],
             [
              0.5555555555555556,
              "#d8576b"
             ],
             [
              0.6666666666666666,
              "#ed7953"
             ],
             [
              0.7777777777777778,
              "#fb9f3a"
             ],
             [
              0.8888888888888888,
              "#fdca26"
             ],
             [
              1,
              "#f0f921"
             ]
            ],
            "type": "contour"
           }
          ],
          "contourcarpet": [
           {
            "colorbar": {
             "outlinewidth": 0,
             "ticks": ""
            },
            "type": "contourcarpet"
           }
          ],
          "heatmap": [
           {
            "colorbar": {
             "outlinewidth": 0,
             "ticks": ""
            },
            "colorscale": [
             [
              0,
              "#0d0887"
             ],
             [
              0.1111111111111111,
              "#46039f"
             ],
             [
              0.2222222222222222,
              "#7201a8"
             ],
             [
              0.3333333333333333,
              "#9c179e"
             ],
             [
              0.4444444444444444,
              "#bd3786"
             ],
             [
              0.5555555555555556,
              "#d8576b"
             ],
             [
              0.6666666666666666,
              "#ed7953"
             ],
             [
              0.7777777777777778,
              "#fb9f3a"
             ],
             [
              0.8888888888888888,
              "#fdca26"
             ],
             [
              1,
              "#f0f921"
             ]
            ],
            "type": "heatmap"
           }
          ],
          "heatmapgl": [
           {
            "colorbar": {
             "outlinewidth": 0,
             "ticks": ""
            },
            "colorscale": [
             [
              0,
              "#0d0887"
             ],
             [
              0.1111111111111111,
              "#46039f"
             ],
             [
              0.2222222222222222,
              "#7201a8"
             ],
             [
              0.3333333333333333,
              "#9c179e"
             ],
             [
              0.4444444444444444,
              "#bd3786"
             ],
             [
              0.5555555555555556,
              "#d8576b"
             ],
             [
              0.6666666666666666,
              "#ed7953"
             ],
             [
              0.7777777777777778,
              "#fb9f3a"
             ],
             [
              0.8888888888888888,
              "#fdca26"
             ],
             [
              1,
              "#f0f921"
             ]
            ],
            "type": "heatmapgl"
           }
          ],
          "histogram": [
           {
            "marker": {
             "colorbar": {
              "outlinewidth": 0,
              "ticks": ""
             }
            },
            "type": "histogram"
           }
          ],
          "histogram2d": [
           {
            "colorbar": {
             "outlinewidth": 0,
             "ticks": ""
            },
            "colorscale": [
             [
              0,
              "#0d0887"
             ],
             [
              0.1111111111111111,
              "#46039f"
             ],
             [
              0.2222222222222222,
              "#7201a8"
             ],
             [
              0.3333333333333333,
              "#9c179e"
             ],
             [
              0.4444444444444444,
              "#bd3786"
             ],
             [
              0.5555555555555556,
              "#d8576b"
             ],
             [
              0.6666666666666666,
              "#ed7953"
             ],
             [
              0.7777777777777778,
              "#fb9f3a"
             ],
             [
              0.8888888888888888,
              "#fdca26"
             ],
             [
              1,
              "#f0f921"
             ]
            ],
            "type": "histogram2d"
           }
          ],
          "histogram2dcontour": [
           {
            "colorbar": {
             "outlinewidth": 0,
             "ticks": ""
            },
            "colorscale": [
             [
              0,
              "#0d0887"
             ],
             [
              0.1111111111111111,
              "#46039f"
             ],
             [
              0.2222222222222222,
              "#7201a8"
             ],
             [
              0.3333333333333333,
              "#9c179e"
             ],
             [
              0.4444444444444444,
              "#bd3786"
             ],
             [
              0.5555555555555556,
              "#d8576b"
             ],
             [
              0.6666666666666666,
              "#ed7953"
             ],
             [
              0.7777777777777778,
              "#fb9f3a"
             ],
             [
              0.8888888888888888,
              "#fdca26"
             ],
             [
              1,
              "#f0f921"
             ]
            ],
            "type": "histogram2dcontour"
           }
          ],
          "mesh3d": [
           {
            "colorbar": {
             "outlinewidth": 0,
             "ticks": ""
            },
            "type": "mesh3d"
           }
          ],
          "parcoords": [
           {
            "line": {
             "colorbar": {
              "outlinewidth": 0,
              "ticks": ""
             }
            },
            "type": "parcoords"
           }
          ],
          "pie": [
           {
            "automargin": true,
            "type": "pie"
           }
          ],
          "scatter": [
           {
            "marker": {
             "colorbar": {
              "outlinewidth": 0,
              "ticks": ""
             }
            },
            "type": "scatter"
           }
          ],
          "scatter3d": [
           {
            "line": {
             "colorbar": {
              "outlinewidth": 0,
              "ticks": ""
             }
            },
            "marker": {
             "colorbar": {
              "outlinewidth": 0,
              "ticks": ""
             }
            },
            "type": "scatter3d"
           }
          ],
          "scattercarpet": [
           {
            "marker": {
             "colorbar": {
              "outlinewidth": 0,
              "ticks": ""
             }
            },
            "type": "scattercarpet"
           }
          ],
          "scattergeo": [
           {
            "marker": {
             "colorbar": {
              "outlinewidth": 0,
              "ticks": ""
             }
            },
            "type": "scattergeo"
           }
          ],
          "scattergl": [
           {
            "marker": {
             "colorbar": {
              "outlinewidth": 0,
              "ticks": ""
             }
            },
            "type": "scattergl"
           }
          ],
          "scattermapbox": [
           {
            "marker": {
             "colorbar": {
              "outlinewidth": 0,
              "ticks": ""
             }
            },
            "type": "scattermapbox"
           }
          ],
          "scatterpolar": [
           {
            "marker": {
             "colorbar": {
              "outlinewidth": 0,
              "ticks": ""
             }
            },
            "type": "scatterpolar"
           }
          ],
          "scatterpolargl": [
           {
            "marker": {
             "colorbar": {
              "outlinewidth": 0,
              "ticks": ""
             }
            },
            "type": "scatterpolargl"
           }
          ],
          "scatterternary": [
           {
            "marker": {
             "colorbar": {
              "outlinewidth": 0,
              "ticks": ""
             }
            },
            "type": "scatterternary"
           }
          ],
          "surface": [
           {
            "colorbar": {
             "outlinewidth": 0,
             "ticks": ""
            },
            "colorscale": [
             [
              0,
              "#0d0887"
             ],
             [
              0.1111111111111111,
              "#46039f"
             ],
             [
              0.2222222222222222,
              "#7201a8"
             ],
             [
              0.3333333333333333,
              "#9c179e"
             ],
             [
              0.4444444444444444,
              "#bd3786"
             ],
             [
              0.5555555555555556,
              "#d8576b"
             ],
             [
              0.6666666666666666,
              "#ed7953"
             ],
             [
              0.7777777777777778,
              "#fb9f3a"
             ],
             [
              0.8888888888888888,
              "#fdca26"
             ],
             [
              1,
              "#f0f921"
             ]
            ],
            "type": "surface"
           }
          ],
          "table": [
           {
            "cells": {
             "fill": {
              "color": "#EBF0F8"
             },
             "line": {
              "color": "white"
             }
            },
            "header": {
             "fill": {
              "color": "#C8D4E3"
             },
             "line": {
              "color": "white"
             }
            },
            "type": "table"
           }
          ]
         },
         "layout": {
          "annotationdefaults": {
           "arrowcolor": "#2a3f5f",
           "arrowhead": 0,
           "arrowwidth": 1
          },
          "coloraxis": {
           "colorbar": {
            "outlinewidth": 0,
            "ticks": ""
           }
          },
          "colorscale": {
           "diverging": [
            [
             0,
             "#8e0152"
            ],
            [
             0.1,
             "#c51b7d"
            ],
            [
             0.2,
             "#de77ae"
            ],
            [
             0.3,
             "#f1b6da"
            ],
            [
             0.4,
             "#fde0ef"
            ],
            [
             0.5,
             "#f7f7f7"
            ],
            [
             0.6,
             "#e6f5d0"
            ],
            [
             0.7,
             "#b8e186"
            ],
            [
             0.8,
             "#7fbc41"
            ],
            [
             0.9,
             "#4d9221"
            ],
            [
             1,
             "#276419"
            ]
           ],
           "sequential": [
            [
             0,
             "#0d0887"
            ],
            [
             0.1111111111111111,
             "#46039f"
            ],
            [
             0.2222222222222222,
             "#7201a8"
            ],
            [
             0.3333333333333333,
             "#9c179e"
            ],
            [
             0.4444444444444444,
             "#bd3786"
            ],
            [
             0.5555555555555556,
             "#d8576b"
            ],
            [
             0.6666666666666666,
             "#ed7953"
            ],
            [
             0.7777777777777778,
             "#fb9f3a"
            ],
            [
             0.8888888888888888,
             "#fdca26"
            ],
            [
             1,
             "#f0f921"
            ]
           ],
           "sequentialminus": [
            [
             0,
             "#0d0887"
            ],
            [
             0.1111111111111111,
             "#46039f"
            ],
            [
             0.2222222222222222,
             "#7201a8"
            ],
            [
             0.3333333333333333,
             "#9c179e"
            ],
            [
             0.4444444444444444,
             "#bd3786"
            ],
            [
             0.5555555555555556,
             "#d8576b"
            ],
            [
             0.6666666666666666,
             "#ed7953"
            ],
            [
             0.7777777777777778,
             "#fb9f3a"
            ],
            [
             0.8888888888888888,
             "#fdca26"
            ],
            [
             1,
             "#f0f921"
            ]
           ]
          },
          "colorway": [
           "#636efa",
           "#EF553B",
           "#00cc96",
           "#ab63fa",
           "#FFA15A",
           "#19d3f3",
           "#FF6692",
           "#B6E880",
           "#FF97FF",
           "#FECB52"
          ],
          "font": {
           "color": "#2a3f5f"
          },
          "geo": {
           "bgcolor": "white",
           "lakecolor": "white",
           "landcolor": "#E5ECF6",
           "showlakes": true,
           "showland": true,
           "subunitcolor": "white"
          },
          "hoverlabel": {
           "align": "left"
          },
          "hovermode": "closest",
          "mapbox": {
           "style": "light"
          },
          "paper_bgcolor": "white",
          "plot_bgcolor": "#E5ECF6",
          "polar": {
           "angularaxis": {
            "gridcolor": "white",
            "linecolor": "white",
            "ticks": ""
           },
           "bgcolor": "#E5ECF6",
           "radialaxis": {
            "gridcolor": "white",
            "linecolor": "white",
            "ticks": ""
           }
          },
          "scene": {
           "xaxis": {
            "backgroundcolor": "#E5ECF6",
            "gridcolor": "white",
            "gridwidth": 2,
            "linecolor": "white",
            "showbackground": true,
            "ticks": "",
            "zerolinecolor": "white"
           },
           "yaxis": {
            "backgroundcolor": "#E5ECF6",
            "gridcolor": "white",
            "gridwidth": 2,
            "linecolor": "white",
            "showbackground": true,
            "ticks": "",
            "zerolinecolor": "white"
           },
           "zaxis": {
            "backgroundcolor": "#E5ECF6",
            "gridcolor": "white",
            "gridwidth": 2,
            "linecolor": "white",
            "showbackground": true,
            "ticks": "",
            "zerolinecolor": "white"
           }
          },
          "shapedefaults": {
           "line": {
            "color": "#2a3f5f"
           }
          },
          "ternary": {
           "aaxis": {
            "gridcolor": "white",
            "linecolor": "white",
            "ticks": ""
           },
           "baxis": {
            "gridcolor": "white",
            "linecolor": "white",
            "ticks": ""
           },
           "bgcolor": "#E5ECF6",
           "caxis": {
            "gridcolor": "white",
            "linecolor": "white",
            "ticks": ""
           }
          },
          "title": {
           "x": 0.05
          },
          "xaxis": {
           "automargin": true,
           "gridcolor": "white",
           "linecolor": "white",
           "ticks": "",
           "title": {
            "standoff": 15
           },
           "zerolinecolor": "white",
           "zerolinewidth": 2
          },
          "yaxis": {
           "automargin": true,
           "gridcolor": "white",
           "linecolor": "white",
           "ticks": "",
           "title": {
            "standoff": 15
           },
           "zerolinecolor": "white",
           "zerolinewidth": 2
          }
         }
        },
        "title": {
         "text": "Age amongst Embark Points"
        }
       }
      },
      "text/html": [
       "<div>\n",
       "        \n",
       "        \n",
       "            <div id=\"60d15c74-dfc1-497e-8e9b-364c20ab859e\" class=\"plotly-graph-div\" style=\"height:525px; width:100%;\"></div>\n",
       "            <script type=\"text/javascript\">\n",
       "                require([\"plotly\"], function(Plotly) {\n",
       "                    window.PLOTLYENV=window.PLOTLYENV || {};\n",
       "                    \n",
       "                if (document.getElementById(\"60d15c74-dfc1-497e-8e9b-364c20ab859e\")) {\n",
       "                    Plotly.newPlot(\n",
       "                        '60d15c74-dfc1-497e-8e9b-364c20ab859e',\n",
       "                        [{\"name\": \"Cherbourg\", \"type\": \"box\", \"y\": [0.577093875175718, -1.0800497735258352, null, null, 0.7151891792341807, null, -0.11338264511659585, null, -1.0800497735258352, null, -1.8395739458473803, null, 1.336618047497263, 2.441380479964965, -0.07885881910198016, -0.5276685572919841, null, null, -0.2514779491750586, 2.855666392140354, -0.45862090526275273, -1.0455259475112195, -0.872906817438141, -0.3895732532335214, 0.19733178901494536, -1.218145077584298, null, 0.23185561502956104, -0.45862090526275273, -0.3895732532335214, null, 1.4747133515557258, 1.8199516117018828, 1.4056656995264944, null, 0.9913797873511062, 1.9580469157603455, 1.0949512653949534, -0.2514779491750586, 0.7151891792341807, 0.09376031097109828, 0.16280796300032965, null, 0.024712658941866906, -0.04433499308736447, null, 0.3699509190880238, 0.5080462231464865, 0.23185561502956104, -0.7348115133796783, 0.43899857111725515, null, -0.42409707924813705, 1.4056656995264944, null, -0.872906817438141, 0.024712658941866906, 0.024712658941866906, -0.3895732532335214, -0.8038591654089097, 0.7151891792341807, 0.43899857111725515, -0.9419544694673724, 0.784236831263412, -1.0110021214966038, null, -0.04433499308736447, 1.0604274393803377, 2.0961422198188084, null, -0.3895732532335214, -0.32052560120428997, -0.5276685572919841, null, -0.18243029714582723, -0.6657638613504469, 0.8532844832926435, -1.977669249905843, -0.872906817438141, -0.45862090526275273, null, -1.7014786417889176, 0.024712658941866906, 1.336618047497263, -0.04433499308736447, -1.994931162913151, -0.45862090526275273, -0.32052560120428997, 1.9580469157603455, 2.855666392140354, null, 1.68185630764342, -0.8038591654089097, 1.68185630764342, null, 0.9913797873511062, null, null, -0.872906817438141, null, 0.024712658941866906, -0.5276685572919841, 1.4056656995264944, null, -0.872906817438141, -0.5276685572919841, 1.2675703954680317, null, null, null, 0.6461415272049493, 0.43899857111725515, null, 2.0961422198188084, 1.5437610035849572, null, 1.336618047497263, 0.3699509190880238, -0.5276685572919841, -0.18243029714582723, -0.6657638613504469, 0.16280796300032965, -0.3895732532335214, -1.994931162913151, 1.2675703954680317, 1.8199516117018828, 1.9580469157603455, 0.7151891792341807, 0.43899857111725515, -0.18243029714582723, -0.32052560120428997, -1.770526293818149, -0.32052560120428997, 1.336618047497263, -0.8038591654089097, -0.8038591654089097, null, -0.3895732532335214, 0.577093875175718, -1.2871927296135293, 0.3699509190880238, -0.5967162093212155, -0.6657638613504469, null, null, -1.1490974255550666, 1.129475091409569, null, 0.024712658941866906, -2.017716888082797, 0.09376031097109828, -1.977669249905843, -1.0110021214966038, null, 0.6461415272049493, null, 0.024712658941866906, 0.3354270930734081, 0.3699509190880238, null, -1.425288033671992, -0.3895732532335214, null, -0.18243029714582723, -0.11338264511659585, -1.0110021214966038, 1.8199516117018828, -0.2514779491750586]}, {\"name\": \"Queenstown\", \"type\": \"box\", \"y\": [null, -1.9086215978766117, -1.0110021214966038, null, null, -0.7348115133796783, null, null, null, null, 2.821142566125738, null, -0.7348115133796783, -0.9419544694673724, -1.770526293818149, null, 0.7151891792341807, null, null, -0.9419544694673724, null, null, 0.9913797873511062, null, null, null, -1.563383337730455, 2.441380479964965, -0.5276685572919841, null, null, null, 0.024712658941866906, null, null, null, null, null, null, null, 0.23185561502956104, -0.5967162093212155, null, null, null, -0.5967162093212155, null, -0.04433499308736447, null, 0.7497130052487964, null, null, null, null, null, null, 1.8889992637311142, null, null, -0.8038591654089097, 0.16280796300032965, null, null, -0.32052560120428997, null, null, 0.09376031097109828, 0.059236484956482593, null, null, null, -1.4943356857012233, null, null, null, 0.6461415272049493, 0.16280796300032965]}, {\"name\": \"Southampton\", \"type\": \"box\", \"y\": [-0.5276685572919841, -0.2514779491750586, 0.3699509190880238, 0.3699509190880238, 1.68185630764342, -1.9086215978766117, -0.18243029714582723, -1.770526293818149, 1.9580469157603455, -0.6657638613504469, 0.6461415272049493, -1.0800497735258352, 1.7509039596726514, null, 0.09376031097109828, 0.3699509190880238, 0.30090326705879245, -0.11338264511659585, -1.4943356857012233, 0.577093875175718, -0.7348115133796783, null, 2.510428131994197, 0.8532844832926435, -0.5967162093212155, -0.8038591654089097, 0.7151891792341807, -0.18243029714582723, null, -0.8038591654089097, -1.563383337730455, -0.5967162093212155, -0.04433499308736447, null, -0.5967162093212155, -1.7014786417889176, -1.2871927296135293, 1.0604274393803377, -1.770526293818149, -0.04433499308736447, -0.7348115133796783, -0.872906817438141, -0.2514779491750586, 0.16280796300032965, -0.9419544694673724, -0.5967162093212155, 0.16280796300032965, -0.32052560120428997, null, null, -1.9894073507508125, 0.024712658941866906, -0.5276685572919841, -0.04433499308736447, -0.11338264511659585, -0.872906817438141, 0.23185561502956104, -0.9419544694673724, null, -0.45862090526275273, -0.3895732532335214, -0.04433499308736447, -0.6657638613504469, 1.129475091409569, -0.2514779491750586, 2.027094567789577, null, 0.30090326705879245, 0.30090326705879245, -0.11338264511659585, null, -0.5967162093212155, 0.23185561502956104, 0.5080462231464865, -0.11338264511659585, -0.5967162093212155, null, 0.577093875175718, 1.1985227434388004, -0.5276685572919841, -0.6657638613504469, -0.5967162093212155, -0.04433499308736447, -1.9086215978766117, -0.5967162093212155, null, 0.19733178901494536, 1.68185630764342, -0.3895732532335214, 1.0604274393803377, -0.6657638613504469, 1.1985227434388004, -0.04433499308736447, -0.32052560120428997, -0.7348115133796783, 0.5080462231464865, -0.9419544694673724, -0.5276685572919841, -0.3895732532335214, -0.8038591654089097, -0.7348115133796783, -0.18243029714582723, -1.425288033671992, 0.4735223971318709, 0.8532844832926435, 1.4747133515557258, -0.5276685572919841, 1.7854277856872671, 0.7497130052487964, null, 0.024712658941866906, null, null, 0.9913797873511062, 0.7151891792341807, -0.2514779491750586, -0.872906817438141, -1.977669249905843, -1.425288033671992, null, 1.0604274393803377, null, -0.11338264511659585, 2.16518987184804, -1.977669249905843, -0.5967162093212155, -0.8038591654089097, null, 0.024712658941866906, 0.43899857111725515, null, -1.425288033671992, -1.977669249905843, -1.770526293818149, null, 1.0604274393803377, 0.43899857111725515, 0.16280796300032965, -0.7348115133796783, -0.7348115133796783, -1.8395739458473803, 0.8532844832926435, -0.3895732532335214, -0.11338264511659585, null, 0.30090326705879245, -0.8038591654089097, -1.9086215978766117, 0.16280796300032965, -0.3895732532335214, 0.3699509190880238, -0.5276685572919841, 0.024712658941866906, -0.18243029714582723, 0.8532844832926435, 0.024712658941866906, -0.9419544694673724, -0.18243029714582723, 1.4747133515557258, null, 0.577093875175718, -0.5276685572919841, -0.7348115133796783, -0.6312400353358312, -0.8038591654089097, null, 0.3699509190880238, -0.04433499308736447, 2.027094567789577, -1.7014786417889176, -0.3895732532335214, null, 0.9913797873511062, -1.4943356857012233, -0.7348115133796783, 0.23185561502956104, -0.04433499308736447, -0.5276685572919841, -0.32052560120428997, -0.3895732532335214, 0.5080462231464865, 1.68185630764342, null, -0.04433499308736447, 2.234237523877271, 0.024712658941866906, 0.784236831263412, 0.024712658941866906, 1.4056656995264944, -1.8395739458473803, 1.5437610035849572, 0.7151891792341807, 0.43899857111725515, -0.9419544694673724, -0.32052560120428997, 1.9580469157603455, 0.3699509190880238, null, -0.32052560120428997, 0.784236831263412, 2.3032851759065025, 1.0604274393803377, null, 0.3699509190880238, -0.11338264511659585, -0.9419544694673724, -0.7348115133796783, null, 0.024712658941866906, -0.5276685572919841, 0.8532844832926435, -0.2514779491750586, -0.3895732532335214, -0.3895732532335214, -1.9086215978766117, null, -0.7348115133796783, null, -1.9831930620681815, -0.2514779491750586, -0.11338264511659585, 0.9223321353218749, -0.2514779491750586, -0.3895732532335214, 1.68185630764342, 0.09376031097109828, -0.5276685572919841, -0.18243029714582723, -0.5276685572919841, null, 2.16518987184804, 0.43899857111725515, 0.09376031097109828, 1.0949512653949534, 0.577093875175718, -0.9419544694673724, null, null, -0.04433499308736447, 1.0604274393803377, 1.0604274393803377, -1.9086215978766117, -0.3895732532335214, -0.11338264511659585, -0.32052560120428997, 0.43899857111725515, -0.3895732532335214, 0.7151891792341807, null, -1.8395739458473803, 0.8532844832926435, -0.45862090526275273, null, -0.32052560120428997, -0.11338264511659585, -0.5276685572919841, 0.577093875175718, 0.7151891792341807, 0.3699509190880238, 0.024712658941866906, -0.8038591654089097, -0.7348115133796783, -1.8395739458473803, -0.5276685572919841, -0.7348115133796783, 0.16280796300032965, 0.3699509190880238, null, -0.8038591654089097, -1.977669249905843, 0.43899857111725515, 0.43899857111725515, -0.5967162093212155, -0.11338264511659585, -0.3895732532335214, -0.5276685572919841, 0.09376031097109828, 1.129475091409569, -0.45862090526275273, -0.11338264511659585, 0.6461415272049493, -0.2514779491750586, -0.5967162093212155, -0.11338264511659585, -0.6657638613504469, 0.30090326705879245, 1.4747133515557258, -1.8395739458473803, -0.5967162093212155, null, null, null, 0.9913797873511062, null, 0.30090326705879245, -0.8038591654089097, 0.024712658941866906, -1.3562403816427606, -0.04433499308736447, -0.11338264511659585, -0.8038591654089097, null, -0.11338264511659585, -0.7348115133796783, 0.16280796300032965, -0.11338264511659585, null, 0.8532844832926435, -0.872906817438141, 1.4056656995264944, -1.0800497735258352, -0.5967162093212155, -0.3895732532335214, 2.372332827935734, 0.09376031097109828, 1.0604274393803377, -0.6657638613504469, -0.32052560120428997, -0.11338264511659585, null, -1.770526293818149, -1.1490974255550666, 0.30090326705879245, 1.5437610035849572, 0.43899857111725515, null, null, 2.441380479964965, null, 1.4056656995264944, 1.2675703954680317, 0.30090326705879245, 1.1985227434388004, 1.2675703954680317, null, 0.577093875175718, null, 1.8199516117018828, null, 0.577093875175718, 0.23185561502956104, -0.5276685572919841, null, 0.30090326705879245, -0.04433499308736447, -0.5276685572919841, -1.9086215978766117, -1.425288033671992, null, 1.4056656995264944, 2.3032851759065025, null, 0.3699509190880238, 0.024712658941866906, -1.425288033671992, null, -0.5967162093212155, 1.7509039596726514, -0.5967162093212155, null, -0.32052560120428997, -0.3895732532335214, -0.872906817438141, 0.5080462231464865, -0.9419544694673724, 0.23185561502956104, null, -0.11338264511659585, -0.2514779491750586, null, 0.43899857111725515, -0.3895732532335214, 1.1985227434388004, 0.30090326705879245, 0.43899857111725515, 0.16280796300032965, 0.024712658941866906, -0.5276685572919841, 1.4056656995264944, null, 0.6461415272049493, -0.45862090526275273, -1.9086215978766117, 0.024712658941866906, -1.563383337730455, 1.0604274393803377, null, 0.43899857111725515, -1.425288033671992, -1.2871927296135293, 0.16280796300032965, 2.372332827935734, -0.7348115133796783, 0.23185561502956104, -1.4943356857012233, -0.18243029714582723, -0.5276685572919841, 2.234237523877271, 0.6461415272049493, 0.43899857111725515, 0.7151891792341807, -0.11338264511659585, null, null, -0.3895732532335214, -0.7348115133796783, -0.04433499308736447, 0.16280796300032965, 2.234237523877271, 1.6128086556141885, 0.43899857111725515, -0.9419544694673724, -0.7348115133796783, 0.30090326705879245, 0.6461415272049493, 0.16280796300032965, -0.32052560120428997, 1.68185630764342, -0.8038591654089097, 1.1985227434388004, -0.5276685572919841, null, 0.3699509190880238, 1.1985227434388004, 0.5080462231464865, 0.43899857111725515, null, 1.336618047497263, -0.3895732532335214, null, null, 0.9913797873511062, 0.43899857111725515, 0.024712658941866906, -0.18243029714582723, 0.7151891792341807, 0.6461415272049493, null, 0.3699509190880238, -0.3895732532335214, 0.30090326705879245, -0.2514779491750586, -1.770526293818149, -0.2514779491750586, 0.8532844832926435, -0.5967162093212155, -0.5967162093212155, 2.16518987184804, -0.5967162093212155, -0.2514779491750586, 3.477095260403436, 1.4747133515557258, null, -1.425288033671992, -0.11338264511659585, 0.16280796300032965, 0.09376031097109828, 0.784236831263412, null, -0.6657638613504469, -1.9086215978766117, null, -0.7348115133796783, null, -0.45862090526275273, null, -0.8038591654089097, -0.5967162093212155, -0.3895732532335214, null, -0.45862090526275273, 1.4056656995264944, 1.1985227434388004, 0.43899857111725515, -0.6657638613504469, 0.16280796300032965, -0.32052560120428997, null, 0.9223321353218749, null, 0.7151891792341807, 0.09376031097109828, 2.7866187401111224, 0.09376031097109828, null, -0.8038591654089097, -0.3550494272189057, -0.8038591654089097, 0.9223321353218749, -0.6657638613504469, -1.0800497735258352, 2.0961422198188084, -1.0800497735258352, -0.7348115133796783, -0.8038591654089097, -1.0110021214966038, 0.09376031097109828, null, 2.0961422198188084, 1.5437610035849572, 0.9913797873511062, 0.8532844832926435, 0.3699509190880238, -0.2514779491750586, 0.6461415272049493, 1.0604274393803377, 0.8532844832926435, -0.5276685572919841, null, 1.2675703954680317, -0.04433499308736447, 1.5437610035849572, -0.7348115133796783, -0.18243029714582723, 0.23185561502956104, -1.6324309897596863, -0.872906817438141, 0.30090326705879245, 1.4056656995264944, -0.18243029714582723, -0.6657638613504469, 0.024712658941866906, -0.32052560120428997, -0.32052560120428997, -0.04433499308736447, null, -0.45862090526275273, -0.45862090526275273, -0.07885881910198016, 1.2675703954680317, null, null, null, 0.43899857111725515, -0.3895732532335214, 0.09376031097109828, 2.7866187401111224, -0.9419544694673724, 0.024712658941866906, -0.7348115133796783, -1.770526293818149, -1.6324309897596863, 0.23185561502956104, -0.45862090526275273, 1.2675703954680317, -2.000454975075489, -0.11338264511659585, -0.8038591654089097, 0.30090326705879245, 0.23185561502956104, null, 0.784236831263412, 0.43899857111725515, -0.9419544694673724, 1.4747133515557258, 0.16280796300032965, -0.3895732532335214, 1.2675703954680317, 1.8889992637311142, 1.68185630764342, -0.8038591654089097, -1.7014786417889176, 0.9223321353218749, -0.872906817438141, -0.04433499308736447, null, -0.32052560120428997, -0.32052560120428997, -0.8038591654089097, -1.977669249905843, -0.9419544694673724, null, -0.32052560120428997, 0.6461415272049493, 1.336618047497263, 0.09376031097109828, 0.024712658941866906, 0.30090326705879245, 0.09376031097109828, -1.2871927296135293, -0.18243029714582723, 0.09376031097109828, 0.6461415272049493, -0.8038591654089097, 0.6461415272049493, 0.23185561502956104, -0.2514779491750586, 0.6461415272049493, 0.3699509190880238, -1.6324309897596863, 0.059236484956482593, null, -0.45862090526275273, 0.9223321353218749, -1.3562403816427606, 1.5437610035849572, -0.18243029714582723, 0.577093875175718, -0.18243029714582723, -1.9086215978766117, null, -1.9894073507508125, -0.45862090526275273, -0.8038591654089097, -0.5967162093212155, null, 0.16280796300032965, -0.6657638613504469, -0.9419544694673724, -0.872906817438141, 0.8532844832926435, null, -0.11338264511659585, -1.770526293818149, 3.062809348228048, -0.9419544694673724, 0.9913797873511062, -0.8038591654089097, 1.0604274393803377, 1.4747133515557258, 0.784236831263412, -0.5967162093212155, 1.2675703954680317, null, -0.3895732532335214, 0.8532844832926435, 0.09376031097109828, null, -1.770526293818149, -0.2514779491750586, 1.1985227434388004, 0.23185561502956104, 1.1985227434388004, -0.6657638613504469, -0.7348115133796783, null, -0.32052560120428997, 0.23185561502956104, -0.5276685572919841, -0.11338264511659585, -0.32052560120428997, -0.18243029714582723, -0.7348115133796783, null]}],\n",
       "                        {\"template\": {\"data\": {\"bar\": [{\"error_x\": {\"color\": \"#2a3f5f\"}, \"error_y\": {\"color\": \"#2a3f5f\"}, \"marker\": {\"line\": {\"color\": \"#E5ECF6\", \"width\": 0.5}}, \"type\": \"bar\"}], \"barpolar\": [{\"marker\": {\"line\": {\"color\": \"#E5ECF6\", \"width\": 0.5}}, \"type\": \"barpolar\"}], \"carpet\": [{\"aaxis\": {\"endlinecolor\": \"#2a3f5f\", \"gridcolor\": \"white\", \"linecolor\": \"white\", \"minorgridcolor\": \"white\", \"startlinecolor\": \"#2a3f5f\"}, \"baxis\": {\"endlinecolor\": \"#2a3f5f\", \"gridcolor\": \"white\", \"linecolor\": \"white\", \"minorgridcolor\": \"white\", \"startlinecolor\": \"#2a3f5f\"}, \"type\": \"carpet\"}], \"choropleth\": [{\"colorbar\": {\"outlinewidth\": 0, \"ticks\": \"\"}, \"type\": \"choropleth\"}], \"contour\": [{\"colorbar\": {\"outlinewidth\": 0, \"ticks\": \"\"}, \"colorscale\": [[0.0, \"#0d0887\"], [0.1111111111111111, \"#46039f\"], [0.2222222222222222, \"#7201a8\"], [0.3333333333333333, \"#9c179e\"], [0.4444444444444444, \"#bd3786\"], [0.5555555555555556, \"#d8576b\"], [0.6666666666666666, \"#ed7953\"], [0.7777777777777778, \"#fb9f3a\"], [0.8888888888888888, \"#fdca26\"], [1.0, \"#f0f921\"]], \"type\": \"contour\"}], \"contourcarpet\": [{\"colorbar\": {\"outlinewidth\": 0, \"ticks\": \"\"}, \"type\": \"contourcarpet\"}], \"heatmap\": [{\"colorbar\": {\"outlinewidth\": 0, \"ticks\": \"\"}, \"colorscale\": [[0.0, \"#0d0887\"], [0.1111111111111111, \"#46039f\"], [0.2222222222222222, \"#7201a8\"], [0.3333333333333333, \"#9c179e\"], [0.4444444444444444, \"#bd3786\"], [0.5555555555555556, \"#d8576b\"], [0.6666666666666666, \"#ed7953\"], [0.7777777777777778, \"#fb9f3a\"], [0.8888888888888888, \"#fdca26\"], [1.0, \"#f0f921\"]], \"type\": \"heatmap\"}], \"heatmapgl\": [{\"colorbar\": {\"outlinewidth\": 0, \"ticks\": \"\"}, \"colorscale\": [[0.0, \"#0d0887\"], [0.1111111111111111, \"#46039f\"], [0.2222222222222222, \"#7201a8\"], [0.3333333333333333, \"#9c179e\"], [0.4444444444444444, \"#bd3786\"], [0.5555555555555556, \"#d8576b\"], [0.6666666666666666, \"#ed7953\"], [0.7777777777777778, \"#fb9f3a\"], [0.8888888888888888, \"#fdca26\"], [1.0, \"#f0f921\"]], \"type\": \"heatmapgl\"}], \"histogram\": [{\"marker\": {\"colorbar\": {\"outlinewidth\": 0, \"ticks\": \"\"}}, \"type\": \"histogram\"}], \"histogram2d\": [{\"colorbar\": {\"outlinewidth\": 0, \"ticks\": \"\"}, \"colorscale\": [[0.0, \"#0d0887\"], [0.1111111111111111, \"#46039f\"], [0.2222222222222222, \"#7201a8\"], [0.3333333333333333, \"#9c179e\"], [0.4444444444444444, \"#bd3786\"], [0.5555555555555556, \"#d8576b\"], [0.6666666666666666, \"#ed7953\"], [0.7777777777777778, \"#fb9f3a\"], [0.8888888888888888, \"#fdca26\"], [1.0, \"#f0f921\"]], \"type\": \"histogram2d\"}], \"histogram2dcontour\": [{\"colorbar\": {\"outlinewidth\": 0, \"ticks\": \"\"}, \"colorscale\": [[0.0, \"#0d0887\"], [0.1111111111111111, \"#46039f\"], [0.2222222222222222, \"#7201a8\"], [0.3333333333333333, \"#9c179e\"], [0.4444444444444444, \"#bd3786\"], [0.5555555555555556, \"#d8576b\"], [0.6666666666666666, \"#ed7953\"], [0.7777777777777778, \"#fb9f3a\"], [0.8888888888888888, \"#fdca26\"], [1.0, \"#f0f921\"]], \"type\": \"histogram2dcontour\"}], \"mesh3d\": [{\"colorbar\": {\"outlinewidth\": 0, \"ticks\": \"\"}, \"type\": \"mesh3d\"}], \"parcoords\": [{\"line\": {\"colorbar\": {\"outlinewidth\": 0, \"ticks\": \"\"}}, \"type\": \"parcoords\"}], \"pie\": [{\"automargin\": true, \"type\": \"pie\"}], \"scatter\": [{\"marker\": {\"colorbar\": {\"outlinewidth\": 0, \"ticks\": \"\"}}, \"type\": \"scatter\"}], \"scatter3d\": [{\"line\": {\"colorbar\": {\"outlinewidth\": 0, \"ticks\": \"\"}}, \"marker\": {\"colorbar\": {\"outlinewidth\": 0, \"ticks\": \"\"}}, \"type\": \"scatter3d\"}], \"scattercarpet\": [{\"marker\": {\"colorbar\": {\"outlinewidth\": 0, \"ticks\": \"\"}}, \"type\": \"scattercarpet\"}], \"scattergeo\": [{\"marker\": {\"colorbar\": {\"outlinewidth\": 0, \"ticks\": \"\"}}, \"type\": \"scattergeo\"}], \"scattergl\": [{\"marker\": {\"colorbar\": {\"outlinewidth\": 0, \"ticks\": \"\"}}, \"type\": \"scattergl\"}], \"scattermapbox\": [{\"marker\": {\"colorbar\": {\"outlinewidth\": 0, \"ticks\": \"\"}}, \"type\": \"scattermapbox\"}], \"scatterpolar\": [{\"marker\": {\"colorbar\": {\"outlinewidth\": 0, \"ticks\": \"\"}}, \"type\": \"scatterpolar\"}], \"scatterpolargl\": [{\"marker\": {\"colorbar\": {\"outlinewidth\": 0, \"ticks\": \"\"}}, \"type\": \"scatterpolargl\"}], \"scatterternary\": [{\"marker\": {\"colorbar\": {\"outlinewidth\": 0, \"ticks\": \"\"}}, \"type\": \"scatterternary\"}], \"surface\": [{\"colorbar\": {\"outlinewidth\": 0, \"ticks\": \"\"}, \"colorscale\": [[0.0, \"#0d0887\"], [0.1111111111111111, \"#46039f\"], [0.2222222222222222, \"#7201a8\"], [0.3333333333333333, \"#9c179e\"], [0.4444444444444444, \"#bd3786\"], [0.5555555555555556, \"#d8576b\"], [0.6666666666666666, \"#ed7953\"], [0.7777777777777778, \"#fb9f3a\"], [0.8888888888888888, \"#fdca26\"], [1.0, \"#f0f921\"]], \"type\": \"surface\"}], \"table\": [{\"cells\": {\"fill\": {\"color\": \"#EBF0F8\"}, \"line\": {\"color\": \"white\"}}, \"header\": {\"fill\": {\"color\": \"#C8D4E3\"}, \"line\": {\"color\": \"white\"}}, \"type\": \"table\"}]}, \"layout\": {\"annotationdefaults\": {\"arrowcolor\": \"#2a3f5f\", \"arrowhead\": 0, \"arrowwidth\": 1}, \"coloraxis\": {\"colorbar\": {\"outlinewidth\": 0, \"ticks\": \"\"}}, \"colorscale\": {\"diverging\": [[0, \"#8e0152\"], [0.1, \"#c51b7d\"], [0.2, \"#de77ae\"], [0.3, \"#f1b6da\"], [0.4, \"#fde0ef\"], [0.5, \"#f7f7f7\"], [0.6, \"#e6f5d0\"], [0.7, \"#b8e186\"], [0.8, \"#7fbc41\"], [0.9, \"#4d9221\"], [1, \"#276419\"]], \"sequential\": [[0.0, \"#0d0887\"], [0.1111111111111111, \"#46039f\"], [0.2222222222222222, \"#7201a8\"], [0.3333333333333333, \"#9c179e\"], [0.4444444444444444, \"#bd3786\"], [0.5555555555555556, \"#d8576b\"], [0.6666666666666666, \"#ed7953\"], [0.7777777777777778, \"#fb9f3a\"], [0.8888888888888888, \"#fdca26\"], [1.0, \"#f0f921\"]], \"sequentialminus\": [[0.0, \"#0d0887\"], [0.1111111111111111, \"#46039f\"], [0.2222222222222222, \"#7201a8\"], [0.3333333333333333, \"#9c179e\"], [0.4444444444444444, \"#bd3786\"], [0.5555555555555556, \"#d8576b\"], [0.6666666666666666, \"#ed7953\"], [0.7777777777777778, \"#fb9f3a\"], [0.8888888888888888, \"#fdca26\"], [1.0, \"#f0f921\"]]}, \"colorway\": [\"#636efa\", \"#EF553B\", \"#00cc96\", \"#ab63fa\", \"#FFA15A\", \"#19d3f3\", \"#FF6692\", \"#B6E880\", \"#FF97FF\", \"#FECB52\"], \"font\": {\"color\": \"#2a3f5f\"}, \"geo\": {\"bgcolor\": \"white\", \"lakecolor\": \"white\", \"landcolor\": \"#E5ECF6\", \"showlakes\": true, \"showland\": true, \"subunitcolor\": \"white\"}, \"hoverlabel\": {\"align\": \"left\"}, \"hovermode\": \"closest\", \"mapbox\": {\"style\": \"light\"}, \"paper_bgcolor\": \"white\", \"plot_bgcolor\": \"#E5ECF6\", \"polar\": {\"angularaxis\": {\"gridcolor\": \"white\", \"linecolor\": \"white\", \"ticks\": \"\"}, \"bgcolor\": \"#E5ECF6\", \"radialaxis\": {\"gridcolor\": \"white\", \"linecolor\": \"white\", \"ticks\": \"\"}}, \"scene\": {\"xaxis\": {\"backgroundcolor\": \"#E5ECF6\", \"gridcolor\": \"white\", \"gridwidth\": 2, \"linecolor\": \"white\", \"showbackground\": true, \"ticks\": \"\", \"zerolinecolor\": \"white\"}, \"yaxis\": {\"backgroundcolor\": \"#E5ECF6\", \"gridcolor\": \"white\", \"gridwidth\": 2, \"linecolor\": \"white\", \"showbackground\": true, \"ticks\": \"\", \"zerolinecolor\": \"white\"}, \"zaxis\": {\"backgroundcolor\": \"#E5ECF6\", \"gridcolor\": \"white\", \"gridwidth\": 2, \"linecolor\": \"white\", \"showbackground\": true, \"ticks\": \"\", \"zerolinecolor\": \"white\"}}, \"shapedefaults\": {\"line\": {\"color\": \"#2a3f5f\"}}, \"ternary\": {\"aaxis\": {\"gridcolor\": \"white\", \"linecolor\": \"white\", \"ticks\": \"\"}, \"baxis\": {\"gridcolor\": \"white\", \"linecolor\": \"white\", \"ticks\": \"\"}, \"bgcolor\": \"#E5ECF6\", \"caxis\": {\"gridcolor\": \"white\", \"linecolor\": \"white\", \"ticks\": \"\"}}, \"title\": {\"x\": 0.05}, \"xaxis\": {\"automargin\": true, \"gridcolor\": \"white\", \"linecolor\": \"white\", \"ticks\": \"\", \"title\": {\"standoff\": 15}, \"zerolinecolor\": \"white\", \"zerolinewidth\": 2}, \"yaxis\": {\"automargin\": true, \"gridcolor\": \"white\", \"linecolor\": \"white\", \"ticks\": \"\", \"title\": {\"standoff\": 15}, \"zerolinecolor\": \"white\", \"zerolinewidth\": 2}}}, \"title\": {\"text\": \"Age amongst Embark Points\"}},\n",
       "                        {\"responsive\": true}\n",
       "                    ).then(function(){\n",
       "                            \n",
       "var gd = document.getElementById('60d15c74-dfc1-497e-8e9b-364c20ab859e');\n",
       "var x = new MutationObserver(function (mutations, observer) {{\n",
       "        var display = window.getComputedStyle(gd).display;\n",
       "        if (!display || display === 'none') {{\n",
       "            console.log([gd, 'removed!']);\n",
       "            Plotly.purge(gd);\n",
       "            observer.disconnect();\n",
       "        }}\n",
       "}});\n",
       "\n",
       "// Listen for the removal of the full notebook cells\n",
       "var notebookContainer = gd.closest('#notebook-container');\n",
       "if (notebookContainer) {{\n",
       "    x.observe(notebookContainer, {childList: true});\n",
       "}}\n",
       "\n",
       "// Listen for the clearing of the current output cell\n",
       "var outputEl = gd.closest('.output');\n",
       "if (outputEl) {{\n",
       "    x.observe(outputEl, {childList: true});\n",
       "}}\n",
       "\n",
       "                        })\n",
       "                };\n",
       "                });\n",
       "            </script>\n",
       "        </div>"
      ]
     },
     "metadata": {},
     "output_type": "display_data"
    }
   ],
   "source": [
    "iplot(age_box_fig)"
   ]
  },
  {
   "cell_type": "markdown",
   "metadata": {},
   "source": [
    "### Bar Chart, embarked - sex\n",
    "\n",
    "    Sex distribution amongst embark points looks reasonable where number of males are always higher."
   ]
  },
  {
   "cell_type": "code",
   "execution_count": 30,
   "metadata": {},
   "outputs": [
    {
     "data": {
      "application/vnd.plotly.v1+json": {
       "config": {
        "linkText": "Export to plot.ly",
        "plotlyServerURL": "https://plot.ly",
        "showLink": false
       },
       "data": [
        {
         "name": "Female",
         "type": "bar",
         "x": [
          "Cherbourg",
          "Queenstown",
          "Southampton"
         ],
         "y": [
          73,
          36,
          203
         ]
        },
        {
         "name": "Male",
         "type": "bar",
         "x": [
          "Cherbourg",
          "Queenstown",
          "Southampton"
         ],
         "y": [
          95,
          41,
          441
         ]
        }
       ],
       "layout": {
        "barmode": "stack",
        "template": {
         "data": {
          "bar": [
           {
            "error_x": {
             "color": "#2a3f5f"
            },
            "error_y": {
             "color": "#2a3f5f"
            },
            "marker": {
             "line": {
              "color": "#E5ECF6",
              "width": 0.5
             }
            },
            "type": "bar"
           }
          ],
          "barpolar": [
           {
            "marker": {
             "line": {
              "color": "#E5ECF6",
              "width": 0.5
             }
            },
            "type": "barpolar"
           }
          ],
          "carpet": [
           {
            "aaxis": {
             "endlinecolor": "#2a3f5f",
             "gridcolor": "white",
             "linecolor": "white",
             "minorgridcolor": "white",
             "startlinecolor": "#2a3f5f"
            },
            "baxis": {
             "endlinecolor": "#2a3f5f",
             "gridcolor": "white",
             "linecolor": "white",
             "minorgridcolor": "white",
             "startlinecolor": "#2a3f5f"
            },
            "type": "carpet"
           }
          ],
          "choropleth": [
           {
            "colorbar": {
             "outlinewidth": 0,
             "ticks": ""
            },
            "type": "choropleth"
           }
          ],
          "contour": [
           {
            "colorbar": {
             "outlinewidth": 0,
             "ticks": ""
            },
            "colorscale": [
             [
              0,
              "#0d0887"
             ],
             [
              0.1111111111111111,
              "#46039f"
             ],
             [
              0.2222222222222222,
              "#7201a8"
             ],
             [
              0.3333333333333333,
              "#9c179e"
             ],
             [
              0.4444444444444444,
              "#bd3786"
             ],
             [
              0.5555555555555556,
              "#d8576b"
             ],
             [
              0.6666666666666666,
              "#ed7953"
             ],
             [
              0.7777777777777778,
              "#fb9f3a"
             ],
             [
              0.8888888888888888,
              "#fdca26"
             ],
             [
              1,
              "#f0f921"
             ]
            ],
            "type": "contour"
           }
          ],
          "contourcarpet": [
           {
            "colorbar": {
             "outlinewidth": 0,
             "ticks": ""
            },
            "type": "contourcarpet"
           }
          ],
          "heatmap": [
           {
            "colorbar": {
             "outlinewidth": 0,
             "ticks": ""
            },
            "colorscale": [
             [
              0,
              "#0d0887"
             ],
             [
              0.1111111111111111,
              "#46039f"
             ],
             [
              0.2222222222222222,
              "#7201a8"
             ],
             [
              0.3333333333333333,
              "#9c179e"
             ],
             [
              0.4444444444444444,
              "#bd3786"
             ],
             [
              0.5555555555555556,
              "#d8576b"
             ],
             [
              0.6666666666666666,
              "#ed7953"
             ],
             [
              0.7777777777777778,
              "#fb9f3a"
             ],
             [
              0.8888888888888888,
              "#fdca26"
             ],
             [
              1,
              "#f0f921"
             ]
            ],
            "type": "heatmap"
           }
          ],
          "heatmapgl": [
           {
            "colorbar": {
             "outlinewidth": 0,
             "ticks": ""
            },
            "colorscale": [
             [
              0,
              "#0d0887"
             ],
             [
              0.1111111111111111,
              "#46039f"
             ],
             [
              0.2222222222222222,
              "#7201a8"
             ],
             [
              0.3333333333333333,
              "#9c179e"
             ],
             [
              0.4444444444444444,
              "#bd3786"
             ],
             [
              0.5555555555555556,
              "#d8576b"
             ],
             [
              0.6666666666666666,
              "#ed7953"
             ],
             [
              0.7777777777777778,
              "#fb9f3a"
             ],
             [
              0.8888888888888888,
              "#fdca26"
             ],
             [
              1,
              "#f0f921"
             ]
            ],
            "type": "heatmapgl"
           }
          ],
          "histogram": [
           {
            "marker": {
             "colorbar": {
              "outlinewidth": 0,
              "ticks": ""
             }
            },
            "type": "histogram"
           }
          ],
          "histogram2d": [
           {
            "colorbar": {
             "outlinewidth": 0,
             "ticks": ""
            },
            "colorscale": [
             [
              0,
              "#0d0887"
             ],
             [
              0.1111111111111111,
              "#46039f"
             ],
             [
              0.2222222222222222,
              "#7201a8"
             ],
             [
              0.3333333333333333,
              "#9c179e"
             ],
             [
              0.4444444444444444,
              "#bd3786"
             ],
             [
              0.5555555555555556,
              "#d8576b"
             ],
             [
              0.6666666666666666,
              "#ed7953"
             ],
             [
              0.7777777777777778,
              "#fb9f3a"
             ],
             [
              0.8888888888888888,
              "#fdca26"
             ],
             [
              1,
              "#f0f921"
             ]
            ],
            "type": "histogram2d"
           }
          ],
          "histogram2dcontour": [
           {
            "colorbar": {
             "outlinewidth": 0,
             "ticks": ""
            },
            "colorscale": [
             [
              0,
              "#0d0887"
             ],
             [
              0.1111111111111111,
              "#46039f"
             ],
             [
              0.2222222222222222,
              "#7201a8"
             ],
             [
              0.3333333333333333,
              "#9c179e"
             ],
             [
              0.4444444444444444,
              "#bd3786"
             ],
             [
              0.5555555555555556,
              "#d8576b"
             ],
             [
              0.6666666666666666,
              "#ed7953"
             ],
             [
              0.7777777777777778,
              "#fb9f3a"
             ],
             [
              0.8888888888888888,
              "#fdca26"
             ],
             [
              1,
              "#f0f921"
             ]
            ],
            "type": "histogram2dcontour"
           }
          ],
          "mesh3d": [
           {
            "colorbar": {
             "outlinewidth": 0,
             "ticks": ""
            },
            "type": "mesh3d"
           }
          ],
          "parcoords": [
           {
            "line": {
             "colorbar": {
              "outlinewidth": 0,
              "ticks": ""
             }
            },
            "type": "parcoords"
           }
          ],
          "pie": [
           {
            "automargin": true,
            "type": "pie"
           }
          ],
          "scatter": [
           {
            "marker": {
             "colorbar": {
              "outlinewidth": 0,
              "ticks": ""
             }
            },
            "type": "scatter"
           }
          ],
          "scatter3d": [
           {
            "line": {
             "colorbar": {
              "outlinewidth": 0,
              "ticks": ""
             }
            },
            "marker": {
             "colorbar": {
              "outlinewidth": 0,
              "ticks": ""
             }
            },
            "type": "scatter3d"
           }
          ],
          "scattercarpet": [
           {
            "marker": {
             "colorbar": {
              "outlinewidth": 0,
              "ticks": ""
             }
            },
            "type": "scattercarpet"
           }
          ],
          "scattergeo": [
           {
            "marker": {
             "colorbar": {
              "outlinewidth": 0,
              "ticks": ""
             }
            },
            "type": "scattergeo"
           }
          ],
          "scattergl": [
           {
            "marker": {
             "colorbar": {
              "outlinewidth": 0,
              "ticks": ""
             }
            },
            "type": "scattergl"
           }
          ],
          "scattermapbox": [
           {
            "marker": {
             "colorbar": {
              "outlinewidth": 0,
              "ticks": ""
             }
            },
            "type": "scattermapbox"
           }
          ],
          "scatterpolar": [
           {
            "marker": {
             "colorbar": {
              "outlinewidth": 0,
              "ticks": ""
             }
            },
            "type": "scatterpolar"
           }
          ],
          "scatterpolargl": [
           {
            "marker": {
             "colorbar": {
              "outlinewidth": 0,
              "ticks": ""
             }
            },
            "type": "scatterpolargl"
           }
          ],
          "scatterternary": [
           {
            "marker": {
             "colorbar": {
              "outlinewidth": 0,
              "ticks": ""
             }
            },
            "type": "scatterternary"
           }
          ],
          "surface": [
           {
            "colorbar": {
             "outlinewidth": 0,
             "ticks": ""
            },
            "colorscale": [
             [
              0,
              "#0d0887"
             ],
             [
              0.1111111111111111,
              "#46039f"
             ],
             [
              0.2222222222222222,
              "#7201a8"
             ],
             [
              0.3333333333333333,
              "#9c179e"
             ],
             [
              0.4444444444444444,
              "#bd3786"
             ],
             [
              0.5555555555555556,
              "#d8576b"
             ],
             [
              0.6666666666666666,
              "#ed7953"
             ],
             [
              0.7777777777777778,
              "#fb9f3a"
             ],
             [
              0.8888888888888888,
              "#fdca26"
             ],
             [
              1,
              "#f0f921"
             ]
            ],
            "type": "surface"
           }
          ],
          "table": [
           {
            "cells": {
             "fill": {
              "color": "#EBF0F8"
             },
             "line": {
              "color": "white"
             }
            },
            "header": {
             "fill": {
              "color": "#C8D4E3"
             },
             "line": {
              "color": "white"
             }
            },
            "type": "table"
           }
          ]
         },
         "layout": {
          "annotationdefaults": {
           "arrowcolor": "#2a3f5f",
           "arrowhead": 0,
           "arrowwidth": 1
          },
          "coloraxis": {
           "colorbar": {
            "outlinewidth": 0,
            "ticks": ""
           }
          },
          "colorscale": {
           "diverging": [
            [
             0,
             "#8e0152"
            ],
            [
             0.1,
             "#c51b7d"
            ],
            [
             0.2,
             "#de77ae"
            ],
            [
             0.3,
             "#f1b6da"
            ],
            [
             0.4,
             "#fde0ef"
            ],
            [
             0.5,
             "#f7f7f7"
            ],
            [
             0.6,
             "#e6f5d0"
            ],
            [
             0.7,
             "#b8e186"
            ],
            [
             0.8,
             "#7fbc41"
            ],
            [
             0.9,
             "#4d9221"
            ],
            [
             1,
             "#276419"
            ]
           ],
           "sequential": [
            [
             0,
             "#0d0887"
            ],
            [
             0.1111111111111111,
             "#46039f"
            ],
            [
             0.2222222222222222,
             "#7201a8"
            ],
            [
             0.3333333333333333,
             "#9c179e"
            ],
            [
             0.4444444444444444,
             "#bd3786"
            ],
            [
             0.5555555555555556,
             "#d8576b"
            ],
            [
             0.6666666666666666,
             "#ed7953"
            ],
            [
             0.7777777777777778,
             "#fb9f3a"
            ],
            [
             0.8888888888888888,
             "#fdca26"
            ],
            [
             1,
             "#f0f921"
            ]
           ],
           "sequentialminus": [
            [
             0,
             "#0d0887"
            ],
            [
             0.1111111111111111,
             "#46039f"
            ],
            [
             0.2222222222222222,
             "#7201a8"
            ],
            [
             0.3333333333333333,
             "#9c179e"
            ],
            [
             0.4444444444444444,
             "#bd3786"
            ],
            [
             0.5555555555555556,
             "#d8576b"
            ],
            [
             0.6666666666666666,
             "#ed7953"
            ],
            [
             0.7777777777777778,
             "#fb9f3a"
            ],
            [
             0.8888888888888888,
             "#fdca26"
            ],
            [
             1,
             "#f0f921"
            ]
           ]
          },
          "colorway": [
           "#636efa",
           "#EF553B",
           "#00cc96",
           "#ab63fa",
           "#FFA15A",
           "#19d3f3",
           "#FF6692",
           "#B6E880",
           "#FF97FF",
           "#FECB52"
          ],
          "font": {
           "color": "#2a3f5f"
          },
          "geo": {
           "bgcolor": "white",
           "lakecolor": "white",
           "landcolor": "#E5ECF6",
           "showlakes": true,
           "showland": true,
           "subunitcolor": "white"
          },
          "hoverlabel": {
           "align": "left"
          },
          "hovermode": "closest",
          "mapbox": {
           "style": "light"
          },
          "paper_bgcolor": "white",
          "plot_bgcolor": "#E5ECF6",
          "polar": {
           "angularaxis": {
            "gridcolor": "white",
            "linecolor": "white",
            "ticks": ""
           },
           "bgcolor": "#E5ECF6",
           "radialaxis": {
            "gridcolor": "white",
            "linecolor": "white",
            "ticks": ""
           }
          },
          "scene": {
           "xaxis": {
            "backgroundcolor": "#E5ECF6",
            "gridcolor": "white",
            "gridwidth": 2,
            "linecolor": "white",
            "showbackground": true,
            "ticks": "",
            "zerolinecolor": "white"
           },
           "yaxis": {
            "backgroundcolor": "#E5ECF6",
            "gridcolor": "white",
            "gridwidth": 2,
            "linecolor": "white",
            "showbackground": true,
            "ticks": "",
            "zerolinecolor": "white"
           },
           "zaxis": {
            "backgroundcolor": "#E5ECF6",
            "gridcolor": "white",
            "gridwidth": 2,
            "linecolor": "white",
            "showbackground": true,
            "ticks": "",
            "zerolinecolor": "white"
           }
          },
          "shapedefaults": {
           "line": {
            "color": "#2a3f5f"
           }
          },
          "ternary": {
           "aaxis": {
            "gridcolor": "white",
            "linecolor": "white",
            "ticks": ""
           },
           "baxis": {
            "gridcolor": "white",
            "linecolor": "white",
            "ticks": ""
           },
           "bgcolor": "#E5ECF6",
           "caxis": {
            "gridcolor": "white",
            "linecolor": "white",
            "ticks": ""
           }
          },
          "title": {
           "x": 0.05
          },
          "xaxis": {
           "automargin": true,
           "gridcolor": "white",
           "linecolor": "white",
           "ticks": "",
           "title": {
            "standoff": 15
           },
           "zerolinecolor": "white",
           "zerolinewidth": 2
          },
          "yaxis": {
           "automargin": true,
           "gridcolor": "white",
           "linecolor": "white",
           "ticks": "",
           "title": {
            "standoff": 15
           },
           "zerolinecolor": "white",
           "zerolinewidth": 2
          }
         }
        },
        "title": {
         "text": "Embarked and Sex"
        }
       }
      },
      "text/html": [
       "<div>\n",
       "        \n",
       "        \n",
       "            <div id=\"b39b5537-3cb3-4e20-9120-9e4a38bd28f4\" class=\"plotly-graph-div\" style=\"height:525px; width:100%;\"></div>\n",
       "            <script type=\"text/javascript\">\n",
       "                require([\"plotly\"], function(Plotly) {\n",
       "                    window.PLOTLYENV=window.PLOTLYENV || {};\n",
       "                    \n",
       "                if (document.getElementById(\"b39b5537-3cb3-4e20-9120-9e4a38bd28f4\")) {\n",
       "                    Plotly.newPlot(\n",
       "                        'b39b5537-3cb3-4e20-9120-9e4a38bd28f4',\n",
       "                        [{\"name\": \"Female\", \"type\": \"bar\", \"x\": [\"Cherbourg\", \"Queenstown\", \"Southampton\"], \"y\": [73, 36, 203]}, {\"name\": \"Male\", \"type\": \"bar\", \"x\": [\"Cherbourg\", \"Queenstown\", \"Southampton\"], \"y\": [95, 41, 441]}],\n",
       "                        {\"barmode\": \"stack\", \"template\": {\"data\": {\"bar\": [{\"error_x\": {\"color\": \"#2a3f5f\"}, \"error_y\": {\"color\": \"#2a3f5f\"}, \"marker\": {\"line\": {\"color\": \"#E5ECF6\", \"width\": 0.5}}, \"type\": \"bar\"}], \"barpolar\": [{\"marker\": {\"line\": {\"color\": \"#E5ECF6\", \"width\": 0.5}}, \"type\": \"barpolar\"}], \"carpet\": [{\"aaxis\": {\"endlinecolor\": \"#2a3f5f\", \"gridcolor\": \"white\", \"linecolor\": \"white\", \"minorgridcolor\": \"white\", \"startlinecolor\": \"#2a3f5f\"}, \"baxis\": {\"endlinecolor\": \"#2a3f5f\", \"gridcolor\": \"white\", \"linecolor\": \"white\", \"minorgridcolor\": \"white\", \"startlinecolor\": \"#2a3f5f\"}, \"type\": \"carpet\"}], \"choropleth\": [{\"colorbar\": {\"outlinewidth\": 0, \"ticks\": \"\"}, \"type\": \"choropleth\"}], \"contour\": [{\"colorbar\": {\"outlinewidth\": 0, \"ticks\": \"\"}, \"colorscale\": [[0.0, \"#0d0887\"], [0.1111111111111111, \"#46039f\"], [0.2222222222222222, \"#7201a8\"], [0.3333333333333333, \"#9c179e\"], [0.4444444444444444, \"#bd3786\"], [0.5555555555555556, \"#d8576b\"], [0.6666666666666666, \"#ed7953\"], [0.7777777777777778, \"#fb9f3a\"], [0.8888888888888888, \"#fdca26\"], [1.0, \"#f0f921\"]], \"type\": \"contour\"}], \"contourcarpet\": [{\"colorbar\": {\"outlinewidth\": 0, \"ticks\": \"\"}, \"type\": \"contourcarpet\"}], \"heatmap\": [{\"colorbar\": {\"outlinewidth\": 0, \"ticks\": \"\"}, \"colorscale\": [[0.0, \"#0d0887\"], [0.1111111111111111, \"#46039f\"], [0.2222222222222222, \"#7201a8\"], [0.3333333333333333, \"#9c179e\"], [0.4444444444444444, \"#bd3786\"], [0.5555555555555556, \"#d8576b\"], [0.6666666666666666, \"#ed7953\"], [0.7777777777777778, \"#fb9f3a\"], [0.8888888888888888, \"#fdca26\"], [1.0, \"#f0f921\"]], \"type\": \"heatmap\"}], \"heatmapgl\": [{\"colorbar\": {\"outlinewidth\": 0, \"ticks\": \"\"}, \"colorscale\": [[0.0, \"#0d0887\"], [0.1111111111111111, \"#46039f\"], [0.2222222222222222, \"#7201a8\"], [0.3333333333333333, \"#9c179e\"], [0.4444444444444444, \"#bd3786\"], [0.5555555555555556, \"#d8576b\"], [0.6666666666666666, \"#ed7953\"], [0.7777777777777778, \"#fb9f3a\"], [0.8888888888888888, \"#fdca26\"], [1.0, \"#f0f921\"]], \"type\": \"heatmapgl\"}], \"histogram\": [{\"marker\": {\"colorbar\": {\"outlinewidth\": 0, \"ticks\": \"\"}}, \"type\": \"histogram\"}], \"histogram2d\": [{\"colorbar\": {\"outlinewidth\": 0, \"ticks\": \"\"}, \"colorscale\": [[0.0, \"#0d0887\"], [0.1111111111111111, \"#46039f\"], [0.2222222222222222, \"#7201a8\"], [0.3333333333333333, \"#9c179e\"], [0.4444444444444444, \"#bd3786\"], [0.5555555555555556, \"#d8576b\"], [0.6666666666666666, \"#ed7953\"], [0.7777777777777778, \"#fb9f3a\"], [0.8888888888888888, \"#fdca26\"], [1.0, \"#f0f921\"]], \"type\": \"histogram2d\"}], \"histogram2dcontour\": [{\"colorbar\": {\"outlinewidth\": 0, \"ticks\": \"\"}, \"colorscale\": [[0.0, \"#0d0887\"], [0.1111111111111111, \"#46039f\"], [0.2222222222222222, \"#7201a8\"], [0.3333333333333333, \"#9c179e\"], [0.4444444444444444, \"#bd3786\"], [0.5555555555555556, \"#d8576b\"], [0.6666666666666666, \"#ed7953\"], [0.7777777777777778, \"#fb9f3a\"], [0.8888888888888888, \"#fdca26\"], [1.0, \"#f0f921\"]], \"type\": \"histogram2dcontour\"}], \"mesh3d\": [{\"colorbar\": {\"outlinewidth\": 0, \"ticks\": \"\"}, \"type\": \"mesh3d\"}], \"parcoords\": [{\"line\": {\"colorbar\": {\"outlinewidth\": 0, \"ticks\": \"\"}}, \"type\": \"parcoords\"}], \"pie\": [{\"automargin\": true, \"type\": \"pie\"}], \"scatter\": [{\"marker\": {\"colorbar\": {\"outlinewidth\": 0, \"ticks\": \"\"}}, \"type\": \"scatter\"}], \"scatter3d\": [{\"line\": {\"colorbar\": {\"outlinewidth\": 0, \"ticks\": \"\"}}, \"marker\": {\"colorbar\": {\"outlinewidth\": 0, \"ticks\": \"\"}}, \"type\": \"scatter3d\"}], \"scattercarpet\": [{\"marker\": {\"colorbar\": {\"outlinewidth\": 0, \"ticks\": \"\"}}, \"type\": \"scattercarpet\"}], \"scattergeo\": [{\"marker\": {\"colorbar\": {\"outlinewidth\": 0, \"ticks\": \"\"}}, \"type\": \"scattergeo\"}], \"scattergl\": [{\"marker\": {\"colorbar\": {\"outlinewidth\": 0, \"ticks\": \"\"}}, \"type\": \"scattergl\"}], \"scattermapbox\": [{\"marker\": {\"colorbar\": {\"outlinewidth\": 0, \"ticks\": \"\"}}, \"type\": \"scattermapbox\"}], \"scatterpolar\": [{\"marker\": {\"colorbar\": {\"outlinewidth\": 0, \"ticks\": \"\"}}, \"type\": \"scatterpolar\"}], \"scatterpolargl\": [{\"marker\": {\"colorbar\": {\"outlinewidth\": 0, \"ticks\": \"\"}}, \"type\": \"scatterpolargl\"}], \"scatterternary\": [{\"marker\": {\"colorbar\": {\"outlinewidth\": 0, \"ticks\": \"\"}}, \"type\": \"scatterternary\"}], \"surface\": [{\"colorbar\": {\"outlinewidth\": 0, \"ticks\": \"\"}, \"colorscale\": [[0.0, \"#0d0887\"], [0.1111111111111111, \"#46039f\"], [0.2222222222222222, \"#7201a8\"], [0.3333333333333333, \"#9c179e\"], [0.4444444444444444, \"#bd3786\"], [0.5555555555555556, \"#d8576b\"], [0.6666666666666666, \"#ed7953\"], [0.7777777777777778, \"#fb9f3a\"], [0.8888888888888888, \"#fdca26\"], [1.0, \"#f0f921\"]], \"type\": \"surface\"}], \"table\": [{\"cells\": {\"fill\": {\"color\": \"#EBF0F8\"}, \"line\": {\"color\": \"white\"}}, \"header\": {\"fill\": {\"color\": \"#C8D4E3\"}, \"line\": {\"color\": \"white\"}}, \"type\": \"table\"}]}, \"layout\": {\"annotationdefaults\": {\"arrowcolor\": \"#2a3f5f\", \"arrowhead\": 0, \"arrowwidth\": 1}, \"coloraxis\": {\"colorbar\": {\"outlinewidth\": 0, \"ticks\": \"\"}}, \"colorscale\": {\"diverging\": [[0, \"#8e0152\"], [0.1, \"#c51b7d\"], [0.2, \"#de77ae\"], [0.3, \"#f1b6da\"], [0.4, \"#fde0ef\"], [0.5, \"#f7f7f7\"], [0.6, \"#e6f5d0\"], [0.7, \"#b8e186\"], [0.8, \"#7fbc41\"], [0.9, \"#4d9221\"], [1, \"#276419\"]], \"sequential\": [[0.0, \"#0d0887\"], [0.1111111111111111, \"#46039f\"], [0.2222222222222222, \"#7201a8\"], [0.3333333333333333, \"#9c179e\"], [0.4444444444444444, \"#bd3786\"], [0.5555555555555556, \"#d8576b\"], [0.6666666666666666, \"#ed7953\"], [0.7777777777777778, \"#fb9f3a\"], [0.8888888888888888, \"#fdca26\"], [1.0, \"#f0f921\"]], \"sequentialminus\": [[0.0, \"#0d0887\"], [0.1111111111111111, \"#46039f\"], [0.2222222222222222, \"#7201a8\"], [0.3333333333333333, \"#9c179e\"], [0.4444444444444444, \"#bd3786\"], [0.5555555555555556, \"#d8576b\"], [0.6666666666666666, \"#ed7953\"], [0.7777777777777778, \"#fb9f3a\"], [0.8888888888888888, \"#fdca26\"], [1.0, \"#f0f921\"]]}, \"colorway\": [\"#636efa\", \"#EF553B\", \"#00cc96\", \"#ab63fa\", \"#FFA15A\", \"#19d3f3\", \"#FF6692\", \"#B6E880\", \"#FF97FF\", \"#FECB52\"], \"font\": {\"color\": \"#2a3f5f\"}, \"geo\": {\"bgcolor\": \"white\", \"lakecolor\": \"white\", \"landcolor\": \"#E5ECF6\", \"showlakes\": true, \"showland\": true, \"subunitcolor\": \"white\"}, \"hoverlabel\": {\"align\": \"left\"}, \"hovermode\": \"closest\", \"mapbox\": {\"style\": \"light\"}, \"paper_bgcolor\": \"white\", \"plot_bgcolor\": \"#E5ECF6\", \"polar\": {\"angularaxis\": {\"gridcolor\": \"white\", \"linecolor\": \"white\", \"ticks\": \"\"}, \"bgcolor\": \"#E5ECF6\", \"radialaxis\": {\"gridcolor\": \"white\", \"linecolor\": \"white\", \"ticks\": \"\"}}, \"scene\": {\"xaxis\": {\"backgroundcolor\": \"#E5ECF6\", \"gridcolor\": \"white\", \"gridwidth\": 2, \"linecolor\": \"white\", \"showbackground\": true, \"ticks\": \"\", \"zerolinecolor\": \"white\"}, \"yaxis\": {\"backgroundcolor\": \"#E5ECF6\", \"gridcolor\": \"white\", \"gridwidth\": 2, \"linecolor\": \"white\", \"showbackground\": true, \"ticks\": \"\", \"zerolinecolor\": \"white\"}, \"zaxis\": {\"backgroundcolor\": \"#E5ECF6\", \"gridcolor\": \"white\", \"gridwidth\": 2, \"linecolor\": \"white\", \"showbackground\": true, \"ticks\": \"\", \"zerolinecolor\": \"white\"}}, \"shapedefaults\": {\"line\": {\"color\": \"#2a3f5f\"}}, \"ternary\": {\"aaxis\": {\"gridcolor\": \"white\", \"linecolor\": \"white\", \"ticks\": \"\"}, \"baxis\": {\"gridcolor\": \"white\", \"linecolor\": \"white\", \"ticks\": \"\"}, \"bgcolor\": \"#E5ECF6\", \"caxis\": {\"gridcolor\": \"white\", \"linecolor\": \"white\", \"ticks\": \"\"}}, \"title\": {\"x\": 0.05}, \"xaxis\": {\"automargin\": true, \"gridcolor\": \"white\", \"linecolor\": \"white\", \"ticks\": \"\", \"title\": {\"standoff\": 15}, \"zerolinecolor\": \"white\", \"zerolinewidth\": 2}, \"yaxis\": {\"automargin\": true, \"gridcolor\": \"white\", \"linecolor\": \"white\", \"ticks\": \"\", \"title\": {\"standoff\": 15}, \"zerolinecolor\": \"white\", \"zerolinewidth\": 2}}}, \"title\": {\"text\": \"Embarked and Sex\"}},\n",
       "                        {\"responsive\": true}\n",
       "                    ).then(function(){\n",
       "                            \n",
       "var gd = document.getElementById('b39b5537-3cb3-4e20-9120-9e4a38bd28f4');\n",
       "var x = new MutationObserver(function (mutations, observer) {{\n",
       "        var display = window.getComputedStyle(gd).display;\n",
       "        if (!display || display === 'none') {{\n",
       "            console.log([gd, 'removed!']);\n",
       "            Plotly.purge(gd);\n",
       "            observer.disconnect();\n",
       "        }}\n",
       "}});\n",
       "\n",
       "// Listen for the removal of the full notebook cells\n",
       "var notebookContainer = gd.closest('#notebook-container');\n",
       "if (notebookContainer) {{\n",
       "    x.observe(notebookContainer, {childList: true});\n",
       "}}\n",
       "\n",
       "// Listen for the clearing of the current output cell\n",
       "var outputEl = gd.closest('.output');\n",
       "if (outputEl) {{\n",
       "    x.observe(outputEl, {childList: true});\n",
       "}}\n",
       "\n",
       "                        })\n",
       "                };\n",
       "                });\n",
       "            </script>\n",
       "        </div>"
      ]
     },
     "metadata": {},
     "output_type": "display_data"
    }
   ],
   "source": [
    "iplot(embarked_sex_fig)"
   ]
  },
  {
   "cell_type": "markdown",
   "metadata": {},
   "source": [
    "### Box plot, embarked\n",
    "\n",
    "    Fare distribution and passengers' classes tells a story for each embarkment point: \n",
    "    \n",
    "        -> Cherbourg: A median as high as 29.7dls can be misleading, this embarkment point had 66 lower class and\n",
    "        85 upper class with 17 of middle class, this tells us that it's almost a 50-50 split between the \n",
    "        rich and the poor, not overlooking a rocketing value of 512dls and multiple fares in the range of \n",
    "        200dls.\n",
    "        \n",
    "        -> Queenstown: A low median of 7.5dls for fares, the distribution of passenger classes reinforce the fact\n",
    "        that most of the passengers from this point were less fortunate. Although there's two upper class\n",
    "        and 3 middle class passengers.\n",
    "        \n",
    "        -> Southampton: The point that most passengers embarked from, with very high variance, but we can tell\n",
    "        that the majority of the passengers were at the lower class."
   ]
  },
  {
   "cell_type": "code",
   "execution_count": 31,
   "metadata": {},
   "outputs": [
    {
     "data": {
      "application/vnd.plotly.v1+json": {
       "config": {
        "linkText": "Export to plot.ly",
        "plotlyServerURL": "https://plot.ly",
        "showLink": false
       },
       "data": [
        {
         "name": "Cherbourg",
         "type": "box",
         "y": [
          0.788946607905507,
          -0.040787184044554156,
          -0.5007430776237524,
          -0.5007430776237524,
          -0.08809987827767862,
          2.3037078131670836,
          1.008145313634504,
          -0.500658518765974,
          -0.41987460999558585,
          -0.48723782005286725,
          0.1909121394926757,
          -0.20973578188569775,
          0.8985892468519636,
          0.6016265915589479,
          -0.500658518765974,
          -0.500658518765974,
          -0.08809987827767862,
          -0.33925981894075447,
          -0.3551971503258359,
          0.05149068946527694,
          0.6293920965023105,
          -0.3551971503258359,
          -0.3551146047741951,
          4.337147012122648,
          -0.040787184044554156,
          -0.41987460999558585,
          -0.19606341990539358,
          -0.48723782005286725,
          -0.343286431215914,
          0.9483340148992845,
          -0.33925981894075447,
          0.5895467547334693,
          -0.028204020684680614,
          -0.06813392131130011,
          -0.34320187235813565,
          -0.08809987827767862,
          2.3037078131670836,
          -0.5007430776237524,
          -0.26795455546609187,
          -0.022079543414162937,
          1.6343680812795898,
          0.8897810325000521,
          -0.3551971503258359,
          -0.5007430776237524,
          -0.33925981894075447,
          0.9483340148992845,
          9.668550782149426,
          -0.04825252320269991,
          -0.4718018018960432,
          1.1874986775946599,
          -0.38699128085049556,
          -0.08809987827767862,
          -0.500658518765974,
          4.337147012122648,
          1.5862158383870948,
          1.546285937760475,
          -0.16301097304474657,
          0.4999546316111698,
          1.0280267117431041,
          4.636207532411021,
          2.061692308980895,
          2.084509107438086,
          0.5210943460557573,
          2.061692308980895,
          -0.500658518765974,
          -0.5007430776237524,
          -0.08809987827767862,
          -0.3551971503258359,
          0.8688084224648837,
          -0.500658518765974,
          0.7490167072788875,
          0.4700067028146707,
          2.084509107438086,
          1.008145313634504,
          3.6119380349173147,
          -0.5654205372935024,
          3.9345703434644728,
          -0.3292758338044964,
          -0.4046077095543185,
          1.6343680812795898,
          -0.48723782005286725,
          -0.25847591017036636,
          -0.08751199288550533,
          1.1477358813774596,
          -0.48723782005286725,
          -0.25847591017036636,
          -0.36853530348730185,
          1.1874986775946599,
          -0.04825252320269991,
          0.3504666508958721,
          -0.3551146047741951,
          0.9295438287172524,
          1.546285937760475,
          0.5496993996584907,
          -0.5007430776237524,
          0.5210943460557573,
          -0.500658518765974,
          -0.500658518765974,
          -0.500658518765974,
          -0.19606341990539358,
          1.4964566108553758,
          0.3503820920380938,
          1.4964566108553758,
          -0.3671098827418954,
          1.5862158383870948,
          -0.5007430776237524,
          0.151064784417697,
          3.9345703434644728,
          -0.500658518765974,
          -0.3551146047741951,
          1.5862158383870948,
          0.16163464163999072,
          -0.4707951488272534,
          0.9483340148992845,
          0.9295438287172524,
          -0.5007430776237524,
          0.4999546316111698,
          -0.11167166653646252,
          0.1909121394926757,
          -0.3551971503258359,
          -0.3292758338044964,
          -0.032146074102061765,
          0.7490167072788875,
          -0.25847591017036636,
          0.8985892468519636,
          0.06851923277692655,
          1.6343680812795898,
          -0.5007430776237524,
          9.668550782149426,
          0.8985892468519636,
          0.1909121394926757,
          -0.376085201503226,
          -0.5007430776237524,
          1.5862158383870948,
          3.9345703434644728,
          -0.3551971503258359,
          -0.33925981894075447,
          0.3504666508958721,
          3.9345703434644728,
          -0.26795455546609187,
          9.668550782149426,
          4.636207532411021,
          -0.500658518765974,
          0.151064784417697,
          -0.5007430776237524,
          -0.500658518765974,
          0.9483340148992845,
          -0.028204020684680614,
          -0.500658518765974,
          -0.4747372022446345,
          0.09880338369840133,
          0.09880338369840133,
          -0.3551971503258359,
          -0.500658518765974,
          1.0280267117431041,
          -0.04825252320269991,
          -0.022079543414162937,
          -0.516597863457193,
          -0.48723782005286725,
          1.1477358813774596,
          -0.33925981894075447,
          -0.25847591017036636,
          -0.500658518765974,
          -0.36719444159967374,
          -0.16301097304474657,
          -0.5007430776237524,
          1.0280267117431041,
          -0.0422126047899606
         ]
        },
        {
         "name": "Queenstown",
         "type": "box",
         "y": [
          -0.47591297302898106,
          -0.05982903349378355,
          -0.48455206966533587,
          -0.4875720288717055,
          -0.49017322040145855,
          -0.4875720288717055,
          -0.33414199473902667,
          -0.49017322040145855,
          -0.4894182305998661,
          -0.15999101383837694,
          -0.49017322040145855,
          -0.49017322040145855,
          -0.5103062817772562,
          -0.4905094425264344,
          -0.05982903349378355,
          -0.33414199473902667,
          -0.33414199473902667,
          -0.49017322040145855,
          -0.49017322040145855,
          -0.49017322040145855,
          -0.49017322040145855,
          -0.33414199473902667,
          1.1657710777578991,
          -0.49017322040145855,
          -0.49017322040145855,
          -0.49017322040145855,
          -0.05982903349378355,
          -0.49017322040145855,
          -0.49017322040145855,
          -0.49017322040145855,
          -0.17811076907659482,
          -0.3975611380727893,
          -0.3975611380727893,
          -0.17811076907659482,
          -0.4875720288717055,
          -0.4875720288717055,
          -0.33414199473902667,
          -0.49017322040145855,
          -0.4905919880780752,
          -0.5081258712302573,
          1.1657710777578991,
          -0.4905094425264344,
          -0.49017322040145855,
          -0.49017322040145855,
          -0.4906765469358535,
          -0.49017322040145855,
          -0.4926052942156549,
          -0.49017322040145855,
          -0.15999101383837694,
          -0.49017322040145855,
          -0.4885786819404954,
          -0.49017322040145855,
          -0.49017322040145855,
          -0.49017322040145855,
          -0.33414199473902667,
          -0.49017322040145855,
          -0.3975611380727893,
          -0.4905094425264344,
          -0.4885786819404954,
          -0.5103062817772562,
          -0.33414199473902667,
          -0.482371659118337,
          -0.4905094425264344,
          -0.49034032481087764,
          -0.33414199473902667,
          -0.49042488366865605,
          -0.49017322040145855,
          -0.49017322040145855,
          -0.15999101383837694,
          -0.49017322040145855,
          -0.49042488366865605,
          -0.05982903349378355,
          -0.49017322040145855,
          -0.5062796695020967,
          -0.49017322040145855,
          -0.05982903349378355,
          -0.49017322040145855
         ]
        },
        {
         "name": "Southampton",
         "type": "box",
         "y": [
          -0.5002397510893574,
          -0.48664993466069395,
          0.4228611129909654,
          -0.4841333019887193,
          0.39794644953841574,
          -0.22190017756895475,
          -0.4220570338487224,
          -0.3099823210880695,
          -0.11167166653646252,
          -0.4841333019887193,
          -0.016542951535818605,
          -0.4880753554061005,
          -0.32407546405112786,
          -0.38447464817852084,
          -0.28380934129953256,
          -0.12274485029315124,
          -0.38447464817852084,
          0.06851923277692655,
          -0.22190017756895475,
          -0.014277982131041355,
          4.648790695770894,
          -0.48723782005286725,
          -0.434807301618015,
          0.40071474547758795,
          -0.4841333019887193,
          -0.28380934129953256,
          -0.4554436895282076,
          -0.22341015717213955,
          -0.4841333019887193,
          -0.28783595357469205,
          0.15282642728807924,
          -0.48916656733266867,
          -0.12274485029315124,
          0.06851923277692655,
          -0.434807301618015,
          -0.08751199288550533,
          0.29803613246101984,
          1.0344028522808193,
          -0.08449203367913571,
          -0.434807301618015,
          -0.4819528914417204,
          -0.48664993466069395,
          -0.4718018018960432,
          -0.434807301618015,
          0.29803613246101984,
          0.8335755650572377,
          0.4912289628108992,
          -0.4921865265390384,
          -0.48723782005286725,
          -0.4841333019887193,
          -0.06234566616575826,
          -0.3950445054008146,
          -0.4650068936817115,
          -0.4549403629938127,
          0.30206274473617944,
          -0.434807301618015,
          -0.32709542325749746,
          0.045869538729154176,
          -0.4841333019887193,
          4.648790695770894,
          -0.4841333019887193,
          -0.4841333019887193,
          -0.4880753554061005,
          0.5854355836005315,
          -0.2319667082568536,
          -0.5002397510893574,
          -0.4841333019887193,
          -0.18314403442054422,
          -0.12274485029315124,
          -0.48723782005286725,
          -0.48723782005286725,
          0.9098295350180712,
          -0.47196890630546234,
          -0.48664993466069395,
          -0.48723782005286725,
          -0.4921865265390384,
          -0.48966989386706367,
          -0.48723782005286725,
          0.40071474547758795,
          -0.4841333019887193,
          -0.4483971180466784,
          -0.48664993466069395,
          -0.22341015717213955,
          -0.016542951535818605,
          0.8335755650572377,
          -0.4841333019887193,
          -0.38447464817852084,
          0.9098295350180712,
          -0.5024201616363563,
          -0.5057763429677017,
          -0.5042663633645169,
          -0.35427505611482435,
          -0.12274485029315124,
          -0.38447464817852084,
          -0.11704115400538775,
          0.4228611129909654,
          -0.46064405928157615,
          -0.49017322040145855,
          -0.32709542325749746,
          -0.41467424024221733,
          0.09368555949667362,
          -0.489251126190447,
          0.045869538729154176,
          -0.12274485029315124,
          -0.38447464817852084,
          -0.39403785233202476,
          0.6946574415642337,
          -0.4841333019887193,
          -0.35427505611482435,
          -0.49898143475337003,
          -0.4841333019887193,
          -0.4718018018960432,
          0.7540499726228369,
          -0.3220621579135481,
          -0.3291087293950773,
          -0.48966989386706367,
          -0.4718018018960432,
          0.15282642728807924,
          -0.23297336132564347,
          0.46111392960498093,
          -0.08449203367913571,
          -0.12425482989633606,
          0.4912289628108992,
          0.02825311002533122,
          -0.4220570338487224,
          -0.48664993466069395,
          -0.4880753554061005,
          -0.13348181192486414,
          -0.38447464817852084,
          -0.6462044460638905,
          0.7540499726228369,
          -0.014277982131041355,
          0.13898494759221836,
          -0.20277376926194698,
          0.36044862272599265,
          -0.11167166653646252,
          -0.48723782005286725,
          -0.38447464817852084,
          -0.38447464817852084,
          -0.4880753554061005,
          -0.12274485029315124,
          -0.4770021716494118,
          -0.38447464817852084,
          -0.4549403629938127,
          0.7540499726228369,
          -0.515424105978984,
          -0.4841333019887193,
          -0.43556229141960745,
          -0.32709542325749746,
          -0.5042663633645169,
          -0.22341015717213955,
          -0.5002397510893574,
          -0.38447464817852084,
          -0.48664993466069395,
          -0.10261178891735358,
          -0.434807301618015,
          -0.4841333019887193,
          -0.38447464817852084,
          -0.4841333019887193,
          -0.48723782005286725,
          1.1657710777578991,
          -0.4579603222001823,
          -0.434807301618015,
          -0.5002397510893574,
          -0.38447464817852084,
          -0.13348181192486414,
          1.0344028522808193,
          -0.48966989386706367,
          -0.374408117490622,
          -0.014277982131041355,
          -0.434807301618015,
          -0.4941998326766181,
          -0.12274485029315124,
          -0.11771158494920184,
          -0.434807301618015,
          -0.3990711176759742,
          -0.434807301618015,
          -0.5027563837613321,
          -0.48966989386706367,
          -0.35427505611482435,
          0.41187248809205507,
          -0.12274485029315124,
          -0.5002397510893574,
          -0.43556229141960745,
          -0.11167166653646252,
          -0.3220621579135481,
          -0.23926494300558024,
          1.0953053629426073,
          -0.12274485029315124,
          -0.014277982131041355,
          0.9573938925183935,
          -0.6462044460638905,
          -0.434807301618015,
          0.15282642728807924,
          -0.48966989386706367,
          2.443465485319458,
          2.084509107438086,
          -0.022079543414162937,
          -0.6462044460638905,
          -0.25360974923583607,
          0.9233347925889563,
          -0.49017322040145855,
          -0.6462044460638905,
          -0.2385099532039878,
          -0.4880753554061005,
          -0.4549403629938127,
          -0.4841333019887193,
          -0.12274485029315124,
          -0.4549403629938127,
          -0.48723782005286725,
          -0.38447464817852084,
          0.941287443417755,
          -0.4680268528880811,
          -0.48723782005286725,
          2.404961005438245,
          -0.032146074102061765,
          -0.6462044460638905,
          -0.4841333019887193,
          2.404961005438245,
          -0.12274485029315124,
          -0.48723782005286725,
          -0.11771158494920184,
          -0.4880753554061005,
          -0.12274485029315124,
          -0.36434158680272316,
          2.67306694386133,
          -0.5002397510893574,
          -0.48723782005286725,
          -0.06234566616575826,
          0.7540499726228369,
          -0.5206244757323525,
          -0.38447464817852084,
          -0.23297336132564347,
          -0.07241219685365709,
          2.443465485319458,
          -0.28380934129953256,
          2.044579206811467,
          -0.48723782005286725,
          0.6946574415642337,
          -0.4841333019887193,
          0.06851923277692655,
          -0.12274485029315124,
          4.648790695770894,
          -0.38447464817852084,
          -0.38447464817852084,
          -0.38447464817852084,
          -0.38447464817852084,
          -0.38447464817852084,
          -0.3220621579135481,
          -0.32608877018870763,
          -0.4718018018960432,
          -0.460476954872157,
          0.05845270208902771,
          -0.28783595357469205,
          -0.4549403629938127,
          0.46111392960498093,
          -0.38447464817852084,
          -0.08449203367913571,
          -0.5042663633645169,
          -0.5002397510893574,
          -0.515424105978984,
          -0.4841333019887193,
          -0.22190017756895475,
          -0.5002397510893574,
          -0.48966989386706367,
          -0.48664993466069395,
          0.40071474547758795,
          -0.48723782005286725,
          0.8335755650572377,
          0.29803613246101984,
          -0.38447464817852084,
          1.769762919031829,
          -0.489251126190447,
          -0.48664993466069395,
          -0.3099823210880695,
          -0.489251126190447,
          -0.4880753554061005,
          -0.12274485029315124,
          -0.434807301618015,
          -0.39152121966005005,
          -0.48664993466069395,
          -0.4841333019887193,
          -0.4483971180466784,
          -0.32709542325749746,
          -0.4718018018960432,
          -0.22341015717213955,
          -0.49017322040145855,
          -0.2687095452676843,
          -0.48966989386706367,
          -0.13348181192486414,
          -0.48723782005286725,
          -0.6462044460638905,
          -0.48664993466069395,
          -0.4841333019887193,
          0.008120048649533558,
          -0.38447464817852084,
          -0.38447464817852084,
          -0.15999101383837694,
          -0.4876565877294839,
          -0.3562883622524042,
          -0.23926494300558024,
          -0.5002397510893574,
          -0.12274485029315124,
          -0.12274485029315124,
          -0.4841333019887193,
          -0.11167166653646252,
          -0.3220621579135481,
          -0.12274485029315124,
          -0.5027563837613321,
          0.47923368484319884,
          1.769762919031829,
          0.045869538729154176,
          -0.2687095452676843,
          4.648790695770894,
          -0.434807301618015,
          -0.11771158494920184,
          -0.4549403629938127,
          -0.48966989386706367,
          -0.38447464817852084,
          -0.4828749856527319,
          1.0018537319545673,
          -0.25360974923583607,
          -0.11167166653646252,
          -0.032146074102061765,
          -0.08751199288550533,
          -0.24421364949175128,
          -0.4841333019887193,
          -0.11167166653646252,
          0.39794644953841574,
          -0.434807301618015,
          -0.11167166653646252,
          -0.4841333019887193,
          0.12891841690431952,
          -0.38447464817852084,
          -0.4841333019887193,
          -0.5042663633645169,
          -0.6462044460638905,
          -0.11167166653646252,
          -0.5002397510893574,
          -0.4718018018960432,
          -0.08751199288550533,
          -0.448145454779481,
          0.40071474547758795,
          -0.22341015717213955,
          -0.5043509222222953,
          -0.49478771806879135,
          -0.39881945440877664,
          0.29803613246101984,
          -0.6462044460638905,
          -0.4841333019887193,
          -0.4531787201234304,
          -0.13348181192486414,
          1.1657710777578991,
          -0.4841333019887193,
          -0.32608877018870763,
          -0.24421364949175128,
          -0.5002397510893574,
          -0.032146074102061765,
          -0.4841333019887193,
          -0.3421952192893457,
          2.404961005438245,
          -0.489251126190447,
          -0.4718018018960432,
          -0.4531787201234304,
          1.0953053629426073,
          -0.12274485029315124,
          -0.11167166653646252,
          -0.19270723857404815,
          0.4912289628108992,
          -0.4841333019887193,
          -0.1169565951476094,
          -0.49529104460318635,
          0.03873840838984667,
          -0.434807301618015,
          -0.12274485029315124,
          -0.48723782005286725,
          1.236236792573191,
          -0.48723782005286725,
          -0.434807301618015,
          3.8188897994114144,
          -0.48664993466069395,
          -0.41467424024221733,
          -0.12274485029315124,
          -0.4718018018960432,
          -0.11771158494920184,
          -0.11167166653646252,
          -0.35427505611482435,
          0.7832429116177435,
          -0.016542951535818605,
          -0.016542951535818605,
          -0.12274485029315124,
          -0.12274485029315124,
          -0.12274485029315124,
          -0.23297336132564347,
          0.09368555949667362,
          -0.12274485029315124,
          -0.48966989386706367,
          -0.11167166653646252,
          0.9573938925183935,
          -0.29588917812501114,
          -0.48723782005286725,
          -0.374408117490622,
          -0.4841333019887193,
          -0.4841333019887193,
          -0.15999101383837694,
          -0.48723782005286725,
          -0.22190017756895475,
          -0.4880753554061005,
          -0.434807301618015,
          0.3902294471130725,
          -0.11494328901002966,
          -0.4841333019887193,
          -0.35427505611482435,
          -0.38447464817852084,
          0.47923368484319884,
          -0.48664993466069395,
          -0.0422126047899606,
          -0.12274485029315124,
          0.9573938925183935,
          -0.34420852542692554,
          -0.4841333019887193,
          -0.4841333019887193,
          -0.5027563837613321,
          -0.5002397510893574,
          -0.12274485029315124,
          -0.15999101383837694,
          0.01818657933743239,
          -0.6462044460638905,
          -0.10261178891735358,
          -0.48723782005286725,
          0.20743735626993037,
          -0.4841333019887193,
          -0.3331353416702368,
          -0.48723782005286725,
          -0.032146074102061765,
          2.443465485319458,
          -0.016542951535818605,
          -0.5042663633645169,
          -0.4841333019887193,
          0.6624445433629575,
          -0.3562883622524042,
          -0.3220621579135481,
          0.13898494759221836,
          -0.434807301618015,
          0.41187248809205507,
          -0.4880753554061005,
          -0.3220621579135481,
          0.004512204050990585,
          0.9233347925889563,
          -0.48723782005286725,
          -0.0422126047899606,
          -0.5041818045067386,
          -0.6462044460638905,
          -0.08449203367913571,
          -0.38447464817852084,
          -0.48664993466069395,
          -0.11771158494920184,
          0.15282642728807924,
          -0.3220621579135481,
          -0.4880753554061005,
          -0.08449203367913571,
          0.4912289628108992,
          -0.48723782005286725,
          -0.4941998326766181,
          -0.4941998326766181,
          -0.48723782005286725,
          -0.18314403442054422,
          -0.47641629956337606,
          0.8335755650572377,
          -0.48723782005286725,
          -0.38447464817852084,
          2.044579206811467,
          -0.1310497381106678,
          -0.49529104460318635,
          -0.48664993466069395,
          0.8335755650572377,
          -0.38447464817852084,
          -0.48966989386706367,
          -0.4841333019887193,
          0.40071474547758795,
          0.13898494759221836,
          0.40071474547758795,
          -0.434807301618015,
          -0.38447464817852084,
          -0.6462044460638905,
          -0.48966989386706367,
          -0.4841333019887193,
          -0.4480608959217026,
          0.29803613246101984,
          -0.460476954872157,
          0.29803613246101984,
          0.13898494759221836,
          0.15282642728807924,
          -0.4414351054229276,
          -0.489251126190447,
          3.608666412443748,
          0.5013800523565762,
          0.4912289628108992,
          -0.11167166653646252,
          -0.374408117490622,
          -0.4841333019887193,
          -0.4921865265390384,
          -0.1169565951476094,
          -0.4880753554061005,
          -0.12274485029315124,
          -0.374408117490622,
          -0.1169565951476094,
          2.404961005438245,
          -0.11167166653646252,
          0.40071474547758795,
          -0.4552765851187885,
          -0.38447464817852084,
          -0.4921865265390384,
          -0.434807301618015,
          -0.48966989386706367,
          0.01818657933743239,
          -0.5041818045067386,
          -0.38447464817852084,
          -0.38447464817852084,
          0.4228611129909654,
          -0.4718018018960432,
          -0.22341015717213955,
          -0.12274485029315124,
          -0.48664993466069395,
          3.608666412443748,
          -0.6462044460638905,
          -0.38447464817852084,
          -0.38447464817852084,
          -0.3220621579135481,
          0.045869538729154176,
          -0.48723782005286725,
          -0.48723782005286725,
          -0.0422126047899606,
          0.941287443417755,
          -0.3220621579135481,
          -0.48664993466069395,
          0.7832429116177435,
          -0.2385099532039878,
          -0.38447464817852084,
          0.4228611129909654,
          -0.18314403442054422,
          -0.3950445054008146,
          -0.4549403629938127,
          -0.48723782005286725,
          0.6624445433629575,
          -0.35427505611482435,
          -0.489251126190447,
          -0.41467424024221733,
          -0.4841333019887193,
          1.0953053629426073,
          -0.35427505611482435,
          -0.5027563837613321,
          1.769762919031829,
          -0.48966989386706367,
          0.9233347925889563,
          -0.47784172030878247,
          -0.4549403629938127,
          -0.4880753554061005,
          -0.434807301618015,
          -0.18314403442054422,
          -0.49017322040145855,
          -0.3950445054008146,
          3.608666412443748,
          0.5013800523565762,
          -0.0422126047899606,
          -0.1740841568014353,
          -0.5042663633645169,
          -0.5002397510893574,
          -0.49529104460318635,
          -0.2319667082568536,
          -0.12274485029315124,
          0.7540499726228369,
          -0.48723782005286725,
          -0.38447464817852084,
          -0.12417027103855768,
          -0.4713830342194266,
          -0.15999101383837694,
          -0.38447464817852084,
          -0.11771158494920184,
          1.769762919031829,
          -0.5057763429677017,
          -0.48966989386706367,
          -0.6462044460638905,
          -0.48966989386706367,
          -0.38447464817852084,
          0.4228611129909654,
          -0.4874049244622864,
          -0.15999101383837694,
          -0.434807301618015,
          -0.016542951535818605,
          -0.4841333019887193,
          -0.6462044460638905,
          -0.48664993466069395,
          -0.5163462001899956,
          -0.08449203367913571,
          1.236236792573191,
          -0.4718018018960432,
          -0.6462044460638905,
          -0.3950445054008146,
          0.15282642728807924,
          0.4912289628108992,
          -0.2687095452676843,
          -0.4880753554061005,
          -0.47910003664476986,
          -0.4718018018960432,
          -0.4841333019887193,
          0.4912289628108992,
          -0.48664993466069395,
          -0.434807301618015,
          -0.4718018018960432,
          -0.4941998326766181,
          0.7540499726228369,
          0.01818657933743239,
          -0.016542951535818605,
          -0.48966989386706367,
          0.1470381721425374,
          -0.12274485029315124,
          -0.4579603222001823,
          2.67306694386133,
          -0.11167166653646252,
          -0.3621611762557243,
          -0.41467424024221733,
          -0.12417027103855768,
          0.7540499726228369,
          -0.38447464817852084,
          -0.38447464817852084,
          0.37043059455611316,
          -0.4549403629938127,
          -0.4220570338487224,
          -0.48723782005286725,
          0.41187248809205507,
          -0.5455391391849022,
          -0.4650068936817115,
          -0.44797835037006184,
          -0.48723782005286725,
          -0.48723782005286725,
          -0.12274485029315124,
          -0.48723782005286725,
          -0.4344710794930392,
          -0.434807301618015,
          -0.5042663633645169,
          -0.38447464817852084,
          -0.0422126047899606,
          -0.1740841568014353
         ]
        }
       ],
       "layout": {
        "template": {
         "data": {
          "bar": [
           {
            "error_x": {
             "color": "#2a3f5f"
            },
            "error_y": {
             "color": "#2a3f5f"
            },
            "marker": {
             "line": {
              "color": "#E5ECF6",
              "width": 0.5
             }
            },
            "type": "bar"
           }
          ],
          "barpolar": [
           {
            "marker": {
             "line": {
              "color": "#E5ECF6",
              "width": 0.5
             }
            },
            "type": "barpolar"
           }
          ],
          "carpet": [
           {
            "aaxis": {
             "endlinecolor": "#2a3f5f",
             "gridcolor": "white",
             "linecolor": "white",
             "minorgridcolor": "white",
             "startlinecolor": "#2a3f5f"
            },
            "baxis": {
             "endlinecolor": "#2a3f5f",
             "gridcolor": "white",
             "linecolor": "white",
             "minorgridcolor": "white",
             "startlinecolor": "#2a3f5f"
            },
            "type": "carpet"
           }
          ],
          "choropleth": [
           {
            "colorbar": {
             "outlinewidth": 0,
             "ticks": ""
            },
            "type": "choropleth"
           }
          ],
          "contour": [
           {
            "colorbar": {
             "outlinewidth": 0,
             "ticks": ""
            },
            "colorscale": [
             [
              0,
              "#0d0887"
             ],
             [
              0.1111111111111111,
              "#46039f"
             ],
             [
              0.2222222222222222,
              "#7201a8"
             ],
             [
              0.3333333333333333,
              "#9c179e"
             ],
             [
              0.4444444444444444,
              "#bd3786"
             ],
             [
              0.5555555555555556,
              "#d8576b"
             ],
             [
              0.6666666666666666,
              "#ed7953"
             ],
             [
              0.7777777777777778,
              "#fb9f3a"
             ],
             [
              0.8888888888888888,
              "#fdca26"
             ],
             [
              1,
              "#f0f921"
             ]
            ],
            "type": "contour"
           }
          ],
          "contourcarpet": [
           {
            "colorbar": {
             "outlinewidth": 0,
             "ticks": ""
            },
            "type": "contourcarpet"
           }
          ],
          "heatmap": [
           {
            "colorbar": {
             "outlinewidth": 0,
             "ticks": ""
            },
            "colorscale": [
             [
              0,
              "#0d0887"
             ],
             [
              0.1111111111111111,
              "#46039f"
             ],
             [
              0.2222222222222222,
              "#7201a8"
             ],
             [
              0.3333333333333333,
              "#9c179e"
             ],
             [
              0.4444444444444444,
              "#bd3786"
             ],
             [
              0.5555555555555556,
              "#d8576b"
             ],
             [
              0.6666666666666666,
              "#ed7953"
             ],
             [
              0.7777777777777778,
              "#fb9f3a"
             ],
             [
              0.8888888888888888,
              "#fdca26"
             ],
             [
              1,
              "#f0f921"
             ]
            ],
            "type": "heatmap"
           }
          ],
          "heatmapgl": [
           {
            "colorbar": {
             "outlinewidth": 0,
             "ticks": ""
            },
            "colorscale": [
             [
              0,
              "#0d0887"
             ],
             [
              0.1111111111111111,
              "#46039f"
             ],
             [
              0.2222222222222222,
              "#7201a8"
             ],
             [
              0.3333333333333333,
              "#9c179e"
             ],
             [
              0.4444444444444444,
              "#bd3786"
             ],
             [
              0.5555555555555556,
              "#d8576b"
             ],
             [
              0.6666666666666666,
              "#ed7953"
             ],
             [
              0.7777777777777778,
              "#fb9f3a"
             ],
             [
              0.8888888888888888,
              "#fdca26"
             ],
             [
              1,
              "#f0f921"
             ]
            ],
            "type": "heatmapgl"
           }
          ],
          "histogram": [
           {
            "marker": {
             "colorbar": {
              "outlinewidth": 0,
              "ticks": ""
             }
            },
            "type": "histogram"
           }
          ],
          "histogram2d": [
           {
            "colorbar": {
             "outlinewidth": 0,
             "ticks": ""
            },
            "colorscale": [
             [
              0,
              "#0d0887"
             ],
             [
              0.1111111111111111,
              "#46039f"
             ],
             [
              0.2222222222222222,
              "#7201a8"
             ],
             [
              0.3333333333333333,
              "#9c179e"
             ],
             [
              0.4444444444444444,
              "#bd3786"
             ],
             [
              0.5555555555555556,
              "#d8576b"
             ],
             [
              0.6666666666666666,
              "#ed7953"
             ],
             [
              0.7777777777777778,
              "#fb9f3a"
             ],
             [
              0.8888888888888888,
              "#fdca26"
             ],
             [
              1,
              "#f0f921"
             ]
            ],
            "type": "histogram2d"
           }
          ],
          "histogram2dcontour": [
           {
            "colorbar": {
             "outlinewidth": 0,
             "ticks": ""
            },
            "colorscale": [
             [
              0,
              "#0d0887"
             ],
             [
              0.1111111111111111,
              "#46039f"
             ],
             [
              0.2222222222222222,
              "#7201a8"
             ],
             [
              0.3333333333333333,
              "#9c179e"
             ],
             [
              0.4444444444444444,
              "#bd3786"
             ],
             [
              0.5555555555555556,
              "#d8576b"
             ],
             [
              0.6666666666666666,
              "#ed7953"
             ],
             [
              0.7777777777777778,
              "#fb9f3a"
             ],
             [
              0.8888888888888888,
              "#fdca26"
             ],
             [
              1,
              "#f0f921"
             ]
            ],
            "type": "histogram2dcontour"
           }
          ],
          "mesh3d": [
           {
            "colorbar": {
             "outlinewidth": 0,
             "ticks": ""
            },
            "type": "mesh3d"
           }
          ],
          "parcoords": [
           {
            "line": {
             "colorbar": {
              "outlinewidth": 0,
              "ticks": ""
             }
            },
            "type": "parcoords"
           }
          ],
          "pie": [
           {
            "automargin": true,
            "type": "pie"
           }
          ],
          "scatter": [
           {
            "marker": {
             "colorbar": {
              "outlinewidth": 0,
              "ticks": ""
             }
            },
            "type": "scatter"
           }
          ],
          "scatter3d": [
           {
            "line": {
             "colorbar": {
              "outlinewidth": 0,
              "ticks": ""
             }
            },
            "marker": {
             "colorbar": {
              "outlinewidth": 0,
              "ticks": ""
             }
            },
            "type": "scatter3d"
           }
          ],
          "scattercarpet": [
           {
            "marker": {
             "colorbar": {
              "outlinewidth": 0,
              "ticks": ""
             }
            },
            "type": "scattercarpet"
           }
          ],
          "scattergeo": [
           {
            "marker": {
             "colorbar": {
              "outlinewidth": 0,
              "ticks": ""
             }
            },
            "type": "scattergeo"
           }
          ],
          "scattergl": [
           {
            "marker": {
             "colorbar": {
              "outlinewidth": 0,
              "ticks": ""
             }
            },
            "type": "scattergl"
           }
          ],
          "scattermapbox": [
           {
            "marker": {
             "colorbar": {
              "outlinewidth": 0,
              "ticks": ""
             }
            },
            "type": "scattermapbox"
           }
          ],
          "scatterpolar": [
           {
            "marker": {
             "colorbar": {
              "outlinewidth": 0,
              "ticks": ""
             }
            },
            "type": "scatterpolar"
           }
          ],
          "scatterpolargl": [
           {
            "marker": {
             "colorbar": {
              "outlinewidth": 0,
              "ticks": ""
             }
            },
            "type": "scatterpolargl"
           }
          ],
          "scatterternary": [
           {
            "marker": {
             "colorbar": {
              "outlinewidth": 0,
              "ticks": ""
             }
            },
            "type": "scatterternary"
           }
          ],
          "surface": [
           {
            "colorbar": {
             "outlinewidth": 0,
             "ticks": ""
            },
            "colorscale": [
             [
              0,
              "#0d0887"
             ],
             [
              0.1111111111111111,
              "#46039f"
             ],
             [
              0.2222222222222222,
              "#7201a8"
             ],
             [
              0.3333333333333333,
              "#9c179e"
             ],
             [
              0.4444444444444444,
              "#bd3786"
             ],
             [
              0.5555555555555556,
              "#d8576b"
             ],
             [
              0.6666666666666666,
              "#ed7953"
             ],
             [
              0.7777777777777778,
              "#fb9f3a"
             ],
             [
              0.8888888888888888,
              "#fdca26"
             ],
             [
              1,
              "#f0f921"
             ]
            ],
            "type": "surface"
           }
          ],
          "table": [
           {
            "cells": {
             "fill": {
              "color": "#EBF0F8"
             },
             "line": {
              "color": "white"
             }
            },
            "header": {
             "fill": {
              "color": "#C8D4E3"
             },
             "line": {
              "color": "white"
             }
            },
            "type": "table"
           }
          ]
         },
         "layout": {
          "annotationdefaults": {
           "arrowcolor": "#2a3f5f",
           "arrowhead": 0,
           "arrowwidth": 1
          },
          "coloraxis": {
           "colorbar": {
            "outlinewidth": 0,
            "ticks": ""
           }
          },
          "colorscale": {
           "diverging": [
            [
             0,
             "#8e0152"
            ],
            [
             0.1,
             "#c51b7d"
            ],
            [
             0.2,
             "#de77ae"
            ],
            [
             0.3,
             "#f1b6da"
            ],
            [
             0.4,
             "#fde0ef"
            ],
            [
             0.5,
             "#f7f7f7"
            ],
            [
             0.6,
             "#e6f5d0"
            ],
            [
             0.7,
             "#b8e186"
            ],
            [
             0.8,
             "#7fbc41"
            ],
            [
             0.9,
             "#4d9221"
            ],
            [
             1,
             "#276419"
            ]
           ],
           "sequential": [
            [
             0,
             "#0d0887"
            ],
            [
             0.1111111111111111,
             "#46039f"
            ],
            [
             0.2222222222222222,
             "#7201a8"
            ],
            [
             0.3333333333333333,
             "#9c179e"
            ],
            [
             0.4444444444444444,
             "#bd3786"
            ],
            [
             0.5555555555555556,
             "#d8576b"
            ],
            [
             0.6666666666666666,
             "#ed7953"
            ],
            [
             0.7777777777777778,
             "#fb9f3a"
            ],
            [
             0.8888888888888888,
             "#fdca26"
            ],
            [
             1,
             "#f0f921"
            ]
           ],
           "sequentialminus": [
            [
             0,
             "#0d0887"
            ],
            [
             0.1111111111111111,
             "#46039f"
            ],
            [
             0.2222222222222222,
             "#7201a8"
            ],
            [
             0.3333333333333333,
             "#9c179e"
            ],
            [
             0.4444444444444444,
             "#bd3786"
            ],
            [
             0.5555555555555556,
             "#d8576b"
            ],
            [
             0.6666666666666666,
             "#ed7953"
            ],
            [
             0.7777777777777778,
             "#fb9f3a"
            ],
            [
             0.8888888888888888,
             "#fdca26"
            ],
            [
             1,
             "#f0f921"
            ]
           ]
          },
          "colorway": [
           "#636efa",
           "#EF553B",
           "#00cc96",
           "#ab63fa",
           "#FFA15A",
           "#19d3f3",
           "#FF6692",
           "#B6E880",
           "#FF97FF",
           "#FECB52"
          ],
          "font": {
           "color": "#2a3f5f"
          },
          "geo": {
           "bgcolor": "white",
           "lakecolor": "white",
           "landcolor": "#E5ECF6",
           "showlakes": true,
           "showland": true,
           "subunitcolor": "white"
          },
          "hoverlabel": {
           "align": "left"
          },
          "hovermode": "closest",
          "mapbox": {
           "style": "light"
          },
          "paper_bgcolor": "white",
          "plot_bgcolor": "#E5ECF6",
          "polar": {
           "angularaxis": {
            "gridcolor": "white",
            "linecolor": "white",
            "ticks": ""
           },
           "bgcolor": "#E5ECF6",
           "radialaxis": {
            "gridcolor": "white",
            "linecolor": "white",
            "ticks": ""
           }
          },
          "scene": {
           "xaxis": {
            "backgroundcolor": "#E5ECF6",
            "gridcolor": "white",
            "gridwidth": 2,
            "linecolor": "white",
            "showbackground": true,
            "ticks": "",
            "zerolinecolor": "white"
           },
           "yaxis": {
            "backgroundcolor": "#E5ECF6",
            "gridcolor": "white",
            "gridwidth": 2,
            "linecolor": "white",
            "showbackground": true,
            "ticks": "",
            "zerolinecolor": "white"
           },
           "zaxis": {
            "backgroundcolor": "#E5ECF6",
            "gridcolor": "white",
            "gridwidth": 2,
            "linecolor": "white",
            "showbackground": true,
            "ticks": "",
            "zerolinecolor": "white"
           }
          },
          "shapedefaults": {
           "line": {
            "color": "#2a3f5f"
           }
          },
          "ternary": {
           "aaxis": {
            "gridcolor": "white",
            "linecolor": "white",
            "ticks": ""
           },
           "baxis": {
            "gridcolor": "white",
            "linecolor": "white",
            "ticks": ""
           },
           "bgcolor": "#E5ECF6",
           "caxis": {
            "gridcolor": "white",
            "linecolor": "white",
            "ticks": ""
           }
          },
          "title": {
           "x": 0.05
          },
          "xaxis": {
           "automargin": true,
           "gridcolor": "white",
           "linecolor": "white",
           "ticks": "",
           "title": {
            "standoff": 15
           },
           "zerolinecolor": "white",
           "zerolinewidth": 2
          },
          "yaxis": {
           "automargin": true,
           "gridcolor": "white",
           "linecolor": "white",
           "ticks": "",
           "title": {
            "standoff": 15
           },
           "zerolinecolor": "white",
           "zerolinewidth": 2
          }
         }
        },
        "title": {
         "text": "Embarkment and Fares"
        }
       }
      },
      "text/html": [
       "<div>\n",
       "        \n",
       "        \n",
       "            <div id=\"92532a0d-52fa-437b-ae0e-c63d150587c5\" class=\"plotly-graph-div\" style=\"height:525px; width:100%;\"></div>\n",
       "            <script type=\"text/javascript\">\n",
       "                require([\"plotly\"], function(Plotly) {\n",
       "                    window.PLOTLYENV=window.PLOTLYENV || {};\n",
       "                    \n",
       "                if (document.getElementById(\"92532a0d-52fa-437b-ae0e-c63d150587c5\")) {\n",
       "                    Plotly.newPlot(\n",
       "                        '92532a0d-52fa-437b-ae0e-c63d150587c5',\n",
       "                        [{\"name\": \"Cherbourg\", \"type\": \"box\", \"y\": [0.788946607905507, -0.040787184044554156, -0.5007430776237524, -0.5007430776237524, -0.08809987827767862, 2.3037078131670836, 1.008145313634504, -0.500658518765974, -0.41987460999558585, -0.48723782005286725, 0.1909121394926757, -0.20973578188569775, 0.8985892468519636, 0.6016265915589479, -0.500658518765974, -0.500658518765974, -0.08809987827767862, -0.33925981894075447, -0.3551971503258359, 0.05149068946527694, 0.6293920965023105, -0.3551971503258359, -0.3551146047741951, 4.337147012122648, -0.040787184044554156, -0.41987460999558585, -0.19606341990539358, -0.48723782005286725, -0.343286431215914, 0.9483340148992845, -0.33925981894075447, 0.5895467547334693, -0.028204020684680614, -0.06813392131130011, -0.34320187235813565, -0.08809987827767862, 2.3037078131670836, -0.5007430776237524, -0.26795455546609187, -0.022079543414162937, 1.6343680812795898, 0.8897810325000521, -0.3551971503258359, -0.5007430776237524, -0.33925981894075447, 0.9483340148992845, 9.668550782149426, -0.04825252320269991, -0.4718018018960432, 1.1874986775946599, -0.38699128085049556, -0.08809987827767862, -0.500658518765974, 4.337147012122648, 1.5862158383870948, 1.546285937760475, -0.16301097304474657, 0.4999546316111698, 1.0280267117431041, 4.636207532411021, 2.061692308980895, 2.084509107438086, 0.5210943460557573, 2.061692308980895, -0.500658518765974, -0.5007430776237524, -0.08809987827767862, -0.3551971503258359, 0.8688084224648837, -0.500658518765974, 0.7490167072788875, 0.4700067028146707, 2.084509107438086, 1.008145313634504, 3.6119380349173147, -0.5654205372935024, 3.9345703434644728, -0.3292758338044964, -0.4046077095543185, 1.6343680812795898, -0.48723782005286725, -0.25847591017036636, -0.08751199288550533, 1.1477358813774596, -0.48723782005286725, -0.25847591017036636, -0.36853530348730185, 1.1874986775946599, -0.04825252320269991, 0.3504666508958721, -0.3551146047741951, 0.9295438287172524, 1.546285937760475, 0.5496993996584907, -0.5007430776237524, 0.5210943460557573, -0.500658518765974, -0.500658518765974, -0.500658518765974, -0.19606341990539358, 1.4964566108553758, 0.3503820920380938, 1.4964566108553758, -0.3671098827418954, 1.5862158383870948, -0.5007430776237524, 0.151064784417697, 3.9345703434644728, -0.500658518765974, -0.3551146047741951, 1.5862158383870948, 0.16163464163999072, -0.4707951488272534, 0.9483340148992845, 0.9295438287172524, -0.5007430776237524, 0.4999546316111698, -0.11167166653646252, 0.1909121394926757, -0.3551971503258359, -0.3292758338044964, -0.032146074102061765, 0.7490167072788875, -0.25847591017036636, 0.8985892468519636, 0.06851923277692655, 1.6343680812795898, -0.5007430776237524, 9.668550782149426, 0.8985892468519636, 0.1909121394926757, -0.376085201503226, -0.5007430776237524, 1.5862158383870948, 3.9345703434644728, -0.3551971503258359, -0.33925981894075447, 0.3504666508958721, 3.9345703434644728, -0.26795455546609187, 9.668550782149426, 4.636207532411021, -0.500658518765974, 0.151064784417697, -0.5007430776237524, -0.500658518765974, 0.9483340148992845, -0.028204020684680614, -0.500658518765974, -0.4747372022446345, 0.09880338369840133, 0.09880338369840133, -0.3551971503258359, -0.500658518765974, 1.0280267117431041, -0.04825252320269991, -0.022079543414162937, -0.516597863457193, -0.48723782005286725, 1.1477358813774596, -0.33925981894075447, -0.25847591017036636, -0.500658518765974, -0.36719444159967374, -0.16301097304474657, -0.5007430776237524, 1.0280267117431041, -0.0422126047899606]}, {\"name\": \"Queenstown\", \"type\": \"box\", \"y\": [-0.47591297302898106, -0.05982903349378355, -0.48455206966533587, -0.4875720288717055, -0.49017322040145855, -0.4875720288717055, -0.33414199473902667, -0.49017322040145855, -0.4894182305998661, -0.15999101383837694, -0.49017322040145855, -0.49017322040145855, -0.5103062817772562, -0.4905094425264344, -0.05982903349378355, -0.33414199473902667, -0.33414199473902667, -0.49017322040145855, -0.49017322040145855, -0.49017322040145855, -0.49017322040145855, -0.33414199473902667, 1.1657710777578991, -0.49017322040145855, -0.49017322040145855, -0.49017322040145855, -0.05982903349378355, -0.49017322040145855, -0.49017322040145855, -0.49017322040145855, -0.17811076907659482, -0.3975611380727893, -0.3975611380727893, -0.17811076907659482, -0.4875720288717055, -0.4875720288717055, -0.33414199473902667, -0.49017322040145855, -0.4905919880780752, -0.5081258712302573, 1.1657710777578991, -0.4905094425264344, -0.49017322040145855, -0.49017322040145855, -0.4906765469358535, -0.49017322040145855, -0.4926052942156549, -0.49017322040145855, -0.15999101383837694, -0.49017322040145855, -0.4885786819404954, -0.49017322040145855, -0.49017322040145855, -0.49017322040145855, -0.33414199473902667, -0.49017322040145855, -0.3975611380727893, -0.4905094425264344, -0.4885786819404954, -0.5103062817772562, -0.33414199473902667, -0.482371659118337, -0.4905094425264344, -0.49034032481087764, -0.33414199473902667, -0.49042488366865605, -0.49017322040145855, -0.49017322040145855, -0.15999101383837694, -0.49017322040145855, -0.49042488366865605, -0.05982903349378355, -0.49017322040145855, -0.5062796695020967, -0.49017322040145855, -0.05982903349378355, -0.49017322040145855]}, {\"name\": \"Southampton\", \"type\": \"box\", \"y\": [-0.5002397510893574, -0.48664993466069395, 0.4228611129909654, -0.4841333019887193, 0.39794644953841574, -0.22190017756895475, -0.4220570338487224, -0.3099823210880695, -0.11167166653646252, -0.4841333019887193, -0.016542951535818605, -0.4880753554061005, -0.32407546405112786, -0.38447464817852084, -0.28380934129953256, -0.12274485029315124, -0.38447464817852084, 0.06851923277692655, -0.22190017756895475, -0.014277982131041355, 4.648790695770894, -0.48723782005286725, -0.434807301618015, 0.40071474547758795, -0.4841333019887193, -0.28380934129953256, -0.4554436895282076, -0.22341015717213955, -0.4841333019887193, -0.28783595357469205, 0.15282642728807924, -0.48916656733266867, -0.12274485029315124, 0.06851923277692655, -0.434807301618015, -0.08751199288550533, 0.29803613246101984, 1.0344028522808193, -0.08449203367913571, -0.434807301618015, -0.4819528914417204, -0.48664993466069395, -0.4718018018960432, -0.434807301618015, 0.29803613246101984, 0.8335755650572377, 0.4912289628108992, -0.4921865265390384, -0.48723782005286725, -0.4841333019887193, -0.06234566616575826, -0.3950445054008146, -0.4650068936817115, -0.4549403629938127, 0.30206274473617944, -0.434807301618015, -0.32709542325749746, 0.045869538729154176, -0.4841333019887193, 4.648790695770894, -0.4841333019887193, -0.4841333019887193, -0.4880753554061005, 0.5854355836005315, -0.2319667082568536, -0.5002397510893574, -0.4841333019887193, -0.18314403442054422, -0.12274485029315124, -0.48723782005286725, -0.48723782005286725, 0.9098295350180712, -0.47196890630546234, -0.48664993466069395, -0.48723782005286725, -0.4921865265390384, -0.48966989386706367, -0.48723782005286725, 0.40071474547758795, -0.4841333019887193, -0.4483971180466784, -0.48664993466069395, -0.22341015717213955, -0.016542951535818605, 0.8335755650572377, -0.4841333019887193, -0.38447464817852084, 0.9098295350180712, -0.5024201616363563, -0.5057763429677017, -0.5042663633645169, -0.35427505611482435, -0.12274485029315124, -0.38447464817852084, -0.11704115400538775, 0.4228611129909654, -0.46064405928157615, -0.49017322040145855, -0.32709542325749746, -0.41467424024221733, 0.09368555949667362, -0.489251126190447, 0.045869538729154176, -0.12274485029315124, -0.38447464817852084, -0.39403785233202476, 0.6946574415642337, -0.4841333019887193, -0.35427505611482435, -0.49898143475337003, -0.4841333019887193, -0.4718018018960432, 0.7540499726228369, -0.3220621579135481, -0.3291087293950773, -0.48966989386706367, -0.4718018018960432, 0.15282642728807924, -0.23297336132564347, 0.46111392960498093, -0.08449203367913571, -0.12425482989633606, 0.4912289628108992, 0.02825311002533122, -0.4220570338487224, -0.48664993466069395, -0.4880753554061005, -0.13348181192486414, -0.38447464817852084, -0.6462044460638905, 0.7540499726228369, -0.014277982131041355, 0.13898494759221836, -0.20277376926194698, 0.36044862272599265, -0.11167166653646252, -0.48723782005286725, -0.38447464817852084, -0.38447464817852084, -0.4880753554061005, -0.12274485029315124, -0.4770021716494118, -0.38447464817852084, -0.4549403629938127, 0.7540499726228369, -0.515424105978984, -0.4841333019887193, -0.43556229141960745, -0.32709542325749746, -0.5042663633645169, -0.22341015717213955, -0.5002397510893574, -0.38447464817852084, -0.48664993466069395, -0.10261178891735358, -0.434807301618015, -0.4841333019887193, -0.38447464817852084, -0.4841333019887193, -0.48723782005286725, 1.1657710777578991, -0.4579603222001823, -0.434807301618015, -0.5002397510893574, -0.38447464817852084, -0.13348181192486414, 1.0344028522808193, -0.48966989386706367, -0.374408117490622, -0.014277982131041355, -0.434807301618015, -0.4941998326766181, -0.12274485029315124, -0.11771158494920184, -0.434807301618015, -0.3990711176759742, -0.434807301618015, -0.5027563837613321, -0.48966989386706367, -0.35427505611482435, 0.41187248809205507, -0.12274485029315124, -0.5002397510893574, -0.43556229141960745, -0.11167166653646252, -0.3220621579135481, -0.23926494300558024, 1.0953053629426073, -0.12274485029315124, -0.014277982131041355, 0.9573938925183935, -0.6462044460638905, -0.434807301618015, 0.15282642728807924, -0.48966989386706367, 2.443465485319458, 2.084509107438086, -0.022079543414162937, -0.6462044460638905, -0.25360974923583607, 0.9233347925889563, -0.49017322040145855, -0.6462044460638905, -0.2385099532039878, -0.4880753554061005, -0.4549403629938127, -0.4841333019887193, -0.12274485029315124, -0.4549403629938127, -0.48723782005286725, -0.38447464817852084, 0.941287443417755, -0.4680268528880811, -0.48723782005286725, 2.404961005438245, -0.032146074102061765, -0.6462044460638905, -0.4841333019887193, 2.404961005438245, -0.12274485029315124, -0.48723782005286725, -0.11771158494920184, -0.4880753554061005, -0.12274485029315124, -0.36434158680272316, 2.67306694386133, -0.5002397510893574, -0.48723782005286725, -0.06234566616575826, 0.7540499726228369, -0.5206244757323525, -0.38447464817852084, -0.23297336132564347, -0.07241219685365709, 2.443465485319458, -0.28380934129953256, 2.044579206811467, -0.48723782005286725, 0.6946574415642337, -0.4841333019887193, 0.06851923277692655, -0.12274485029315124, 4.648790695770894, -0.38447464817852084, -0.38447464817852084, -0.38447464817852084, -0.38447464817852084, -0.38447464817852084, -0.3220621579135481, -0.32608877018870763, -0.4718018018960432, -0.460476954872157, 0.05845270208902771, -0.28783595357469205, -0.4549403629938127, 0.46111392960498093, -0.38447464817852084, -0.08449203367913571, -0.5042663633645169, -0.5002397510893574, -0.515424105978984, -0.4841333019887193, -0.22190017756895475, -0.5002397510893574, -0.48966989386706367, -0.48664993466069395, 0.40071474547758795, -0.48723782005286725, 0.8335755650572377, 0.29803613246101984, -0.38447464817852084, 1.769762919031829, -0.489251126190447, -0.48664993466069395, -0.3099823210880695, -0.489251126190447, -0.4880753554061005, -0.12274485029315124, -0.434807301618015, -0.39152121966005005, -0.48664993466069395, -0.4841333019887193, -0.4483971180466784, -0.32709542325749746, -0.4718018018960432, -0.22341015717213955, -0.49017322040145855, -0.2687095452676843, -0.48966989386706367, -0.13348181192486414, -0.48723782005286725, -0.6462044460638905, -0.48664993466069395, -0.4841333019887193, 0.008120048649533558, -0.38447464817852084, -0.38447464817852084, -0.15999101383837694, -0.4876565877294839, -0.3562883622524042, -0.23926494300558024, -0.5002397510893574, -0.12274485029315124, -0.12274485029315124, -0.4841333019887193, -0.11167166653646252, -0.3220621579135481, -0.12274485029315124, -0.5027563837613321, 0.47923368484319884, 1.769762919031829, 0.045869538729154176, -0.2687095452676843, 4.648790695770894, -0.434807301618015, -0.11771158494920184, -0.4549403629938127, -0.48966989386706367, -0.38447464817852084, -0.4828749856527319, 1.0018537319545673, -0.25360974923583607, -0.11167166653646252, -0.032146074102061765, -0.08751199288550533, -0.24421364949175128, -0.4841333019887193, -0.11167166653646252, 0.39794644953841574, -0.434807301618015, -0.11167166653646252, -0.4841333019887193, 0.12891841690431952, -0.38447464817852084, -0.4841333019887193, -0.5042663633645169, -0.6462044460638905, -0.11167166653646252, -0.5002397510893574, -0.4718018018960432, -0.08751199288550533, -0.448145454779481, 0.40071474547758795, -0.22341015717213955, -0.5043509222222953, -0.49478771806879135, -0.39881945440877664, 0.29803613246101984, -0.6462044460638905, -0.4841333019887193, -0.4531787201234304, -0.13348181192486414, 1.1657710777578991, -0.4841333019887193, -0.32608877018870763, -0.24421364949175128, -0.5002397510893574, -0.032146074102061765, -0.4841333019887193, -0.3421952192893457, 2.404961005438245, -0.489251126190447, -0.4718018018960432, -0.4531787201234304, 1.0953053629426073, -0.12274485029315124, -0.11167166653646252, -0.19270723857404815, 0.4912289628108992, -0.4841333019887193, -0.1169565951476094, -0.49529104460318635, 0.03873840838984667, -0.434807301618015, -0.12274485029315124, -0.48723782005286725, 1.236236792573191, -0.48723782005286725, -0.434807301618015, 3.8188897994114144, -0.48664993466069395, -0.41467424024221733, -0.12274485029315124, -0.4718018018960432, -0.11771158494920184, -0.11167166653646252, -0.35427505611482435, 0.7832429116177435, -0.016542951535818605, -0.016542951535818605, -0.12274485029315124, -0.12274485029315124, -0.12274485029315124, -0.23297336132564347, 0.09368555949667362, -0.12274485029315124, -0.48966989386706367, -0.11167166653646252, 0.9573938925183935, -0.29588917812501114, -0.48723782005286725, -0.374408117490622, -0.4841333019887193, -0.4841333019887193, -0.15999101383837694, -0.48723782005286725, -0.22190017756895475, -0.4880753554061005, -0.434807301618015, 0.3902294471130725, -0.11494328901002966, -0.4841333019887193, -0.35427505611482435, -0.38447464817852084, 0.47923368484319884, -0.48664993466069395, -0.0422126047899606, -0.12274485029315124, 0.9573938925183935, -0.34420852542692554, -0.4841333019887193, -0.4841333019887193, -0.5027563837613321, -0.5002397510893574, -0.12274485029315124, -0.15999101383837694, 0.01818657933743239, -0.6462044460638905, -0.10261178891735358, -0.48723782005286725, 0.20743735626993037, -0.4841333019887193, -0.3331353416702368, -0.48723782005286725, -0.032146074102061765, 2.443465485319458, -0.016542951535818605, -0.5042663633645169, -0.4841333019887193, 0.6624445433629575, -0.3562883622524042, -0.3220621579135481, 0.13898494759221836, -0.434807301618015, 0.41187248809205507, -0.4880753554061005, -0.3220621579135481, 0.004512204050990585, 0.9233347925889563, -0.48723782005286725, -0.0422126047899606, -0.5041818045067386, -0.6462044460638905, -0.08449203367913571, -0.38447464817852084, -0.48664993466069395, -0.11771158494920184, 0.15282642728807924, -0.3220621579135481, -0.4880753554061005, -0.08449203367913571, 0.4912289628108992, -0.48723782005286725, -0.4941998326766181, -0.4941998326766181, -0.48723782005286725, -0.18314403442054422, -0.47641629956337606, 0.8335755650572377, -0.48723782005286725, -0.38447464817852084, 2.044579206811467, -0.1310497381106678, -0.49529104460318635, -0.48664993466069395, 0.8335755650572377, -0.38447464817852084, -0.48966989386706367, -0.4841333019887193, 0.40071474547758795, 0.13898494759221836, 0.40071474547758795, -0.434807301618015, -0.38447464817852084, -0.6462044460638905, -0.48966989386706367, -0.4841333019887193, -0.4480608959217026, 0.29803613246101984, -0.460476954872157, 0.29803613246101984, 0.13898494759221836, 0.15282642728807924, -0.4414351054229276, -0.489251126190447, 3.608666412443748, 0.5013800523565762, 0.4912289628108992, -0.11167166653646252, -0.374408117490622, -0.4841333019887193, -0.4921865265390384, -0.1169565951476094, -0.4880753554061005, -0.12274485029315124, -0.374408117490622, -0.1169565951476094, 2.404961005438245, -0.11167166653646252, 0.40071474547758795, -0.4552765851187885, -0.38447464817852084, -0.4921865265390384, -0.434807301618015, -0.48966989386706367, 0.01818657933743239, -0.5041818045067386, -0.38447464817852084, -0.38447464817852084, 0.4228611129909654, -0.4718018018960432, -0.22341015717213955, -0.12274485029315124, -0.48664993466069395, 3.608666412443748, -0.6462044460638905, -0.38447464817852084, -0.38447464817852084, -0.3220621579135481, 0.045869538729154176, -0.48723782005286725, -0.48723782005286725, -0.0422126047899606, 0.941287443417755, -0.3220621579135481, -0.48664993466069395, 0.7832429116177435, -0.2385099532039878, -0.38447464817852084, 0.4228611129909654, -0.18314403442054422, -0.3950445054008146, -0.4549403629938127, -0.48723782005286725, 0.6624445433629575, -0.35427505611482435, -0.489251126190447, -0.41467424024221733, -0.4841333019887193, 1.0953053629426073, -0.35427505611482435, -0.5027563837613321, 1.769762919031829, -0.48966989386706367, 0.9233347925889563, -0.47784172030878247, -0.4549403629938127, -0.4880753554061005, -0.434807301618015, -0.18314403442054422, -0.49017322040145855, -0.3950445054008146, 3.608666412443748, 0.5013800523565762, -0.0422126047899606, -0.1740841568014353, -0.5042663633645169, -0.5002397510893574, -0.49529104460318635, -0.2319667082568536, -0.12274485029315124, 0.7540499726228369, -0.48723782005286725, -0.38447464817852084, -0.12417027103855768, -0.4713830342194266, -0.15999101383837694, -0.38447464817852084, -0.11771158494920184, 1.769762919031829, -0.5057763429677017, -0.48966989386706367, -0.6462044460638905, -0.48966989386706367, -0.38447464817852084, 0.4228611129909654, -0.4874049244622864, -0.15999101383837694, -0.434807301618015, -0.016542951535818605, -0.4841333019887193, -0.6462044460638905, -0.48664993466069395, -0.5163462001899956, -0.08449203367913571, 1.236236792573191, -0.4718018018960432, -0.6462044460638905, -0.3950445054008146, 0.15282642728807924, 0.4912289628108992, -0.2687095452676843, -0.4880753554061005, -0.47910003664476986, -0.4718018018960432, -0.4841333019887193, 0.4912289628108992, -0.48664993466069395, -0.434807301618015, -0.4718018018960432, -0.4941998326766181, 0.7540499726228369, 0.01818657933743239, -0.016542951535818605, -0.48966989386706367, 0.1470381721425374, -0.12274485029315124, -0.4579603222001823, 2.67306694386133, -0.11167166653646252, -0.3621611762557243, -0.41467424024221733, -0.12417027103855768, 0.7540499726228369, -0.38447464817852084, -0.38447464817852084, 0.37043059455611316, -0.4549403629938127, -0.4220570338487224, -0.48723782005286725, 0.41187248809205507, -0.5455391391849022, -0.4650068936817115, -0.44797835037006184, -0.48723782005286725, -0.48723782005286725, -0.12274485029315124, -0.48723782005286725, -0.4344710794930392, -0.434807301618015, -0.5042663633645169, -0.38447464817852084, -0.0422126047899606, -0.1740841568014353]}],\n",
       "                        {\"template\": {\"data\": {\"bar\": [{\"error_x\": {\"color\": \"#2a3f5f\"}, \"error_y\": {\"color\": \"#2a3f5f\"}, \"marker\": {\"line\": {\"color\": \"#E5ECF6\", \"width\": 0.5}}, \"type\": \"bar\"}], \"barpolar\": [{\"marker\": {\"line\": {\"color\": \"#E5ECF6\", \"width\": 0.5}}, \"type\": \"barpolar\"}], \"carpet\": [{\"aaxis\": {\"endlinecolor\": \"#2a3f5f\", \"gridcolor\": \"white\", \"linecolor\": \"white\", \"minorgridcolor\": \"white\", \"startlinecolor\": \"#2a3f5f\"}, \"baxis\": {\"endlinecolor\": \"#2a3f5f\", \"gridcolor\": \"white\", \"linecolor\": \"white\", \"minorgridcolor\": \"white\", \"startlinecolor\": \"#2a3f5f\"}, \"type\": \"carpet\"}], \"choropleth\": [{\"colorbar\": {\"outlinewidth\": 0, \"ticks\": \"\"}, \"type\": \"choropleth\"}], \"contour\": [{\"colorbar\": {\"outlinewidth\": 0, \"ticks\": \"\"}, \"colorscale\": [[0.0, \"#0d0887\"], [0.1111111111111111, \"#46039f\"], [0.2222222222222222, \"#7201a8\"], [0.3333333333333333, \"#9c179e\"], [0.4444444444444444, \"#bd3786\"], [0.5555555555555556, \"#d8576b\"], [0.6666666666666666, \"#ed7953\"], [0.7777777777777778, \"#fb9f3a\"], [0.8888888888888888, \"#fdca26\"], [1.0, \"#f0f921\"]], \"type\": \"contour\"}], \"contourcarpet\": [{\"colorbar\": {\"outlinewidth\": 0, \"ticks\": \"\"}, \"type\": \"contourcarpet\"}], \"heatmap\": [{\"colorbar\": {\"outlinewidth\": 0, \"ticks\": \"\"}, \"colorscale\": [[0.0, \"#0d0887\"], [0.1111111111111111, \"#46039f\"], [0.2222222222222222, \"#7201a8\"], [0.3333333333333333, \"#9c179e\"], [0.4444444444444444, \"#bd3786\"], [0.5555555555555556, \"#d8576b\"], [0.6666666666666666, \"#ed7953\"], [0.7777777777777778, \"#fb9f3a\"], [0.8888888888888888, \"#fdca26\"], [1.0, \"#f0f921\"]], \"type\": \"heatmap\"}], \"heatmapgl\": [{\"colorbar\": {\"outlinewidth\": 0, \"ticks\": \"\"}, \"colorscale\": [[0.0, \"#0d0887\"], [0.1111111111111111, \"#46039f\"], [0.2222222222222222, \"#7201a8\"], [0.3333333333333333, \"#9c179e\"], [0.4444444444444444, \"#bd3786\"], [0.5555555555555556, \"#d8576b\"], [0.6666666666666666, \"#ed7953\"], [0.7777777777777778, \"#fb9f3a\"], [0.8888888888888888, \"#fdca26\"], [1.0, \"#f0f921\"]], \"type\": \"heatmapgl\"}], \"histogram\": [{\"marker\": {\"colorbar\": {\"outlinewidth\": 0, \"ticks\": \"\"}}, \"type\": \"histogram\"}], \"histogram2d\": [{\"colorbar\": {\"outlinewidth\": 0, \"ticks\": \"\"}, \"colorscale\": [[0.0, \"#0d0887\"], [0.1111111111111111, \"#46039f\"], [0.2222222222222222, \"#7201a8\"], [0.3333333333333333, \"#9c179e\"], [0.4444444444444444, \"#bd3786\"], [0.5555555555555556, \"#d8576b\"], [0.6666666666666666, \"#ed7953\"], [0.7777777777777778, \"#fb9f3a\"], [0.8888888888888888, \"#fdca26\"], [1.0, \"#f0f921\"]], \"type\": \"histogram2d\"}], \"histogram2dcontour\": [{\"colorbar\": {\"outlinewidth\": 0, \"ticks\": \"\"}, \"colorscale\": [[0.0, \"#0d0887\"], [0.1111111111111111, \"#46039f\"], [0.2222222222222222, \"#7201a8\"], [0.3333333333333333, \"#9c179e\"], [0.4444444444444444, \"#bd3786\"], [0.5555555555555556, \"#d8576b\"], [0.6666666666666666, \"#ed7953\"], [0.7777777777777778, \"#fb9f3a\"], [0.8888888888888888, \"#fdca26\"], [1.0, \"#f0f921\"]], \"type\": \"histogram2dcontour\"}], \"mesh3d\": [{\"colorbar\": {\"outlinewidth\": 0, \"ticks\": \"\"}, \"type\": \"mesh3d\"}], \"parcoords\": [{\"line\": {\"colorbar\": {\"outlinewidth\": 0, \"ticks\": \"\"}}, \"type\": \"parcoords\"}], \"pie\": [{\"automargin\": true, \"type\": \"pie\"}], \"scatter\": [{\"marker\": {\"colorbar\": {\"outlinewidth\": 0, \"ticks\": \"\"}}, \"type\": \"scatter\"}], \"scatter3d\": [{\"line\": {\"colorbar\": {\"outlinewidth\": 0, \"ticks\": \"\"}}, \"marker\": {\"colorbar\": {\"outlinewidth\": 0, \"ticks\": \"\"}}, \"type\": \"scatter3d\"}], \"scattercarpet\": [{\"marker\": {\"colorbar\": {\"outlinewidth\": 0, \"ticks\": \"\"}}, \"type\": \"scattercarpet\"}], \"scattergeo\": [{\"marker\": {\"colorbar\": {\"outlinewidth\": 0, \"ticks\": \"\"}}, \"type\": \"scattergeo\"}], \"scattergl\": [{\"marker\": {\"colorbar\": {\"outlinewidth\": 0, \"ticks\": \"\"}}, \"type\": \"scattergl\"}], \"scattermapbox\": [{\"marker\": {\"colorbar\": {\"outlinewidth\": 0, \"ticks\": \"\"}}, \"type\": \"scattermapbox\"}], \"scatterpolar\": [{\"marker\": {\"colorbar\": {\"outlinewidth\": 0, \"ticks\": \"\"}}, \"type\": \"scatterpolar\"}], \"scatterpolargl\": [{\"marker\": {\"colorbar\": {\"outlinewidth\": 0, \"ticks\": \"\"}}, \"type\": \"scatterpolargl\"}], \"scatterternary\": [{\"marker\": {\"colorbar\": {\"outlinewidth\": 0, \"ticks\": \"\"}}, \"type\": \"scatterternary\"}], \"surface\": [{\"colorbar\": {\"outlinewidth\": 0, \"ticks\": \"\"}, \"colorscale\": [[0.0, \"#0d0887\"], [0.1111111111111111, \"#46039f\"], [0.2222222222222222, \"#7201a8\"], [0.3333333333333333, \"#9c179e\"], [0.4444444444444444, \"#bd3786\"], [0.5555555555555556, \"#d8576b\"], [0.6666666666666666, \"#ed7953\"], [0.7777777777777778, \"#fb9f3a\"], [0.8888888888888888, \"#fdca26\"], [1.0, \"#f0f921\"]], \"type\": \"surface\"}], \"table\": [{\"cells\": {\"fill\": {\"color\": \"#EBF0F8\"}, \"line\": {\"color\": \"white\"}}, \"header\": {\"fill\": {\"color\": \"#C8D4E3\"}, \"line\": {\"color\": \"white\"}}, \"type\": \"table\"}]}, \"layout\": {\"annotationdefaults\": {\"arrowcolor\": \"#2a3f5f\", \"arrowhead\": 0, \"arrowwidth\": 1}, \"coloraxis\": {\"colorbar\": {\"outlinewidth\": 0, \"ticks\": \"\"}}, \"colorscale\": {\"diverging\": [[0, \"#8e0152\"], [0.1, \"#c51b7d\"], [0.2, \"#de77ae\"], [0.3, \"#f1b6da\"], [0.4, \"#fde0ef\"], [0.5, \"#f7f7f7\"], [0.6, \"#e6f5d0\"], [0.7, \"#b8e186\"], [0.8, \"#7fbc41\"], [0.9, \"#4d9221\"], [1, \"#276419\"]], \"sequential\": [[0.0, \"#0d0887\"], [0.1111111111111111, \"#46039f\"], [0.2222222222222222, \"#7201a8\"], [0.3333333333333333, \"#9c179e\"], [0.4444444444444444, \"#bd3786\"], [0.5555555555555556, \"#d8576b\"], [0.6666666666666666, \"#ed7953\"], [0.7777777777777778, \"#fb9f3a\"], [0.8888888888888888, \"#fdca26\"], [1.0, \"#f0f921\"]], \"sequentialminus\": [[0.0, \"#0d0887\"], [0.1111111111111111, \"#46039f\"], [0.2222222222222222, \"#7201a8\"], [0.3333333333333333, \"#9c179e\"], [0.4444444444444444, \"#bd3786\"], [0.5555555555555556, \"#d8576b\"], [0.6666666666666666, \"#ed7953\"], [0.7777777777777778, \"#fb9f3a\"], [0.8888888888888888, \"#fdca26\"], [1.0, \"#f0f921\"]]}, \"colorway\": [\"#636efa\", \"#EF553B\", \"#00cc96\", \"#ab63fa\", \"#FFA15A\", \"#19d3f3\", \"#FF6692\", \"#B6E880\", \"#FF97FF\", \"#FECB52\"], \"font\": {\"color\": \"#2a3f5f\"}, \"geo\": {\"bgcolor\": \"white\", \"lakecolor\": \"white\", \"landcolor\": \"#E5ECF6\", \"showlakes\": true, \"showland\": true, \"subunitcolor\": \"white\"}, \"hoverlabel\": {\"align\": \"left\"}, \"hovermode\": \"closest\", \"mapbox\": {\"style\": \"light\"}, \"paper_bgcolor\": \"white\", \"plot_bgcolor\": \"#E5ECF6\", \"polar\": {\"angularaxis\": {\"gridcolor\": \"white\", \"linecolor\": \"white\", \"ticks\": \"\"}, \"bgcolor\": \"#E5ECF6\", \"radialaxis\": {\"gridcolor\": \"white\", \"linecolor\": \"white\", \"ticks\": \"\"}}, \"scene\": {\"xaxis\": {\"backgroundcolor\": \"#E5ECF6\", \"gridcolor\": \"white\", \"gridwidth\": 2, \"linecolor\": \"white\", \"showbackground\": true, \"ticks\": \"\", \"zerolinecolor\": \"white\"}, \"yaxis\": {\"backgroundcolor\": \"#E5ECF6\", \"gridcolor\": \"white\", \"gridwidth\": 2, \"linecolor\": \"white\", \"showbackground\": true, \"ticks\": \"\", \"zerolinecolor\": \"white\"}, \"zaxis\": {\"backgroundcolor\": \"#E5ECF6\", \"gridcolor\": \"white\", \"gridwidth\": 2, \"linecolor\": \"white\", \"showbackground\": true, \"ticks\": \"\", \"zerolinecolor\": \"white\"}}, \"shapedefaults\": {\"line\": {\"color\": \"#2a3f5f\"}}, \"ternary\": {\"aaxis\": {\"gridcolor\": \"white\", \"linecolor\": \"white\", \"ticks\": \"\"}, \"baxis\": {\"gridcolor\": \"white\", \"linecolor\": \"white\", \"ticks\": \"\"}, \"bgcolor\": \"#E5ECF6\", \"caxis\": {\"gridcolor\": \"white\", \"linecolor\": \"white\", \"ticks\": \"\"}}, \"title\": {\"x\": 0.05}, \"xaxis\": {\"automargin\": true, \"gridcolor\": \"white\", \"linecolor\": \"white\", \"ticks\": \"\", \"title\": {\"standoff\": 15}, \"zerolinecolor\": \"white\", \"zerolinewidth\": 2}, \"yaxis\": {\"automargin\": true, \"gridcolor\": \"white\", \"linecolor\": \"white\", \"ticks\": \"\", \"title\": {\"standoff\": 15}, \"zerolinecolor\": \"white\", \"zerolinewidth\": 2}}}, \"title\": {\"text\": \"Embarkment and Fares\"}},\n",
       "                        {\"responsive\": true}\n",
       "                    ).then(function(){\n",
       "                            \n",
       "var gd = document.getElementById('92532a0d-52fa-437b-ae0e-c63d150587c5');\n",
       "var x = new MutationObserver(function (mutations, observer) {{\n",
       "        var display = window.getComputedStyle(gd).display;\n",
       "        if (!display || display === 'none') {{\n",
       "            console.log([gd, 'removed!']);\n",
       "            Plotly.purge(gd);\n",
       "            observer.disconnect();\n",
       "        }}\n",
       "}});\n",
       "\n",
       "// Listen for the removal of the full notebook cells\n",
       "var notebookContainer = gd.closest('#notebook-container');\n",
       "if (notebookContainer) {{\n",
       "    x.observe(notebookContainer, {childList: true});\n",
       "}}\n",
       "\n",
       "// Listen for the clearing of the current output cell\n",
       "var outputEl = gd.closest('.output');\n",
       "if (outputEl) {{\n",
       "    x.observe(outputEl, {childList: true});\n",
       "}}\n",
       "\n",
       "                        })\n",
       "                };\n",
       "                });\n",
       "            </script>\n",
       "        </div>"
      ]
     },
     "metadata": {},
     "output_type": "display_data"
    }
   ],
   "source": [
    "iplot(fare_box_fig)"
   ]
  },
  {
   "cell_type": "markdown",
   "metadata": {},
   "source": [
    "### Bar Chart, embarked - passenger class\n",
    "\n",
    "    The more privileged passengers in percentage arrived from Cherbourg, then Southampton. But if we consider the majority then it was from Southampton (because they were a lot more passengers from there). Queenstown had the less amount of privileged passengers. "
   ]
  },
  {
   "cell_type": "code",
   "execution_count": 62,
   "metadata": {
    "scrolled": false
   },
   "outputs": [
    {
     "data": {
      "application/vnd.plotly.v1+json": {
       "config": {
        "linkText": "Export to plot.ly",
        "plotlyServerURL": "https://plot.ly",
        "showLink": false
       },
       "data": [
        {
         "name": "Upper Class",
         "type": "bar",
         "x": [
          "Cherbourg",
          "Queenstown",
          "Southampton"
         ],
         "y": [
          85,
          2,
          127
         ]
        },
        {
         "name": "Middle Class",
         "type": "bar",
         "x": [
          "Cherbourg",
          "Queenstown",
          "Southampton"
         ],
         "y": [
          17,
          3,
          164
         ]
        },
        {
         "name": "Lower Class",
         "type": "bar",
         "x": [
          "Cherbourg",
          "Queenstown",
          "Southampton"
         ],
         "y": [
          66,
          72,
          353
         ]
        }
       ],
       "layout": {
        "template": {
         "data": {
          "bar": [
           {
            "error_x": {
             "color": "#2a3f5f"
            },
            "error_y": {
             "color": "#2a3f5f"
            },
            "marker": {
             "line": {
              "color": "#E5ECF6",
              "width": 0.5
             }
            },
            "type": "bar"
           }
          ],
          "barpolar": [
           {
            "marker": {
             "line": {
              "color": "#E5ECF6",
              "width": 0.5
             }
            },
            "type": "barpolar"
           }
          ],
          "carpet": [
           {
            "aaxis": {
             "endlinecolor": "#2a3f5f",
             "gridcolor": "white",
             "linecolor": "white",
             "minorgridcolor": "white",
             "startlinecolor": "#2a3f5f"
            },
            "baxis": {
             "endlinecolor": "#2a3f5f",
             "gridcolor": "white",
             "linecolor": "white",
             "minorgridcolor": "white",
             "startlinecolor": "#2a3f5f"
            },
            "type": "carpet"
           }
          ],
          "choropleth": [
           {
            "colorbar": {
             "outlinewidth": 0,
             "ticks": ""
            },
            "type": "choropleth"
           }
          ],
          "contour": [
           {
            "colorbar": {
             "outlinewidth": 0,
             "ticks": ""
            },
            "colorscale": [
             [
              0,
              "#0d0887"
             ],
             [
              0.1111111111111111,
              "#46039f"
             ],
             [
              0.2222222222222222,
              "#7201a8"
             ],
             [
              0.3333333333333333,
              "#9c179e"
             ],
             [
              0.4444444444444444,
              "#bd3786"
             ],
             [
              0.5555555555555556,
              "#d8576b"
             ],
             [
              0.6666666666666666,
              "#ed7953"
             ],
             [
              0.7777777777777778,
              "#fb9f3a"
             ],
             [
              0.8888888888888888,
              "#fdca26"
             ],
             [
              1,
              "#f0f921"
             ]
            ],
            "type": "contour"
           }
          ],
          "contourcarpet": [
           {
            "colorbar": {
             "outlinewidth": 0,
             "ticks": ""
            },
            "type": "contourcarpet"
           }
          ],
          "heatmap": [
           {
            "colorbar": {
             "outlinewidth": 0,
             "ticks": ""
            },
            "colorscale": [
             [
              0,
              "#0d0887"
             ],
             [
              0.1111111111111111,
              "#46039f"
             ],
             [
              0.2222222222222222,
              "#7201a8"
             ],
             [
              0.3333333333333333,
              "#9c179e"
             ],
             [
              0.4444444444444444,
              "#bd3786"
             ],
             [
              0.5555555555555556,
              "#d8576b"
             ],
             [
              0.6666666666666666,
              "#ed7953"
             ],
             [
              0.7777777777777778,
              "#fb9f3a"
             ],
             [
              0.8888888888888888,
              "#fdca26"
             ],
             [
              1,
              "#f0f921"
             ]
            ],
            "type": "heatmap"
           }
          ],
          "heatmapgl": [
           {
            "colorbar": {
             "outlinewidth": 0,
             "ticks": ""
            },
            "colorscale": [
             [
              0,
              "#0d0887"
             ],
             [
              0.1111111111111111,
              "#46039f"
             ],
             [
              0.2222222222222222,
              "#7201a8"
             ],
             [
              0.3333333333333333,
              "#9c179e"
             ],
             [
              0.4444444444444444,
              "#bd3786"
             ],
             [
              0.5555555555555556,
              "#d8576b"
             ],
             [
              0.6666666666666666,
              "#ed7953"
             ],
             [
              0.7777777777777778,
              "#fb9f3a"
             ],
             [
              0.8888888888888888,
              "#fdca26"
             ],
             [
              1,
              "#f0f921"
             ]
            ],
            "type": "heatmapgl"
           }
          ],
          "histogram": [
           {
            "marker": {
             "colorbar": {
              "outlinewidth": 0,
              "ticks": ""
             }
            },
            "type": "histogram"
           }
          ],
          "histogram2d": [
           {
            "colorbar": {
             "outlinewidth": 0,
             "ticks": ""
            },
            "colorscale": [
             [
              0,
              "#0d0887"
             ],
             [
              0.1111111111111111,
              "#46039f"
             ],
             [
              0.2222222222222222,
              "#7201a8"
             ],
             [
              0.3333333333333333,
              "#9c179e"
             ],
             [
              0.4444444444444444,
              "#bd3786"
             ],
             [
              0.5555555555555556,
              "#d8576b"
             ],
             [
              0.6666666666666666,
              "#ed7953"
             ],
             [
              0.7777777777777778,
              "#fb9f3a"
             ],
             [
              0.8888888888888888,
              "#fdca26"
             ],
             [
              1,
              "#f0f921"
             ]
            ],
            "type": "histogram2d"
           }
          ],
          "histogram2dcontour": [
           {
            "colorbar": {
             "outlinewidth": 0,
             "ticks": ""
            },
            "colorscale": [
             [
              0,
              "#0d0887"
             ],
             [
              0.1111111111111111,
              "#46039f"
             ],
             [
              0.2222222222222222,
              "#7201a8"
             ],
             [
              0.3333333333333333,
              "#9c179e"
             ],
             [
              0.4444444444444444,
              "#bd3786"
             ],
             [
              0.5555555555555556,
              "#d8576b"
             ],
             [
              0.6666666666666666,
              "#ed7953"
             ],
             [
              0.7777777777777778,
              "#fb9f3a"
             ],
             [
              0.8888888888888888,
              "#fdca26"
             ],
             [
              1,
              "#f0f921"
             ]
            ],
            "type": "histogram2dcontour"
           }
          ],
          "mesh3d": [
           {
            "colorbar": {
             "outlinewidth": 0,
             "ticks": ""
            },
            "type": "mesh3d"
           }
          ],
          "parcoords": [
           {
            "line": {
             "colorbar": {
              "outlinewidth": 0,
              "ticks": ""
             }
            },
            "type": "parcoords"
           }
          ],
          "pie": [
           {
            "automargin": true,
            "type": "pie"
           }
          ],
          "scatter": [
           {
            "marker": {
             "colorbar": {
              "outlinewidth": 0,
              "ticks": ""
             }
            },
            "type": "scatter"
           }
          ],
          "scatter3d": [
           {
            "line": {
             "colorbar": {
              "outlinewidth": 0,
              "ticks": ""
             }
            },
            "marker": {
             "colorbar": {
              "outlinewidth": 0,
              "ticks": ""
             }
            },
            "type": "scatter3d"
           }
          ],
          "scattercarpet": [
           {
            "marker": {
             "colorbar": {
              "outlinewidth": 0,
              "ticks": ""
             }
            },
            "type": "scattercarpet"
           }
          ],
          "scattergeo": [
           {
            "marker": {
             "colorbar": {
              "outlinewidth": 0,
              "ticks": ""
             }
            },
            "type": "scattergeo"
           }
          ],
          "scattergl": [
           {
            "marker": {
             "colorbar": {
              "outlinewidth": 0,
              "ticks": ""
             }
            },
            "type": "scattergl"
           }
          ],
          "scattermapbox": [
           {
            "marker": {
             "colorbar": {
              "outlinewidth": 0,
              "ticks": ""
             }
            },
            "type": "scattermapbox"
           }
          ],
          "scatterpolar": [
           {
            "marker": {
             "colorbar": {
              "outlinewidth": 0,
              "ticks": ""
             }
            },
            "type": "scatterpolar"
           }
          ],
          "scatterpolargl": [
           {
            "marker": {
             "colorbar": {
              "outlinewidth": 0,
              "ticks": ""
             }
            },
            "type": "scatterpolargl"
           }
          ],
          "scatterternary": [
           {
            "marker": {
             "colorbar": {
              "outlinewidth": 0,
              "ticks": ""
             }
            },
            "type": "scatterternary"
           }
          ],
          "surface": [
           {
            "colorbar": {
             "outlinewidth": 0,
             "ticks": ""
            },
            "colorscale": [
             [
              0,
              "#0d0887"
             ],
             [
              0.1111111111111111,
              "#46039f"
             ],
             [
              0.2222222222222222,
              "#7201a8"
             ],
             [
              0.3333333333333333,
              "#9c179e"
             ],
             [
              0.4444444444444444,
              "#bd3786"
             ],
             [
              0.5555555555555556,
              "#d8576b"
             ],
             [
              0.6666666666666666,
              "#ed7953"
             ],
             [
              0.7777777777777778,
              "#fb9f3a"
             ],
             [
              0.8888888888888888,
              "#fdca26"
             ],
             [
              1,
              "#f0f921"
             ]
            ],
            "type": "surface"
           }
          ],
          "table": [
           {
            "cells": {
             "fill": {
              "color": "#EBF0F8"
             },
             "line": {
              "color": "white"
             }
            },
            "header": {
             "fill": {
              "color": "#C8D4E3"
             },
             "line": {
              "color": "white"
             }
            },
            "type": "table"
           }
          ]
         },
         "layout": {
          "annotationdefaults": {
           "arrowcolor": "#2a3f5f",
           "arrowhead": 0,
           "arrowwidth": 1
          },
          "coloraxis": {
           "colorbar": {
            "outlinewidth": 0,
            "ticks": ""
           }
          },
          "colorscale": {
           "diverging": [
            [
             0,
             "#8e0152"
            ],
            [
             0.1,
             "#c51b7d"
            ],
            [
             0.2,
             "#de77ae"
            ],
            [
             0.3,
             "#f1b6da"
            ],
            [
             0.4,
             "#fde0ef"
            ],
            [
             0.5,
             "#f7f7f7"
            ],
            [
             0.6,
             "#e6f5d0"
            ],
            [
             0.7,
             "#b8e186"
            ],
            [
             0.8,
             "#7fbc41"
            ],
            [
             0.9,
             "#4d9221"
            ],
            [
             1,
             "#276419"
            ]
           ],
           "sequential": [
            [
             0,
             "#0d0887"
            ],
            [
             0.1111111111111111,
             "#46039f"
            ],
            [
             0.2222222222222222,
             "#7201a8"
            ],
            [
             0.3333333333333333,
             "#9c179e"
            ],
            [
             0.4444444444444444,
             "#bd3786"
            ],
            [
             0.5555555555555556,
             "#d8576b"
            ],
            [
             0.6666666666666666,
             "#ed7953"
            ],
            [
             0.7777777777777778,
             "#fb9f3a"
            ],
            [
             0.8888888888888888,
             "#fdca26"
            ],
            [
             1,
             "#f0f921"
            ]
           ],
           "sequentialminus": [
            [
             0,
             "#0d0887"
            ],
            [
             0.1111111111111111,
             "#46039f"
            ],
            [
             0.2222222222222222,
             "#7201a8"
            ],
            [
             0.3333333333333333,
             "#9c179e"
            ],
            [
             0.4444444444444444,
             "#bd3786"
            ],
            [
             0.5555555555555556,
             "#d8576b"
            ],
            [
             0.6666666666666666,
             "#ed7953"
            ],
            [
             0.7777777777777778,
             "#fb9f3a"
            ],
            [
             0.8888888888888888,
             "#fdca26"
            ],
            [
             1,
             "#f0f921"
            ]
           ]
          },
          "colorway": [
           "#636efa",
           "#EF553B",
           "#00cc96",
           "#ab63fa",
           "#FFA15A",
           "#19d3f3",
           "#FF6692",
           "#B6E880",
           "#FF97FF",
           "#FECB52"
          ],
          "font": {
           "color": "#2a3f5f"
          },
          "geo": {
           "bgcolor": "white",
           "lakecolor": "white",
           "landcolor": "#E5ECF6",
           "showlakes": true,
           "showland": true,
           "subunitcolor": "white"
          },
          "hoverlabel": {
           "align": "left"
          },
          "hovermode": "closest",
          "mapbox": {
           "style": "light"
          },
          "paper_bgcolor": "white",
          "plot_bgcolor": "#E5ECF6",
          "polar": {
           "angularaxis": {
            "gridcolor": "white",
            "linecolor": "white",
            "ticks": ""
           },
           "bgcolor": "#E5ECF6",
           "radialaxis": {
            "gridcolor": "white",
            "linecolor": "white",
            "ticks": ""
           }
          },
          "scene": {
           "xaxis": {
            "backgroundcolor": "#E5ECF6",
            "gridcolor": "white",
            "gridwidth": 2,
            "linecolor": "white",
            "showbackground": true,
            "ticks": "",
            "zerolinecolor": "white"
           },
           "yaxis": {
            "backgroundcolor": "#E5ECF6",
            "gridcolor": "white",
            "gridwidth": 2,
            "linecolor": "white",
            "showbackground": true,
            "ticks": "",
            "zerolinecolor": "white"
           },
           "zaxis": {
            "backgroundcolor": "#E5ECF6",
            "gridcolor": "white",
            "gridwidth": 2,
            "linecolor": "white",
            "showbackground": true,
            "ticks": "",
            "zerolinecolor": "white"
           }
          },
          "shapedefaults": {
           "line": {
            "color": "#2a3f5f"
           }
          },
          "ternary": {
           "aaxis": {
            "gridcolor": "white",
            "linecolor": "white",
            "ticks": ""
           },
           "baxis": {
            "gridcolor": "white",
            "linecolor": "white",
            "ticks": ""
           },
           "bgcolor": "#E5ECF6",
           "caxis": {
            "gridcolor": "white",
            "linecolor": "white",
            "ticks": ""
           }
          },
          "title": {
           "x": 0.05
          },
          "xaxis": {
           "automargin": true,
           "gridcolor": "white",
           "linecolor": "white",
           "ticks": "",
           "title": {
            "standoff": 15
           },
           "zerolinecolor": "white",
           "zerolinewidth": 2
          },
          "yaxis": {
           "automargin": true,
           "gridcolor": "white",
           "linecolor": "white",
           "ticks": "",
           "title": {
            "standoff": 15
           },
           "zerolinecolor": "white",
           "zerolinewidth": 2
          }
         }
        },
        "title": {
         "text": "Embarkment and Passenger Class"
        }
       }
      },
      "text/html": [
       "<div>\n",
       "        \n",
       "        \n",
       "            <div id=\"74e2ca8e-ee6a-4ded-9a2d-285c547ea85c\" class=\"plotly-graph-div\" style=\"height:525px; width:100%;\"></div>\n",
       "            <script type=\"text/javascript\">\n",
       "                require([\"plotly\"], function(Plotly) {\n",
       "                    window.PLOTLYENV=window.PLOTLYENV || {};\n",
       "                    \n",
       "                if (document.getElementById(\"74e2ca8e-ee6a-4ded-9a2d-285c547ea85c\")) {\n",
       "                    Plotly.newPlot(\n",
       "                        '74e2ca8e-ee6a-4ded-9a2d-285c547ea85c',\n",
       "                        [{\"name\": \"Upper Class\", \"type\": \"bar\", \"x\": [\"Cherbourg\", \"Queenstown\", \"Southampton\"], \"y\": [85, 2, 127]}, {\"name\": \"Middle Class\", \"type\": \"bar\", \"x\": [\"Cherbourg\", \"Queenstown\", \"Southampton\"], \"y\": [17, 3, 164]}, {\"name\": \"Lower Class\", \"type\": \"bar\", \"x\": [\"Cherbourg\", \"Queenstown\", \"Southampton\"], \"y\": [66, 72, 353]}],\n",
       "                        {\"template\": {\"data\": {\"bar\": [{\"error_x\": {\"color\": \"#2a3f5f\"}, \"error_y\": {\"color\": \"#2a3f5f\"}, \"marker\": {\"line\": {\"color\": \"#E5ECF6\", \"width\": 0.5}}, \"type\": \"bar\"}], \"barpolar\": [{\"marker\": {\"line\": {\"color\": \"#E5ECF6\", \"width\": 0.5}}, \"type\": \"barpolar\"}], \"carpet\": [{\"aaxis\": {\"endlinecolor\": \"#2a3f5f\", \"gridcolor\": \"white\", \"linecolor\": \"white\", \"minorgridcolor\": \"white\", \"startlinecolor\": \"#2a3f5f\"}, \"baxis\": {\"endlinecolor\": \"#2a3f5f\", \"gridcolor\": \"white\", \"linecolor\": \"white\", \"minorgridcolor\": \"white\", \"startlinecolor\": \"#2a3f5f\"}, \"type\": \"carpet\"}], \"choropleth\": [{\"colorbar\": {\"outlinewidth\": 0, \"ticks\": \"\"}, \"type\": \"choropleth\"}], \"contour\": [{\"colorbar\": {\"outlinewidth\": 0, \"ticks\": \"\"}, \"colorscale\": [[0.0, \"#0d0887\"], [0.1111111111111111, \"#46039f\"], [0.2222222222222222, \"#7201a8\"], [0.3333333333333333, \"#9c179e\"], [0.4444444444444444, \"#bd3786\"], [0.5555555555555556, \"#d8576b\"], [0.6666666666666666, \"#ed7953\"], [0.7777777777777778, \"#fb9f3a\"], [0.8888888888888888, \"#fdca26\"], [1.0, \"#f0f921\"]], \"type\": \"contour\"}], \"contourcarpet\": [{\"colorbar\": {\"outlinewidth\": 0, \"ticks\": \"\"}, \"type\": \"contourcarpet\"}], \"heatmap\": [{\"colorbar\": {\"outlinewidth\": 0, \"ticks\": \"\"}, \"colorscale\": [[0.0, \"#0d0887\"], [0.1111111111111111, \"#46039f\"], [0.2222222222222222, \"#7201a8\"], [0.3333333333333333, \"#9c179e\"], [0.4444444444444444, \"#bd3786\"], [0.5555555555555556, \"#d8576b\"], [0.6666666666666666, \"#ed7953\"], [0.7777777777777778, \"#fb9f3a\"], [0.8888888888888888, \"#fdca26\"], [1.0, \"#f0f921\"]], \"type\": \"heatmap\"}], \"heatmapgl\": [{\"colorbar\": {\"outlinewidth\": 0, \"ticks\": \"\"}, \"colorscale\": [[0.0, \"#0d0887\"], [0.1111111111111111, \"#46039f\"], [0.2222222222222222, \"#7201a8\"], [0.3333333333333333, \"#9c179e\"], [0.4444444444444444, \"#bd3786\"], [0.5555555555555556, \"#d8576b\"], [0.6666666666666666, \"#ed7953\"], [0.7777777777777778, \"#fb9f3a\"], [0.8888888888888888, \"#fdca26\"], [1.0, \"#f0f921\"]], \"type\": \"heatmapgl\"}], \"histogram\": [{\"marker\": {\"colorbar\": {\"outlinewidth\": 0, \"ticks\": \"\"}}, \"type\": \"histogram\"}], \"histogram2d\": [{\"colorbar\": {\"outlinewidth\": 0, \"ticks\": \"\"}, \"colorscale\": [[0.0, \"#0d0887\"], [0.1111111111111111, \"#46039f\"], [0.2222222222222222, \"#7201a8\"], [0.3333333333333333, \"#9c179e\"], [0.4444444444444444, \"#bd3786\"], [0.5555555555555556, \"#d8576b\"], [0.6666666666666666, \"#ed7953\"], [0.7777777777777778, \"#fb9f3a\"], [0.8888888888888888, \"#fdca26\"], [1.0, \"#f0f921\"]], \"type\": \"histogram2d\"}], \"histogram2dcontour\": [{\"colorbar\": {\"outlinewidth\": 0, \"ticks\": \"\"}, \"colorscale\": [[0.0, \"#0d0887\"], [0.1111111111111111, \"#46039f\"], [0.2222222222222222, \"#7201a8\"], [0.3333333333333333, \"#9c179e\"], [0.4444444444444444, \"#bd3786\"], [0.5555555555555556, \"#d8576b\"], [0.6666666666666666, \"#ed7953\"], [0.7777777777777778, \"#fb9f3a\"], [0.8888888888888888, \"#fdca26\"], [1.0, \"#f0f921\"]], \"type\": \"histogram2dcontour\"}], \"mesh3d\": [{\"colorbar\": {\"outlinewidth\": 0, \"ticks\": \"\"}, \"type\": \"mesh3d\"}], \"parcoords\": [{\"line\": {\"colorbar\": {\"outlinewidth\": 0, \"ticks\": \"\"}}, \"type\": \"parcoords\"}], \"pie\": [{\"automargin\": true, \"type\": \"pie\"}], \"scatter\": [{\"marker\": {\"colorbar\": {\"outlinewidth\": 0, \"ticks\": \"\"}}, \"type\": \"scatter\"}], \"scatter3d\": [{\"line\": {\"colorbar\": {\"outlinewidth\": 0, \"ticks\": \"\"}}, \"marker\": {\"colorbar\": {\"outlinewidth\": 0, \"ticks\": \"\"}}, \"type\": \"scatter3d\"}], \"scattercarpet\": [{\"marker\": {\"colorbar\": {\"outlinewidth\": 0, \"ticks\": \"\"}}, \"type\": \"scattercarpet\"}], \"scattergeo\": [{\"marker\": {\"colorbar\": {\"outlinewidth\": 0, \"ticks\": \"\"}}, \"type\": \"scattergeo\"}], \"scattergl\": [{\"marker\": {\"colorbar\": {\"outlinewidth\": 0, \"ticks\": \"\"}}, \"type\": \"scattergl\"}], \"scattermapbox\": [{\"marker\": {\"colorbar\": {\"outlinewidth\": 0, \"ticks\": \"\"}}, \"type\": \"scattermapbox\"}], \"scatterpolar\": [{\"marker\": {\"colorbar\": {\"outlinewidth\": 0, \"ticks\": \"\"}}, \"type\": \"scatterpolar\"}], \"scatterpolargl\": [{\"marker\": {\"colorbar\": {\"outlinewidth\": 0, \"ticks\": \"\"}}, \"type\": \"scatterpolargl\"}], \"scatterternary\": [{\"marker\": {\"colorbar\": {\"outlinewidth\": 0, \"ticks\": \"\"}}, \"type\": \"scatterternary\"}], \"surface\": [{\"colorbar\": {\"outlinewidth\": 0, \"ticks\": \"\"}, \"colorscale\": [[0.0, \"#0d0887\"], [0.1111111111111111, \"#46039f\"], [0.2222222222222222, \"#7201a8\"], [0.3333333333333333, \"#9c179e\"], [0.4444444444444444, \"#bd3786\"], [0.5555555555555556, \"#d8576b\"], [0.6666666666666666, \"#ed7953\"], [0.7777777777777778, \"#fb9f3a\"], [0.8888888888888888, \"#fdca26\"], [1.0, \"#f0f921\"]], \"type\": \"surface\"}], \"table\": [{\"cells\": {\"fill\": {\"color\": \"#EBF0F8\"}, \"line\": {\"color\": \"white\"}}, \"header\": {\"fill\": {\"color\": \"#C8D4E3\"}, \"line\": {\"color\": \"white\"}}, \"type\": \"table\"}]}, \"layout\": {\"annotationdefaults\": {\"arrowcolor\": \"#2a3f5f\", \"arrowhead\": 0, \"arrowwidth\": 1}, \"coloraxis\": {\"colorbar\": {\"outlinewidth\": 0, \"ticks\": \"\"}}, \"colorscale\": {\"diverging\": [[0, \"#8e0152\"], [0.1, \"#c51b7d\"], [0.2, \"#de77ae\"], [0.3, \"#f1b6da\"], [0.4, \"#fde0ef\"], [0.5, \"#f7f7f7\"], [0.6, \"#e6f5d0\"], [0.7, \"#b8e186\"], [0.8, \"#7fbc41\"], [0.9, \"#4d9221\"], [1, \"#276419\"]], \"sequential\": [[0.0, \"#0d0887\"], [0.1111111111111111, \"#46039f\"], [0.2222222222222222, \"#7201a8\"], [0.3333333333333333, \"#9c179e\"], [0.4444444444444444, \"#bd3786\"], [0.5555555555555556, \"#d8576b\"], [0.6666666666666666, \"#ed7953\"], [0.7777777777777778, \"#fb9f3a\"], [0.8888888888888888, \"#fdca26\"], [1.0, \"#f0f921\"]], \"sequentialminus\": [[0.0, \"#0d0887\"], [0.1111111111111111, \"#46039f\"], [0.2222222222222222, \"#7201a8\"], [0.3333333333333333, \"#9c179e\"], [0.4444444444444444, \"#bd3786\"], [0.5555555555555556, \"#d8576b\"], [0.6666666666666666, \"#ed7953\"], [0.7777777777777778, \"#fb9f3a\"], [0.8888888888888888, \"#fdca26\"], [1.0, \"#f0f921\"]]}, \"colorway\": [\"#636efa\", \"#EF553B\", \"#00cc96\", \"#ab63fa\", \"#FFA15A\", \"#19d3f3\", \"#FF6692\", \"#B6E880\", \"#FF97FF\", \"#FECB52\"], \"font\": {\"color\": \"#2a3f5f\"}, \"geo\": {\"bgcolor\": \"white\", \"lakecolor\": \"white\", \"landcolor\": \"#E5ECF6\", \"showlakes\": true, \"showland\": true, \"subunitcolor\": \"white\"}, \"hoverlabel\": {\"align\": \"left\"}, \"hovermode\": \"closest\", \"mapbox\": {\"style\": \"light\"}, \"paper_bgcolor\": \"white\", \"plot_bgcolor\": \"#E5ECF6\", \"polar\": {\"angularaxis\": {\"gridcolor\": \"white\", \"linecolor\": \"white\", \"ticks\": \"\"}, \"bgcolor\": \"#E5ECF6\", \"radialaxis\": {\"gridcolor\": \"white\", \"linecolor\": \"white\", \"ticks\": \"\"}}, \"scene\": {\"xaxis\": {\"backgroundcolor\": \"#E5ECF6\", \"gridcolor\": \"white\", \"gridwidth\": 2, \"linecolor\": \"white\", \"showbackground\": true, \"ticks\": \"\", \"zerolinecolor\": \"white\"}, \"yaxis\": {\"backgroundcolor\": \"#E5ECF6\", \"gridcolor\": \"white\", \"gridwidth\": 2, \"linecolor\": \"white\", \"showbackground\": true, \"ticks\": \"\", \"zerolinecolor\": \"white\"}, \"zaxis\": {\"backgroundcolor\": \"#E5ECF6\", \"gridcolor\": \"white\", \"gridwidth\": 2, \"linecolor\": \"white\", \"showbackground\": true, \"ticks\": \"\", \"zerolinecolor\": \"white\"}}, \"shapedefaults\": {\"line\": {\"color\": \"#2a3f5f\"}}, \"ternary\": {\"aaxis\": {\"gridcolor\": \"white\", \"linecolor\": \"white\", \"ticks\": \"\"}, \"baxis\": {\"gridcolor\": \"white\", \"linecolor\": \"white\", \"ticks\": \"\"}, \"bgcolor\": \"#E5ECF6\", \"caxis\": {\"gridcolor\": \"white\", \"linecolor\": \"white\", \"ticks\": \"\"}}, \"title\": {\"x\": 0.05}, \"xaxis\": {\"automargin\": true, \"gridcolor\": \"white\", \"linecolor\": \"white\", \"ticks\": \"\", \"title\": {\"standoff\": 15}, \"zerolinecolor\": \"white\", \"zerolinewidth\": 2}, \"yaxis\": {\"automargin\": true, \"gridcolor\": \"white\", \"linecolor\": \"white\", \"ticks\": \"\", \"title\": {\"standoff\": 15}, \"zerolinecolor\": \"white\", \"zerolinewidth\": 2}}}, \"title\": {\"text\": \"Embarkment and Passenger Class\"}},\n",
       "                        {\"responsive\": true}\n",
       "                    ).then(function(){\n",
       "                            \n",
       "var gd = document.getElementById('74e2ca8e-ee6a-4ded-9a2d-285c547ea85c');\n",
       "var x = new MutationObserver(function (mutations, observer) {{\n",
       "        var display = window.getComputedStyle(gd).display;\n",
       "        if (!display || display === 'none') {{\n",
       "            console.log([gd, 'removed!']);\n",
       "            Plotly.purge(gd);\n",
       "            observer.disconnect();\n",
       "        }}\n",
       "}});\n",
       "\n",
       "// Listen for the removal of the full notebook cells\n",
       "var notebookContainer = gd.closest('#notebook-container');\n",
       "if (notebookContainer) {{\n",
       "    x.observe(notebookContainer, {childList: true});\n",
       "}}\n",
       "\n",
       "// Listen for the clearing of the current output cell\n",
       "var outputEl = gd.closest('.output');\n",
       "if (outputEl) {{\n",
       "    x.observe(outputEl, {childList: true});\n",
       "}}\n",
       "\n",
       "                        })\n",
       "                };\n",
       "                });\n",
       "            </script>\n",
       "        </div>"
      ]
     },
     "metadata": {},
     "output_type": "display_data"
    }
   ],
   "source": [
    "iplot(embarked_Pclass_fig)"
   ]
  },
  {
   "cell_type": "markdown",
   "metadata": {},
   "source": [
    "## Fare"
   ]
  },
  {
   "cell_type": "code",
   "execution_count": 63,
   "metadata": {},
   "outputs": [],
   "source": [
    "#Preparing the data\n",
    "#General\n",
    "all_fares = titanicDS['Fare']\n",
    "#Survival\n",
    "fares_survived = titanicDS[titanicDS['Survived'] == 1]['Fare']\n",
    "fares_died = titanicDS[titanicDS['Survived'] == 0]['Fare']\n",
    "\n",
    "\n",
    "#Preparing figures\n",
    "#General\n",
    "all_fares_hist = go.Histogram(x=all_fares, marker={'color':'#35477d'})\n",
    "all_fares_hist_layout = go.Layout(title='Fares')\n",
    "all_fares_hist_fig = go.Figure(data=[all_fares_hist], layout=all_fares_hist_layout)\n",
    "#Survival\n",
    "fares_survived_box = go.Box(y=fares_survived, name='Survived', marker={'color':'#0939CF'})\n",
    "fares_died_box = go.Box(y=fares_died, name=\"Didn't Survive\", marker={'color':'#CF1E09'})\n",
    "fares_survival_layout = go.Layout(title='Fares and Survival')\n",
    "fares_survival_fig = go.Figure(data=[fares_died_box, fares_survived_box], layout=fares_survival_layout)\n",
    "\n"
   ]
  },
  {
   "cell_type": "markdown",
   "metadata": {},
   "source": [
    "### Histogram, fares\n",
    "\n",
    "    We can clearly see that most fares paid were as low as 5-15dls."
   ]
  },
  {
   "cell_type": "code",
   "execution_count": 34,
   "metadata": {},
   "outputs": [
    {
     "data": {
      "application/vnd.plotly.v1+json": {
       "config": {
        "linkText": "Export to plot.ly",
        "plotlyServerURL": "https://plot.ly",
        "showLink": false
       },
       "data": [
        {
         "marker": {
          "color": "#35477d"
         },
         "type": "histogram",
         "x": [
          -0.5002397510893574,
          0.788946607905507,
          -0.48664993466069395,
          0.4228611129909654,
          -0.4841333019887193,
          -0.47591297302898106,
          0.39794644953841574,
          -0.22190017756895475,
          -0.4220570338487224,
          -0.040787184044554156,
          -0.3099823210880695,
          -0.11167166653646252,
          -0.4841333019887193,
          -0.016542951535818605,
          -0.4880753554061005,
          -0.32407546405112786,
          -0.05982903349378355,
          -0.38447464817852084,
          -0.28380934129953256,
          -0.5007430776237524,
          -0.12274485029315124,
          -0.38447464817852084,
          -0.48455206966533587,
          0.06851923277692655,
          -0.22190017756895475,
          -0.014277982131041355,
          -0.5007430776237524,
          4.648790695770894,
          -0.4875720288717055,
          -0.48723782005286725,
          -0.08809987827767862,
          2.3037078131670836,
          -0.49017322040145855,
          -0.434807301618015,
          1.008145313634504,
          0.40071474547758795,
          -0.500658518765974,
          -0.4841333019887193,
          -0.28380934129953256,
          -0.41987460999558585,
          -0.4554436895282076,
          -0.22341015717213955,
          -0.48723782005286725,
          0.1909121394926757,
          -0.4875720288717055,
          -0.4841333019887193,
          -0.33414199473902667,
          -0.49017322040145855,
          -0.20973578188569775,
          -0.28783595357469205,
          0.15282642728807924,
          -0.48916656733266867,
          0.8985892468519636,
          -0.12274485029315124,
          0.6016265915589479,
          0.06851923277692655,
          -0.434807301618015,
          -0.500658518765974,
          -0.08751199288550533,
          0.29803613246101984,
          -0.500658518765974,
          1.0344028522808193,
          -0.08449203367913571,
          -0.08809987827767862,
          -0.33925981894075447,
          -0.434807301618015,
          -0.4819528914417204,
          -0.48664993466069395,
          -0.4718018018960432,
          -0.434807301618015,
          0.29803613246101984,
          0.8335755650572377,
          -0.3551971503258359,
          0.4912289628108992,
          -0.4921865265390384,
          -0.48723782005286725,
          -0.4841333019887193,
          -0.06234566616575826,
          -0.3950445054008146,
          -0.4650068936817115,
          -0.4549403629938127,
          -0.4894182305998661,
          0.30206274473617944,
          -0.434807301618015,
          -0.32709542325749746,
          0.045869538729154176,
          -0.4841333019887193,
          4.648790695770894,
          -0.4841333019887193,
          -0.4841333019887193,
          -0.4880753554061005,
          0.5854355836005315,
          -0.2319667082568536,
          -0.5002397510893574,
          -0.4841333019887193,
          0.05149068946527694,
          0.6293920965023105,
          -0.18314403442054422,
          -0.12274485029315124,
          -0.48723782005286725,
          -0.48723782005286725,
          0.9098295350180712,
          -0.47196890630546234,
          -0.48664993466069395,
          -0.48723782005286725,
          -0.4921865265390384,
          -0.48966989386706367,
          -0.48723782005286725,
          -0.15999101383837694,
          0.40071474547758795,
          -0.3551971503258359,
          -0.4841333019887193,
          -0.4483971180466784,
          -0.3551146047741951,
          -0.48664993466069395,
          -0.49017322040145855,
          -0.22341015717213955,
          4.337147012122648,
          -0.016542951535818605,
          0.8335755650572377,
          -0.4841333019887193,
          -0.040787184044554156,
          -0.38447464817852084,
          0.9098295350180712,
          -0.41987460999558585,
          -0.49017322040145855,
          -0.5024201616363563,
          -0.19606341990539358,
          -0.5057763429677017,
          -0.48723782005286725,
          -0.5042663633645169,
          -0.35427505611482435,
          -0.12274485029315124,
          -0.38447464817852084,
          -0.343286431215914,
          -0.11704115400538775,
          0.4228611129909654,
          -0.46064405928157615,
          0.9483340148992845,
          -0.33925981894075447,
          -0.49017322040145855,
          -0.32709542325749746,
          -0.5103062817772562,
          -0.41467424024221733,
          0.09368555949667362,
          -0.489251126190447,
          0.045869538729154176,
          -0.12274485029315124,
          -0.38447464817852084,
          -0.39403785233202476,
          0.6946574415642337,
          -0.4841333019887193,
          -0.35427505611482435,
          -0.49898143475337003,
          0.5895467547334693,
          -0.4905094425264344,
          -0.4841333019887193,
          -0.4718018018960432,
          0.7540499726228369,
          -0.3220621579135481,
          -0.3291087293950773,
          -0.48966989386706367,
          -0.4718018018960432,
          0.15282642728807924,
          -0.23297336132564347,
          0.46111392960498093,
          -0.08449203367913571,
          -0.12425482989633606,
          0.4912289628108992,
          0.02825311002533122,
          -0.05982903349378355,
          -0.4220570338487224,
          -0.48664993466069395,
          -0.028204020684680614,
          -0.4880753554061005,
          -0.13348181192486414,
          -0.06813392131130011,
          -0.38447464817852084,
          -0.6462044460638905,
          0.7540499726228369,
          -0.34320187235813565,
          -0.014277982131041355,
          0.13898494759221836,
          -0.20277376926194698,
          0.36044862272599265,
          -0.33414199473902667,
          -0.11167166653646252,
          -0.33414199473902667,
          -0.48723782005286725,
          -0.38447464817852084,
          -0.38447464817852084,
          -0.4880753554061005,
          -0.12274485029315124,
          -0.08809987827767862,
          2.3037078131670836,
          -0.49017322040145855,
          -0.4770021716494118,
          -0.49017322040145855,
          -0.38447464817852084,
          -0.4549403629938127,
          0.7540499726228369,
          -0.515424105978984,
          -0.5007430776237524,
          -0.4841333019887193,
          -0.43556229141960745,
          -0.32709542325749746,
          -0.26795455546609187,
          -0.49017322040145855,
          -0.022079543414162937,
          -0.5042663633645169,
          -0.22341015717213955,
          -0.5002397510893574,
          -0.38447464817852084,
          -0.49017322040145855,
          1.6343680812795898,
          -0.48664993466069395,
          -0.10261178891735358,
          0.8897810325000521,
          -0.434807301618015,
          -0.4841333019887193,
          -0.38447464817852084,
          -0.4841333019887193,
          -0.48723782005286725,
          1.1657710777578991,
          -0.4579603222001823,
          -0.434807301618015,
          -0.5002397510893574,
          -0.38447464817852084,
          -0.13348181192486414,
          1.0344028522808193,
          -0.48966989386706367,
          -0.374408117490622,
          -0.014277982131041355,
          -0.434807301618015,
          -0.4941998326766181,
          -0.12274485029315124,
          -0.11771158494920184,
          -0.434807301618015,
          -0.3990711176759742,
          -0.3551971503258359,
          -0.33414199473902667,
          -0.434807301618015,
          -0.5027563837613321,
          -0.5007430776237524,
          1.1657710777578991,
          -0.48966989386706367,
          -0.35427505611482435,
          0.41187248809205507,
          -0.12274485029315124,
          -0.5002397510893574,
          -0.43556229141960745,
          -0.11167166653646252,
          -0.3220621579135481,
          -0.23926494300558024,
          -0.33925981894075447,
          0.9483340148992845,
          1.0953053629426073,
          9.668550782149426,
          -0.12274485029315124,
          -0.49017322040145855,
          -0.014277982131041355,
          0.9573938925183935,
          -0.6462044460638905,
          -0.49017322040145855,
          -0.434807301618015,
          0.15282642728807924,
          -0.48966989386706367,
          2.443465485319458,
          2.084509107438086,
          -0.022079543414162937,
          -0.6462044460638905,
          -0.25360974923583607,
          -0.04825252320269991,
          -0.49017322040145855,
          0.9233347925889563,
          -0.49017322040145855,
          -0.6462044460638905,
          -0.05982903349378355,
          -0.2385099532039878,
          -0.49017322040145855,
          -0.4880753554061005,
          -0.4549403629938127,
          -0.4841333019887193,
          -0.12274485029315124,
          -0.4718018018960432,
          -0.4549403629938127,
          -0.48723782005286725,
          -0.38447464817852084,
          -0.49017322040145855,
          0.941287443417755,
          1.1874986775946599,
          -0.38699128085049556,
          -0.4680268528880811,
          -0.48723782005286725,
          -0.08809987827767862,
          -0.500658518765974,
          2.404961005438245,
          -0.032146074102061765,
          4.337147012122648,
          -0.49017322040145855,
          -0.17811076907659482,
          -0.6462044460638905,
          -0.3975611380727893,
          -0.4841333019887193,
          2.404961005438245,
          1.5862158383870948,
          1.546285937760475,
          -0.16301097304474657,
          0.4999546316111698,
          1.0280267117431041,
          4.636207532411021,
          -0.12274485029315124,
          -0.48723782005286725,
          -0.11771158494920184,
          -0.4880753554061005,
          -0.12274485029315124,
          -0.36434158680272316,
          2.67306694386133,
          2.061692308980895,
          -0.5002397510893574,
          -0.48723782005286725,
          -0.3975611380727893,
          -0.06234566616575826,
          0.7540499726228369,
          2.084509107438086,
          -0.5206244757323525,
          -0.38447464817852084,
          -0.23297336132564347,
          0.5210943460557573,
          -0.17811076907659482,
          -0.07241219685365709,
          2.443465485319458,
          -0.28380934129953256,
          2.044579206811467,
          -0.48723782005286725,
          0.6946574415642337,
          2.061692308980895,
          -0.4841333019887193,
          0.06851923277692655,
          -0.12274485029315124,
          4.648790695770894,
          -0.38447464817852084,
          -0.38447464817852084,
          -0.38447464817852084,
          -0.38447464817852084,
          -0.38447464817852084,
          -0.3220621579135481,
          -0.32608877018870763,
          -0.4718018018960432,
          -0.460476954872157,
          0.05845270208902771,
          -0.500658518765974,
          -0.28783595357469205,
          -0.5007430776237524,
          -0.4549403629938127,
          0.46111392960498093,
          -0.38447464817852084,
          -0.4875720288717055,
          -0.4875720288717055,
          -0.08449203367913571,
          -0.08809987827767862,
          -0.3551971503258359,
          -0.5042663633645169,
          -0.33414199473902667,
          -0.5002397510893574,
          0.8688084224648837,
          -0.500658518765974,
          -0.49017322040145855,
          0.7490167072788875,
          0.4700067028146707,
          -0.515424105978984,
          -0.4841333019887193,
          2.084509107438086,
          -0.22190017756895475,
          1.008145313634504,
          -0.5002397510893574,
          3.6119380349173147,
          -0.5654205372935024,
          -0.48966989386706367,
          3.9345703434644728,
          -0.3292758338044964,
          -0.48664993466069395,
          0.40071474547758795,
          -0.48723782005286725,
          0.8335755650572377,
          0.29803613246101984,
          -0.38447464817852084,
          -0.4905919880780752,
          -0.4046077095543185,
          1.769762919031829,
          -0.489251126190447,
          -0.48664993466069395,
          1.6343680812795898,
          -0.3099823210880695,
          -0.489251126190447,
          -0.4880753554061005,
          -0.12274485029315124,
          -0.434807301618015,
          -0.39152121966005005,
          -0.48664993466069395,
          -0.4841333019887193,
          -0.4483971180466784,
          -0.32709542325749746,
          -0.4718018018960432,
          -0.22341015717213955,
          -0.49017322040145855,
          -0.2687095452676843,
          -0.48966989386706367,
          -0.13348181192486414,
          -0.48723782005286725,
          -0.5081258712302573,
          1.1657710777578991,
          -0.6462044460638905,
          -0.48664993466069395,
          -0.4841333019887193,
          0.008120048649533558,
          -0.38447464817852084,
          -0.38447464817852084,
          -0.15999101383837694,
          -0.48723782005286725,
          -0.4905094425264344,
          -0.4876565877294839,
          -0.3562883622524042,
          -0.23926494300558024,
          -0.5002397510893574,
          -0.12274485029315124,
          -0.12274485029315124,
          -0.49017322040145855,
          -0.4841333019887193,
          -0.11167166653646252,
          -0.3220621579135481,
          -0.12274485029315124,
          -0.5027563837613321,
          0.47923368484319884,
          1.769762919031829,
          0.045869538729154176,
          -0.2687095452676843,
          4.648790695770894,
          -0.434807301618015,
          -0.11771158494920184,
          -0.4549403629938127,
          -0.48966989386706367,
          -0.38447464817852084,
          -0.4828749856527319,
          1.0018537319545673,
          -0.25360974923583607,
          -0.11167166653646252,
          -0.25847591017036636,
          -0.032146074102061765,
          -0.08751199288550533,
          -0.24421364949175128,
          -0.08751199288550533,
          1.1477358813774596,
          -0.4841333019887193,
          -0.48723782005286725,
          -0.11167166653646252,
          0.39794644953841574,
          -0.434807301618015,
          -0.49017322040145855,
          -0.11167166653646252,
          -0.4841333019887193,
          0.12891841690431952,
          -0.38447464817852084,
          -0.4841333019887193,
          -0.5042663633645169,
          -0.6462044460638905,
          -0.11167166653646252,
          -0.4906765469358535,
          -0.25847591017036636,
          -0.5002397510893574,
          -0.4718018018960432,
          -0.08751199288550533,
          -0.36853530348730185,
          -0.448145454779481,
          0.40071474547758795,
          -0.22341015717213955,
          -0.5043509222222953,
          -0.49478771806879135,
          -0.39881945440877664,
          0.29803613246101984,
          -0.6462044460638905,
          -0.4841333019887193,
          -0.4531787201234304,
          1.1874986775946599,
          -0.13348181192486414,
          1.1657710777578991,
          -0.04825252320269991,
          -0.4841333019887193,
          -0.32608877018870763,
          -0.24421364949175128,
          -0.5002397510893574,
          -0.032146074102061765,
          0.3504666508958721,
          -0.4841333019887193,
          -0.3551146047741951,
          0.9295438287172524,
          -0.3421952192893457,
          2.404961005438245,
          -0.489251126190447,
          -0.4718018018960432,
          -0.49017322040145855,
          -0.4926052942156549,
          -0.4531787201234304,
          1.0953053629426073,
          1.546285937760475,
          -0.12274485029315124,
          -0.11167166653646252,
          -0.19270723857404815,
          0.4912289628108992,
          -0.49017322040145855,
          -0.4841333019887193,
          -0.1169565951476094,
          0.5496993996584907,
          -0.49529104460318635,
          0.03873840838984667,
          -0.434807301618015,
          -0.15999101383837694,
          -0.12274485029315124,
          -0.48723782005286725,
          1.236236792573191,
          -0.48723782005286725,
          -0.5007430776237524,
          0.5210943460557573,
          -0.500658518765974,
          -0.49017322040145855,
          -0.434807301618015,
          3.8188897994114144,
          -0.48664993466069395,
          -0.41467424024221733,
          -0.12274485029315124,
          -0.500658518765974,
          -0.500658518765974,
          -0.19606341990539358,
          -0.4718018018960432,
          -0.11771158494920184,
          -0.11167166653646252,
          1.4964566108553758,
          -0.35427505611482435,
          0.3503820920380938,
          0.7832429116177435,
          -0.016542951535818605,
          -0.016542951535818605,
          -0.12274485029315124,
          1.4964566108553758,
          -0.12274485029315124,
          -0.12274485029315124,
          -0.3671098827418954,
          -0.23297336132564347,
          0.09368555949667362,
          1.5862158383870948,
          -0.12274485029315124,
          -0.4885786819404954,
          -0.5007430776237524,
          -0.48966989386706367,
          -0.11167166653646252,
          0.151064784417697,
          3.9345703434644728,
          0.9573938925183935,
          -0.29588917812501114,
          -0.49017322040145855,
          -0.48723782005286725,
          -0.374408117490622,
          -0.4841333019887193,
          -0.4841333019887193,
          -0.15999101383837694,
          -0.48723782005286725,
          -0.22190017756895475,
          -0.500658518765974,
          -0.4880753554061005,
          -0.434807301618015,
          0.3902294471130725,
          -0.11494328901002966,
          -0.49017322040145855,
          -0.4841333019887193,
          -0.35427505611482435,
          -0.38447464817852084,
          0.47923368484319884,
          -0.3551146047741951,
          -0.48664993466069395,
          -0.0422126047899606,
          1.5862158383870948,
          -0.12274485029315124,
          0.16163464163999072,
          -0.4707951488272534,
          0.9573938925183935,
          -0.34420852542692554,
          0.9483340148992845,
          -0.4841333019887193,
          -0.4841333019887193,
          -0.5027563837613321,
          0.9295438287172524,
          -0.5002397510893574,
          -0.49017322040145855,
          -0.12274485029315124,
          -0.15999101383837694,
          0.01818657933743239,
          -0.6462044460638905,
          -0.5007430776237524,
          0.4999546316111698,
          -0.10261178891735358,
          -0.48723782005286725,
          0.20743735626993037,
          -0.4841333019887193,
          -0.11167166653646252,
          -0.3331353416702368,
          -0.48723782005286725,
          -0.032146074102061765,
          0.1909121394926757,
          2.443465485319458,
          -0.016542951535818605,
          -0.5042663633645169,
          -0.33414199473902667,
          -0.49017322040145855,
          -0.4841333019887193,
          0.6624445433629575,
          -0.3562883622524042,
          -0.3220621579135481,
          0.13898494759221836,
          -0.434807301618015,
          -0.3551971503258359,
          0.41187248809205507,
          -0.3292758338044964,
          -0.4880753554061005,
          -0.3220621579135481,
          0.004512204050990585,
          -0.3975611380727893,
          0.9233347925889563,
          -0.48723782005286725,
          -0.4905094425264344,
          -0.0422126047899606,
          -0.5041818045067386,
          -0.032146074102061765,
          -0.6462044460638905,
          -0.08449203367913571,
          -0.38447464817852084,
          -0.48664993466069395,
          -0.11771158494920184,
          0.15282642728807924,
          -0.3220621579135481,
          -0.4880753554061005,
          0.7490167072788875,
          -0.08449203367913571,
          0.4912289628108992,
          -0.25847591017036636,
          0.8985892468519636,
          -0.48723782005286725,
          0.06851923277692655,
          -0.4941998326766181,
          -0.4941998326766181,
          -0.48723782005286725,
          -0.18314403442054422,
          -0.47641629956337606,
          -0.4885786819404954,
          -0.5103062817772562,
          0.8335755650572377,
          -0.48723782005286725,
          -0.33414199473902667,
          -0.38447464817852084,
          1.6343680812795898,
          2.044579206811467,
          -0.5007430776237524,
          -0.1310497381106678,
          -0.49529104460318635,
          -0.48664993466069395,
          0.8335755650572377,
          -0.38447464817852084,
          -0.48966989386706367,
          -0.4841333019887193,
          0.40071474547758795,
          0.13898494759221836,
          0.40071474547758795,
          -0.434807301618015,
          -0.38447464817852084,
          -0.6462044460638905,
          -0.48966989386706367,
          -0.4841333019887193,
          -0.4480608959217026,
          0.29803613246101984,
          9.668550782149426,
          -0.482371659118337,
          0.8985892468519636,
          -0.460476954872157,
          0.29803613246101984,
          0.13898494759221836,
          0.1909121394926757,
          0.15282642728807924,
          -0.4414351054229276,
          -0.489251126190447,
          3.608666412443748,
          0.5013800523565762,
          -0.376085201503226,
          0.4912289628108992,
          -0.5007430776237524,
          -0.11167166653646252,
          -0.374408117490622,
          -0.4841333019887193,
          -0.4905094425264344,
          1.5862158383870948,
          -0.4921865265390384,
          3.9345703434644728,
          -0.1169565951476094,
          -0.3551971503258359,
          -0.49034032481087764,
          -0.4880753554061005,
          -0.12274485029315124,
          -0.374408117490622,
          -0.1169565951476094,
          2.404961005438245,
          -0.33925981894075447,
          0.3504666508958721,
          -0.11167166653646252,
          0.40071474547758795,
          -0.4552765851187885,
          -0.38447464817852084,
          -0.4921865265390384,
          3.9345703434644728,
          -0.434807301618015,
          -0.33414199473902667,
          -0.48966989386706367,
          0.01818657933743239,
          -0.5041818045067386,
          -0.38447464817852084,
          -0.38447464817852084,
          0.4228611129909654,
          -0.4718018018960432,
          -0.22341015717213955,
          -0.49042488366865605,
          -0.12274485029315124,
          -0.48664993466069395,
          3.608666412443748,
          -0.26795455546609187,
          -0.6462044460638905,
          -0.38447464817852084,
          -0.38447464817852084,
          -0.3220621579135481,
          0.045869538729154176,
          9.668550782149426,
          -0.48723782005286725,
          -0.48723782005286725,
          -0.0422126047899606,
          0.941287443417755,
          4.636207532411021,
          -0.3220621579135481,
          -0.48664993466069395,
          0.7832429116177435,
          -0.2385099532039878,
          -0.38447464817852084,
          0.4228611129909654,
          -0.49017322040145855,
          -0.18314403442054422,
          -0.3950445054008146,
          -0.4549403629938127,
          -0.48723782005286725,
          0.6624445433629575,
          -0.35427505611482435,
          -0.489251126190447,
          -0.41467424024221733,
          -0.4841333019887193,
          1.0953053629426073,
          -0.35427505611482435,
          -0.5027563837613321,
          -0.500658518765974,
          1.769762919031829,
          -0.48966989386706367,
          0.9233347925889563,
          0.151064784417697,
          -0.49017322040145855,
          -0.15999101383837694,
          -0.47784172030878247,
          -0.4549403629938127,
          -0.4880753554061005,
          -0.434807301618015,
          -0.5007430776237524,
          -0.18314403442054422,
          -0.49017322040145855,
          -0.49017322040145855,
          -0.3950445054008146,
          -0.49042488366865605,
          3.608666412443748,
          -0.500658518765974,
          0.5013800523565762,
          -0.0422126047899606,
          -0.1740841568014353,
          -0.5042663633645169,
          -0.5002397510893574,
          -0.49529104460318635,
          -0.05982903349378355,
          -0.2319667082568536,
          0.9483340148992845,
          -0.49017322040145855,
          -0.12274485029315124,
          0.7540499726228369,
          -0.028204020684680614,
          -0.48723782005286725,
          -0.38447464817852084,
          -0.12417027103855768,
          -0.4713830342194266,
          -0.500658518765974,
          -0.15999101383837694,
          -0.38447464817852084,
          -0.11771158494920184,
          1.769762919031829,
          -0.4747372022446345,
          -0.5057763429677017,
          -0.48966989386706367,
          -0.6462044460638905,
          -0.48966989386706367,
          -0.38447464817852084,
          0.4228611129909654,
          -0.4874049244622864,
          -0.15999101383837694,
          -0.434807301618015,
          -0.016542951535818605,
          -0.4841333019887193,
          -0.6462044460638905,
          -0.48664993466069395,
          0.09880338369840133,
          -0.5163462001899956,
          -0.08449203367913571,
          1.236236792573191,
          -0.4718018018960432,
          -0.6462044460638905,
          -0.3950445054008146,
          0.15282642728807924,
          -0.5062796695020967,
          0.4912289628108992,
          0.09880338369840133,
          -0.49017322040145855,
          -0.3551971503258359,
          -0.2687095452676843,
          -0.500658518765974,
          -0.4880753554061005,
          -0.47910003664476986,
          1.0280267117431041,
          -0.4718018018960432,
          -0.4841333019887193,
          0.4912289628108992,
          -0.04825252320269991,
          -0.48664993466069395,
          -0.434807301618015,
          -0.022079543414162937,
          -0.516597863457193,
          -0.4718018018960432,
          -0.4941998326766181,
          0.7540499726228369,
          -0.48723782005286725,
          0.01818657933743239,
          1.1477358813774596,
          -0.016542951535818605,
          -0.48966989386706367,
          -0.33925981894075447,
          0.1470381721425374,
          -0.12274485029315124,
          -0.4579603222001823,
          2.67306694386133,
          -0.11167166653646252,
          -0.25847591017036636,
          -0.500658518765974,
          -0.3621611762557243,
          -0.41467424024221733,
          -0.12417027103855768,
          0.7540499726228369,
          -0.38447464817852084,
          -0.38447464817852084,
          -0.36719444159967374,
          0.37043059455611316,
          -0.4549403629938127,
          -0.4220570338487224,
          -0.48723782005286725,
          0.41187248809205507,
          -0.5455391391849022,
          -0.4650068936817115,
          -0.16301097304474657,
          -0.5007430776237524,
          -0.44797835037006184,
          -0.48723782005286725,
          -0.48723782005286725,
          1.0280267117431041,
          -0.12274485029315124,
          -0.48723782005286725,
          -0.4344710794930392,
          -0.434807301618015,
          -0.5042663633645169,
          -0.05982903349378355,
          -0.38447464817852084,
          -0.0422126047899606,
          -0.1740841568014353,
          -0.0422126047899606,
          -0.49017322040145855
         ]
        }
       ],
       "layout": {
        "template": {
         "data": {
          "bar": [
           {
            "error_x": {
             "color": "#2a3f5f"
            },
            "error_y": {
             "color": "#2a3f5f"
            },
            "marker": {
             "line": {
              "color": "#E5ECF6",
              "width": 0.5
             }
            },
            "type": "bar"
           }
          ],
          "barpolar": [
           {
            "marker": {
             "line": {
              "color": "#E5ECF6",
              "width": 0.5
             }
            },
            "type": "barpolar"
           }
          ],
          "carpet": [
           {
            "aaxis": {
             "endlinecolor": "#2a3f5f",
             "gridcolor": "white",
             "linecolor": "white",
             "minorgridcolor": "white",
             "startlinecolor": "#2a3f5f"
            },
            "baxis": {
             "endlinecolor": "#2a3f5f",
             "gridcolor": "white",
             "linecolor": "white",
             "minorgridcolor": "white",
             "startlinecolor": "#2a3f5f"
            },
            "type": "carpet"
           }
          ],
          "choropleth": [
           {
            "colorbar": {
             "outlinewidth": 0,
             "ticks": ""
            },
            "type": "choropleth"
           }
          ],
          "contour": [
           {
            "colorbar": {
             "outlinewidth": 0,
             "ticks": ""
            },
            "colorscale": [
             [
              0,
              "#0d0887"
             ],
             [
              0.1111111111111111,
              "#46039f"
             ],
             [
              0.2222222222222222,
              "#7201a8"
             ],
             [
              0.3333333333333333,
              "#9c179e"
             ],
             [
              0.4444444444444444,
              "#bd3786"
             ],
             [
              0.5555555555555556,
              "#d8576b"
             ],
             [
              0.6666666666666666,
              "#ed7953"
             ],
             [
              0.7777777777777778,
              "#fb9f3a"
             ],
             [
              0.8888888888888888,
              "#fdca26"
             ],
             [
              1,
              "#f0f921"
             ]
            ],
            "type": "contour"
           }
          ],
          "contourcarpet": [
           {
            "colorbar": {
             "outlinewidth": 0,
             "ticks": ""
            },
            "type": "contourcarpet"
           }
          ],
          "heatmap": [
           {
            "colorbar": {
             "outlinewidth": 0,
             "ticks": ""
            },
            "colorscale": [
             [
              0,
              "#0d0887"
             ],
             [
              0.1111111111111111,
              "#46039f"
             ],
             [
              0.2222222222222222,
              "#7201a8"
             ],
             [
              0.3333333333333333,
              "#9c179e"
             ],
             [
              0.4444444444444444,
              "#bd3786"
             ],
             [
              0.5555555555555556,
              "#d8576b"
             ],
             [
              0.6666666666666666,
              "#ed7953"
             ],
             [
              0.7777777777777778,
              "#fb9f3a"
             ],
             [
              0.8888888888888888,
              "#fdca26"
             ],
             [
              1,
              "#f0f921"
             ]
            ],
            "type": "heatmap"
           }
          ],
          "heatmapgl": [
           {
            "colorbar": {
             "outlinewidth": 0,
             "ticks": ""
            },
            "colorscale": [
             [
              0,
              "#0d0887"
             ],
             [
              0.1111111111111111,
              "#46039f"
             ],
             [
              0.2222222222222222,
              "#7201a8"
             ],
             [
              0.3333333333333333,
              "#9c179e"
             ],
             [
              0.4444444444444444,
              "#bd3786"
             ],
             [
              0.5555555555555556,
              "#d8576b"
             ],
             [
              0.6666666666666666,
              "#ed7953"
             ],
             [
              0.7777777777777778,
              "#fb9f3a"
             ],
             [
              0.8888888888888888,
              "#fdca26"
             ],
             [
              1,
              "#f0f921"
             ]
            ],
            "type": "heatmapgl"
           }
          ],
          "histogram": [
           {
            "marker": {
             "colorbar": {
              "outlinewidth": 0,
              "ticks": ""
             }
            },
            "type": "histogram"
           }
          ],
          "histogram2d": [
           {
            "colorbar": {
             "outlinewidth": 0,
             "ticks": ""
            },
            "colorscale": [
             [
              0,
              "#0d0887"
             ],
             [
              0.1111111111111111,
              "#46039f"
             ],
             [
              0.2222222222222222,
              "#7201a8"
             ],
             [
              0.3333333333333333,
              "#9c179e"
             ],
             [
              0.4444444444444444,
              "#bd3786"
             ],
             [
              0.5555555555555556,
              "#d8576b"
             ],
             [
              0.6666666666666666,
              "#ed7953"
             ],
             [
              0.7777777777777778,
              "#fb9f3a"
             ],
             [
              0.8888888888888888,
              "#fdca26"
             ],
             [
              1,
              "#f0f921"
             ]
            ],
            "type": "histogram2d"
           }
          ],
          "histogram2dcontour": [
           {
            "colorbar": {
             "outlinewidth": 0,
             "ticks": ""
            },
            "colorscale": [
             [
              0,
              "#0d0887"
             ],
             [
              0.1111111111111111,
              "#46039f"
             ],
             [
              0.2222222222222222,
              "#7201a8"
             ],
             [
              0.3333333333333333,
              "#9c179e"
             ],
             [
              0.4444444444444444,
              "#bd3786"
             ],
             [
              0.5555555555555556,
              "#d8576b"
             ],
             [
              0.6666666666666666,
              "#ed7953"
             ],
             [
              0.7777777777777778,
              "#fb9f3a"
             ],
             [
              0.8888888888888888,
              "#fdca26"
             ],
             [
              1,
              "#f0f921"
             ]
            ],
            "type": "histogram2dcontour"
           }
          ],
          "mesh3d": [
           {
            "colorbar": {
             "outlinewidth": 0,
             "ticks": ""
            },
            "type": "mesh3d"
           }
          ],
          "parcoords": [
           {
            "line": {
             "colorbar": {
              "outlinewidth": 0,
              "ticks": ""
             }
            },
            "type": "parcoords"
           }
          ],
          "pie": [
           {
            "automargin": true,
            "type": "pie"
           }
          ],
          "scatter": [
           {
            "marker": {
             "colorbar": {
              "outlinewidth": 0,
              "ticks": ""
             }
            },
            "type": "scatter"
           }
          ],
          "scatter3d": [
           {
            "line": {
             "colorbar": {
              "outlinewidth": 0,
              "ticks": ""
             }
            },
            "marker": {
             "colorbar": {
              "outlinewidth": 0,
              "ticks": ""
             }
            },
            "type": "scatter3d"
           }
          ],
          "scattercarpet": [
           {
            "marker": {
             "colorbar": {
              "outlinewidth": 0,
              "ticks": ""
             }
            },
            "type": "scattercarpet"
           }
          ],
          "scattergeo": [
           {
            "marker": {
             "colorbar": {
              "outlinewidth": 0,
              "ticks": ""
             }
            },
            "type": "scattergeo"
           }
          ],
          "scattergl": [
           {
            "marker": {
             "colorbar": {
              "outlinewidth": 0,
              "ticks": ""
             }
            },
            "type": "scattergl"
           }
          ],
          "scattermapbox": [
           {
            "marker": {
             "colorbar": {
              "outlinewidth": 0,
              "ticks": ""
             }
            },
            "type": "scattermapbox"
           }
          ],
          "scatterpolar": [
           {
            "marker": {
             "colorbar": {
              "outlinewidth": 0,
              "ticks": ""
             }
            },
            "type": "scatterpolar"
           }
          ],
          "scatterpolargl": [
           {
            "marker": {
             "colorbar": {
              "outlinewidth": 0,
              "ticks": ""
             }
            },
            "type": "scatterpolargl"
           }
          ],
          "scatterternary": [
           {
            "marker": {
             "colorbar": {
              "outlinewidth": 0,
              "ticks": ""
             }
            },
            "type": "scatterternary"
           }
          ],
          "surface": [
           {
            "colorbar": {
             "outlinewidth": 0,
             "ticks": ""
            },
            "colorscale": [
             [
              0,
              "#0d0887"
             ],
             [
              0.1111111111111111,
              "#46039f"
             ],
             [
              0.2222222222222222,
              "#7201a8"
             ],
             [
              0.3333333333333333,
              "#9c179e"
             ],
             [
              0.4444444444444444,
              "#bd3786"
             ],
             [
              0.5555555555555556,
              "#d8576b"
             ],
             [
              0.6666666666666666,
              "#ed7953"
             ],
             [
              0.7777777777777778,
              "#fb9f3a"
             ],
             [
              0.8888888888888888,
              "#fdca26"
             ],
             [
              1,
              "#f0f921"
             ]
            ],
            "type": "surface"
           }
          ],
          "table": [
           {
            "cells": {
             "fill": {
              "color": "#EBF0F8"
             },
             "line": {
              "color": "white"
             }
            },
            "header": {
             "fill": {
              "color": "#C8D4E3"
             },
             "line": {
              "color": "white"
             }
            },
            "type": "table"
           }
          ]
         },
         "layout": {
          "annotationdefaults": {
           "arrowcolor": "#2a3f5f",
           "arrowhead": 0,
           "arrowwidth": 1
          },
          "coloraxis": {
           "colorbar": {
            "outlinewidth": 0,
            "ticks": ""
           }
          },
          "colorscale": {
           "diverging": [
            [
             0,
             "#8e0152"
            ],
            [
             0.1,
             "#c51b7d"
            ],
            [
             0.2,
             "#de77ae"
            ],
            [
             0.3,
             "#f1b6da"
            ],
            [
             0.4,
             "#fde0ef"
            ],
            [
             0.5,
             "#f7f7f7"
            ],
            [
             0.6,
             "#e6f5d0"
            ],
            [
             0.7,
             "#b8e186"
            ],
            [
             0.8,
             "#7fbc41"
            ],
            [
             0.9,
             "#4d9221"
            ],
            [
             1,
             "#276419"
            ]
           ],
           "sequential": [
            [
             0,
             "#0d0887"
            ],
            [
             0.1111111111111111,
             "#46039f"
            ],
            [
             0.2222222222222222,
             "#7201a8"
            ],
            [
             0.3333333333333333,
             "#9c179e"
            ],
            [
             0.4444444444444444,
             "#bd3786"
            ],
            [
             0.5555555555555556,
             "#d8576b"
            ],
            [
             0.6666666666666666,
             "#ed7953"
            ],
            [
             0.7777777777777778,
             "#fb9f3a"
            ],
            [
             0.8888888888888888,
             "#fdca26"
            ],
            [
             1,
             "#f0f921"
            ]
           ],
           "sequentialminus": [
            [
             0,
             "#0d0887"
            ],
            [
             0.1111111111111111,
             "#46039f"
            ],
            [
             0.2222222222222222,
             "#7201a8"
            ],
            [
             0.3333333333333333,
             "#9c179e"
            ],
            [
             0.4444444444444444,
             "#bd3786"
            ],
            [
             0.5555555555555556,
             "#d8576b"
            ],
            [
             0.6666666666666666,
             "#ed7953"
            ],
            [
             0.7777777777777778,
             "#fb9f3a"
            ],
            [
             0.8888888888888888,
             "#fdca26"
            ],
            [
             1,
             "#f0f921"
            ]
           ]
          },
          "colorway": [
           "#636efa",
           "#EF553B",
           "#00cc96",
           "#ab63fa",
           "#FFA15A",
           "#19d3f3",
           "#FF6692",
           "#B6E880",
           "#FF97FF",
           "#FECB52"
          ],
          "font": {
           "color": "#2a3f5f"
          },
          "geo": {
           "bgcolor": "white",
           "lakecolor": "white",
           "landcolor": "#E5ECF6",
           "showlakes": true,
           "showland": true,
           "subunitcolor": "white"
          },
          "hoverlabel": {
           "align": "left"
          },
          "hovermode": "closest",
          "mapbox": {
           "style": "light"
          },
          "paper_bgcolor": "white",
          "plot_bgcolor": "#E5ECF6",
          "polar": {
           "angularaxis": {
            "gridcolor": "white",
            "linecolor": "white",
            "ticks": ""
           },
           "bgcolor": "#E5ECF6",
           "radialaxis": {
            "gridcolor": "white",
            "linecolor": "white",
            "ticks": ""
           }
          },
          "scene": {
           "xaxis": {
            "backgroundcolor": "#E5ECF6",
            "gridcolor": "white",
            "gridwidth": 2,
            "linecolor": "white",
            "showbackground": true,
            "ticks": "",
            "zerolinecolor": "white"
           },
           "yaxis": {
            "backgroundcolor": "#E5ECF6",
            "gridcolor": "white",
            "gridwidth": 2,
            "linecolor": "white",
            "showbackground": true,
            "ticks": "",
            "zerolinecolor": "white"
           },
           "zaxis": {
            "backgroundcolor": "#E5ECF6",
            "gridcolor": "white",
            "gridwidth": 2,
            "linecolor": "white",
            "showbackground": true,
            "ticks": "",
            "zerolinecolor": "white"
           }
          },
          "shapedefaults": {
           "line": {
            "color": "#2a3f5f"
           }
          },
          "ternary": {
           "aaxis": {
            "gridcolor": "white",
            "linecolor": "white",
            "ticks": ""
           },
           "baxis": {
            "gridcolor": "white",
            "linecolor": "white",
            "ticks": ""
           },
           "bgcolor": "#E5ECF6",
           "caxis": {
            "gridcolor": "white",
            "linecolor": "white",
            "ticks": ""
           }
          },
          "title": {
           "x": 0.05
          },
          "xaxis": {
           "automargin": true,
           "gridcolor": "white",
           "linecolor": "white",
           "ticks": "",
           "title": {
            "standoff": 15
           },
           "zerolinecolor": "white",
           "zerolinewidth": 2
          },
          "yaxis": {
           "automargin": true,
           "gridcolor": "white",
           "linecolor": "white",
           "ticks": "",
           "title": {
            "standoff": 15
           },
           "zerolinecolor": "white",
           "zerolinewidth": 2
          }
         }
        },
        "title": {
         "text": "Fares"
        }
       }
      },
      "text/html": [
       "<div>\n",
       "        \n",
       "        \n",
       "            <div id=\"776b6e69-b58b-47e8-883a-18d1568d778e\" class=\"plotly-graph-div\" style=\"height:525px; width:100%;\"></div>\n",
       "            <script type=\"text/javascript\">\n",
       "                require([\"plotly\"], function(Plotly) {\n",
       "                    window.PLOTLYENV=window.PLOTLYENV || {};\n",
       "                    \n",
       "                if (document.getElementById(\"776b6e69-b58b-47e8-883a-18d1568d778e\")) {\n",
       "                    Plotly.newPlot(\n",
       "                        '776b6e69-b58b-47e8-883a-18d1568d778e',\n",
       "                        [{\"marker\": {\"color\": \"#35477d\"}, \"type\": \"histogram\", \"x\": [-0.5002397510893574, 0.788946607905507, -0.48664993466069395, 0.4228611129909654, -0.4841333019887193, -0.47591297302898106, 0.39794644953841574, -0.22190017756895475, -0.4220570338487224, -0.040787184044554156, -0.3099823210880695, -0.11167166653646252, -0.4841333019887193, -0.016542951535818605, -0.4880753554061005, -0.32407546405112786, -0.05982903349378355, -0.38447464817852084, -0.28380934129953256, -0.5007430776237524, -0.12274485029315124, -0.38447464817852084, -0.48455206966533587, 0.06851923277692655, -0.22190017756895475, -0.014277982131041355, -0.5007430776237524, 4.648790695770894, -0.4875720288717055, -0.48723782005286725, -0.08809987827767862, 2.3037078131670836, -0.49017322040145855, -0.434807301618015, 1.008145313634504, 0.40071474547758795, -0.500658518765974, -0.4841333019887193, -0.28380934129953256, -0.41987460999558585, -0.4554436895282076, -0.22341015717213955, -0.48723782005286725, 0.1909121394926757, -0.4875720288717055, -0.4841333019887193, -0.33414199473902667, -0.49017322040145855, -0.20973578188569775, -0.28783595357469205, 0.15282642728807924, -0.48916656733266867, 0.8985892468519636, -0.12274485029315124, 0.6016265915589479, 0.06851923277692655, -0.434807301618015, -0.500658518765974, -0.08751199288550533, 0.29803613246101984, -0.500658518765974, 1.0344028522808193, -0.08449203367913571, -0.08809987827767862, -0.33925981894075447, -0.434807301618015, -0.4819528914417204, -0.48664993466069395, -0.4718018018960432, -0.434807301618015, 0.29803613246101984, 0.8335755650572377, -0.3551971503258359, 0.4912289628108992, -0.4921865265390384, -0.48723782005286725, -0.4841333019887193, -0.06234566616575826, -0.3950445054008146, -0.4650068936817115, -0.4549403629938127, -0.4894182305998661, 0.30206274473617944, -0.434807301618015, -0.32709542325749746, 0.045869538729154176, -0.4841333019887193, 4.648790695770894, -0.4841333019887193, -0.4841333019887193, -0.4880753554061005, 0.5854355836005315, -0.2319667082568536, -0.5002397510893574, -0.4841333019887193, 0.05149068946527694, 0.6293920965023105, -0.18314403442054422, -0.12274485029315124, -0.48723782005286725, -0.48723782005286725, 0.9098295350180712, -0.47196890630546234, -0.48664993466069395, -0.48723782005286725, -0.4921865265390384, -0.48966989386706367, -0.48723782005286725, -0.15999101383837694, 0.40071474547758795, -0.3551971503258359, -0.4841333019887193, -0.4483971180466784, -0.3551146047741951, -0.48664993466069395, -0.49017322040145855, -0.22341015717213955, 4.337147012122648, -0.016542951535818605, 0.8335755650572377, -0.4841333019887193, -0.040787184044554156, -0.38447464817852084, 0.9098295350180712, -0.41987460999558585, -0.49017322040145855, -0.5024201616363563, -0.19606341990539358, -0.5057763429677017, -0.48723782005286725, -0.5042663633645169, -0.35427505611482435, -0.12274485029315124, -0.38447464817852084, -0.343286431215914, -0.11704115400538775, 0.4228611129909654, -0.46064405928157615, 0.9483340148992845, -0.33925981894075447, -0.49017322040145855, -0.32709542325749746, -0.5103062817772562, -0.41467424024221733, 0.09368555949667362, -0.489251126190447, 0.045869538729154176, -0.12274485029315124, -0.38447464817852084, -0.39403785233202476, 0.6946574415642337, -0.4841333019887193, -0.35427505611482435, -0.49898143475337003, 0.5895467547334693, -0.4905094425264344, -0.4841333019887193, -0.4718018018960432, 0.7540499726228369, -0.3220621579135481, -0.3291087293950773, -0.48966989386706367, -0.4718018018960432, 0.15282642728807924, -0.23297336132564347, 0.46111392960498093, -0.08449203367913571, -0.12425482989633606, 0.4912289628108992, 0.02825311002533122, -0.05982903349378355, -0.4220570338487224, -0.48664993466069395, -0.028204020684680614, -0.4880753554061005, -0.13348181192486414, -0.06813392131130011, -0.38447464817852084, -0.6462044460638905, 0.7540499726228369, -0.34320187235813565, -0.014277982131041355, 0.13898494759221836, -0.20277376926194698, 0.36044862272599265, -0.33414199473902667, -0.11167166653646252, -0.33414199473902667, -0.48723782005286725, -0.38447464817852084, -0.38447464817852084, -0.4880753554061005, -0.12274485029315124, -0.08809987827767862, 2.3037078131670836, -0.49017322040145855, -0.4770021716494118, -0.49017322040145855, -0.38447464817852084, -0.4549403629938127, 0.7540499726228369, -0.515424105978984, -0.5007430776237524, -0.4841333019887193, -0.43556229141960745, -0.32709542325749746, -0.26795455546609187, -0.49017322040145855, -0.022079543414162937, -0.5042663633645169, -0.22341015717213955, -0.5002397510893574, -0.38447464817852084, -0.49017322040145855, 1.6343680812795898, -0.48664993466069395, -0.10261178891735358, 0.8897810325000521, -0.434807301618015, -0.4841333019887193, -0.38447464817852084, -0.4841333019887193, -0.48723782005286725, 1.1657710777578991, -0.4579603222001823, -0.434807301618015, -0.5002397510893574, -0.38447464817852084, -0.13348181192486414, 1.0344028522808193, -0.48966989386706367, -0.374408117490622, -0.014277982131041355, -0.434807301618015, -0.4941998326766181, -0.12274485029315124, -0.11771158494920184, -0.434807301618015, -0.3990711176759742, -0.3551971503258359, -0.33414199473902667, -0.434807301618015, -0.5027563837613321, -0.5007430776237524, 1.1657710777578991, -0.48966989386706367, -0.35427505611482435, 0.41187248809205507, -0.12274485029315124, -0.5002397510893574, -0.43556229141960745, -0.11167166653646252, -0.3220621579135481, -0.23926494300558024, -0.33925981894075447, 0.9483340148992845, 1.0953053629426073, 9.668550782149426, -0.12274485029315124, -0.49017322040145855, -0.014277982131041355, 0.9573938925183935, -0.6462044460638905, -0.49017322040145855, -0.434807301618015, 0.15282642728807924, -0.48966989386706367, 2.443465485319458, 2.084509107438086, -0.022079543414162937, -0.6462044460638905, -0.25360974923583607, -0.04825252320269991, -0.49017322040145855, 0.9233347925889563, -0.49017322040145855, -0.6462044460638905, -0.05982903349378355, -0.2385099532039878, -0.49017322040145855, -0.4880753554061005, -0.4549403629938127, -0.4841333019887193, -0.12274485029315124, -0.4718018018960432, -0.4549403629938127, -0.48723782005286725, -0.38447464817852084, -0.49017322040145855, 0.941287443417755, 1.1874986775946599, -0.38699128085049556, -0.4680268528880811, -0.48723782005286725, -0.08809987827767862, -0.500658518765974, 2.404961005438245, -0.032146074102061765, 4.337147012122648, -0.49017322040145855, -0.17811076907659482, -0.6462044460638905, -0.3975611380727893, -0.4841333019887193, 2.404961005438245, 1.5862158383870948, 1.546285937760475, -0.16301097304474657, 0.4999546316111698, 1.0280267117431041, 4.636207532411021, -0.12274485029315124, -0.48723782005286725, -0.11771158494920184, -0.4880753554061005, -0.12274485029315124, -0.36434158680272316, 2.67306694386133, 2.061692308980895, -0.5002397510893574, -0.48723782005286725, -0.3975611380727893, -0.06234566616575826, 0.7540499726228369, 2.084509107438086, -0.5206244757323525, -0.38447464817852084, -0.23297336132564347, 0.5210943460557573, -0.17811076907659482, -0.07241219685365709, 2.443465485319458, -0.28380934129953256, 2.044579206811467, -0.48723782005286725, 0.6946574415642337, 2.061692308980895, -0.4841333019887193, 0.06851923277692655, -0.12274485029315124, 4.648790695770894, -0.38447464817852084, -0.38447464817852084, -0.38447464817852084, -0.38447464817852084, -0.38447464817852084, -0.3220621579135481, -0.32608877018870763, -0.4718018018960432, -0.460476954872157, 0.05845270208902771, -0.500658518765974, -0.28783595357469205, -0.5007430776237524, -0.4549403629938127, 0.46111392960498093, -0.38447464817852084, -0.4875720288717055, -0.4875720288717055, -0.08449203367913571, -0.08809987827767862, -0.3551971503258359, -0.5042663633645169, -0.33414199473902667, -0.5002397510893574, 0.8688084224648837, -0.500658518765974, -0.49017322040145855, 0.7490167072788875, 0.4700067028146707, -0.515424105978984, -0.4841333019887193, 2.084509107438086, -0.22190017756895475, 1.008145313634504, -0.5002397510893574, 3.6119380349173147, -0.5654205372935024, -0.48966989386706367, 3.9345703434644728, -0.3292758338044964, -0.48664993466069395, 0.40071474547758795, -0.48723782005286725, 0.8335755650572377, 0.29803613246101984, -0.38447464817852084, -0.4905919880780752, -0.4046077095543185, 1.769762919031829, -0.489251126190447, -0.48664993466069395, 1.6343680812795898, -0.3099823210880695, -0.489251126190447, -0.4880753554061005, -0.12274485029315124, -0.434807301618015, -0.39152121966005005, -0.48664993466069395, -0.4841333019887193, -0.4483971180466784, -0.32709542325749746, -0.4718018018960432, -0.22341015717213955, -0.49017322040145855, -0.2687095452676843, -0.48966989386706367, -0.13348181192486414, -0.48723782005286725, -0.5081258712302573, 1.1657710777578991, -0.6462044460638905, -0.48664993466069395, -0.4841333019887193, 0.008120048649533558, -0.38447464817852084, -0.38447464817852084, -0.15999101383837694, -0.48723782005286725, -0.4905094425264344, -0.4876565877294839, -0.3562883622524042, -0.23926494300558024, -0.5002397510893574, -0.12274485029315124, -0.12274485029315124, -0.49017322040145855, -0.4841333019887193, -0.11167166653646252, -0.3220621579135481, -0.12274485029315124, -0.5027563837613321, 0.47923368484319884, 1.769762919031829, 0.045869538729154176, -0.2687095452676843, 4.648790695770894, -0.434807301618015, -0.11771158494920184, -0.4549403629938127, -0.48966989386706367, -0.38447464817852084, -0.4828749856527319, 1.0018537319545673, -0.25360974923583607, -0.11167166653646252, -0.25847591017036636, -0.032146074102061765, -0.08751199288550533, -0.24421364949175128, -0.08751199288550533, 1.1477358813774596, -0.4841333019887193, -0.48723782005286725, -0.11167166653646252, 0.39794644953841574, -0.434807301618015, -0.49017322040145855, -0.11167166653646252, -0.4841333019887193, 0.12891841690431952, -0.38447464817852084, -0.4841333019887193, -0.5042663633645169, -0.6462044460638905, -0.11167166653646252, -0.4906765469358535, -0.25847591017036636, -0.5002397510893574, -0.4718018018960432, -0.08751199288550533, -0.36853530348730185, -0.448145454779481, 0.40071474547758795, -0.22341015717213955, -0.5043509222222953, -0.49478771806879135, -0.39881945440877664, 0.29803613246101984, -0.6462044460638905, -0.4841333019887193, -0.4531787201234304, 1.1874986775946599, -0.13348181192486414, 1.1657710777578991, -0.04825252320269991, -0.4841333019887193, -0.32608877018870763, -0.24421364949175128, -0.5002397510893574, -0.032146074102061765, 0.3504666508958721, -0.4841333019887193, -0.3551146047741951, 0.9295438287172524, -0.3421952192893457, 2.404961005438245, -0.489251126190447, -0.4718018018960432, -0.49017322040145855, -0.4926052942156549, -0.4531787201234304, 1.0953053629426073, 1.546285937760475, -0.12274485029315124, -0.11167166653646252, -0.19270723857404815, 0.4912289628108992, -0.49017322040145855, -0.4841333019887193, -0.1169565951476094, 0.5496993996584907, -0.49529104460318635, 0.03873840838984667, -0.434807301618015, -0.15999101383837694, -0.12274485029315124, -0.48723782005286725, 1.236236792573191, -0.48723782005286725, -0.5007430776237524, 0.5210943460557573, -0.500658518765974, -0.49017322040145855, -0.434807301618015, 3.8188897994114144, -0.48664993466069395, -0.41467424024221733, -0.12274485029315124, -0.500658518765974, -0.500658518765974, -0.19606341990539358, -0.4718018018960432, -0.11771158494920184, -0.11167166653646252, 1.4964566108553758, -0.35427505611482435, 0.3503820920380938, 0.7832429116177435, -0.016542951535818605, -0.016542951535818605, -0.12274485029315124, 1.4964566108553758, -0.12274485029315124, -0.12274485029315124, -0.3671098827418954, -0.23297336132564347, 0.09368555949667362, 1.5862158383870948, -0.12274485029315124, -0.4885786819404954, -0.5007430776237524, -0.48966989386706367, -0.11167166653646252, 0.151064784417697, 3.9345703434644728, 0.9573938925183935, -0.29588917812501114, -0.49017322040145855, -0.48723782005286725, -0.374408117490622, -0.4841333019887193, -0.4841333019887193, -0.15999101383837694, -0.48723782005286725, -0.22190017756895475, -0.500658518765974, -0.4880753554061005, -0.434807301618015, 0.3902294471130725, -0.11494328901002966, -0.49017322040145855, -0.4841333019887193, -0.35427505611482435, -0.38447464817852084, 0.47923368484319884, -0.3551146047741951, -0.48664993466069395, -0.0422126047899606, 1.5862158383870948, -0.12274485029315124, 0.16163464163999072, -0.4707951488272534, 0.9573938925183935, -0.34420852542692554, 0.9483340148992845, -0.4841333019887193, -0.4841333019887193, -0.5027563837613321, 0.9295438287172524, -0.5002397510893574, -0.49017322040145855, -0.12274485029315124, -0.15999101383837694, 0.01818657933743239, -0.6462044460638905, -0.5007430776237524, 0.4999546316111698, -0.10261178891735358, -0.48723782005286725, 0.20743735626993037, -0.4841333019887193, -0.11167166653646252, -0.3331353416702368, -0.48723782005286725, -0.032146074102061765, 0.1909121394926757, 2.443465485319458, -0.016542951535818605, -0.5042663633645169, -0.33414199473902667, -0.49017322040145855, -0.4841333019887193, 0.6624445433629575, -0.3562883622524042, -0.3220621579135481, 0.13898494759221836, -0.434807301618015, -0.3551971503258359, 0.41187248809205507, -0.3292758338044964, -0.4880753554061005, -0.3220621579135481, 0.004512204050990585, -0.3975611380727893, 0.9233347925889563, -0.48723782005286725, -0.4905094425264344, -0.0422126047899606, -0.5041818045067386, -0.032146074102061765, -0.6462044460638905, -0.08449203367913571, -0.38447464817852084, -0.48664993466069395, -0.11771158494920184, 0.15282642728807924, -0.3220621579135481, -0.4880753554061005, 0.7490167072788875, -0.08449203367913571, 0.4912289628108992, -0.25847591017036636, 0.8985892468519636, -0.48723782005286725, 0.06851923277692655, -0.4941998326766181, -0.4941998326766181, -0.48723782005286725, -0.18314403442054422, -0.47641629956337606, -0.4885786819404954, -0.5103062817772562, 0.8335755650572377, -0.48723782005286725, -0.33414199473902667, -0.38447464817852084, 1.6343680812795898, 2.044579206811467, -0.5007430776237524, -0.1310497381106678, -0.49529104460318635, -0.48664993466069395, 0.8335755650572377, -0.38447464817852084, -0.48966989386706367, -0.4841333019887193, 0.40071474547758795, 0.13898494759221836, 0.40071474547758795, -0.434807301618015, -0.38447464817852084, -0.6462044460638905, -0.48966989386706367, -0.4841333019887193, -0.4480608959217026, 0.29803613246101984, 9.668550782149426, -0.482371659118337, 0.8985892468519636, -0.460476954872157, 0.29803613246101984, 0.13898494759221836, 0.1909121394926757, 0.15282642728807924, -0.4414351054229276, -0.489251126190447, 3.608666412443748, 0.5013800523565762, -0.376085201503226, 0.4912289628108992, -0.5007430776237524, -0.11167166653646252, -0.374408117490622, -0.4841333019887193, -0.4905094425264344, 1.5862158383870948, -0.4921865265390384, 3.9345703434644728, -0.1169565951476094, -0.3551971503258359, -0.49034032481087764, -0.4880753554061005, -0.12274485029315124, -0.374408117490622, -0.1169565951476094, 2.404961005438245, -0.33925981894075447, 0.3504666508958721, -0.11167166653646252, 0.40071474547758795, -0.4552765851187885, -0.38447464817852084, -0.4921865265390384, 3.9345703434644728, -0.434807301618015, -0.33414199473902667, -0.48966989386706367, 0.01818657933743239, -0.5041818045067386, -0.38447464817852084, -0.38447464817852084, 0.4228611129909654, -0.4718018018960432, -0.22341015717213955, -0.49042488366865605, -0.12274485029315124, -0.48664993466069395, 3.608666412443748, -0.26795455546609187, -0.6462044460638905, -0.38447464817852084, -0.38447464817852084, -0.3220621579135481, 0.045869538729154176, 9.668550782149426, -0.48723782005286725, -0.48723782005286725, -0.0422126047899606, 0.941287443417755, 4.636207532411021, -0.3220621579135481, -0.48664993466069395, 0.7832429116177435, -0.2385099532039878, -0.38447464817852084, 0.4228611129909654, -0.49017322040145855, -0.18314403442054422, -0.3950445054008146, -0.4549403629938127, -0.48723782005286725, 0.6624445433629575, -0.35427505611482435, -0.489251126190447, -0.41467424024221733, -0.4841333019887193, 1.0953053629426073, -0.35427505611482435, -0.5027563837613321, -0.500658518765974, 1.769762919031829, -0.48966989386706367, 0.9233347925889563, 0.151064784417697, -0.49017322040145855, -0.15999101383837694, -0.47784172030878247, -0.4549403629938127, -0.4880753554061005, -0.434807301618015, -0.5007430776237524, -0.18314403442054422, -0.49017322040145855, -0.49017322040145855, -0.3950445054008146, -0.49042488366865605, 3.608666412443748, -0.500658518765974, 0.5013800523565762, -0.0422126047899606, -0.1740841568014353, -0.5042663633645169, -0.5002397510893574, -0.49529104460318635, -0.05982903349378355, -0.2319667082568536, 0.9483340148992845, -0.49017322040145855, -0.12274485029315124, 0.7540499726228369, -0.028204020684680614, -0.48723782005286725, -0.38447464817852084, -0.12417027103855768, -0.4713830342194266, -0.500658518765974, -0.15999101383837694, -0.38447464817852084, -0.11771158494920184, 1.769762919031829, -0.4747372022446345, -0.5057763429677017, -0.48966989386706367, -0.6462044460638905, -0.48966989386706367, -0.38447464817852084, 0.4228611129909654, -0.4874049244622864, -0.15999101383837694, -0.434807301618015, -0.016542951535818605, -0.4841333019887193, -0.6462044460638905, -0.48664993466069395, 0.09880338369840133, -0.5163462001899956, -0.08449203367913571, 1.236236792573191, -0.4718018018960432, -0.6462044460638905, -0.3950445054008146, 0.15282642728807924, -0.5062796695020967, 0.4912289628108992, 0.09880338369840133, -0.49017322040145855, -0.3551971503258359, -0.2687095452676843, -0.500658518765974, -0.4880753554061005, -0.47910003664476986, 1.0280267117431041, -0.4718018018960432, -0.4841333019887193, 0.4912289628108992, -0.04825252320269991, -0.48664993466069395, -0.434807301618015, -0.022079543414162937, -0.516597863457193, -0.4718018018960432, -0.4941998326766181, 0.7540499726228369, -0.48723782005286725, 0.01818657933743239, 1.1477358813774596, -0.016542951535818605, -0.48966989386706367, -0.33925981894075447, 0.1470381721425374, -0.12274485029315124, -0.4579603222001823, 2.67306694386133, -0.11167166653646252, -0.25847591017036636, -0.500658518765974, -0.3621611762557243, -0.41467424024221733, -0.12417027103855768, 0.7540499726228369, -0.38447464817852084, -0.38447464817852084, -0.36719444159967374, 0.37043059455611316, -0.4549403629938127, -0.4220570338487224, -0.48723782005286725, 0.41187248809205507, -0.5455391391849022, -0.4650068936817115, -0.16301097304474657, -0.5007430776237524, -0.44797835037006184, -0.48723782005286725, -0.48723782005286725, 1.0280267117431041, -0.12274485029315124, -0.48723782005286725, -0.4344710794930392, -0.434807301618015, -0.5042663633645169, -0.05982903349378355, -0.38447464817852084, -0.0422126047899606, -0.1740841568014353, -0.0422126047899606, -0.49017322040145855]}],\n",
       "                        {\"template\": {\"data\": {\"bar\": [{\"error_x\": {\"color\": \"#2a3f5f\"}, \"error_y\": {\"color\": \"#2a3f5f\"}, \"marker\": {\"line\": {\"color\": \"#E5ECF6\", \"width\": 0.5}}, \"type\": \"bar\"}], \"barpolar\": [{\"marker\": {\"line\": {\"color\": \"#E5ECF6\", \"width\": 0.5}}, \"type\": \"barpolar\"}], \"carpet\": [{\"aaxis\": {\"endlinecolor\": \"#2a3f5f\", \"gridcolor\": \"white\", \"linecolor\": \"white\", \"minorgridcolor\": \"white\", \"startlinecolor\": \"#2a3f5f\"}, \"baxis\": {\"endlinecolor\": \"#2a3f5f\", \"gridcolor\": \"white\", \"linecolor\": \"white\", \"minorgridcolor\": \"white\", \"startlinecolor\": \"#2a3f5f\"}, \"type\": \"carpet\"}], \"choropleth\": [{\"colorbar\": {\"outlinewidth\": 0, \"ticks\": \"\"}, \"type\": \"choropleth\"}], \"contour\": [{\"colorbar\": {\"outlinewidth\": 0, \"ticks\": \"\"}, \"colorscale\": [[0.0, \"#0d0887\"], [0.1111111111111111, \"#46039f\"], [0.2222222222222222, \"#7201a8\"], [0.3333333333333333, \"#9c179e\"], [0.4444444444444444, \"#bd3786\"], [0.5555555555555556, \"#d8576b\"], [0.6666666666666666, \"#ed7953\"], [0.7777777777777778, \"#fb9f3a\"], [0.8888888888888888, \"#fdca26\"], [1.0, \"#f0f921\"]], \"type\": \"contour\"}], \"contourcarpet\": [{\"colorbar\": {\"outlinewidth\": 0, \"ticks\": \"\"}, \"type\": \"contourcarpet\"}], \"heatmap\": [{\"colorbar\": {\"outlinewidth\": 0, \"ticks\": \"\"}, \"colorscale\": [[0.0, \"#0d0887\"], [0.1111111111111111, \"#46039f\"], [0.2222222222222222, \"#7201a8\"], [0.3333333333333333, \"#9c179e\"], [0.4444444444444444, \"#bd3786\"], [0.5555555555555556, \"#d8576b\"], [0.6666666666666666, \"#ed7953\"], [0.7777777777777778, \"#fb9f3a\"], [0.8888888888888888, \"#fdca26\"], [1.0, \"#f0f921\"]], \"type\": \"heatmap\"}], \"heatmapgl\": [{\"colorbar\": {\"outlinewidth\": 0, \"ticks\": \"\"}, \"colorscale\": [[0.0, \"#0d0887\"], [0.1111111111111111, \"#46039f\"], [0.2222222222222222, \"#7201a8\"], [0.3333333333333333, \"#9c179e\"], [0.4444444444444444, \"#bd3786\"], [0.5555555555555556, \"#d8576b\"], [0.6666666666666666, \"#ed7953\"], [0.7777777777777778, \"#fb9f3a\"], [0.8888888888888888, \"#fdca26\"], [1.0, \"#f0f921\"]], \"type\": \"heatmapgl\"}], \"histogram\": [{\"marker\": {\"colorbar\": {\"outlinewidth\": 0, \"ticks\": \"\"}}, \"type\": \"histogram\"}], \"histogram2d\": [{\"colorbar\": {\"outlinewidth\": 0, \"ticks\": \"\"}, \"colorscale\": [[0.0, \"#0d0887\"], [0.1111111111111111, \"#46039f\"], [0.2222222222222222, \"#7201a8\"], [0.3333333333333333, \"#9c179e\"], [0.4444444444444444, \"#bd3786\"], [0.5555555555555556, \"#d8576b\"], [0.6666666666666666, \"#ed7953\"], [0.7777777777777778, \"#fb9f3a\"], [0.8888888888888888, \"#fdca26\"], [1.0, \"#f0f921\"]], \"type\": \"histogram2d\"}], \"histogram2dcontour\": [{\"colorbar\": {\"outlinewidth\": 0, \"ticks\": \"\"}, \"colorscale\": [[0.0, \"#0d0887\"], [0.1111111111111111, \"#46039f\"], [0.2222222222222222, \"#7201a8\"], [0.3333333333333333, \"#9c179e\"], [0.4444444444444444, \"#bd3786\"], [0.5555555555555556, \"#d8576b\"], [0.6666666666666666, \"#ed7953\"], [0.7777777777777778, \"#fb9f3a\"], [0.8888888888888888, \"#fdca26\"], [1.0, \"#f0f921\"]], \"type\": \"histogram2dcontour\"}], \"mesh3d\": [{\"colorbar\": {\"outlinewidth\": 0, \"ticks\": \"\"}, \"type\": \"mesh3d\"}], \"parcoords\": [{\"line\": {\"colorbar\": {\"outlinewidth\": 0, \"ticks\": \"\"}}, \"type\": \"parcoords\"}], \"pie\": [{\"automargin\": true, \"type\": \"pie\"}], \"scatter\": [{\"marker\": {\"colorbar\": {\"outlinewidth\": 0, \"ticks\": \"\"}}, \"type\": \"scatter\"}], \"scatter3d\": [{\"line\": {\"colorbar\": {\"outlinewidth\": 0, \"ticks\": \"\"}}, \"marker\": {\"colorbar\": {\"outlinewidth\": 0, \"ticks\": \"\"}}, \"type\": \"scatter3d\"}], \"scattercarpet\": [{\"marker\": {\"colorbar\": {\"outlinewidth\": 0, \"ticks\": \"\"}}, \"type\": \"scattercarpet\"}], \"scattergeo\": [{\"marker\": {\"colorbar\": {\"outlinewidth\": 0, \"ticks\": \"\"}}, \"type\": \"scattergeo\"}], \"scattergl\": [{\"marker\": {\"colorbar\": {\"outlinewidth\": 0, \"ticks\": \"\"}}, \"type\": \"scattergl\"}], \"scattermapbox\": [{\"marker\": {\"colorbar\": {\"outlinewidth\": 0, \"ticks\": \"\"}}, \"type\": \"scattermapbox\"}], \"scatterpolar\": [{\"marker\": {\"colorbar\": {\"outlinewidth\": 0, \"ticks\": \"\"}}, \"type\": \"scatterpolar\"}], \"scatterpolargl\": [{\"marker\": {\"colorbar\": {\"outlinewidth\": 0, \"ticks\": \"\"}}, \"type\": \"scatterpolargl\"}], \"scatterternary\": [{\"marker\": {\"colorbar\": {\"outlinewidth\": 0, \"ticks\": \"\"}}, \"type\": \"scatterternary\"}], \"surface\": [{\"colorbar\": {\"outlinewidth\": 0, \"ticks\": \"\"}, \"colorscale\": [[0.0, \"#0d0887\"], [0.1111111111111111, \"#46039f\"], [0.2222222222222222, \"#7201a8\"], [0.3333333333333333, \"#9c179e\"], [0.4444444444444444, \"#bd3786\"], [0.5555555555555556, \"#d8576b\"], [0.6666666666666666, \"#ed7953\"], [0.7777777777777778, \"#fb9f3a\"], [0.8888888888888888, \"#fdca26\"], [1.0, \"#f0f921\"]], \"type\": \"surface\"}], \"table\": [{\"cells\": {\"fill\": {\"color\": \"#EBF0F8\"}, \"line\": {\"color\": \"white\"}}, \"header\": {\"fill\": {\"color\": \"#C8D4E3\"}, \"line\": {\"color\": \"white\"}}, \"type\": \"table\"}]}, \"layout\": {\"annotationdefaults\": {\"arrowcolor\": \"#2a3f5f\", \"arrowhead\": 0, \"arrowwidth\": 1}, \"coloraxis\": {\"colorbar\": {\"outlinewidth\": 0, \"ticks\": \"\"}}, \"colorscale\": {\"diverging\": [[0, \"#8e0152\"], [0.1, \"#c51b7d\"], [0.2, \"#de77ae\"], [0.3, \"#f1b6da\"], [0.4, \"#fde0ef\"], [0.5, \"#f7f7f7\"], [0.6, \"#e6f5d0\"], [0.7, \"#b8e186\"], [0.8, \"#7fbc41\"], [0.9, \"#4d9221\"], [1, \"#276419\"]], \"sequential\": [[0.0, \"#0d0887\"], [0.1111111111111111, \"#46039f\"], [0.2222222222222222, \"#7201a8\"], [0.3333333333333333, \"#9c179e\"], [0.4444444444444444, \"#bd3786\"], [0.5555555555555556, \"#d8576b\"], [0.6666666666666666, \"#ed7953\"], [0.7777777777777778, \"#fb9f3a\"], [0.8888888888888888, \"#fdca26\"], [1.0, \"#f0f921\"]], \"sequentialminus\": [[0.0, \"#0d0887\"], [0.1111111111111111, \"#46039f\"], [0.2222222222222222, \"#7201a8\"], [0.3333333333333333, \"#9c179e\"], [0.4444444444444444, \"#bd3786\"], [0.5555555555555556, \"#d8576b\"], [0.6666666666666666, \"#ed7953\"], [0.7777777777777778, \"#fb9f3a\"], [0.8888888888888888, \"#fdca26\"], [1.0, \"#f0f921\"]]}, \"colorway\": [\"#636efa\", \"#EF553B\", \"#00cc96\", \"#ab63fa\", \"#FFA15A\", \"#19d3f3\", \"#FF6692\", \"#B6E880\", \"#FF97FF\", \"#FECB52\"], \"font\": {\"color\": \"#2a3f5f\"}, \"geo\": {\"bgcolor\": \"white\", \"lakecolor\": \"white\", \"landcolor\": \"#E5ECF6\", \"showlakes\": true, \"showland\": true, \"subunitcolor\": \"white\"}, \"hoverlabel\": {\"align\": \"left\"}, \"hovermode\": \"closest\", \"mapbox\": {\"style\": \"light\"}, \"paper_bgcolor\": \"white\", \"plot_bgcolor\": \"#E5ECF6\", \"polar\": {\"angularaxis\": {\"gridcolor\": \"white\", \"linecolor\": \"white\", \"ticks\": \"\"}, \"bgcolor\": \"#E5ECF6\", \"radialaxis\": {\"gridcolor\": \"white\", \"linecolor\": \"white\", \"ticks\": \"\"}}, \"scene\": {\"xaxis\": {\"backgroundcolor\": \"#E5ECF6\", \"gridcolor\": \"white\", \"gridwidth\": 2, \"linecolor\": \"white\", \"showbackground\": true, \"ticks\": \"\", \"zerolinecolor\": \"white\"}, \"yaxis\": {\"backgroundcolor\": \"#E5ECF6\", \"gridcolor\": \"white\", \"gridwidth\": 2, \"linecolor\": \"white\", \"showbackground\": true, \"ticks\": \"\", \"zerolinecolor\": \"white\"}, \"zaxis\": {\"backgroundcolor\": \"#E5ECF6\", \"gridcolor\": \"white\", \"gridwidth\": 2, \"linecolor\": \"white\", \"showbackground\": true, \"ticks\": \"\", \"zerolinecolor\": \"white\"}}, \"shapedefaults\": {\"line\": {\"color\": \"#2a3f5f\"}}, \"ternary\": {\"aaxis\": {\"gridcolor\": \"white\", \"linecolor\": \"white\", \"ticks\": \"\"}, \"baxis\": {\"gridcolor\": \"white\", \"linecolor\": \"white\", \"ticks\": \"\"}, \"bgcolor\": \"#E5ECF6\", \"caxis\": {\"gridcolor\": \"white\", \"linecolor\": \"white\", \"ticks\": \"\"}}, \"title\": {\"x\": 0.05}, \"xaxis\": {\"automargin\": true, \"gridcolor\": \"white\", \"linecolor\": \"white\", \"ticks\": \"\", \"title\": {\"standoff\": 15}, \"zerolinecolor\": \"white\", \"zerolinewidth\": 2}, \"yaxis\": {\"automargin\": true, \"gridcolor\": \"white\", \"linecolor\": \"white\", \"ticks\": \"\", \"title\": {\"standoff\": 15}, \"zerolinecolor\": \"white\", \"zerolinewidth\": 2}}}, \"title\": {\"text\": \"Fares\"}},\n",
       "                        {\"responsive\": true}\n",
       "                    ).then(function(){\n",
       "                            \n",
       "var gd = document.getElementById('776b6e69-b58b-47e8-883a-18d1568d778e');\n",
       "var x = new MutationObserver(function (mutations, observer) {{\n",
       "        var display = window.getComputedStyle(gd).display;\n",
       "        if (!display || display === 'none') {{\n",
       "            console.log([gd, 'removed!']);\n",
       "            Plotly.purge(gd);\n",
       "            observer.disconnect();\n",
       "        }}\n",
       "}});\n",
       "\n",
       "// Listen for the removal of the full notebook cells\n",
       "var notebookContainer = gd.closest('#notebook-container');\n",
       "if (notebookContainer) {{\n",
       "    x.observe(notebookContainer, {childList: true});\n",
       "}}\n",
       "\n",
       "// Listen for the clearing of the current output cell\n",
       "var outputEl = gd.closest('.output');\n",
       "if (outputEl) {{\n",
       "    x.observe(outputEl, {childList: true});\n",
       "}}\n",
       "\n",
       "                        })\n",
       "                };\n",
       "                });\n",
       "            </script>\n",
       "        </div>"
      ]
     },
     "metadata": {},
     "output_type": "display_data"
    }
   ],
   "source": [
    "iplot(all_fares_hist_fig)"
   ]
  },
  {
   "cell_type": "markdown",
   "metadata": {},
   "source": [
    "### Box plot, fares & survival\n",
    "\n",
    "    It's evident that survival is linked with a higher 'Fare' median, although this is not to be generalized since some of the passengers who didn't had paid fares as high as 260dls."
   ]
  },
  {
   "cell_type": "code",
   "execution_count": 35,
   "metadata": {},
   "outputs": [
    {
     "data": {
      "application/vnd.plotly.v1+json": {
       "config": {
        "linkText": "Export to plot.ly",
        "plotlyServerURL": "https://plot.ly",
        "showLink": false
       },
       "data": [
        {
         "marker": {
          "color": "#CF1E09"
         },
         "name": "Didn't Survive",
         "type": "box",
         "y": [
          -0.5002397510893574,
          -0.4841333019887193,
          -0.47591297302898106,
          0.39794644953841574,
          -0.22190017756895475,
          -0.4841333019887193,
          -0.016542951535818605,
          -0.4880753554061005,
          -0.05982903349378355,
          -0.28380934129953256,
          -0.12274485029315124,
          -0.22190017756895475,
          -0.5007430776237524,
          4.648790695770894,
          -0.48723782005286725,
          -0.08809987827767862,
          -0.434807301618015,
          1.008145313634504,
          0.40071474547758795,
          -0.4841333019887193,
          -0.28380934129953256,
          -0.4554436895282076,
          -0.22341015717213955,
          -0.48723782005286725,
          -0.4841333019887193,
          -0.33414199473902667,
          -0.20973578188569775,
          -0.28783595357469205,
          0.15282642728807924,
          -0.48916656733266867,
          0.6016265915589479,
          -0.500658518765974,
          0.29803613246101984,
          -0.500658518765974,
          1.0344028522808193,
          -0.08449203367913571,
          -0.08809987827767862,
          -0.4819528914417204,
          -0.4718018018960432,
          -0.434807301618015,
          0.29803613246101984,
          0.8335755650572377,
          -0.3551971503258359,
          -0.4921865265390384,
          -0.48723782005286725,
          -0.4841333019887193,
          -0.4650068936817115,
          0.30206274473617944,
          0.045869538729154176,
          -0.4841333019887193,
          -0.4841333019887193,
          -0.4841333019887193,
          -0.4880753554061005,
          0.5854355836005315,
          -0.2319667082568536,
          -0.5002397510893574,
          -0.4841333019887193,
          0.05149068946527694,
          -0.12274485029315124,
          -0.48723782005286725,
          -0.48723782005286725,
          0.9098295350180712,
          -0.47196890630546234,
          -0.48664993466069395,
          -0.48723782005286725,
          -0.48723782005286725,
          0.40071474547758795,
          -0.3551971503258359,
          -0.4841333019887193,
          -0.4483971180466784,
          -0.3551146047741951,
          -0.48664993466069395,
          -0.49017322040145855,
          -0.22341015717213955,
          4.337147012122648,
          -0.016542951535818605,
          0.8335755650572377,
          -0.4841333019887193,
          -0.040787184044554156,
          0.9098295350180712,
          -0.49017322040145855,
          -0.5057763429677017,
          -0.48723782005286725,
          -0.5042663633645169,
          -0.35427505611482435,
          -0.38447464817852084,
          -0.343286431215914,
          0.4228611129909654,
          -0.46064405928157615,
          0.9483340148992845,
          -0.33925981894075447,
          -0.5103062817772562,
          -0.41467424024221733,
          0.09368555949667362,
          0.045869538729154176,
          -0.12274485029315124,
          -0.38447464817852084,
          -0.39403785233202476,
          -0.4841333019887193,
          -0.35427505611482435,
          -0.49898143475337003,
          0.5895467547334693,
          -0.4841333019887193,
          -0.4718018018960432,
          0.7540499726228369,
          -0.3220621579135481,
          -0.48966989386706367,
          -0.4718018018960432,
          0.15282642728807924,
          -0.08449203367913571,
          -0.12425482989633606,
          0.4912289628108992,
          0.02825311002533122,
          -0.05982903349378355,
          -0.48664993466069395,
          -0.028204020684680614,
          -0.4880753554061005,
          -0.13348181192486414,
          -0.06813392131130011,
          -0.38447464817852084,
          -0.6462044460638905,
          0.7540499726228369,
          -0.34320187235813565,
          -0.014277982131041355,
          0.36044862272599265,
          -0.33414199473902667,
          -0.48723782005286725,
          -0.38447464817852084,
          -0.49017322040145855,
          -0.4770021716494118,
          -0.38447464817852084,
          -0.4549403629938127,
          0.7540499726228369,
          -0.515424105978984,
          -0.5007430776237524,
          -0.43556229141960745,
          -0.32709542325749746,
          -0.5042663633645169,
          -0.5002397510893574,
          -0.38447464817852084,
          -0.49017322040145855,
          -0.10261178891735358,
          -0.434807301618015,
          -0.38447464817852084,
          -0.4841333019887193,
          -0.48723782005286725,
          -0.4579603222001823,
          -0.5002397510893574,
          -0.38447464817852084,
          -0.13348181192486414,
          -0.48966989386706367,
          -0.374408117490622,
          -0.434807301618015,
          -0.4941998326766181,
          -0.12274485029315124,
          -0.434807301618015,
          -0.3990711176759742,
          -0.3551971503258359,
          -0.434807301618015,
          -0.5027563837613321,
          -0.5007430776237524,
          1.1657710777578991,
          -0.48966989386706367,
          -0.12274485029315124,
          -0.5002397510893574,
          -0.43556229141960745,
          -0.11167166653646252,
          -0.3220621579135481,
          -0.23926494300558024,
          -0.49017322040145855,
          0.9573938925183935,
          -0.6462044460638905,
          -0.49017322040145855,
          -0.434807301618015,
          0.15282642728807924,
          -0.022079543414162937,
          -0.04825252320269991,
          -0.49017322040145855,
          -0.6462044460638905,
          -0.05982903349378355,
          -0.49017322040145855,
          -0.4880753554061005,
          -0.4549403629938127,
          -0.12274485029315124,
          -0.4718018018960432,
          -0.48723782005286725,
          -0.38699128085049556,
          -0.4680268528880811,
          -0.48723782005286725,
          -0.08809987827767862,
          -0.500658518765974,
          2.404961005438245,
          -0.6462044460638905,
          -0.4841333019887193,
          -0.16301097304474657,
          -0.12274485029315124,
          -0.48723782005286725,
          -0.11771158494920184,
          -0.36434158680272316,
          -0.5002397510893574,
          -0.48723782005286725,
          0.7540499726228369,
          -0.5206244757323525,
          -0.07241219685365709,
          2.443465485319458,
          -0.28380934129953256,
          -0.48723782005286725,
          0.6946574415642337,
          0.06851923277692655,
          -0.38447464817852084,
          -0.38447464817852084,
          -0.38447464817852084,
          -0.4718018018960432,
          -0.460476954872157,
          0.05845270208902771,
          -0.500658518765974,
          -0.28783595357469205,
          -0.5007430776237524,
          -0.4549403629938127,
          -0.38447464817852084,
          -0.08449203367913571,
          -0.08809987827767862,
          -0.3551971503258359,
          -0.5042663633645169,
          -0.33414199473902667,
          -0.5002397510893574,
          -0.515424105978984,
          -0.4841333019887193,
          2.084509107438086,
          -0.22190017756895475,
          3.6119380349173147,
          -0.5654205372935024,
          -0.48966989386706367,
          -0.48664993466069395,
          -0.48723782005286725,
          0.8335755650572377,
          0.29803613246101984,
          -0.4905919880780752,
          -0.48664993466069395,
          -0.489251126190447,
          -0.4880753554061005,
          -0.12274485029315124,
          -0.434807301618015,
          -0.4841333019887193,
          -0.4483971180466784,
          -0.32709542325749746,
          -0.4718018018960432,
          -0.22341015717213955,
          -0.49017322040145855,
          -0.48966989386706367,
          -0.13348181192486414,
          -0.48723782005286725,
          -0.5081258712302573,
          -0.6462044460638905,
          -0.4841333019887193,
          -0.38447464817852084,
          -0.15999101383837694,
          -0.48723782005286725,
          -0.4905094425264344,
          -0.4876565877294839,
          -0.3562883622524042,
          -0.23926494300558024,
          -0.5002397510893574,
          -0.49017322040145855,
          -0.5027563837613321,
          0.47923368484319884,
          0.045869538729154176,
          4.648790695770894,
          -0.434807301618015,
          -0.4549403629938127,
          -0.48966989386706367,
          -0.08751199288550533,
          -0.24421364949175128,
          -0.08751199288550533,
          -0.4841333019887193,
          -0.11167166653646252,
          -0.49017322040145855,
          -0.4841333019887193,
          0.12891841690431952,
          -0.38447464817852084,
          -0.4841333019887193,
          -0.5042663633645169,
          -0.6462044460638905,
          -0.11167166653646252,
          -0.4906765469358535,
          -0.5002397510893574,
          -0.4718018018960432,
          -0.448145454779481,
          0.40071474547758795,
          -0.22341015717213955,
          -0.5043509222222953,
          -0.49478771806879135,
          0.29803613246101984,
          -0.6462044460638905,
          -0.4841333019887193,
          -0.13348181192486414,
          -0.04825252320269991,
          -0.4841333019887193,
          -0.24421364949175128,
          -0.5002397510893574,
          -0.032146074102061765,
          0.3504666508958721,
          -0.4841333019887193,
          -0.3551146047741951,
          -0.3421952192893457,
          2.404961005438245,
          -0.489251126190447,
          -0.4718018018960432,
          -0.49017322040145855,
          -0.4926052942156549,
          -0.4531787201234304,
          1.546285937760475,
          -0.19270723857404815,
          -0.4841333019887193,
          -0.49529104460318635,
          0.03873840838984667,
          -0.15999101383837694,
          -0.48723782005286725,
          -0.48723782005286725,
          -0.5007430776237524,
          -0.500658518765974,
          -0.49017322040145855,
          3.8188897994114144,
          -0.48664993466069395,
          -0.41467424024221733,
          -0.500658518765974,
          -0.500658518765974,
          -0.4718018018960432,
          -0.11167166653646252,
          -0.35427505611482435,
          -0.016542951535818605,
          -0.016542951535818605,
          1.4964566108553758,
          -0.12274485029315124,
          -0.23297336132564347,
          -0.12274485029315124,
          -0.4885786819404954,
          -0.11167166653646252,
          3.9345703434644728,
          -0.49017322040145855,
          -0.48723782005286725,
          -0.374408117490622,
          -0.4841333019887193,
          -0.4841333019887193,
          -0.15999101383837694,
          -0.48723782005286725,
          -0.22190017756895475,
          -0.500658518765974,
          -0.4841333019887193,
          -0.35427505611482435,
          -0.3551146047741951,
          -0.12274485029315124,
          0.16163464163999072,
          -0.4707951488272534,
          -0.34420852542692554,
          -0.4841333019887193,
          -0.4841333019887193,
          -0.5027563837613321,
          -0.5002397510893574,
          -0.49017322040145855,
          -0.12274485029315124,
          -0.15999101383837694,
          -0.6462044460638905,
          -0.5007430776237524,
          -0.48723782005286725,
          0.20743735626993037,
          -0.4841333019887193,
          -0.3331353416702368,
          -0.48723782005286725,
          -0.016542951535818605,
          -0.5042663633645169,
          -0.49017322040145855,
          -0.4841333019887193,
          -0.3562883622524042,
          -0.3220621579135481,
          -0.434807301618015,
          -0.3551971503258359,
          -0.4880753554061005,
          -0.3220621579135481,
          0.004512204050990585,
          -0.3975611380727893,
          -0.48723782005286725,
          -0.4905094425264344,
          -0.5041818045067386,
          -0.6462044460638905,
          -0.08449203367913571,
          -0.48664993466069395,
          -0.11771158494920184,
          0.15282642728807924,
          -0.3220621579135481,
          -0.4880753554061005,
          -0.08449203367913571,
          -0.48723782005286725,
          -0.4941998326766181,
          -0.48723782005286725,
          -0.47641629956337606,
          -0.5103062817772562,
          0.8335755650572377,
          -0.48723782005286725,
          -0.33414199473902667,
          -0.38447464817852084,
          1.6343680812795898,
          -0.5007430776237524,
          -0.1310497381106678,
          -0.49529104460318635,
          0.8335755650572377,
          -0.38447464817852084,
          -0.48966989386706367,
          -0.4841333019887193,
          0.40071474547758795,
          -0.434807301618015,
          -0.6462044460638905,
          -0.48966989386706367,
          -0.4841333019887193,
          0.29803613246101984,
          -0.482371659118337,
          -0.460476954872157,
          0.29803613246101984,
          0.13898494759221836,
          0.1909121394926757,
          0.15282642728807924,
          -0.4414351054229276,
          -0.489251126190447,
          -0.5007430776237524,
          -0.11167166653646252,
          -0.374408117490622,
          -0.4841333019887193,
          1.5862158383870948,
          -0.4921865265390384,
          -0.3551971503258359,
          -0.49034032481087764,
          -0.4880753554061005,
          -0.12274485029315124,
          -0.11167166653646252,
          -0.4552765851187885,
          -0.38447464817852084,
          -0.4921865265390384,
          -0.33414199473902667,
          -0.48966989386706367,
          -0.5041818045067386,
          -0.38447464817852084,
          -0.38447464817852084,
          -0.4718018018960432,
          -0.12274485029315124,
          -0.48664993466069395,
          -0.26795455546609187,
          -0.6462044460638905,
          -0.38447464817852084,
          -0.38447464817852084,
          -0.3220621579135481,
          0.045869538729154176,
          -0.48723782005286725,
          -0.48723782005286725,
          0.941287443417755,
          -0.3220621579135481,
          0.7832429116177435,
          -0.2385099532039878,
          0.4228611129909654,
          -0.49017322040145855,
          -0.4549403629938127,
          -0.48723782005286725,
          -0.489251126190447,
          -0.41467424024221733,
          -0.4841333019887193,
          -0.35427505611482435,
          -0.5027563837613321,
          -0.48966989386706367,
          0.151064784417697,
          -0.49017322040145855,
          -0.15999101383837694,
          -0.47784172030878247,
          -0.4549403629938127,
          -0.4880753554061005,
          -0.434807301618015,
          -0.5007430776237524,
          -0.49017322040145855,
          -0.49017322040145855,
          -0.49042488366865605,
          -0.0422126047899606,
          -0.1740841568014353,
          -0.5042663633645169,
          -0.5002397510893574,
          -0.05982903349378355,
          0.9483340148992845,
          -0.49017322040145855,
          -0.12274485029315124,
          0.7540499726228369,
          -0.028204020684680614,
          -0.48723782005286725,
          -0.38447464817852084,
          -0.500658518765974,
          -0.15999101383837694,
          -0.38447464817852084,
          -0.48966989386706367,
          -0.6462044460638905,
          -0.48966989386706367,
          -0.38447464817852084,
          -0.4874049244622864,
          -0.15999101383837694,
          -0.434807301618015,
          -0.016542951535818605,
          -0.4841333019887193,
          -0.6462044460638905,
          -0.48664993466069395,
          0.09880338369840133,
          -0.5163462001899956,
          -0.08449203367913571,
          -0.6462044460638905,
          0.15282642728807924,
          -0.5062796695020967,
          0.4912289628108992,
          -0.500658518765974,
          -0.4880753554061005,
          -0.47910003664476986,
          -0.4718018018960432,
          -0.4841333019887193,
          -0.48664993466069395,
          -0.434807301618015,
          -0.516597863457193,
          -0.4718018018960432,
          -0.4941998326766181,
          0.7540499726228369,
          -0.48723782005286725,
          0.01818657933743239,
          -0.016542951535818605,
          -0.48966989386706367,
          -0.33925981894075447,
          -0.12274485029315124,
          -0.500658518765974,
          -0.3621611762557243,
          -0.41467424024221733,
          0.7540499726228369,
          -0.38447464817852084,
          0.37043059455611316,
          -0.4549403629938127,
          -0.48723782005286725,
          -0.5455391391849022,
          -0.4650068936817115,
          -0.44797835037006184,
          -0.48723782005286725,
          -0.48723782005286725,
          -0.48723782005286725,
          -0.4344710794930392,
          -0.434807301618015,
          -0.5042663633645169,
          -0.05982903349378355,
          -0.38447464817852084,
          -0.1740841568014353,
          -0.49017322040145855
         ]
        },
        {
         "marker": {
          "color": "#0939CF"
         },
         "name": "Survived",
         "type": "box",
         "y": [
          0.788946607905507,
          -0.48664993466069395,
          0.4228611129909654,
          -0.4220570338487224,
          -0.040787184044554156,
          -0.3099823210880695,
          -0.11167166653646252,
          -0.32407546405112786,
          -0.38447464817852084,
          -0.5007430776237524,
          -0.38447464817852084,
          -0.48455206966533587,
          0.06851923277692655,
          -0.014277982131041355,
          -0.4875720288717055,
          2.3037078131670836,
          -0.49017322040145855,
          -0.500658518765974,
          -0.41987460999558585,
          0.1909121394926757,
          -0.4875720288717055,
          -0.49017322040145855,
          0.8985892468519636,
          -0.12274485029315124,
          0.06851923277692655,
          -0.434807301618015,
          -0.08751199288550533,
          -0.33925981894075447,
          -0.434807301618015,
          -0.48664993466069395,
          0.4912289628108992,
          -0.06234566616575826,
          -0.3950445054008146,
          -0.4549403629938127,
          -0.4894182305998661,
          -0.434807301618015,
          -0.32709542325749746,
          4.648790695770894,
          0.6293920965023105,
          -0.18314403442054422,
          -0.4921865265390384,
          -0.48966989386706367,
          -0.15999101383837694,
          -0.38447464817852084,
          -0.41987460999558585,
          -0.5024201616363563,
          -0.19606341990539358,
          -0.12274485029315124,
          -0.11704115400538775,
          -0.49017322040145855,
          -0.32709542325749746,
          -0.489251126190447,
          0.6946574415642337,
          -0.4905094425264344,
          -0.3291087293950773,
          -0.23297336132564347,
          0.46111392960498093,
          -0.4220570338487224,
          0.13898494759221836,
          -0.20277376926194698,
          -0.33414199473902667,
          -0.11167166653646252,
          -0.38447464817852084,
          -0.4880753554061005,
          -0.12274485029315124,
          -0.08809987827767862,
          2.3037078131670836,
          -0.49017322040145855,
          -0.4841333019887193,
          -0.26795455546609187,
          -0.49017322040145855,
          -0.022079543414162937,
          -0.22341015717213955,
          1.6343680812795898,
          -0.48664993466069395,
          0.8897810325000521,
          -0.4841333019887193,
          1.1657710777578991,
          -0.434807301618015,
          1.0344028522808193,
          -0.014277982131041355,
          -0.11771158494920184,
          -0.33414199473902667,
          -0.35427505611482435,
          0.41187248809205507,
          -0.33925981894075447,
          0.9483340148992845,
          1.0953053629426073,
          9.668550782149426,
          -0.12274485029315124,
          -0.014277982131041355,
          -0.48966989386706367,
          2.443465485319458,
          2.084509107438086,
          -0.6462044460638905,
          -0.25360974923583607,
          -0.49017322040145855,
          0.9233347925889563,
          -0.2385099532039878,
          -0.4841333019887193,
          -0.4549403629938127,
          -0.38447464817852084,
          -0.49017322040145855,
          0.941287443417755,
          1.1874986775946599,
          -0.032146074102061765,
          4.337147012122648,
          -0.49017322040145855,
          -0.17811076907659482,
          -0.3975611380727893,
          2.404961005438245,
          1.5862158383870948,
          1.546285937760475,
          0.4999546316111698,
          1.0280267117431041,
          4.636207532411021,
          -0.4880753554061005,
          -0.12274485029315124,
          2.67306694386133,
          2.061692308980895,
          -0.3975611380727893,
          -0.06234566616575826,
          2.084509107438086,
          -0.38447464817852084,
          -0.23297336132564347,
          0.5210943460557573,
          -0.17811076907659482,
          2.044579206811467,
          2.061692308980895,
          -0.4841333019887193,
          -0.12274485029315124,
          4.648790695770894,
          -0.38447464817852084,
          -0.38447464817852084,
          -0.3220621579135481,
          -0.32608877018870763,
          0.46111392960498093,
          -0.4875720288717055,
          -0.4875720288717055,
          0.8688084224648837,
          -0.500658518765974,
          -0.49017322040145855,
          0.7490167072788875,
          0.4700067028146707,
          1.008145313634504,
          -0.5002397510893574,
          3.9345703434644728,
          -0.3292758338044964,
          0.40071474547758795,
          -0.38447464817852084,
          -0.4046077095543185,
          1.769762919031829,
          -0.489251126190447,
          1.6343680812795898,
          -0.3099823210880695,
          -0.39152121966005005,
          -0.48664993466069395,
          -0.2687095452676843,
          1.1657710777578991,
          -0.48664993466069395,
          0.008120048649533558,
          -0.38447464817852084,
          -0.12274485029315124,
          -0.12274485029315124,
          -0.4841333019887193,
          -0.11167166653646252,
          -0.3220621579135481,
          -0.12274485029315124,
          1.769762919031829,
          -0.2687095452676843,
          -0.11771158494920184,
          -0.38447464817852084,
          -0.4828749856527319,
          1.0018537319545673,
          -0.25360974923583607,
          -0.11167166653646252,
          -0.25847591017036636,
          -0.032146074102061765,
          1.1477358813774596,
          -0.48723782005286725,
          0.39794644953841574,
          -0.434807301618015,
          -0.11167166653646252,
          -0.25847591017036636,
          -0.08751199288550533,
          -0.36853530348730185,
          -0.39881945440877664,
          -0.4531787201234304,
          1.1874986775946599,
          1.1657710777578991,
          -0.32608877018870763,
          0.9295438287172524,
          1.0953053629426073,
          -0.12274485029315124,
          -0.11167166653646252,
          0.4912289628108992,
          -0.49017322040145855,
          -0.1169565951476094,
          0.5496993996584907,
          -0.434807301618015,
          -0.12274485029315124,
          1.236236792573191,
          0.5210943460557573,
          -0.434807301618015,
          -0.12274485029315124,
          -0.19606341990539358,
          -0.11771158494920184,
          1.4964566108553758,
          0.3503820920380938,
          0.7832429116177435,
          -0.12274485029315124,
          -0.12274485029315124,
          -0.3671098827418954,
          0.09368555949667362,
          1.5862158383870948,
          -0.5007430776237524,
          -0.48966989386706367,
          0.151064784417697,
          0.9573938925183935,
          -0.29588917812501114,
          -0.4880753554061005,
          -0.434807301618015,
          0.3902294471130725,
          -0.11494328901002966,
          -0.49017322040145855,
          -0.38447464817852084,
          0.47923368484319884,
          -0.48664993466069395,
          -0.0422126047899606,
          1.5862158383870948,
          0.9573938925183935,
          0.9483340148992845,
          0.9295438287172524,
          0.01818657933743239,
          0.4999546316111698,
          -0.10261178891735358,
          -0.11167166653646252,
          -0.032146074102061765,
          0.1909121394926757,
          2.443465485319458,
          -0.33414199473902667,
          0.6624445433629575,
          0.13898494759221836,
          0.41187248809205507,
          -0.3292758338044964,
          0.9233347925889563,
          -0.0422126047899606,
          -0.032146074102061765,
          -0.38447464817852084,
          0.7490167072788875,
          0.4912289628108992,
          -0.25847591017036636,
          0.8985892468519636,
          0.06851923277692655,
          -0.4941998326766181,
          -0.18314403442054422,
          -0.4885786819404954,
          2.044579206811467,
          -0.48664993466069395,
          0.40071474547758795,
          0.13898494759221836,
          -0.38447464817852084,
          -0.4480608959217026,
          9.668550782149426,
          0.8985892468519636,
          3.608666412443748,
          0.5013800523565762,
          -0.376085201503226,
          0.4912289628108992,
          -0.4905094425264344,
          3.9345703434644728,
          -0.1169565951476094,
          -0.374408117490622,
          -0.1169565951476094,
          2.404961005438245,
          -0.33925981894075447,
          0.3504666508958721,
          0.40071474547758795,
          3.9345703434644728,
          -0.434807301618015,
          0.01818657933743239,
          0.4228611129909654,
          -0.22341015717213955,
          -0.49042488366865605,
          3.608666412443748,
          9.668550782149426,
          -0.0422126047899606,
          4.636207532411021,
          -0.48664993466069395,
          -0.38447464817852084,
          -0.18314403442054422,
          -0.3950445054008146,
          0.6624445433629575,
          -0.35427505611482435,
          1.0953053629426073,
          -0.500658518765974,
          1.769762919031829,
          0.9233347925889563,
          -0.18314403442054422,
          -0.3950445054008146,
          3.608666412443748,
          -0.500658518765974,
          0.5013800523565762,
          -0.49529104460318635,
          -0.2319667082568536,
          -0.12417027103855768,
          -0.4713830342194266,
          -0.11771158494920184,
          1.769762919031829,
          -0.4747372022446345,
          -0.5057763429677017,
          0.4228611129909654,
          1.236236792573191,
          -0.4718018018960432,
          -0.3950445054008146,
          0.09880338369840133,
          -0.49017322040145855,
          -0.3551971503258359,
          -0.2687095452676843,
          1.0280267117431041,
          0.4912289628108992,
          -0.04825252320269991,
          -0.022079543414162937,
          1.1477358813774596,
          0.1470381721425374,
          -0.4579603222001823,
          2.67306694386133,
          -0.11167166653646252,
          -0.25847591017036636,
          -0.12417027103855768,
          -0.38447464817852084,
          -0.36719444159967374,
          -0.4220570338487224,
          0.41187248809205507,
          -0.16301097304474657,
          -0.5007430776237524,
          1.0280267117431041,
          -0.12274485029315124,
          -0.0422126047899606,
          -0.0422126047899606
         ]
        }
       ],
       "layout": {
        "template": {
         "data": {
          "bar": [
           {
            "error_x": {
             "color": "#2a3f5f"
            },
            "error_y": {
             "color": "#2a3f5f"
            },
            "marker": {
             "line": {
              "color": "#E5ECF6",
              "width": 0.5
             }
            },
            "type": "bar"
           }
          ],
          "barpolar": [
           {
            "marker": {
             "line": {
              "color": "#E5ECF6",
              "width": 0.5
             }
            },
            "type": "barpolar"
           }
          ],
          "carpet": [
           {
            "aaxis": {
             "endlinecolor": "#2a3f5f",
             "gridcolor": "white",
             "linecolor": "white",
             "minorgridcolor": "white",
             "startlinecolor": "#2a3f5f"
            },
            "baxis": {
             "endlinecolor": "#2a3f5f",
             "gridcolor": "white",
             "linecolor": "white",
             "minorgridcolor": "white",
             "startlinecolor": "#2a3f5f"
            },
            "type": "carpet"
           }
          ],
          "choropleth": [
           {
            "colorbar": {
             "outlinewidth": 0,
             "ticks": ""
            },
            "type": "choropleth"
           }
          ],
          "contour": [
           {
            "colorbar": {
             "outlinewidth": 0,
             "ticks": ""
            },
            "colorscale": [
             [
              0,
              "#0d0887"
             ],
             [
              0.1111111111111111,
              "#46039f"
             ],
             [
              0.2222222222222222,
              "#7201a8"
             ],
             [
              0.3333333333333333,
              "#9c179e"
             ],
             [
              0.4444444444444444,
              "#bd3786"
             ],
             [
              0.5555555555555556,
              "#d8576b"
             ],
             [
              0.6666666666666666,
              "#ed7953"
             ],
             [
              0.7777777777777778,
              "#fb9f3a"
             ],
             [
              0.8888888888888888,
              "#fdca26"
             ],
             [
              1,
              "#f0f921"
             ]
            ],
            "type": "contour"
           }
          ],
          "contourcarpet": [
           {
            "colorbar": {
             "outlinewidth": 0,
             "ticks": ""
            },
            "type": "contourcarpet"
           }
          ],
          "heatmap": [
           {
            "colorbar": {
             "outlinewidth": 0,
             "ticks": ""
            },
            "colorscale": [
             [
              0,
              "#0d0887"
             ],
             [
              0.1111111111111111,
              "#46039f"
             ],
             [
              0.2222222222222222,
              "#7201a8"
             ],
             [
              0.3333333333333333,
              "#9c179e"
             ],
             [
              0.4444444444444444,
              "#bd3786"
             ],
             [
              0.5555555555555556,
              "#d8576b"
             ],
             [
              0.6666666666666666,
              "#ed7953"
             ],
             [
              0.7777777777777778,
              "#fb9f3a"
             ],
             [
              0.8888888888888888,
              "#fdca26"
             ],
             [
              1,
              "#f0f921"
             ]
            ],
            "type": "heatmap"
           }
          ],
          "heatmapgl": [
           {
            "colorbar": {
             "outlinewidth": 0,
             "ticks": ""
            },
            "colorscale": [
             [
              0,
              "#0d0887"
             ],
             [
              0.1111111111111111,
              "#46039f"
             ],
             [
              0.2222222222222222,
              "#7201a8"
             ],
             [
              0.3333333333333333,
              "#9c179e"
             ],
             [
              0.4444444444444444,
              "#bd3786"
             ],
             [
              0.5555555555555556,
              "#d8576b"
             ],
             [
              0.6666666666666666,
              "#ed7953"
             ],
             [
              0.7777777777777778,
              "#fb9f3a"
             ],
             [
              0.8888888888888888,
              "#fdca26"
             ],
             [
              1,
              "#f0f921"
             ]
            ],
            "type": "heatmapgl"
           }
          ],
          "histogram": [
           {
            "marker": {
             "colorbar": {
              "outlinewidth": 0,
              "ticks": ""
             }
            },
            "type": "histogram"
           }
          ],
          "histogram2d": [
           {
            "colorbar": {
             "outlinewidth": 0,
             "ticks": ""
            },
            "colorscale": [
             [
              0,
              "#0d0887"
             ],
             [
              0.1111111111111111,
              "#46039f"
             ],
             [
              0.2222222222222222,
              "#7201a8"
             ],
             [
              0.3333333333333333,
              "#9c179e"
             ],
             [
              0.4444444444444444,
              "#bd3786"
             ],
             [
              0.5555555555555556,
              "#d8576b"
             ],
             [
              0.6666666666666666,
              "#ed7953"
             ],
             [
              0.7777777777777778,
              "#fb9f3a"
             ],
             [
              0.8888888888888888,
              "#fdca26"
             ],
             [
              1,
              "#f0f921"
             ]
            ],
            "type": "histogram2d"
           }
          ],
          "histogram2dcontour": [
           {
            "colorbar": {
             "outlinewidth": 0,
             "ticks": ""
            },
            "colorscale": [
             [
              0,
              "#0d0887"
             ],
             [
              0.1111111111111111,
              "#46039f"
             ],
             [
              0.2222222222222222,
              "#7201a8"
             ],
             [
              0.3333333333333333,
              "#9c179e"
             ],
             [
              0.4444444444444444,
              "#bd3786"
             ],
             [
              0.5555555555555556,
              "#d8576b"
             ],
             [
              0.6666666666666666,
              "#ed7953"
             ],
             [
              0.7777777777777778,
              "#fb9f3a"
             ],
             [
              0.8888888888888888,
              "#fdca26"
             ],
             [
              1,
              "#f0f921"
             ]
            ],
            "type": "histogram2dcontour"
           }
          ],
          "mesh3d": [
           {
            "colorbar": {
             "outlinewidth": 0,
             "ticks": ""
            },
            "type": "mesh3d"
           }
          ],
          "parcoords": [
           {
            "line": {
             "colorbar": {
              "outlinewidth": 0,
              "ticks": ""
             }
            },
            "type": "parcoords"
           }
          ],
          "pie": [
           {
            "automargin": true,
            "type": "pie"
           }
          ],
          "scatter": [
           {
            "marker": {
             "colorbar": {
              "outlinewidth": 0,
              "ticks": ""
             }
            },
            "type": "scatter"
           }
          ],
          "scatter3d": [
           {
            "line": {
             "colorbar": {
              "outlinewidth": 0,
              "ticks": ""
             }
            },
            "marker": {
             "colorbar": {
              "outlinewidth": 0,
              "ticks": ""
             }
            },
            "type": "scatter3d"
           }
          ],
          "scattercarpet": [
           {
            "marker": {
             "colorbar": {
              "outlinewidth": 0,
              "ticks": ""
             }
            },
            "type": "scattercarpet"
           }
          ],
          "scattergeo": [
           {
            "marker": {
             "colorbar": {
              "outlinewidth": 0,
              "ticks": ""
             }
            },
            "type": "scattergeo"
           }
          ],
          "scattergl": [
           {
            "marker": {
             "colorbar": {
              "outlinewidth": 0,
              "ticks": ""
             }
            },
            "type": "scattergl"
           }
          ],
          "scattermapbox": [
           {
            "marker": {
             "colorbar": {
              "outlinewidth": 0,
              "ticks": ""
             }
            },
            "type": "scattermapbox"
           }
          ],
          "scatterpolar": [
           {
            "marker": {
             "colorbar": {
              "outlinewidth": 0,
              "ticks": ""
             }
            },
            "type": "scatterpolar"
           }
          ],
          "scatterpolargl": [
           {
            "marker": {
             "colorbar": {
              "outlinewidth": 0,
              "ticks": ""
             }
            },
            "type": "scatterpolargl"
           }
          ],
          "scatterternary": [
           {
            "marker": {
             "colorbar": {
              "outlinewidth": 0,
              "ticks": ""
             }
            },
            "type": "scatterternary"
           }
          ],
          "surface": [
           {
            "colorbar": {
             "outlinewidth": 0,
             "ticks": ""
            },
            "colorscale": [
             [
              0,
              "#0d0887"
             ],
             [
              0.1111111111111111,
              "#46039f"
             ],
             [
              0.2222222222222222,
              "#7201a8"
             ],
             [
              0.3333333333333333,
              "#9c179e"
             ],
             [
              0.4444444444444444,
              "#bd3786"
             ],
             [
              0.5555555555555556,
              "#d8576b"
             ],
             [
              0.6666666666666666,
              "#ed7953"
             ],
             [
              0.7777777777777778,
              "#fb9f3a"
             ],
             [
              0.8888888888888888,
              "#fdca26"
             ],
             [
              1,
              "#f0f921"
             ]
            ],
            "type": "surface"
           }
          ],
          "table": [
           {
            "cells": {
             "fill": {
              "color": "#EBF0F8"
             },
             "line": {
              "color": "white"
             }
            },
            "header": {
             "fill": {
              "color": "#C8D4E3"
             },
             "line": {
              "color": "white"
             }
            },
            "type": "table"
           }
          ]
         },
         "layout": {
          "annotationdefaults": {
           "arrowcolor": "#2a3f5f",
           "arrowhead": 0,
           "arrowwidth": 1
          },
          "coloraxis": {
           "colorbar": {
            "outlinewidth": 0,
            "ticks": ""
           }
          },
          "colorscale": {
           "diverging": [
            [
             0,
             "#8e0152"
            ],
            [
             0.1,
             "#c51b7d"
            ],
            [
             0.2,
             "#de77ae"
            ],
            [
             0.3,
             "#f1b6da"
            ],
            [
             0.4,
             "#fde0ef"
            ],
            [
             0.5,
             "#f7f7f7"
            ],
            [
             0.6,
             "#e6f5d0"
            ],
            [
             0.7,
             "#b8e186"
            ],
            [
             0.8,
             "#7fbc41"
            ],
            [
             0.9,
             "#4d9221"
            ],
            [
             1,
             "#276419"
            ]
           ],
           "sequential": [
            [
             0,
             "#0d0887"
            ],
            [
             0.1111111111111111,
             "#46039f"
            ],
            [
             0.2222222222222222,
             "#7201a8"
            ],
            [
             0.3333333333333333,
             "#9c179e"
            ],
            [
             0.4444444444444444,
             "#bd3786"
            ],
            [
             0.5555555555555556,
             "#d8576b"
            ],
            [
             0.6666666666666666,
             "#ed7953"
            ],
            [
             0.7777777777777778,
             "#fb9f3a"
            ],
            [
             0.8888888888888888,
             "#fdca26"
            ],
            [
             1,
             "#f0f921"
            ]
           ],
           "sequentialminus": [
            [
             0,
             "#0d0887"
            ],
            [
             0.1111111111111111,
             "#46039f"
            ],
            [
             0.2222222222222222,
             "#7201a8"
            ],
            [
             0.3333333333333333,
             "#9c179e"
            ],
            [
             0.4444444444444444,
             "#bd3786"
            ],
            [
             0.5555555555555556,
             "#d8576b"
            ],
            [
             0.6666666666666666,
             "#ed7953"
            ],
            [
             0.7777777777777778,
             "#fb9f3a"
            ],
            [
             0.8888888888888888,
             "#fdca26"
            ],
            [
             1,
             "#f0f921"
            ]
           ]
          },
          "colorway": [
           "#636efa",
           "#EF553B",
           "#00cc96",
           "#ab63fa",
           "#FFA15A",
           "#19d3f3",
           "#FF6692",
           "#B6E880",
           "#FF97FF",
           "#FECB52"
          ],
          "font": {
           "color": "#2a3f5f"
          },
          "geo": {
           "bgcolor": "white",
           "lakecolor": "white",
           "landcolor": "#E5ECF6",
           "showlakes": true,
           "showland": true,
           "subunitcolor": "white"
          },
          "hoverlabel": {
           "align": "left"
          },
          "hovermode": "closest",
          "mapbox": {
           "style": "light"
          },
          "paper_bgcolor": "white",
          "plot_bgcolor": "#E5ECF6",
          "polar": {
           "angularaxis": {
            "gridcolor": "white",
            "linecolor": "white",
            "ticks": ""
           },
           "bgcolor": "#E5ECF6",
           "radialaxis": {
            "gridcolor": "white",
            "linecolor": "white",
            "ticks": ""
           }
          },
          "scene": {
           "xaxis": {
            "backgroundcolor": "#E5ECF6",
            "gridcolor": "white",
            "gridwidth": 2,
            "linecolor": "white",
            "showbackground": true,
            "ticks": "",
            "zerolinecolor": "white"
           },
           "yaxis": {
            "backgroundcolor": "#E5ECF6",
            "gridcolor": "white",
            "gridwidth": 2,
            "linecolor": "white",
            "showbackground": true,
            "ticks": "",
            "zerolinecolor": "white"
           },
           "zaxis": {
            "backgroundcolor": "#E5ECF6",
            "gridcolor": "white",
            "gridwidth": 2,
            "linecolor": "white",
            "showbackground": true,
            "ticks": "",
            "zerolinecolor": "white"
           }
          },
          "shapedefaults": {
           "line": {
            "color": "#2a3f5f"
           }
          },
          "ternary": {
           "aaxis": {
            "gridcolor": "white",
            "linecolor": "white",
            "ticks": ""
           },
           "baxis": {
            "gridcolor": "white",
            "linecolor": "white",
            "ticks": ""
           },
           "bgcolor": "#E5ECF6",
           "caxis": {
            "gridcolor": "white",
            "linecolor": "white",
            "ticks": ""
           }
          },
          "title": {
           "x": 0.05
          },
          "xaxis": {
           "automargin": true,
           "gridcolor": "white",
           "linecolor": "white",
           "ticks": "",
           "title": {
            "standoff": 15
           },
           "zerolinecolor": "white",
           "zerolinewidth": 2
          },
          "yaxis": {
           "automargin": true,
           "gridcolor": "white",
           "linecolor": "white",
           "ticks": "",
           "title": {
            "standoff": 15
           },
           "zerolinecolor": "white",
           "zerolinewidth": 2
          }
         }
        },
        "title": {
         "text": "Fares and Survival"
        }
       }
      },
      "text/html": [
       "<div>\n",
       "        \n",
       "        \n",
       "            <div id=\"2cd5ee55-83f8-4384-ac40-ab9b1d24bae1\" class=\"plotly-graph-div\" style=\"height:525px; width:100%;\"></div>\n",
       "            <script type=\"text/javascript\">\n",
       "                require([\"plotly\"], function(Plotly) {\n",
       "                    window.PLOTLYENV=window.PLOTLYENV || {};\n",
       "                    \n",
       "                if (document.getElementById(\"2cd5ee55-83f8-4384-ac40-ab9b1d24bae1\")) {\n",
       "                    Plotly.newPlot(\n",
       "                        '2cd5ee55-83f8-4384-ac40-ab9b1d24bae1',\n",
       "                        [{\"marker\": {\"color\": \"#CF1E09\"}, \"name\": \"Didn't Survive\", \"type\": \"box\", \"y\": [-0.5002397510893574, -0.4841333019887193, -0.47591297302898106, 0.39794644953841574, -0.22190017756895475, -0.4841333019887193, -0.016542951535818605, -0.4880753554061005, -0.05982903349378355, -0.28380934129953256, -0.12274485029315124, -0.22190017756895475, -0.5007430776237524, 4.648790695770894, -0.48723782005286725, -0.08809987827767862, -0.434807301618015, 1.008145313634504, 0.40071474547758795, -0.4841333019887193, -0.28380934129953256, -0.4554436895282076, -0.22341015717213955, -0.48723782005286725, -0.4841333019887193, -0.33414199473902667, -0.20973578188569775, -0.28783595357469205, 0.15282642728807924, -0.48916656733266867, 0.6016265915589479, -0.500658518765974, 0.29803613246101984, -0.500658518765974, 1.0344028522808193, -0.08449203367913571, -0.08809987827767862, -0.4819528914417204, -0.4718018018960432, -0.434807301618015, 0.29803613246101984, 0.8335755650572377, -0.3551971503258359, -0.4921865265390384, -0.48723782005286725, -0.4841333019887193, -0.4650068936817115, 0.30206274473617944, 0.045869538729154176, -0.4841333019887193, -0.4841333019887193, -0.4841333019887193, -0.4880753554061005, 0.5854355836005315, -0.2319667082568536, -0.5002397510893574, -0.4841333019887193, 0.05149068946527694, -0.12274485029315124, -0.48723782005286725, -0.48723782005286725, 0.9098295350180712, -0.47196890630546234, -0.48664993466069395, -0.48723782005286725, -0.48723782005286725, 0.40071474547758795, -0.3551971503258359, -0.4841333019887193, -0.4483971180466784, -0.3551146047741951, -0.48664993466069395, -0.49017322040145855, -0.22341015717213955, 4.337147012122648, -0.016542951535818605, 0.8335755650572377, -0.4841333019887193, -0.040787184044554156, 0.9098295350180712, -0.49017322040145855, -0.5057763429677017, -0.48723782005286725, -0.5042663633645169, -0.35427505611482435, -0.38447464817852084, -0.343286431215914, 0.4228611129909654, -0.46064405928157615, 0.9483340148992845, -0.33925981894075447, -0.5103062817772562, -0.41467424024221733, 0.09368555949667362, 0.045869538729154176, -0.12274485029315124, -0.38447464817852084, -0.39403785233202476, -0.4841333019887193, -0.35427505611482435, -0.49898143475337003, 0.5895467547334693, -0.4841333019887193, -0.4718018018960432, 0.7540499726228369, -0.3220621579135481, -0.48966989386706367, -0.4718018018960432, 0.15282642728807924, -0.08449203367913571, -0.12425482989633606, 0.4912289628108992, 0.02825311002533122, -0.05982903349378355, -0.48664993466069395, -0.028204020684680614, -0.4880753554061005, -0.13348181192486414, -0.06813392131130011, -0.38447464817852084, -0.6462044460638905, 0.7540499726228369, -0.34320187235813565, -0.014277982131041355, 0.36044862272599265, -0.33414199473902667, -0.48723782005286725, -0.38447464817852084, -0.49017322040145855, -0.4770021716494118, -0.38447464817852084, -0.4549403629938127, 0.7540499726228369, -0.515424105978984, -0.5007430776237524, -0.43556229141960745, -0.32709542325749746, -0.5042663633645169, -0.5002397510893574, -0.38447464817852084, -0.49017322040145855, -0.10261178891735358, -0.434807301618015, -0.38447464817852084, -0.4841333019887193, -0.48723782005286725, -0.4579603222001823, -0.5002397510893574, -0.38447464817852084, -0.13348181192486414, -0.48966989386706367, -0.374408117490622, -0.434807301618015, -0.4941998326766181, -0.12274485029315124, -0.434807301618015, -0.3990711176759742, -0.3551971503258359, -0.434807301618015, -0.5027563837613321, -0.5007430776237524, 1.1657710777578991, -0.48966989386706367, -0.12274485029315124, -0.5002397510893574, -0.43556229141960745, -0.11167166653646252, -0.3220621579135481, -0.23926494300558024, -0.49017322040145855, 0.9573938925183935, -0.6462044460638905, -0.49017322040145855, -0.434807301618015, 0.15282642728807924, -0.022079543414162937, -0.04825252320269991, -0.49017322040145855, -0.6462044460638905, -0.05982903349378355, -0.49017322040145855, -0.4880753554061005, -0.4549403629938127, -0.12274485029315124, -0.4718018018960432, -0.48723782005286725, -0.38699128085049556, -0.4680268528880811, -0.48723782005286725, -0.08809987827767862, -0.500658518765974, 2.404961005438245, -0.6462044460638905, -0.4841333019887193, -0.16301097304474657, -0.12274485029315124, -0.48723782005286725, -0.11771158494920184, -0.36434158680272316, -0.5002397510893574, -0.48723782005286725, 0.7540499726228369, -0.5206244757323525, -0.07241219685365709, 2.443465485319458, -0.28380934129953256, -0.48723782005286725, 0.6946574415642337, 0.06851923277692655, -0.38447464817852084, -0.38447464817852084, -0.38447464817852084, -0.4718018018960432, -0.460476954872157, 0.05845270208902771, -0.500658518765974, -0.28783595357469205, -0.5007430776237524, -0.4549403629938127, -0.38447464817852084, -0.08449203367913571, -0.08809987827767862, -0.3551971503258359, -0.5042663633645169, -0.33414199473902667, -0.5002397510893574, -0.515424105978984, -0.4841333019887193, 2.084509107438086, -0.22190017756895475, 3.6119380349173147, -0.5654205372935024, -0.48966989386706367, -0.48664993466069395, -0.48723782005286725, 0.8335755650572377, 0.29803613246101984, -0.4905919880780752, -0.48664993466069395, -0.489251126190447, -0.4880753554061005, -0.12274485029315124, -0.434807301618015, -0.4841333019887193, -0.4483971180466784, -0.32709542325749746, -0.4718018018960432, -0.22341015717213955, -0.49017322040145855, -0.48966989386706367, -0.13348181192486414, -0.48723782005286725, -0.5081258712302573, -0.6462044460638905, -0.4841333019887193, -0.38447464817852084, -0.15999101383837694, -0.48723782005286725, -0.4905094425264344, -0.4876565877294839, -0.3562883622524042, -0.23926494300558024, -0.5002397510893574, -0.49017322040145855, -0.5027563837613321, 0.47923368484319884, 0.045869538729154176, 4.648790695770894, -0.434807301618015, -0.4549403629938127, -0.48966989386706367, -0.08751199288550533, -0.24421364949175128, -0.08751199288550533, -0.4841333019887193, -0.11167166653646252, -0.49017322040145855, -0.4841333019887193, 0.12891841690431952, -0.38447464817852084, -0.4841333019887193, -0.5042663633645169, -0.6462044460638905, -0.11167166653646252, -0.4906765469358535, -0.5002397510893574, -0.4718018018960432, -0.448145454779481, 0.40071474547758795, -0.22341015717213955, -0.5043509222222953, -0.49478771806879135, 0.29803613246101984, -0.6462044460638905, -0.4841333019887193, -0.13348181192486414, -0.04825252320269991, -0.4841333019887193, -0.24421364949175128, -0.5002397510893574, -0.032146074102061765, 0.3504666508958721, -0.4841333019887193, -0.3551146047741951, -0.3421952192893457, 2.404961005438245, -0.489251126190447, -0.4718018018960432, -0.49017322040145855, -0.4926052942156549, -0.4531787201234304, 1.546285937760475, -0.19270723857404815, -0.4841333019887193, -0.49529104460318635, 0.03873840838984667, -0.15999101383837694, -0.48723782005286725, -0.48723782005286725, -0.5007430776237524, -0.500658518765974, -0.49017322040145855, 3.8188897994114144, -0.48664993466069395, -0.41467424024221733, -0.500658518765974, -0.500658518765974, -0.4718018018960432, -0.11167166653646252, -0.35427505611482435, -0.016542951535818605, -0.016542951535818605, 1.4964566108553758, -0.12274485029315124, -0.23297336132564347, -0.12274485029315124, -0.4885786819404954, -0.11167166653646252, 3.9345703434644728, -0.49017322040145855, -0.48723782005286725, -0.374408117490622, -0.4841333019887193, -0.4841333019887193, -0.15999101383837694, -0.48723782005286725, -0.22190017756895475, -0.500658518765974, -0.4841333019887193, -0.35427505611482435, -0.3551146047741951, -0.12274485029315124, 0.16163464163999072, -0.4707951488272534, -0.34420852542692554, -0.4841333019887193, -0.4841333019887193, -0.5027563837613321, -0.5002397510893574, -0.49017322040145855, -0.12274485029315124, -0.15999101383837694, -0.6462044460638905, -0.5007430776237524, -0.48723782005286725, 0.20743735626993037, -0.4841333019887193, -0.3331353416702368, -0.48723782005286725, -0.016542951535818605, -0.5042663633645169, -0.49017322040145855, -0.4841333019887193, -0.3562883622524042, -0.3220621579135481, -0.434807301618015, -0.3551971503258359, -0.4880753554061005, -0.3220621579135481, 0.004512204050990585, -0.3975611380727893, -0.48723782005286725, -0.4905094425264344, -0.5041818045067386, -0.6462044460638905, -0.08449203367913571, -0.48664993466069395, -0.11771158494920184, 0.15282642728807924, -0.3220621579135481, -0.4880753554061005, -0.08449203367913571, -0.48723782005286725, -0.4941998326766181, -0.48723782005286725, -0.47641629956337606, -0.5103062817772562, 0.8335755650572377, -0.48723782005286725, -0.33414199473902667, -0.38447464817852084, 1.6343680812795898, -0.5007430776237524, -0.1310497381106678, -0.49529104460318635, 0.8335755650572377, -0.38447464817852084, -0.48966989386706367, -0.4841333019887193, 0.40071474547758795, -0.434807301618015, -0.6462044460638905, -0.48966989386706367, -0.4841333019887193, 0.29803613246101984, -0.482371659118337, -0.460476954872157, 0.29803613246101984, 0.13898494759221836, 0.1909121394926757, 0.15282642728807924, -0.4414351054229276, -0.489251126190447, -0.5007430776237524, -0.11167166653646252, -0.374408117490622, -0.4841333019887193, 1.5862158383870948, -0.4921865265390384, -0.3551971503258359, -0.49034032481087764, -0.4880753554061005, -0.12274485029315124, -0.11167166653646252, -0.4552765851187885, -0.38447464817852084, -0.4921865265390384, -0.33414199473902667, -0.48966989386706367, -0.5041818045067386, -0.38447464817852084, -0.38447464817852084, -0.4718018018960432, -0.12274485029315124, -0.48664993466069395, -0.26795455546609187, -0.6462044460638905, -0.38447464817852084, -0.38447464817852084, -0.3220621579135481, 0.045869538729154176, -0.48723782005286725, -0.48723782005286725, 0.941287443417755, -0.3220621579135481, 0.7832429116177435, -0.2385099532039878, 0.4228611129909654, -0.49017322040145855, -0.4549403629938127, -0.48723782005286725, -0.489251126190447, -0.41467424024221733, -0.4841333019887193, -0.35427505611482435, -0.5027563837613321, -0.48966989386706367, 0.151064784417697, -0.49017322040145855, -0.15999101383837694, -0.47784172030878247, -0.4549403629938127, -0.4880753554061005, -0.434807301618015, -0.5007430776237524, -0.49017322040145855, -0.49017322040145855, -0.49042488366865605, -0.0422126047899606, -0.1740841568014353, -0.5042663633645169, -0.5002397510893574, -0.05982903349378355, 0.9483340148992845, -0.49017322040145855, -0.12274485029315124, 0.7540499726228369, -0.028204020684680614, -0.48723782005286725, -0.38447464817852084, -0.500658518765974, -0.15999101383837694, -0.38447464817852084, -0.48966989386706367, -0.6462044460638905, -0.48966989386706367, -0.38447464817852084, -0.4874049244622864, -0.15999101383837694, -0.434807301618015, -0.016542951535818605, -0.4841333019887193, -0.6462044460638905, -0.48664993466069395, 0.09880338369840133, -0.5163462001899956, -0.08449203367913571, -0.6462044460638905, 0.15282642728807924, -0.5062796695020967, 0.4912289628108992, -0.500658518765974, -0.4880753554061005, -0.47910003664476986, -0.4718018018960432, -0.4841333019887193, -0.48664993466069395, -0.434807301618015, -0.516597863457193, -0.4718018018960432, -0.4941998326766181, 0.7540499726228369, -0.48723782005286725, 0.01818657933743239, -0.016542951535818605, -0.48966989386706367, -0.33925981894075447, -0.12274485029315124, -0.500658518765974, -0.3621611762557243, -0.41467424024221733, 0.7540499726228369, -0.38447464817852084, 0.37043059455611316, -0.4549403629938127, -0.48723782005286725, -0.5455391391849022, -0.4650068936817115, -0.44797835037006184, -0.48723782005286725, -0.48723782005286725, -0.48723782005286725, -0.4344710794930392, -0.434807301618015, -0.5042663633645169, -0.05982903349378355, -0.38447464817852084, -0.1740841568014353, -0.49017322040145855]}, {\"marker\": {\"color\": \"#0939CF\"}, \"name\": \"Survived\", \"type\": \"box\", \"y\": [0.788946607905507, -0.48664993466069395, 0.4228611129909654, -0.4220570338487224, -0.040787184044554156, -0.3099823210880695, -0.11167166653646252, -0.32407546405112786, -0.38447464817852084, -0.5007430776237524, -0.38447464817852084, -0.48455206966533587, 0.06851923277692655, -0.014277982131041355, -0.4875720288717055, 2.3037078131670836, -0.49017322040145855, -0.500658518765974, -0.41987460999558585, 0.1909121394926757, -0.4875720288717055, -0.49017322040145855, 0.8985892468519636, -0.12274485029315124, 0.06851923277692655, -0.434807301618015, -0.08751199288550533, -0.33925981894075447, -0.434807301618015, -0.48664993466069395, 0.4912289628108992, -0.06234566616575826, -0.3950445054008146, -0.4549403629938127, -0.4894182305998661, -0.434807301618015, -0.32709542325749746, 4.648790695770894, 0.6293920965023105, -0.18314403442054422, -0.4921865265390384, -0.48966989386706367, -0.15999101383837694, -0.38447464817852084, -0.41987460999558585, -0.5024201616363563, -0.19606341990539358, -0.12274485029315124, -0.11704115400538775, -0.49017322040145855, -0.32709542325749746, -0.489251126190447, 0.6946574415642337, -0.4905094425264344, -0.3291087293950773, -0.23297336132564347, 0.46111392960498093, -0.4220570338487224, 0.13898494759221836, -0.20277376926194698, -0.33414199473902667, -0.11167166653646252, -0.38447464817852084, -0.4880753554061005, -0.12274485029315124, -0.08809987827767862, 2.3037078131670836, -0.49017322040145855, -0.4841333019887193, -0.26795455546609187, -0.49017322040145855, -0.022079543414162937, -0.22341015717213955, 1.6343680812795898, -0.48664993466069395, 0.8897810325000521, -0.4841333019887193, 1.1657710777578991, -0.434807301618015, 1.0344028522808193, -0.014277982131041355, -0.11771158494920184, -0.33414199473902667, -0.35427505611482435, 0.41187248809205507, -0.33925981894075447, 0.9483340148992845, 1.0953053629426073, 9.668550782149426, -0.12274485029315124, -0.014277982131041355, -0.48966989386706367, 2.443465485319458, 2.084509107438086, -0.6462044460638905, -0.25360974923583607, -0.49017322040145855, 0.9233347925889563, -0.2385099532039878, -0.4841333019887193, -0.4549403629938127, -0.38447464817852084, -0.49017322040145855, 0.941287443417755, 1.1874986775946599, -0.032146074102061765, 4.337147012122648, -0.49017322040145855, -0.17811076907659482, -0.3975611380727893, 2.404961005438245, 1.5862158383870948, 1.546285937760475, 0.4999546316111698, 1.0280267117431041, 4.636207532411021, -0.4880753554061005, -0.12274485029315124, 2.67306694386133, 2.061692308980895, -0.3975611380727893, -0.06234566616575826, 2.084509107438086, -0.38447464817852084, -0.23297336132564347, 0.5210943460557573, -0.17811076907659482, 2.044579206811467, 2.061692308980895, -0.4841333019887193, -0.12274485029315124, 4.648790695770894, -0.38447464817852084, -0.38447464817852084, -0.3220621579135481, -0.32608877018870763, 0.46111392960498093, -0.4875720288717055, -0.4875720288717055, 0.8688084224648837, -0.500658518765974, -0.49017322040145855, 0.7490167072788875, 0.4700067028146707, 1.008145313634504, -0.5002397510893574, 3.9345703434644728, -0.3292758338044964, 0.40071474547758795, -0.38447464817852084, -0.4046077095543185, 1.769762919031829, -0.489251126190447, 1.6343680812795898, -0.3099823210880695, -0.39152121966005005, -0.48664993466069395, -0.2687095452676843, 1.1657710777578991, -0.48664993466069395, 0.008120048649533558, -0.38447464817852084, -0.12274485029315124, -0.12274485029315124, -0.4841333019887193, -0.11167166653646252, -0.3220621579135481, -0.12274485029315124, 1.769762919031829, -0.2687095452676843, -0.11771158494920184, -0.38447464817852084, -0.4828749856527319, 1.0018537319545673, -0.25360974923583607, -0.11167166653646252, -0.25847591017036636, -0.032146074102061765, 1.1477358813774596, -0.48723782005286725, 0.39794644953841574, -0.434807301618015, -0.11167166653646252, -0.25847591017036636, -0.08751199288550533, -0.36853530348730185, -0.39881945440877664, -0.4531787201234304, 1.1874986775946599, 1.1657710777578991, -0.32608877018870763, 0.9295438287172524, 1.0953053629426073, -0.12274485029315124, -0.11167166653646252, 0.4912289628108992, -0.49017322040145855, -0.1169565951476094, 0.5496993996584907, -0.434807301618015, -0.12274485029315124, 1.236236792573191, 0.5210943460557573, -0.434807301618015, -0.12274485029315124, -0.19606341990539358, -0.11771158494920184, 1.4964566108553758, 0.3503820920380938, 0.7832429116177435, -0.12274485029315124, -0.12274485029315124, -0.3671098827418954, 0.09368555949667362, 1.5862158383870948, -0.5007430776237524, -0.48966989386706367, 0.151064784417697, 0.9573938925183935, -0.29588917812501114, -0.4880753554061005, -0.434807301618015, 0.3902294471130725, -0.11494328901002966, -0.49017322040145855, -0.38447464817852084, 0.47923368484319884, -0.48664993466069395, -0.0422126047899606, 1.5862158383870948, 0.9573938925183935, 0.9483340148992845, 0.9295438287172524, 0.01818657933743239, 0.4999546316111698, -0.10261178891735358, -0.11167166653646252, -0.032146074102061765, 0.1909121394926757, 2.443465485319458, -0.33414199473902667, 0.6624445433629575, 0.13898494759221836, 0.41187248809205507, -0.3292758338044964, 0.9233347925889563, -0.0422126047899606, -0.032146074102061765, -0.38447464817852084, 0.7490167072788875, 0.4912289628108992, -0.25847591017036636, 0.8985892468519636, 0.06851923277692655, -0.4941998326766181, -0.18314403442054422, -0.4885786819404954, 2.044579206811467, -0.48664993466069395, 0.40071474547758795, 0.13898494759221836, -0.38447464817852084, -0.4480608959217026, 9.668550782149426, 0.8985892468519636, 3.608666412443748, 0.5013800523565762, -0.376085201503226, 0.4912289628108992, -0.4905094425264344, 3.9345703434644728, -0.1169565951476094, -0.374408117490622, -0.1169565951476094, 2.404961005438245, -0.33925981894075447, 0.3504666508958721, 0.40071474547758795, 3.9345703434644728, -0.434807301618015, 0.01818657933743239, 0.4228611129909654, -0.22341015717213955, -0.49042488366865605, 3.608666412443748, 9.668550782149426, -0.0422126047899606, 4.636207532411021, -0.48664993466069395, -0.38447464817852084, -0.18314403442054422, -0.3950445054008146, 0.6624445433629575, -0.35427505611482435, 1.0953053629426073, -0.500658518765974, 1.769762919031829, 0.9233347925889563, -0.18314403442054422, -0.3950445054008146, 3.608666412443748, -0.500658518765974, 0.5013800523565762, -0.49529104460318635, -0.2319667082568536, -0.12417027103855768, -0.4713830342194266, -0.11771158494920184, 1.769762919031829, -0.4747372022446345, -0.5057763429677017, 0.4228611129909654, 1.236236792573191, -0.4718018018960432, -0.3950445054008146, 0.09880338369840133, -0.49017322040145855, -0.3551971503258359, -0.2687095452676843, 1.0280267117431041, 0.4912289628108992, -0.04825252320269991, -0.022079543414162937, 1.1477358813774596, 0.1470381721425374, -0.4579603222001823, 2.67306694386133, -0.11167166653646252, -0.25847591017036636, -0.12417027103855768, -0.38447464817852084, -0.36719444159967374, -0.4220570338487224, 0.41187248809205507, -0.16301097304474657, -0.5007430776237524, 1.0280267117431041, -0.12274485029315124, -0.0422126047899606, -0.0422126047899606]}],\n",
       "                        {\"template\": {\"data\": {\"bar\": [{\"error_x\": {\"color\": \"#2a3f5f\"}, \"error_y\": {\"color\": \"#2a3f5f\"}, \"marker\": {\"line\": {\"color\": \"#E5ECF6\", \"width\": 0.5}}, \"type\": \"bar\"}], \"barpolar\": [{\"marker\": {\"line\": {\"color\": \"#E5ECF6\", \"width\": 0.5}}, \"type\": \"barpolar\"}], \"carpet\": [{\"aaxis\": {\"endlinecolor\": \"#2a3f5f\", \"gridcolor\": \"white\", \"linecolor\": \"white\", \"minorgridcolor\": \"white\", \"startlinecolor\": \"#2a3f5f\"}, \"baxis\": {\"endlinecolor\": \"#2a3f5f\", \"gridcolor\": \"white\", \"linecolor\": \"white\", \"minorgridcolor\": \"white\", \"startlinecolor\": \"#2a3f5f\"}, \"type\": \"carpet\"}], \"choropleth\": [{\"colorbar\": {\"outlinewidth\": 0, \"ticks\": \"\"}, \"type\": \"choropleth\"}], \"contour\": [{\"colorbar\": {\"outlinewidth\": 0, \"ticks\": \"\"}, \"colorscale\": [[0.0, \"#0d0887\"], [0.1111111111111111, \"#46039f\"], [0.2222222222222222, \"#7201a8\"], [0.3333333333333333, \"#9c179e\"], [0.4444444444444444, \"#bd3786\"], [0.5555555555555556, \"#d8576b\"], [0.6666666666666666, \"#ed7953\"], [0.7777777777777778, \"#fb9f3a\"], [0.8888888888888888, \"#fdca26\"], [1.0, \"#f0f921\"]], \"type\": \"contour\"}], \"contourcarpet\": [{\"colorbar\": {\"outlinewidth\": 0, \"ticks\": \"\"}, \"type\": \"contourcarpet\"}], \"heatmap\": [{\"colorbar\": {\"outlinewidth\": 0, \"ticks\": \"\"}, \"colorscale\": [[0.0, \"#0d0887\"], [0.1111111111111111, \"#46039f\"], [0.2222222222222222, \"#7201a8\"], [0.3333333333333333, \"#9c179e\"], [0.4444444444444444, \"#bd3786\"], [0.5555555555555556, \"#d8576b\"], [0.6666666666666666, \"#ed7953\"], [0.7777777777777778, \"#fb9f3a\"], [0.8888888888888888, \"#fdca26\"], [1.0, \"#f0f921\"]], \"type\": \"heatmap\"}], \"heatmapgl\": [{\"colorbar\": {\"outlinewidth\": 0, \"ticks\": \"\"}, \"colorscale\": [[0.0, \"#0d0887\"], [0.1111111111111111, \"#46039f\"], [0.2222222222222222, \"#7201a8\"], [0.3333333333333333, \"#9c179e\"], [0.4444444444444444, \"#bd3786\"], [0.5555555555555556, \"#d8576b\"], [0.6666666666666666, \"#ed7953\"], [0.7777777777777778, \"#fb9f3a\"], [0.8888888888888888, \"#fdca26\"], [1.0, \"#f0f921\"]], \"type\": \"heatmapgl\"}], \"histogram\": [{\"marker\": {\"colorbar\": {\"outlinewidth\": 0, \"ticks\": \"\"}}, \"type\": \"histogram\"}], \"histogram2d\": [{\"colorbar\": {\"outlinewidth\": 0, \"ticks\": \"\"}, \"colorscale\": [[0.0, \"#0d0887\"], [0.1111111111111111, \"#46039f\"], [0.2222222222222222, \"#7201a8\"], [0.3333333333333333, \"#9c179e\"], [0.4444444444444444, \"#bd3786\"], [0.5555555555555556, \"#d8576b\"], [0.6666666666666666, \"#ed7953\"], [0.7777777777777778, \"#fb9f3a\"], [0.8888888888888888, \"#fdca26\"], [1.0, \"#f0f921\"]], \"type\": \"histogram2d\"}], \"histogram2dcontour\": [{\"colorbar\": {\"outlinewidth\": 0, \"ticks\": \"\"}, \"colorscale\": [[0.0, \"#0d0887\"], [0.1111111111111111, \"#46039f\"], [0.2222222222222222, \"#7201a8\"], [0.3333333333333333, \"#9c179e\"], [0.4444444444444444, \"#bd3786\"], [0.5555555555555556, \"#d8576b\"], [0.6666666666666666, \"#ed7953\"], [0.7777777777777778, \"#fb9f3a\"], [0.8888888888888888, \"#fdca26\"], [1.0, \"#f0f921\"]], \"type\": \"histogram2dcontour\"}], \"mesh3d\": [{\"colorbar\": {\"outlinewidth\": 0, \"ticks\": \"\"}, \"type\": \"mesh3d\"}], \"parcoords\": [{\"line\": {\"colorbar\": {\"outlinewidth\": 0, \"ticks\": \"\"}}, \"type\": \"parcoords\"}], \"pie\": [{\"automargin\": true, \"type\": \"pie\"}], \"scatter\": [{\"marker\": {\"colorbar\": {\"outlinewidth\": 0, \"ticks\": \"\"}}, \"type\": \"scatter\"}], \"scatter3d\": [{\"line\": {\"colorbar\": {\"outlinewidth\": 0, \"ticks\": \"\"}}, \"marker\": {\"colorbar\": {\"outlinewidth\": 0, \"ticks\": \"\"}}, \"type\": \"scatter3d\"}], \"scattercarpet\": [{\"marker\": {\"colorbar\": {\"outlinewidth\": 0, \"ticks\": \"\"}}, \"type\": \"scattercarpet\"}], \"scattergeo\": [{\"marker\": {\"colorbar\": {\"outlinewidth\": 0, \"ticks\": \"\"}}, \"type\": \"scattergeo\"}], \"scattergl\": [{\"marker\": {\"colorbar\": {\"outlinewidth\": 0, \"ticks\": \"\"}}, \"type\": \"scattergl\"}], \"scattermapbox\": [{\"marker\": {\"colorbar\": {\"outlinewidth\": 0, \"ticks\": \"\"}}, \"type\": \"scattermapbox\"}], \"scatterpolar\": [{\"marker\": {\"colorbar\": {\"outlinewidth\": 0, \"ticks\": \"\"}}, \"type\": \"scatterpolar\"}], \"scatterpolargl\": [{\"marker\": {\"colorbar\": {\"outlinewidth\": 0, \"ticks\": \"\"}}, \"type\": \"scatterpolargl\"}], \"scatterternary\": [{\"marker\": {\"colorbar\": {\"outlinewidth\": 0, \"ticks\": \"\"}}, \"type\": \"scatterternary\"}], \"surface\": [{\"colorbar\": {\"outlinewidth\": 0, \"ticks\": \"\"}, \"colorscale\": [[0.0, \"#0d0887\"], [0.1111111111111111, \"#46039f\"], [0.2222222222222222, \"#7201a8\"], [0.3333333333333333, \"#9c179e\"], [0.4444444444444444, \"#bd3786\"], [0.5555555555555556, \"#d8576b\"], [0.6666666666666666, \"#ed7953\"], [0.7777777777777778, \"#fb9f3a\"], [0.8888888888888888, \"#fdca26\"], [1.0, \"#f0f921\"]], \"type\": \"surface\"}], \"table\": [{\"cells\": {\"fill\": {\"color\": \"#EBF0F8\"}, \"line\": {\"color\": \"white\"}}, \"header\": {\"fill\": {\"color\": \"#C8D4E3\"}, \"line\": {\"color\": \"white\"}}, \"type\": \"table\"}]}, \"layout\": {\"annotationdefaults\": {\"arrowcolor\": \"#2a3f5f\", \"arrowhead\": 0, \"arrowwidth\": 1}, \"coloraxis\": {\"colorbar\": {\"outlinewidth\": 0, \"ticks\": \"\"}}, \"colorscale\": {\"diverging\": [[0, \"#8e0152\"], [0.1, \"#c51b7d\"], [0.2, \"#de77ae\"], [0.3, \"#f1b6da\"], [0.4, \"#fde0ef\"], [0.5, \"#f7f7f7\"], [0.6, \"#e6f5d0\"], [0.7, \"#b8e186\"], [0.8, \"#7fbc41\"], [0.9, \"#4d9221\"], [1, \"#276419\"]], \"sequential\": [[0.0, \"#0d0887\"], [0.1111111111111111, \"#46039f\"], [0.2222222222222222, \"#7201a8\"], [0.3333333333333333, \"#9c179e\"], [0.4444444444444444, \"#bd3786\"], [0.5555555555555556, \"#d8576b\"], [0.6666666666666666, \"#ed7953\"], [0.7777777777777778, \"#fb9f3a\"], [0.8888888888888888, \"#fdca26\"], [1.0, \"#f0f921\"]], \"sequentialminus\": [[0.0, \"#0d0887\"], [0.1111111111111111, \"#46039f\"], [0.2222222222222222, \"#7201a8\"], [0.3333333333333333, \"#9c179e\"], [0.4444444444444444, \"#bd3786\"], [0.5555555555555556, \"#d8576b\"], [0.6666666666666666, \"#ed7953\"], [0.7777777777777778, \"#fb9f3a\"], [0.8888888888888888, \"#fdca26\"], [1.0, \"#f0f921\"]]}, \"colorway\": [\"#636efa\", \"#EF553B\", \"#00cc96\", \"#ab63fa\", \"#FFA15A\", \"#19d3f3\", \"#FF6692\", \"#B6E880\", \"#FF97FF\", \"#FECB52\"], \"font\": {\"color\": \"#2a3f5f\"}, \"geo\": {\"bgcolor\": \"white\", \"lakecolor\": \"white\", \"landcolor\": \"#E5ECF6\", \"showlakes\": true, \"showland\": true, \"subunitcolor\": \"white\"}, \"hoverlabel\": {\"align\": \"left\"}, \"hovermode\": \"closest\", \"mapbox\": {\"style\": \"light\"}, \"paper_bgcolor\": \"white\", \"plot_bgcolor\": \"#E5ECF6\", \"polar\": {\"angularaxis\": {\"gridcolor\": \"white\", \"linecolor\": \"white\", \"ticks\": \"\"}, \"bgcolor\": \"#E5ECF6\", \"radialaxis\": {\"gridcolor\": \"white\", \"linecolor\": \"white\", \"ticks\": \"\"}}, \"scene\": {\"xaxis\": {\"backgroundcolor\": \"#E5ECF6\", \"gridcolor\": \"white\", \"gridwidth\": 2, \"linecolor\": \"white\", \"showbackground\": true, \"ticks\": \"\", \"zerolinecolor\": \"white\"}, \"yaxis\": {\"backgroundcolor\": \"#E5ECF6\", \"gridcolor\": \"white\", \"gridwidth\": 2, \"linecolor\": \"white\", \"showbackground\": true, \"ticks\": \"\", \"zerolinecolor\": \"white\"}, \"zaxis\": {\"backgroundcolor\": \"#E5ECF6\", \"gridcolor\": \"white\", \"gridwidth\": 2, \"linecolor\": \"white\", \"showbackground\": true, \"ticks\": \"\", \"zerolinecolor\": \"white\"}}, \"shapedefaults\": {\"line\": {\"color\": \"#2a3f5f\"}}, \"ternary\": {\"aaxis\": {\"gridcolor\": \"white\", \"linecolor\": \"white\", \"ticks\": \"\"}, \"baxis\": {\"gridcolor\": \"white\", \"linecolor\": \"white\", \"ticks\": \"\"}, \"bgcolor\": \"#E5ECF6\", \"caxis\": {\"gridcolor\": \"white\", \"linecolor\": \"white\", \"ticks\": \"\"}}, \"title\": {\"x\": 0.05}, \"xaxis\": {\"automargin\": true, \"gridcolor\": \"white\", \"linecolor\": \"white\", \"ticks\": \"\", \"title\": {\"standoff\": 15}, \"zerolinecolor\": \"white\", \"zerolinewidth\": 2}, \"yaxis\": {\"automargin\": true, \"gridcolor\": \"white\", \"linecolor\": \"white\", \"ticks\": \"\", \"title\": {\"standoff\": 15}, \"zerolinecolor\": \"white\", \"zerolinewidth\": 2}}}, \"title\": {\"text\": \"Fares and Survival\"}},\n",
       "                        {\"responsive\": true}\n",
       "                    ).then(function(){\n",
       "                            \n",
       "var gd = document.getElementById('2cd5ee55-83f8-4384-ac40-ab9b1d24bae1');\n",
       "var x = new MutationObserver(function (mutations, observer) {{\n",
       "        var display = window.getComputedStyle(gd).display;\n",
       "        if (!display || display === 'none') {{\n",
       "            console.log([gd, 'removed!']);\n",
       "            Plotly.purge(gd);\n",
       "            observer.disconnect();\n",
       "        }}\n",
       "}});\n",
       "\n",
       "// Listen for the removal of the full notebook cells\n",
       "var notebookContainer = gd.closest('#notebook-container');\n",
       "if (notebookContainer) {{\n",
       "    x.observe(notebookContainer, {childList: true});\n",
       "}}\n",
       "\n",
       "// Listen for the clearing of the current output cell\n",
       "var outputEl = gd.closest('.output');\n",
       "if (outputEl) {{\n",
       "    x.observe(outputEl, {childList: true});\n",
       "}}\n",
       "\n",
       "                        })\n",
       "                };\n",
       "                });\n",
       "            </script>\n",
       "        </div>"
      ]
     },
     "metadata": {},
     "output_type": "display_data"
    }
   ],
   "source": [
    "iplot(fares_survival_fig)"
   ]
  },
  {
   "cell_type": "markdown",
   "metadata": {},
   "source": [
    "    Now that you are familiarized with the functioning of each plot and also the data. Let's try this interactive bar plot that compares the fare whith the rest of the vairables, select"
   ]
  },
  {
   "cell_type": "code",
   "execution_count": 36,
   "metadata": {},
   "outputs": [
    {
     "data": {
      "application/vnd.jupyter.widget-view+json": {
       "model_id": "6ad599e3c30349eda6da48974b0290bd",
       "version_major": 2,
       "version_minor": 0
      },
      "text/plain": [
       "interactive(children=(Dropdown(description='Variable', options=('survived', 'pclass', 'sex', 'sibsp', 'parch',…"
      ]
     },
     "metadata": {},
     "output_type": "display_data"
    }
   ],
   "source": [
    "titanic = titanic = sns.load_dataset('titanic')\n",
    "\n",
    "@interact\n",
    "def create_fare_plot(Variable = titanic.drop(['fare', 'age'], axis =1).columns):\n",
    "    sns.barplot(data = titanic, x = Variable, y ='fare')\n",
    "    plt.title(f'Mean Bar Plot of the Fare grouped by the {Variable}')"
   ]
  },
  {
   "cell_type": "markdown",
   "metadata": {},
   "source": [
    "## Pclass\n",
    "\n",
    "Another good way to analyze the patter is by focusing in the pclass variable, there were 3 types of classes in the ship, being the first one the \"privileged\" one. We can compare it with all types of variable as embarked, age, etc. You have to try it yourself and start analyzing the behaving with the different plots. "
   ]
  },
  {
   "cell_type": "code",
   "execution_count": 46,
   "metadata": {},
   "outputs": [
    {
     "data": {
      "application/vnd.jupyter.widget-view+json": {
       "model_id": "5151df186b274866b736be09c87703c1",
       "version_major": 2,
       "version_minor": 0
      },
      "text/plain": [
       "interactive(children=(Dropdown(description='Variable', options=('survived', 'sex', 'sibsp', 'parch', 'fare', '…"
      ]
     },
     "metadata": {},
     "output_type": "display_data"
    }
   ],
   "source": [
    "titanic = titanic = sns.load_dataset('titanic')\n",
    "\n",
    "@interact\n",
    "def create_fare_plot(Variable = titanic.drop(['age','pclass'], axis =1).columns):\n",
    "    sns.barplot(data = titanic, x = Variable, y = 'pclass')\n",
    "    plt.title(f'Mean Bar Plot of the Pclass grouped by the {Variable}')"
   ]
  },
  {
   "cell_type": "markdown",
   "metadata": {},
   "source": [
    "# Hipotesis"
   ]
  },
  {
   "cell_type": "markdown",
   "metadata": {},
   "source": [
    "    We arrive at following assumptions based on data analysis done so far. We may validate these assumptions further before taking appropriate actions.\n",
    "\n",
    "    Correlating: We want to know how well does each feature correlate with Survival. We want to do this early in our project and match these quick correlations with modelled correlations later in the project.\n",
    "\n",
    "    Completing: We may want to complete Age feature as it is definitely correlated to survival. We may want to complete the Embarked feature as it may also correlate with survival or another important feature.\n",
    "    \n",
    "    Correcting.: Ticket feature may be dropped from our analysis as it contains high ratio of duplicates (22%) and there may not be a correlation between Ticket and survival. Cabin feature may be dropped as it is highly incomplete or contains many null values both in training and test dataset. PassengerId may be dropped from training dataset as it does not contribute to survival. Name feature is relatively non-standard, may not contribute directly to survival, so maybe dropped.\n",
    "    \n",
    "    Creating: We may want to create a new feature called Family based on Parch and SibSp to get total count of family members on board. We may want to engineer the Name feature to extract Title as a new feature. We may want to create new feature for Age bands. This turns a continous numerical feature into an ordinal categorical feature. We may also want to create a Fare range feature if it helps our analysis.\n",
    "\n",
    "    Classifying.: We may also add to our assumptions based on the problem description noted earlier.\n",
    "\n",
    "        -> Women (Sex=female) were more likely to have survived.\n",
    "        -> Children (Age<?) were more likely to have survived.\n",
    "        -> The upper-class passengers (Pclass=1) were more likely to have survived."
   ]
  },
  {
   "cell_type": "markdown",
   "metadata": {},
   "source": [
    "# Prediction Models "
   ]
  },
  {
   "cell_type": "markdown",
   "metadata": {},
   "source": [
    "    Now we are ready to train a model and predict the required solution.  There are decens of modelling algorithms that could be use to analyze this dataset. In order to find the best option is extremely important to understand the problem we are dealing with and the requiments for our solution in order to narrow this down and be able to sleect modesl that can be evaluated.\n",
    "\n",
    "    This is a classification and regression problem, the main goal is to identify if there is a relationship between the survival rate with other variables or features of the data. Also, by using a category of MC that is called supervised learning we are training our model with the given data set. With these two criterias (Supervised Learning plus Classification and Regression), we can narrow down our choice of models to a few. After that we can just need to start trying them out and prove which one is the best. \n",
    "\n",
    "    Algorithms that could be used:\n",
    "\n",
    "        * Naive Bayes classifier\n",
    "        * Decision Tree\n",
    "        * Logistic Regression\n",
    "        * KNN or k-Nearest Neighbors\n",
    "        * Random Forrest\n",
    "        * Perceptron\n",
    "        * Support Vector Machines\n",
    "        * Artificial neural network\n",
    "        * RVM or Relevance Vector Machine\n"
   ]
  },
  {
   "cell_type": "markdown",
   "metadata": {},
   "source": [
    "## More Data Preparation"
   ]
  },
  {
   "cell_type": "markdown",
   "metadata": {},
   "source": [
    "### Imputing Missing Age values"
   ]
  },
  {
   "cell_type": "code",
   "execution_count": 64,
   "metadata": {},
   "outputs": [],
   "source": [
    "from sklearn.impute import SimpleImputer\n",
    "imputer = SimpleImputer()\n",
    "titanicDS['Age'] = imputer.fit_transform(titanicDS['Age'].to_numpy().reshape(-1,1))"
   ]
  },
  {
   "cell_type": "markdown",
   "metadata": {},
   "source": [
    "### Standardizing numerical values & encoding categorial values"
   ]
  },
  {
   "cell_type": "code",
   "execution_count": 65,
   "metadata": {},
   "outputs": [],
   "source": [
    "encoded_sex =  pd.get_dummies(titanicDS['Sex'])\n",
    "encoded_class = pd.get_dummies(titanicDS['Pclass'], prefix='Pclass')\n",
    "encoded_embark = pd.get_dummies(titanicDS['Embarked'], prefix='embarked_from')\n",
    "titanicDS = pd.concat([titanicDS, encoded_sex, encoded_class, encoded_embark], axis=1)\n",
    "\n",
    "try:\n",
    "    titanicDS.drop('Sex', axis=1, inplace=True)\n",
    "except:\n",
    "    pass\n",
    "try:\n",
    "    titanicDS.drop('Pclass', axis=1, inplace=True)\n",
    "except:\n",
    "    pass\n",
    "try:\n",
    "    titanicDS.drop('Embarked', axis=1, inplace=True)\n",
    "except:\n",
    "    pass"
   ]
  },
  {
   "cell_type": "markdown",
   "metadata": {},
   "source": [
    "### X, y preparation and train-test splitting"
   ]
  },
  {
   "cell_type": "code",
   "execution_count": 66,
   "metadata": {},
   "outputs": [],
   "source": [
    "y = titanicDS['Survived']\n",
    "X = titanicDS.drop('Survived', axis=1)\n",
    "from sklearn.neighbors import KNeighborsClassifier\n",
    "from sklearn.model_selection import train_test_split\n",
    "X_train, X_test, y_train, y_test = train_test_split(X, y)"
   ]
  },
  {
   "cell_type": "markdown",
   "metadata": {},
   "source": [
    "## K Nearest Neighbour"
   ]
  },
  {
   "cell_type": "markdown",
   "metadata": {},
   "source": [
    "    I’m going to use the kNN (k nearest neighbors) algorithm. This one allows you to find the “k” nearest neighbors of a “X” object and based on that give it a classification. This meaning that it will clasify the specific observation in a class or another (in this case 0 or 1 for the survival variable) according with what it learned through the training dataset.\n",
    "\n",
    "    The way this alrorigthm works is by calculating the Euclidean distance between the observations, finding the nearest neighbors and making a classification prediction. This is how the Orange Script works. In this case, I selected 7 as k so the alrogithm is 7NN. There are 3 clear steps in the alrogithm:\n",
    "\n",
    "    1. The “Euclidean_distance” function calculates de distance of the current object from the x one.\n",
    "    2. The “get_neighbors” one, sorts them and obtains the nearest neighbors based on the distance.\n",
    "    3. According to the neighbors, the diagnosis value gets predicted.\n",
    "    \n",
    "    Then, I compare the predictions with the original values. As you can see in this result table they are actually quite good, giving me a 80% precision. It definitely could be higher but considering the number of the dimensions involved in the prediction this is actually a great result. Proving that there is a clear patron in the survival rate and because of it, it definitely can be correctly predicted."
   ]
  },
  {
   "cell_type": "code",
   "execution_count": 67,
   "metadata": {},
   "outputs": [],
   "source": [
    "from sklearn.neighbors import KNeighborsClassifier\n",
    "KNN = KNeighborsClassifier()\n",
    "## Grid search to find optimal number of neighbours\n",
    "from sklearn.model_selection import GridSearchCV\n",
    "search = GridSearchCV(estimator=KNN, param_grid={'n_neighbors':range(1,15)}, scoring='precision', n_jobs=-1, cv=10)\n",
    "search.fit(X_train, y_train)\n",
    "KNN_optimum = search.best_estimator_"
   ]
  },
  {
   "cell_type": "code",
   "execution_count": 69,
   "metadata": {},
   "outputs": [
    {
     "name": "stdout",
     "output_type": "stream",
     "text": [
      "              precision    recall  f1-score   support\n",
      "\n",
      "           0       0.82      0.92      0.87       140\n",
      "           1       0.83      0.65      0.73        83\n",
      "\n",
      "    accuracy                           0.82       223\n",
      "   macro avg       0.82      0.79      0.80       223\n",
      "weighted avg       0.82      0.82      0.82       223\n",
      "\n"
     ]
    }
   ],
   "source": [
    "## KNN with grid search result\n",
    "predictions = KNN_optimum.predict(X_test)\n",
    "from sklearn.metrics import classification_report\n",
    "KNN_report = classification_report(y_test, predictions)\n",
    "print(KNN_report)"
   ]
  },
  {
   "cell_type": "markdown",
   "metadata": {},
   "source": [
    "    This is not a perfect algorithm, since it can be influenced by the value of the vast majority of the training set. It is vital to use an adequate number for K while using the algorithm, not so small and no so big. I believe a good way to find it, is while trying to predict values of data that is already in the training data set. Then comparing it with the actual result and modifying the “K” according to the results. \n",
    "    What I did, is try different Ks but I thought 1-15 was definitely a good range number considering the size of my sample. Overall, kNN is a very useful algorithm that can work very well in different situations. In this case I don't believe it is the most accurate option but it is definitely worth trying. As you can see in the results, the final result of values that kNN predicted are extremely similar to the training data set one."
   ]
  },
  {
   "cell_type": "markdown",
   "metadata": {},
   "source": [
    "## Support Vector Machine (SVD)"
   ]
  },
  {
   "cell_type": "markdown",
   "metadata": {},
   "source": [
    "    In machine learning, support-vector machines (SVMs, also support-vector networks) are supervised learning models with associated learning algorithms that analyze data used for classification and regression analysis. \n",
    "\n",
    "    Given a set of training examples, each marked as belonging to one or the other of two categories, an SVM training algorithm builds a model that assigns new examples to one category or the other, making it a non-probabilistic binary linear classifier (although methods such as Platt scaling exist to use SVM in a probabilistic classification setting)."
   ]
  },
  {
   "cell_type": "code",
   "execution_count": 40,
   "metadata": {},
   "outputs": [
    {
     "name": "stdout",
     "output_type": "stream",
     "text": [
      "              precision    recall  f1-score   support\n",
      "\n",
      "           0       0.83      0.89      0.86       140\n",
      "           1       0.79      0.69      0.74        83\n",
      "\n",
      "    accuracy                           0.82       223\n",
      "   macro avg       0.81      0.79      0.80       223\n",
      "weighted avg       0.81      0.82      0.81       223\n",
      "\n"
     ]
    }
   ],
   "source": [
    "from sklearn.svm import SVC\n",
    "SVM = SVC()\n",
    "SVM.fit(X_train, y_train)\n",
    "SVM_predictions = SVM.predict(X_test)\n",
    "print(classification_report(y_test, SVM_predictions))"
   ]
  },
  {
   "cell_type": "markdown",
   "metadata": {},
   "source": [
    "    Supervised learning models with associated learning algorithms that analyze data used for classification and regression analysis. Given a set of training samples, each marked as belonging to one or the other of two categories, an SVM training algorithm builds a model that assigns new test samples to one category or the other, making it a non-probabilistic binary linear classifier. Reference Wikipedia.\n",
    "\n",
    "    Note that the model generates a confidence score which is higher than Logistics Regression model."
   ]
  },
  {
   "cell_type": "markdown",
   "metadata": {},
   "source": [
    "## Random Forest Classifier (Ensemble of Decision trees)\n",
    "\n",
    "\n"
   ]
  },
  {
   "cell_type": "markdown",
   "metadata": {},
   "source": [
    "    It is a very interesting way to make a prediction. Random decision forests are an ensemble learning method for classification, regression and other tasks that operate by constructing a multitude of decision trees at training time and outputting the class that is the mode of the classes (classification) or mean prediction (regression) of the individual trees-\n",
    "\n",
    "![Survival tree model](https://raw.githubusercontent.com/Abril-Barrera/Smart-Business-Systems/master/m13.PNG)\n",
    "\n",
    "    The tree visualization is one of my favorites of this model, because it allows you to understand information so easily (with layers). Just by looking at the tree I can confirm that the hipotesis used in the enterly dataset is correct. Even so I am going to use a prediction to see if the results are accurate."
   ]
  },
  {
   "cell_type": "code",
   "execution_count": 41,
   "metadata": {},
   "outputs": [
    {
     "name": "stdout",
     "output_type": "stream",
     "text": [
      "              precision    recall  f1-score   support\n",
      "\n",
      "           0       0.84      0.86      0.85       140\n",
      "           1       0.76      0.72      0.74        83\n",
      "\n",
      "    accuracy                           0.81       223\n",
      "   macro avg       0.80      0.79      0.80       223\n",
      "weighted avg       0.81      0.81      0.81       223\n",
      "\n"
     ]
    }
   ],
   "source": [
    "from sklearn.ensemble import RandomForestClassifier\n",
    "RF = RandomForestClassifier()\n",
    "RF.fit(X_train, y_train)\n",
    "RF_predictions = RF.predict(X_test)\n",
    "print(classification_report(y_test, RF_predictions))"
   ]
  },
  {
   "cell_type": "markdown",
   "metadata": {},
   "source": [
    "    This statesment became very clear now:\n",
    "\n",
    "    -> Male are 80% most likely to die.\n",
    "    -> Lower class people died the most.\n",
    "    -> People of all kind of ages died, the most between 20-40 (there were more people from that range age).\n",
    "    \n",
    "    What we can see here is very validating, the precission of the non survivals is almost 90% what is probably as close as we can get with this small amount of data, what proves the hipotesis, gender was the most important variable, even so there is something really interesting here. Pclass is actually very near it, what is a bit surprising. Beside that the model is behaving exactly as predicted. The accuracy is also on point, everything contributes to prove the initial hipotesis."
   ]
  },
  {
   "cell_type": "markdown",
   "metadata": {},
   "source": [
    "## Ensemble of previously trained classifiers"
   ]
  },
  {
   "cell_type": "markdown",
   "metadata": {},
   "source": [
    "    In order to use all the previous knowledge to prove my hipotesis I'm going to ensemble our classifiers. So we will be able to have an overall view of the data results and how accurate they were."
   ]
  },
  {
   "cell_type": "code",
   "execution_count": 42,
   "metadata": {},
   "outputs": [],
   "source": [
    "from sklearn.ensemble import VotingClassifier\n",
    "VC = VotingClassifier(estimators=[('rf', RF), ('svm', SVM), ('knn', KNN_optimum)])"
   ]
  },
  {
   "cell_type": "code",
   "execution_count": 43,
   "metadata": {},
   "outputs": [
    {
     "name": "stdout",
     "output_type": "stream",
     "text": [
      "              precision    recall  f1-score   support\n",
      "\n",
      "           0       0.82      0.91      0.86       140\n",
      "           1       0.82      0.66      0.73        83\n",
      "\n",
      "    accuracy                           0.82       223\n",
      "   macro avg       0.82      0.79      0.80       223\n",
      "weighted avg       0.82      0.82      0.82       223\n",
      "\n"
     ]
    }
   ],
   "source": [
    "VC.fit(X_train, y_train)\n",
    "VC_predictions = VC.predict(X_test)\n",
    "print(classification_report(y_test, VC_predictions))"
   ]
  },
  {
   "cell_type": "markdown",
   "metadata": {},
   "source": [
    "    I think is pretty obvious that this was going to be the winner of them all, since it takes the capabilities of the rest and mix them together. Even so, this is probably not the best approach because you normally don't want to implement 3 different algorithms in order to make an analysis, not only because of the complexity of the algorithms may need a lot of power in order to do efficient queries but also because the time and effort it would take would be much more.\n",
    "    "
   ]
  },
  {
   "cell_type": "markdown",
   "metadata": {},
   "source": [
    "# Conclusion\n",
    "\n",
    "    There is not doubt, the random forest algorithm was the one with best results with almost a 85 percent of precision rate, this value is very hide considering our sample is not so big and that we did a very ordinary data cleanning, maybe with a very specialized one we could have gotten a 90-95% percent, but I think that is it. I don't think we could have done better than that.\n",
    "\n",
    "    As predicted in the hipotesis, the information I obtained during the explanatory analysis was consistent with it. We used various algorithms in order to find different patrons and to have a better understanding of the system we were analyzing. I believe the phase that was most useful in order to do the correct analysis was the exploratory one. It allowed us to completely catch the functionality of the dataset and be able to know the steps I should follow in order to do a proper analysis.\n",
    "\n",
    "    Also, of course the data preparation and cleaning was such an important part of the process, because if we would have done it different we probably would have gotten different results. While doing this type of analysis you are always afraid of overfitting, but I can say we suceeded in this way. Also we understood there are many algorithms for machine learning. We learned as many as them as possible but in order to implement them, we had to have a much better understanding of how they were working.\n",
    "\n",
    "    Furthermore, we realized how important data analysis is, because it allowed us to have a fast, efficient and functional understanding of a real fenomenum without having to create a matemathical model (with differential equations) or somethings similar that would take much more time to create. Defintely a good set of tools to learn, I am sure there will be a lot of chances of working with these tools in a near future.\n",
    "    \n",
    "    Finally we learned that the data analysis area is a an extremely interesting one. I have done mathematical modeling before and I loved it. I believe this is as fun as it, just instead of using pure maths we develop algorithms but the capacity and potential is the same. Being able to predict a fenomeno is one of the best things anyone can ever do, because you become a magician... You can predict the future!!!"
   ]
  }
 ],
 "metadata": {
  "kernelspec": {
   "display_name": "Python 3",
   "language": "python",
   "name": "python3"
  },
  "language_info": {
   "codemirror_mode": {
    "name": "ipython",
    "version": 3
   },
   "file_extension": ".py",
   "mimetype": "text/x-python",
   "name": "python",
   "nbconvert_exporter": "python",
   "pygments_lexer": "ipython3",
   "version": "3.7.7"
  },
  "toc": {
   "base_numbering": 1,
   "nav_menu": {},
   "number_sections": true,
   "sideBar": true,
   "skip_h1_title": false,
   "title_cell": "Table of Contents",
   "title_sidebar": "Contents",
   "toc_cell": true,
   "toc_position": {},
   "toc_section_display": true,
   "toc_window_display": true
  }
 },
 "nbformat": 4,
 "nbformat_minor": 2
}
